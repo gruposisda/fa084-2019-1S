{
 "cells": [
  {
   "cell_type": "markdown",
   "metadata": {
    "heading_collapsed": true
   },
   "source": [
    "# Load packages"
   ]
  },
  {
   "cell_type": "code",
   "execution_count": 2,
   "metadata": {
    "hidden": true,
    "scrolled": false
   },
   "outputs": [
    {
     "name": "stderr",
     "output_type": "stream",
     "text": [
      "── Attaching packages ─────────────────────────────────────── tidyverse 1.2.1 ──\n",
      "✔ ggplot2 3.1.0       ✔ purrr   0.3.0  \n",
      "✔ tibble  2.0.1       ✔ dplyr   0.8.0.1\n",
      "✔ tidyr   0.8.2       ✔ stringr 1.4.0  \n",
      "✔ readr   1.3.1       ✔ forcats 0.4.0  \n",
      "── Conflicts ────────────────────────────────────────── tidyverse_conflicts() ──\n",
      "✖ dplyr::filter() masks stats::filter()\n",
      "✖ dplyr::lag()    masks stats::lag()\n"
     ]
    }
   ],
   "source": [
    "library(tidyverse)"
   ]
  },
  {
   "cell_type": "code",
   "execution_count": 4,
   "metadata": {},
   "outputs": [],
   "source": [
    "library(nycflights13)"
   ]
  },
  {
   "cell_type": "code",
   "execution_count": 12,
   "metadata": {
    "hidden": true
   },
   "outputs": [],
   "source": [
    "#airlines, airports, planes, weather"
   ]
  },
  {
   "cell_type": "code",
   "execution_count": 8,
   "metadata": {
    "hidden": true,
    "scrolled": true
   },
   "outputs": [
    {
     "data": {
      "text/html": [
       "<ol class=list-inline>\n",
       "\t<li>336776</li>\n",
       "\t<li>19</li>\n",
       "</ol>\n"
      ],
      "text/latex": [
       "\\begin{enumerate*}\n",
       "\\item 336776\n",
       "\\item 19\n",
       "\\end{enumerate*}\n"
      ],
      "text/markdown": [
       "1. 336776\n",
       "2. 19\n",
       "\n",
       "\n"
      ],
      "text/plain": [
       "[1] 336776     19"
      ]
     },
     "metadata": {},
     "output_type": "display_data"
    },
    {
     "data": {
      "text/html": [
       "<ol class=list-inline>\n",
       "\t<li>1704</li>\n",
       "\t<li>6</li>\n",
       "</ol>\n"
      ],
      "text/latex": [
       "\\begin{enumerate*}\n",
       "\\item 1704\n",
       "\\item 6\n",
       "\\end{enumerate*}\n"
      ],
      "text/markdown": [
       "1. 1704\n",
       "2. 6\n",
       "\n",
       "\n"
      ],
      "text/plain": [
       "[1] 1704    6"
      ]
     },
     "metadata": {},
     "output_type": "display_data"
    }
   ],
   "source": [
    "dim(voos)\n",
    "dim(gapminder)"
   ]
  },
  {
   "cell_type": "markdown",
   "metadata": {},
   "source": [
    "# Dplyr\n",
    "\n",
    "Funções apresentadas:\n",
    "\n",
    "1. `filter()`\n",
    "2. `arrange()`\n",
    "3. `select()`\n",
    "4. `mutate()`\n",
    "5. `summarise()` & `group_by()`"
   ]
  },
  {
   "cell_type": "markdown",
   "metadata": {},
   "source": [
    "## Filtre linhas com `filter()`"
   ]
  },
  {
   "cell_type": "code",
   "execution_count": 8,
   "metadata": {},
   "outputs": [
    {
     "data": {
      "text/html": [
       "<table>\n",
       "<thead><tr><th scope=col>year</th><th scope=col>month</th><th scope=col>day</th><th scope=col>dep_time</th><th scope=col>sched_dep_time</th><th scope=col>dep_delay</th><th scope=col>arr_time</th><th scope=col>sched_arr_time</th><th scope=col>arr_delay</th><th scope=col>carrier</th><th scope=col>flight</th><th scope=col>tailnum</th><th scope=col>origin</th><th scope=col>dest</th><th scope=col>air_time</th><th scope=col>distance</th><th scope=col>hour</th><th scope=col>minute</th><th scope=col>time_hour</th></tr></thead>\n",
       "<tbody>\n",
       "\t<tr><td>2013               </td><td>1                  </td><td>1                  </td><td>517                </td><td>515                </td><td> 2                 </td><td> 830               </td><td> 819               </td><td> 11                </td><td>UA                 </td><td>1545               </td><td>N14228             </td><td>EWR                </td><td>IAH                </td><td>227                </td><td>1400               </td><td>5                  </td><td>15                 </td><td>2013-01-01 05:00:00</td></tr>\n",
       "\t<tr><td>2013               </td><td>1                  </td><td>1                  </td><td>533                </td><td>529                </td><td> 4                 </td><td> 850               </td><td> 830               </td><td> 20                </td><td>UA                 </td><td>1714               </td><td>N24211             </td><td>LGA                </td><td>IAH                </td><td>227                </td><td>1416               </td><td>5                  </td><td>29                 </td><td>2013-01-01 05:00:00</td></tr>\n",
       "\t<tr><td>2013               </td><td>1                  </td><td>1                  </td><td>542                </td><td>540                </td><td> 2                 </td><td> 923               </td><td> 850               </td><td> 33                </td><td>AA                 </td><td>1141               </td><td>N619AA             </td><td>JFK                </td><td>MIA                </td><td>160                </td><td>1089               </td><td>5                  </td><td>40                 </td><td>2013-01-01 05:00:00</td></tr>\n",
       "\t<tr><td>2013               </td><td>1                  </td><td>1                  </td><td>544                </td><td>545                </td><td>-1                 </td><td>1004               </td><td>1022               </td><td>-18                </td><td>B6                 </td><td> 725               </td><td>N804JB             </td><td>JFK                </td><td>BQN                </td><td>183                </td><td>1576               </td><td>5                  </td><td>45                 </td><td>2013-01-01 05:00:00</td></tr>\n",
       "\t<tr><td>2013               </td><td>1                  </td><td>1                  </td><td>554                </td><td>600                </td><td>-6                 </td><td> 812               </td><td> 837               </td><td>-25                </td><td>DL                 </td><td> 461               </td><td>N668DN             </td><td>LGA                </td><td>ATL                </td><td>116                </td><td> 762               </td><td>6                  </td><td> 0                 </td><td>2013-01-01 06:00:00</td></tr>\n",
       "\t<tr><td>2013               </td><td>1                  </td><td>1                  </td><td>554                </td><td>558                </td><td>-4                 </td><td> 740               </td><td> 728               </td><td> 12                </td><td>UA                 </td><td>1696               </td><td>N39463             </td><td>EWR                </td><td>ORD                </td><td>150                </td><td> 719               </td><td>5                  </td><td>58                 </td><td>2013-01-01 05:00:00</td></tr>\n",
       "</tbody>\n",
       "</table>\n"
      ],
      "text/latex": [
       "\\begin{tabular}{r|lllllllllllllllllll}\n",
       " year & month & day & dep\\_time & sched\\_dep\\_time & dep\\_delay & arr\\_time & sched\\_arr\\_time & arr\\_delay & carrier & flight & tailnum & origin & dest & air\\_time & distance & hour & minute & time\\_hour\\\\\n",
       "\\hline\n",
       "\t 2013                & 1                   & 1                   & 517                 & 515                 &  2                  &  830                &  819                &  11                 & UA                  & 1545                & N14228              & EWR                 & IAH                 & 227                 & 1400                & 5                   & 15                  & 2013-01-01 05:00:00\\\\\n",
       "\t 2013                & 1                   & 1                   & 533                 & 529                 &  4                  &  850                &  830                &  20                 & UA                  & 1714                & N24211              & LGA                 & IAH                 & 227                 & 1416                & 5                   & 29                  & 2013-01-01 05:00:00\\\\\n",
       "\t 2013                & 1                   & 1                   & 542                 & 540                 &  2                  &  923                &  850                &  33                 & AA                  & 1141                & N619AA              & JFK                 & MIA                 & 160                 & 1089                & 5                   & 40                  & 2013-01-01 05:00:00\\\\\n",
       "\t 2013                & 1                   & 1                   & 544                 & 545                 & -1                  & 1004                & 1022                & -18                 & B6                  &  725                & N804JB              & JFK                 & BQN                 & 183                 & 1576                & 5                   & 45                  & 2013-01-01 05:00:00\\\\\n",
       "\t 2013                & 1                   & 1                   & 554                 & 600                 & -6                  &  812                &  837                & -25                 & DL                  &  461                & N668DN              & LGA                 & ATL                 & 116                 &  762                & 6                   &  0                  & 2013-01-01 06:00:00\\\\\n",
       "\t 2013                & 1                   & 1                   & 554                 & 558                 & -4                  &  740                &  728                &  12                 & UA                  & 1696                & N39463              & EWR                 & ORD                 & 150                 &  719                & 5                   & 58                  & 2013-01-01 05:00:00\\\\\n",
       "\\end{tabular}\n"
      ],
      "text/markdown": [
       "\n",
       "| year | month | day | dep_time | sched_dep_time | dep_delay | arr_time | sched_arr_time | arr_delay | carrier | flight | tailnum | origin | dest | air_time | distance | hour | minute | time_hour |\n",
       "|---|---|---|---|---|---|---|---|---|---|---|---|---|---|---|---|---|---|---|\n",
       "| 2013                | 1                   | 1                   | 517                 | 515                 |  2                  |  830                |  819                |  11                 | UA                  | 1545                | N14228              | EWR                 | IAH                 | 227                 | 1400                | 5                   | 15                  | 2013-01-01 05:00:00 |\n",
       "| 2013                | 1                   | 1                   | 533                 | 529                 |  4                  |  850                |  830                |  20                 | UA                  | 1714                | N24211              | LGA                 | IAH                 | 227                 | 1416                | 5                   | 29                  | 2013-01-01 05:00:00 |\n",
       "| 2013                | 1                   | 1                   | 542                 | 540                 |  2                  |  923                |  850                |  33                 | AA                  | 1141                | N619AA              | JFK                 | MIA                 | 160                 | 1089                | 5                   | 40                  | 2013-01-01 05:00:00 |\n",
       "| 2013                | 1                   | 1                   | 544                 | 545                 | -1                  | 1004                | 1022                | -18                 | B6                  |  725                | N804JB              | JFK                 | BQN                 | 183                 | 1576                | 5                   | 45                  | 2013-01-01 05:00:00 |\n",
       "| 2013                | 1                   | 1                   | 554                 | 600                 | -6                  |  812                |  837                | -25                 | DL                  |  461                | N668DN              | LGA                 | ATL                 | 116                 |  762                | 6                   |  0                  | 2013-01-01 06:00:00 |\n",
       "| 2013                | 1                   | 1                   | 554                 | 558                 | -4                  |  740                |  728                |  12                 | UA                  | 1696                | N39463              | EWR                 | ORD                 | 150                 |  719                | 5                   | 58                  | 2013-01-01 05:00:00 |\n",
       "\n"
      ],
      "text/plain": [
       "  year month day dep_time sched_dep_time dep_delay arr_time sched_arr_time\n",
       "1 2013 1     1   517      515             2         830      819          \n",
       "2 2013 1     1   533      529             4         850      830          \n",
       "3 2013 1     1   542      540             2         923      850          \n",
       "4 2013 1     1   544      545            -1        1004     1022          \n",
       "5 2013 1     1   554      600            -6         812      837          \n",
       "6 2013 1     1   554      558            -4         740      728          \n",
       "  arr_delay carrier flight tailnum origin dest air_time distance hour minute\n",
       "1  11       UA      1545   N14228  EWR    IAH  227      1400     5    15    \n",
       "2  20       UA      1714   N24211  LGA    IAH  227      1416     5    29    \n",
       "3  33       AA      1141   N619AA  JFK    MIA  160      1089     5    40    \n",
       "4 -18       B6       725   N804JB  JFK    BQN  183      1576     5    45    \n",
       "5 -25       DL       461   N668DN  LGA    ATL  116       762     6     0    \n",
       "6  12       UA      1696   N39463  EWR    ORD  150       719     5    58    \n",
       "  time_hour          \n",
       "1 2013-01-01 05:00:00\n",
       "2 2013-01-01 05:00:00\n",
       "3 2013-01-01 05:00:00\n",
       "4 2013-01-01 05:00:00\n",
       "5 2013-01-01 06:00:00\n",
       "6 2013-01-01 05:00:00"
      ]
     },
     "metadata": {},
     "output_type": "display_data"
    }
   ],
   "source": [
    "library(nycflights13)\n",
    "head(flights)"
   ]
  },
  {
   "cell_type": "code",
   "execution_count": 12,
   "metadata": {},
   "outputs": [],
   "source": [
    "library(nycflights13)"
   ]
  },
  {
   "cell_type": "code",
   "execution_count": 15,
   "metadata": {},
   "outputs": [
    {
     "data": {
      "text/html": [
       "<ol class=list-inline>\n",
       "\t<li>336776</li>\n",
       "\t<li>19</li>\n",
       "</ol>\n"
      ],
      "text/latex": [
       "\\begin{enumerate*}\n",
       "\\item 336776\n",
       "\\item 19\n",
       "\\end{enumerate*}\n"
      ],
      "text/markdown": [
       "1. 336776\n",
       "2. 19\n",
       "\n",
       "\n"
      ],
      "text/plain": [
       "[1] 336776     19"
      ]
     },
     "metadata": {},
     "output_type": "display_data"
    }
   ],
   "source": [
    "dim(flights)"
   ]
  },
  {
   "cell_type": "code",
   "execution_count": 13,
   "metadata": {},
   "outputs": [],
   "source": [
    "dfua = filter(flights, carrier == 'UA' )"
   ]
  },
  {
   "cell_type": "code",
   "execution_count": 14,
   "metadata": {},
   "outputs": [
    {
     "data": {
      "text/html": [
       "<ol class=list-inline>\n",
       "\t<li>58665</li>\n",
       "\t<li>19</li>\n",
       "</ol>\n"
      ],
      "text/latex": [
       "\\begin{enumerate*}\n",
       "\\item 58665\n",
       "\\item 19\n",
       "\\end{enumerate*}\n"
      ],
      "text/markdown": [
       "1. 58665\n",
       "2. 19\n",
       "\n",
       "\n"
      ],
      "text/plain": [
       "[1] 58665    19"
      ]
     },
     "metadata": {},
     "output_type": "display_data"
    }
   ],
   "source": [
    "dim(dfua)"
   ]
  },
  {
   "cell_type": "code",
   "execution_count": 17,
   "metadata": {},
   "outputs": [
    {
     "data": {
      "text/html": [
       "<ol class=list-inline>\n",
       "\t<li>133004</li>\n",
       "\t<li>19</li>\n",
       "</ol>\n"
      ],
      "text/latex": [
       "\\begin{enumerate*}\n",
       "\\item 133004\n",
       "\\item 19\n",
       "\\end{enumerate*}\n"
      ],
      "text/markdown": [
       "1. 133004\n",
       "2. 19\n",
       "\n",
       "\n"
      ],
      "text/plain": [
       "[1] 133004     19"
      ]
     },
     "metadata": {},
     "output_type": "display_data"
    }
   ],
   "source": [
    "df_arr_delay = filter(flights, arr_delay > 0)\n",
    "dim(df_arr_delay)"
   ]
  },
  {
   "cell_type": "markdown",
   "metadata": {},
   "source": [
    "Encontre o número de voos que:\n",
    "\n",
    "1. Tiveram um atraso de chegada de duas ou mais horas"
   ]
  },
  {
   "cell_type": "code",
   "execution_count": 21,
   "metadata": {},
   "outputs": [
    {
     "data": {
      "text/html": [
       "<ol class=list-inline>\n",
       "\t<li>10200</li>\n",
       "\t<li>19</li>\n",
       "</ol>\n"
      ],
      "text/latex": [
       "\\begin{enumerate*}\n",
       "\\item 10200\n",
       "\\item 19\n",
       "\\end{enumerate*}\n"
      ],
      "text/markdown": [
       "1. 10200\n",
       "2. 19\n",
       "\n",
       "\n"
      ],
      "text/plain": [
       "[1] 10200    19"
      ]
     },
     "metadata": {},
     "output_type": "display_data"
    }
   ],
   "source": [
    "flights %>% filter(arr_delay >= 120) %>% dim()"
   ]
  },
  {
   "cell_type": "markdown",
   "metadata": {},
   "source": [
    "2. Voaram para Houston (IAH ou HOU)"
   ]
  },
  {
   "cell_type": "code",
   "execution_count": 25,
   "metadata": {},
   "outputs": [
    {
     "data": {
      "text/html": [
       "<ol class=list-inline>\n",
       "\t<li>9313</li>\n",
       "\t<li>19</li>\n",
       "</ol>\n"
      ],
      "text/latex": [
       "\\begin{enumerate*}\n",
       "\\item 9313\n",
       "\\item 19\n",
       "\\end{enumerate*}\n"
      ],
      "text/markdown": [
       "1. 9313\n",
       "2. 19\n",
       "\n",
       "\n"
      ],
      "text/plain": [
       "[1] 9313   19"
      ]
     },
     "metadata": {},
     "output_type": "display_data"
    }
   ],
   "source": [
    "flights %>% filter(dest == 'IAH' | dest == 'HOU')  %>%  dim()"
   ]
  },
  {
   "cell_type": "markdown",
   "metadata": {},
   "source": [
    "3. Foram operados pela United, American ou Delta"
   ]
  },
  {
   "cell_type": "code",
   "execution_count": 31,
   "metadata": {},
   "outputs": [
    {
     "data": {
      "text/html": [
       "<ol class=list-inline>\n",
       "\t<li>139504</li>\n",
       "\t<li>19</li>\n",
       "</ol>\n"
      ],
      "text/latex": [
       "\\begin{enumerate*}\n",
       "\\item 139504\n",
       "\\item 19\n",
       "\\end{enumerate*}\n"
      ],
      "text/markdown": [
       "1. 139504\n",
       "2. 19\n",
       "\n",
       "\n"
      ],
      "text/plain": [
       "[1] 139504     19"
      ]
     },
     "metadata": {},
     "output_type": "display_data"
    }
   ],
   "source": [
    "flights %>% filter(carrier == 'AA' | \n",
    "                   carrier == 'UA' | \n",
    "                   carrier == 'DL')  %>% dim()"
   ]
  },
  {
   "cell_type": "markdown",
   "metadata": {},
   "source": [
    "4. Partiram no verão (julho, agosto e setembro)\n",
    "\n",
    "5. Chegou mais de duas horas atrasados, mas não sairam tarde"
   ]
  },
  {
   "cell_type": "markdown",
   "metadata": {},
   "source": [
    "6. Partiram entre a meia-noite e as 6h (inclusive)"
   ]
  },
  {
   "cell_type": "code",
   "execution_count": 34,
   "metadata": {},
   "outputs": [
    {
     "data": {
      "text/html": [
       "<ol class=list-inline>\n",
       "\t<li>8730</li>\n",
       "\t<li>19</li>\n",
       "</ol>\n"
      ],
      "text/latex": [
       "\\begin{enumerate*}\n",
       "\\item 8730\n",
       "\\item 19\n",
       "\\end{enumerate*}\n"
      ],
      "text/markdown": [
       "1. 8730\n",
       "2. 19\n",
       "\n",
       "\n"
      ],
      "text/plain": [
       "[1] 8730   19"
      ]
     },
     "metadata": {},
     "output_type": "display_data"
    }
   ],
   "source": [
    "flights  %>%  filter(dep_time > 0 & dep_time < 600)  %>%  dim()"
   ]
  },
  {
   "cell_type": "markdown",
   "metadata": {},
   "source": [
    "## Ordene as linhas com  `arrange()`"
   ]
  },
  {
   "cell_type": "code",
   "execution_count": 37,
   "metadata": {},
   "outputs": [],
   "source": [
    "#flights  %>% arrange(dep_time)"
   ]
  },
  {
   "cell_type": "markdown",
   "metadata": {},
   "source": [
    "1. Como você poderia usar o `arrange()` para colocar todos os valores faltandes de `dep_delay` no início? (Dica: use is.na ())."
   ]
  },
  {
   "cell_type": "code",
   "execution_count": 44,
   "metadata": {
    "collapsed": true
   },
   "outputs": [
    {
     "data": {
      "text/html": [
       "<table>\n",
       "<thead><tr><th scope=col>year</th><th scope=col>month</th><th scope=col>day</th><th scope=col>dep_time</th><th scope=col>sched_dep_time</th><th scope=col>dep_delay</th><th scope=col>arr_time</th><th scope=col>sched_arr_time</th><th scope=col>arr_delay</th><th scope=col>carrier</th><th scope=col>flight</th><th scope=col>tailnum</th><th scope=col>origin</th><th scope=col>dest</th><th scope=col>air_time</th><th scope=col>distance</th><th scope=col>hour</th><th scope=col>minute</th><th scope=col>time_hour</th></tr></thead>\n",
       "<tbody>\n",
       "\t<tr><td>2013               </td><td>1                  </td><td>1                  </td><td>NA                 </td><td>1630               </td><td>NA                 </td><td>NA                 </td><td>1815               </td><td>NA                 </td><td>EV                 </td><td>4308               </td><td>N18120             </td><td>EWR                </td><td>RDU                </td><td>NA                 </td><td> 416               </td><td>16                 </td><td>30                 </td><td>2013-01-01 16:00:00</td></tr>\n",
       "\t<tr><td>2013               </td><td>1                  </td><td>1                  </td><td>NA                 </td><td>1935               </td><td>NA                 </td><td>NA                 </td><td>2240               </td><td>NA                 </td><td>AA                 </td><td> 791               </td><td>N3EHAA             </td><td>LGA                </td><td>DFW                </td><td>NA                 </td><td>1389               </td><td>19                 </td><td>35                 </td><td>2013-01-01 19:00:00</td></tr>\n",
       "\t<tr><td>2013               </td><td>1                  </td><td>1                  </td><td>NA                 </td><td>1500               </td><td>NA                 </td><td>NA                 </td><td>1825               </td><td>NA                 </td><td>AA                 </td><td>1925               </td><td>N3EVAA             </td><td>LGA                </td><td>MIA                </td><td>NA                 </td><td>1096               </td><td>15                 </td><td> 0                 </td><td>2013-01-01 15:00:00</td></tr>\n",
       "\t<tr><td>2013               </td><td>1                  </td><td>1                  </td><td>NA                 </td><td> 600               </td><td>NA                 </td><td>NA                 </td><td> 901               </td><td>NA                 </td><td>B6                 </td><td> 125               </td><td>N618JB             </td><td>JFK                </td><td>FLL                </td><td>NA                 </td><td>1069               </td><td> 6                 </td><td> 0                 </td><td>2013-01-01 06:00:00</td></tr>\n",
       "\t<tr><td>2013               </td><td>1                  </td><td>2                  </td><td>NA                 </td><td>1540               </td><td>NA                 </td><td>NA                 </td><td>1747               </td><td>NA                 </td><td>EV                 </td><td>4352               </td><td>N10575             </td><td>EWR                </td><td>CVG                </td><td>NA                 </td><td> 569               </td><td>15                 </td><td>40                 </td><td>2013-01-02 15:00:00</td></tr>\n",
       "\t<tr><td>2013               </td><td>1                  </td><td>2                  </td><td>NA                 </td><td>1620               </td><td>NA                 </td><td>NA                 </td><td>1746               </td><td>NA                 </td><td>EV                 </td><td>4406               </td><td>N13949             </td><td>EWR                </td><td>PIT                </td><td>NA                 </td><td> 319               </td><td>16                 </td><td>20                 </td><td>2013-01-02 16:00:00</td></tr>\n",
       "\t<tr><td>2013               </td><td>1                  </td><td>2                  </td><td>NA                 </td><td>1355               </td><td>NA                 </td><td>NA                 </td><td>1459               </td><td>NA                 </td><td>EV                 </td><td>4434               </td><td>N10575             </td><td>EWR                </td><td>MHT                </td><td>NA                 </td><td> 209               </td><td>13                 </td><td>55                 </td><td>2013-01-02 13:00:00</td></tr>\n",
       "\t<tr><td>2013               </td><td>1                  </td><td>2                  </td><td>NA                 </td><td>1420               </td><td>NA                 </td><td>NA                 </td><td>1644               </td><td>NA                 </td><td>EV                 </td><td>4935               </td><td>N759EV             </td><td>EWR                </td><td>ATL                </td><td>NA                 </td><td> 746               </td><td>14                 </td><td>20                 </td><td>2013-01-02 14:00:00</td></tr>\n",
       "\t<tr><td>2013               </td><td>1                  </td><td>2                  </td><td>NA                 </td><td>1321               </td><td>NA                 </td><td>NA                 </td><td>1536               </td><td>NA                 </td><td>EV                 </td><td>3849               </td><td>N13550             </td><td>EWR                </td><td>IND                </td><td>NA                 </td><td> 645               </td><td>13                 </td><td>21                 </td><td>2013-01-02 13:00:00</td></tr>\n",
       "\t<tr><td>2013               </td><td>1                  </td><td>2                  </td><td>NA                 </td><td>1545               </td><td>NA                 </td><td>NA                 </td><td>1910               </td><td>NA                 </td><td>AA                 </td><td> 133               </td><td>NA                 </td><td>JFK                </td><td>LAX                </td><td>NA                 </td><td>2475               </td><td>15                 </td><td>45                 </td><td>2013-01-02 15:00:00</td></tr>\n",
       "\t<tr><td>2013               </td><td>1                  </td><td>2                  </td><td>NA                 </td><td>1330               </td><td>NA                 </td><td>NA                 </td><td>1640               </td><td>NA                 </td><td>AA                 </td><td> 753               </td><td>N3FBAA             </td><td>LGA                </td><td>DFW                </td><td>NA                 </td><td>1389               </td><td>13                 </td><td>30                 </td><td>2013-01-02 13:00:00</td></tr>\n",
       "\t<tr><td>2013               </td><td>1                  </td><td>2                  </td><td>NA                 </td><td>1601               </td><td>NA                 </td><td>NA                 </td><td>1735               </td><td>NA                 </td><td>UA                 </td><td> 623               </td><td>NA                 </td><td>EWR                </td><td>ORD                </td><td>NA                 </td><td> 719               </td><td>16                 </td><td> 1                 </td><td>2013-01-02 16:00:00</td></tr>\n",
       "\t<tr><td>2013               </td><td>1                  </td><td>3                  </td><td>NA                 </td><td> 645               </td><td>NA                 </td><td>NA                 </td><td> 757               </td><td>NA                 </td><td>EV                 </td><td>4241               </td><td>N14972             </td><td>EWR                </td><td>DCA                </td><td>NA                 </td><td> 199               </td><td> 6                 </td><td>45                 </td><td>2013-01-03 06:00:00</td></tr>\n",
       "\t<tr><td>2013               </td><td>1                  </td><td>3                  </td><td>NA                 </td><td>1030               </td><td>NA                 </td><td>NA                 </td><td>1210               </td><td>NA                 </td><td>AA                 </td><td> 321               </td><td>N487AA             </td><td>LGA                </td><td>ORD                </td><td>NA                 </td><td> 733               </td><td>10                 </td><td>30                 </td><td>2013-01-03 10:00:00</td></tr>\n",
       "\t<tr><td>2013               </td><td>1                  </td><td>3                  </td><td>NA                 </td><td>1125               </td><td>NA                 </td><td>NA                 </td><td>1305               </td><td>NA                 </td><td>AA                 </td><td> 327               </td><td>N3AMAA             </td><td>LGA                </td><td>ORD                </td><td>NA                 </td><td> 733               </td><td>11                 </td><td>25                 </td><td>2013-01-03 11:00:00</td></tr>\n",
       "\t<tr><td>2013               </td><td>1                  </td><td>3                  </td><td>NA                 </td><td> 835               </td><td>NA                 </td><td>NA                 </td><td>1150               </td><td>NA                 </td><td>AA                 </td><td> 717               </td><td>N3GXAA             </td><td>LGA                </td><td>DFW                </td><td>NA                 </td><td>1389               </td><td> 8                 </td><td>35                 </td><td>2013-01-03 08:00:00</td></tr>\n",
       "\t<tr><td>2013               </td><td>1                  </td><td>3                  </td><td>NA                 </td><td> 920               </td><td>NA                 </td><td>NA                 </td><td>1245               </td><td>NA                 </td><td>AA                 </td><td> 721               </td><td>N201AA             </td><td>LGA                </td><td>DFW                </td><td>NA                 </td><td>1389               </td><td> 9                 </td><td>20                 </td><td>2013-01-03 09:00:00</td></tr>\n",
       "\t<tr><td>2013               </td><td>1                  </td><td>3                  </td><td>NA                 </td><td>1020               </td><td>NA                 </td><td>NA                 </td><td>1330               </td><td>NA                 </td><td>AA                 </td><td> 731               </td><td>N3FVAA             </td><td>LGA                </td><td>DFW                </td><td>NA                 </td><td>1389               </td><td>10                 </td><td>20                 </td><td>2013-01-03 10:00:00</td></tr>\n",
       "\t<tr><td>2013               </td><td>1                  </td><td>3                  </td><td>NA                 </td><td>1220               </td><td>NA                 </td><td>NA                 </td><td>1415               </td><td>NA                 </td><td>AA                 </td><td>1757               </td><td>N573AA             </td><td>LGA                </td><td>STL                </td><td>NA                 </td><td> 888               </td><td>12                 </td><td>20                 </td><td>2013-01-03 12:00:00</td></tr>\n",
       "\t<tr><td>2013               </td><td>1                  </td><td>3                  </td><td>NA                 </td><td> 630               </td><td>NA                 </td><td>NA                 </td><td> 830               </td><td>NA                 </td><td>MQ                 </td><td>4599               </td><td>N500MQ             </td><td>LGA                </td><td>MSP                </td><td>NA                 </td><td>1020               </td><td> 6                 </td><td>30                 </td><td>2013-01-03 06:00:00</td></tr>\n",
       "\t<tr><td>2013               </td><td>1                  </td><td>3                  </td><td>NA                 </td><td> 857               </td><td>NA                 </td><td>NA                 </td><td>1209               </td><td>NA                 </td><td>UA                 </td><td> 714               </td><td>NA                 </td><td>EWR                </td><td>MIA                </td><td>NA                 </td><td>1085               </td><td> 8                 </td><td>57                 </td><td>2013-01-03 08:00:00</td></tr>\n",
       "\t<tr><td>2013               </td><td>1                  </td><td>3                  </td><td>NA                 </td><td> 645               </td><td>NA                 </td><td>NA                 </td><td> 952               </td><td>NA                 </td><td>UA                 </td><td> 719               </td><td>NA                 </td><td>EWR                </td><td>DFW                </td><td>NA                 </td><td>1372               </td><td> 6                 </td><td>45                 </td><td>2013-01-03 06:00:00</td></tr>\n",
       "\t<tr><td>2013               </td><td>1                  </td><td>4                  </td><td>NA                 </td><td> 845               </td><td>NA                 </td><td>NA                 </td><td>1015               </td><td>NA                 </td><td>9E                 </td><td>3405               </td><td>NA                 </td><td>JFK                </td><td>DCA                </td><td>NA                 </td><td> 213               </td><td> 8                 </td><td>45                 </td><td>2013-01-04 08:00:00</td></tr>\n",
       "\t<tr><td>2013               </td><td>1                  </td><td>4                  </td><td>NA                 </td><td>1830               </td><td>NA                 </td><td>NA                 </td><td>2044               </td><td>NA                 </td><td>9E                 </td><td>3716               </td><td>NA                 </td><td>EWR                </td><td>DTW                </td><td>NA                 </td><td> 488               </td><td>18                 </td><td>30                 </td><td>2013-01-04 18:00:00</td></tr>\n",
       "\t<tr><td>2013               </td><td>1                  </td><td>4                  </td><td>NA                 </td><td> 920               </td><td>NA                 </td><td>NA                 </td><td>1245               </td><td>NA                 </td><td>AA                 </td><td> 721               </td><td>N541AA             </td><td>LGA                </td><td>DFW                </td><td>NA                 </td><td>1389               </td><td> 9                 </td><td>20                 </td><td>2013-01-04 09:00:00</td></tr>\n",
       "\t<tr><td>2013               </td><td>1                  </td><td>4                  </td><td>NA                 </td><td>1245               </td><td>NA                 </td><td>NA                 </td><td>1550               </td><td>NA                 </td><td>AA                 </td><td> 745               </td><td>N3BGAA             </td><td>LGA                </td><td>DFW                </td><td>NA                 </td><td>1389               </td><td>12                 </td><td>45                 </td><td>2013-01-04 12:00:00</td></tr>\n",
       "\t<tr><td>2013               </td><td>1                  </td><td>4                  </td><td>NA                 </td><td>1430               </td><td>NA                 </td><td>NA                 </td><td>1735               </td><td>NA                 </td><td>AA                 </td><td> 883               </td><td>N200AA             </td><td>EWR                </td><td>DFW                </td><td>NA                 </td><td>1372               </td><td>14                 </td><td>30                 </td><td>2013-01-04 14:00:00</td></tr>\n",
       "\t<tr><td>2013               </td><td>1                  </td><td>4                  </td><td>NA                 </td><td>1530               </td><td>NA                 </td><td>NA                 </td><td>1725               </td><td>NA                 </td><td>AA                 </td><td>2223               </td><td>N569AA             </td><td>LGA                </td><td>STL                </td><td>NA                 </td><td> 888               </td><td>15                 </td><td>30                 </td><td>2013-01-04 15:00:00</td></tr>\n",
       "\t<tr><td>2013               </td><td>1                  </td><td>5                  </td><td>NA                 </td><td>1400               </td><td>NA                 </td><td>NA                 </td><td>1518               </td><td>NA                 </td><td>EV                 </td><td>5712               </td><td>N827AS             </td><td>JFK                </td><td>IAD                </td><td>NA                 </td><td> 228               </td><td>14                 </td><td> 0                 </td><td>2013-01-05 14:00:00</td></tr>\n",
       "\t<tr><td>2013               </td><td>1                  </td><td>5                  </td><td>NA                 </td><td> 840               </td><td>NA                 </td><td>NA                 </td><td>1001               </td><td>NA                 </td><td>9E                 </td><td>3422               </td><td>NA                 </td><td>JFK                </td><td>BOS                </td><td>NA                 </td><td> 187               </td><td> 8                 </td><td>40                 </td><td>2013-01-05 08:00:00</td></tr>\n",
       "\t<tr><td>⋮</td><td>⋮</td><td>⋮</td><td>⋮</td><td>⋮</td><td>⋮</td><td>⋮</td><td>⋮</td><td>⋮</td><td>⋮</td><td>⋮</td><td>⋮</td><td>⋮</td><td>⋮</td><td>⋮</td><td>⋮</td><td>⋮</td><td>⋮</td><td>⋮</td></tr>\n",
       "\t<tr><td>2013               </td><td>9                  </td><td>30                 </td><td>2115               </td><td>2110               </td><td>  5                </td><td>2246               </td><td>2255               </td><td> -9                </td><td>MQ                 </td><td>3603               </td><td>N519MQ             </td><td>LGA                </td><td>DTW                </td><td> 72                </td><td> 502               </td><td>21                 </td><td>10                 </td><td>2013-09-30 21:00:00</td></tr>\n",
       "\t<tr><td>2013               </td><td>9                  </td><td>30                 </td><td>2116               </td><td>2124               </td><td> -8                </td><td>2317               </td><td>2337               </td><td>-20                </td><td>EV                 </td><td>4682               </td><td>N14542             </td><td>EWR                </td><td>SDF                </td><td> 94                </td><td> 642               </td><td>21                 </td><td>24                 </td><td>2013-09-30 21:00:00</td></tr>\n",
       "\t<tr><td>2013               </td><td>9                  </td><td>30                 </td><td>2119               </td><td>2005               </td><td> 74                </td><td>2310               </td><td>2212               </td><td> 58                </td><td>EV                 </td><td>4321               </td><td>N17984             </td><td>EWR                </td><td>MCI                </td><td>147                </td><td>1092               </td><td>20                 </td><td> 5                 </td><td>2013-09-30 20:00:00</td></tr>\n",
       "\t<tr><td>2013               </td><td>9                  </td><td>30                 </td><td>2119               </td><td>2120               </td><td> -1                </td><td>2330               </td><td>2354               </td><td>-24                </td><td>B6                 </td><td>1677               </td><td>N358JB             </td><td>JFK                </td><td>JAX                </td><td>113                </td><td> 828               </td><td>21                 </td><td>20                 </td><td>2013-09-30 21:00:00</td></tr>\n",
       "\t<tr><td>2013               </td><td>9                  </td><td>30                 </td><td>2121               </td><td>2100               </td><td> 21                </td><td>2349               </td><td>  14               </td><td>-25                </td><td>DL                 </td><td>2363               </td><td>N193DN             </td><td>JFK                </td><td>LAX                </td><td>296                </td><td>2475               </td><td>21                 </td><td> 0                 </td><td>2013-09-30 21:00:00</td></tr>\n",
       "\t<tr><td>2013               </td><td>9                  </td><td>30                 </td><td>2122               </td><td>2127               </td><td> -5                </td><td>2226               </td><td>2237               </td><td>-11                </td><td>EV                 </td><td>4372               </td><td>N14902             </td><td>EWR                </td><td>DCA                </td><td> 35                </td><td> 199               </td><td>21                 </td><td>27                 </td><td>2013-09-30 21:00:00</td></tr>\n",
       "\t<tr><td>2013               </td><td>9                  </td><td>30                 </td><td>2123               </td><td>2125               </td><td> -2                </td><td>2223               </td><td>2247               </td><td>-24                </td><td>EV                 </td><td>5489               </td><td>N712EV             </td><td>LGA                </td><td>CHO                </td><td> 45                </td><td> 305               </td><td>21                 </td><td>25                 </td><td>2013-09-30 21:00:00</td></tr>\n",
       "\t<tr><td>2013               </td><td>9                  </td><td>30                 </td><td>2127               </td><td>2129               </td><td> -2                </td><td>2314               </td><td>2323               </td><td> -9                </td><td>EV                 </td><td>3833               </td><td>N16546             </td><td>EWR                </td><td>CLT                </td><td> 72                </td><td> 529               </td><td>21                 </td><td>29                 </td><td>2013-09-30 21:00:00</td></tr>\n",
       "\t<tr><td>2013               </td><td>9                  </td><td>30                 </td><td>2128               </td><td>2130               </td><td> -2                </td><td>2328               </td><td>2359               </td><td>-31                </td><td>B6                 </td><td>  97               </td><td>N807JB             </td><td>JFK                </td><td>DEN                </td><td>213                </td><td>1626               </td><td>21                 </td><td>30                 </td><td>2013-09-30 21:00:00</td></tr>\n",
       "\t<tr><td>2013               </td><td>9                  </td><td>30                 </td><td>2129               </td><td>2059               </td><td> 30                </td><td>2230               </td><td>2232               </td><td> -2                </td><td>EV                 </td><td>5048               </td><td>N751EV             </td><td>LGA                </td><td>RIC                </td><td> 45                </td><td> 292               </td><td>20                 </td><td>59                 </td><td>2013-09-30 20:00:00</td></tr>\n",
       "\t<tr><td>2013               </td><td>9                  </td><td>30                 </td><td>2131               </td><td>2140               </td><td> -9                </td><td>2225               </td><td>2255               </td><td>-30                </td><td>MQ                 </td><td>3621               </td><td>N807MQ             </td><td>JFK                </td><td>DCA                </td><td> 36                </td><td> 213               </td><td>21                 </td><td>40                 </td><td>2013-09-30 21:00:00</td></tr>\n",
       "\t<tr><td>2013               </td><td>9                  </td><td>30                 </td><td>2140               </td><td>2140               </td><td>  0                </td><td>  10               </td><td>  40               </td><td>-30                </td><td>AA                 </td><td> 185               </td><td>N335AA             </td><td>JFK                </td><td>LAX                </td><td>298                </td><td>2475               </td><td>21                 </td><td>40                 </td><td>2013-09-30 21:00:00</td></tr>\n",
       "\t<tr><td>2013               </td><td>9                  </td><td>30                 </td><td>2142               </td><td>2129               </td><td> 13                </td><td>2250               </td><td>2239               </td><td> 11                </td><td>EV                 </td><td>4509               </td><td>N12957             </td><td>EWR                </td><td>PWM                </td><td> 47                </td><td> 284               </td><td>21                 </td><td>29                 </td><td>2013-09-30 21:00:00</td></tr>\n",
       "\t<tr><td>2013               </td><td>9                  </td><td>30                 </td><td>2145               </td><td>2145               </td><td>  0                </td><td> 115               </td><td> 140               </td><td>-25                </td><td>B6                 </td><td>1103               </td><td>N633JB             </td><td>JFK                </td><td>SJU                </td><td>192                </td><td>1598               </td><td>21                 </td><td>45                 </td><td>2013-09-30 21:00:00</td></tr>\n",
       "\t<tr><td>2013               </td><td>9                  </td><td>30                 </td><td>2147               </td><td>2137               </td><td> 10                </td><td>  30               </td><td>  27               </td><td>  3                </td><td>B6                 </td><td>1371               </td><td>N627JB             </td><td>LGA                </td><td>FLL                </td><td>139                </td><td>1076               </td><td>21                 </td><td>37                 </td><td>2013-09-30 21:00:00</td></tr>\n",
       "\t<tr><td>2013               </td><td>9                  </td><td>30                 </td><td>2149               </td><td>2156               </td><td> -7                </td><td>2245               </td><td>2308               </td><td>-23                </td><td>UA                 </td><td> 523               </td><td>N813UA             </td><td>EWR                </td><td>BOS                </td><td> 37                </td><td> 200               </td><td>21                 </td><td>56                 </td><td>2013-09-30 21:00:00</td></tr>\n",
       "\t<tr><td>2013               </td><td>9                  </td><td>30                 </td><td>2150               </td><td>2159               </td><td> -9                </td><td>2250               </td><td>2306               </td><td>-16                </td><td>EV                 </td><td>3842               </td><td>N10575             </td><td>EWR                </td><td>MHT                </td><td> 39                </td><td> 209               </td><td>21                 </td><td>59                 </td><td>2013-09-30 21:00:00</td></tr>\n",
       "\t<tr><td>2013               </td><td>9                  </td><td>30                 </td><td>2159               </td><td>1845               </td><td>194                </td><td>2344               </td><td>2030               </td><td>194                </td><td>9E                 </td><td>3320               </td><td>N906XJ             </td><td>JFK                </td><td>BUF                </td><td> 50                </td><td> 301               </td><td>18                 </td><td>45                 </td><td>2013-09-30 18:00:00</td></tr>\n",
       "\t<tr><td>2013               </td><td>9                  </td><td>30                 </td><td>2203               </td><td>2205               </td><td> -2                </td><td>2339               </td><td>2331               </td><td>  8                </td><td>EV                 </td><td>5311               </td><td>N722EV             </td><td>LGA                </td><td>BGR                </td><td> 61                </td><td> 378               </td><td>22                 </td><td> 5                 </td><td>2013-09-30 22:00:00</td></tr>\n",
       "\t<tr><td>2013               </td><td>9                  </td><td>30                 </td><td>2207               </td><td>2140               </td><td> 27                </td><td>2257               </td><td>2250               </td><td>  7                </td><td>MQ                 </td><td>3660               </td><td>N532MQ             </td><td>LGA                </td><td>BNA                </td><td> 97                </td><td> 764               </td><td>21                 </td><td>40                 </td><td>2013-09-30 21:00:00</td></tr>\n",
       "\t<tr><td>2013               </td><td>9                  </td><td>30                 </td><td>2211               </td><td>2059               </td><td> 72                </td><td>2339               </td><td>2242               </td><td> 57                </td><td>EV                 </td><td>4672               </td><td>N12145             </td><td>EWR                </td><td>STL                </td><td>120                </td><td> 872               </td><td>20                 </td><td>59                 </td><td>2013-09-30 20:00:00</td></tr>\n",
       "\t<tr><td>2013               </td><td>9                  </td><td>30                 </td><td>2231               </td><td>2245               </td><td>-14                </td><td>2335               </td><td>2356               </td><td>-21                </td><td>B6                 </td><td> 108               </td><td>N193JB             </td><td>JFK                </td><td>PWM                </td><td> 48                </td><td> 273               </td><td>22                 </td><td>45                 </td><td>2013-09-30 22:00:00</td></tr>\n",
       "\t<tr><td>2013               </td><td>9                  </td><td>30                 </td><td>2233               </td><td>2113               </td><td> 80                </td><td> 112               </td><td>  30               </td><td> 42                </td><td>UA                 </td><td> 471               </td><td>N578UA             </td><td>EWR                </td><td>SFO                </td><td>318                </td><td>2565               </td><td>21                 </td><td>13                 </td><td>2013-09-30 21:00:00</td></tr>\n",
       "\t<tr><td>2013               </td><td>9                  </td><td>30                 </td><td>2235               </td><td>2001               </td><td>154                </td><td>  59               </td><td>2249               </td><td>130                </td><td>B6                 </td><td>1083               </td><td>N804JB             </td><td>JFK                </td><td>MCO                </td><td>123                </td><td> 944               </td><td>20                 </td><td> 1                 </td><td>2013-09-30 20:00:00</td></tr>\n",
       "\t<tr><td>2013               </td><td>9                  </td><td>30                 </td><td>2237               </td><td>2245               </td><td> -8                </td><td>2345               </td><td>2353               </td><td> -8                </td><td>B6                 </td><td> 234               </td><td>N318JB             </td><td>JFK                </td><td>BTV                </td><td> 43                </td><td> 266               </td><td>22                 </td><td>45                 </td><td>2013-09-30 22:00:00</td></tr>\n",
       "\t<tr><td>2013               </td><td>9                  </td><td>30                 </td><td>2240               </td><td>2245               </td><td> -5                </td><td>2334               </td><td>2351               </td><td>-17                </td><td>B6                 </td><td>1816               </td><td>N354JB             </td><td>JFK                </td><td>SYR                </td><td> 41                </td><td> 209               </td><td>22                 </td><td>45                 </td><td>2013-09-30 22:00:00</td></tr>\n",
       "\t<tr><td>2013               </td><td>9                  </td><td>30                 </td><td>2240               </td><td>2250               </td><td>-10                </td><td>2347               </td><td>   7               </td><td>-20                </td><td>B6                 </td><td>2002               </td><td>N281JB             </td><td>JFK                </td><td>BUF                </td><td> 52                </td><td> 301               </td><td>22                 </td><td>50                 </td><td>2013-09-30 22:00:00</td></tr>\n",
       "\t<tr><td>2013               </td><td>9                  </td><td>30                 </td><td>2241               </td><td>2246               </td><td> -5                </td><td>2345               </td><td>   1               </td><td>-16                </td><td>B6                 </td><td> 486               </td><td>N346JB             </td><td>JFK                </td><td>ROC                </td><td> 47                </td><td> 264               </td><td>22                 </td><td>46                 </td><td>2013-09-30 22:00:00</td></tr>\n",
       "\t<tr><td>2013               </td><td>9                  </td><td>30                 </td><td>2307               </td><td>2255               </td><td> 12                </td><td>2359               </td><td>2358               </td><td>  1                </td><td>B6                 </td><td> 718               </td><td>N565JB             </td><td>JFK                </td><td>BOS                </td><td> 33                </td><td> 187               </td><td>22                 </td><td>55                 </td><td>2013-09-30 22:00:00</td></tr>\n",
       "\t<tr><td>2013               </td><td>9                  </td><td>30                 </td><td>2349               </td><td>2359               </td><td>-10                </td><td> 325               </td><td> 350               </td><td>-25                </td><td>B6                 </td><td> 745               </td><td>N516JB             </td><td>JFK                </td><td>PSE                </td><td>196                </td><td>1617               </td><td>23                 </td><td>59                 </td><td>2013-09-30 23:00:00</td></tr>\n",
       "</tbody>\n",
       "</table>\n"
      ],
      "text/latex": [
       "\\begin{tabular}{r|lllllllllllllllllll}\n",
       " year & month & day & dep\\_time & sched\\_dep\\_time & dep\\_delay & arr\\_time & sched\\_arr\\_time & arr\\_delay & carrier & flight & tailnum & origin & dest & air\\_time & distance & hour & minute & time\\_hour\\\\\n",
       "\\hline\n",
       "\t 2013                & 1                   & 1                   & NA                  & 1630                & NA                  & NA                  & 1815                & NA                  & EV                  & 4308                & N18120              & EWR                 & RDU                 & NA                  &  416                & 16                  & 30                  & 2013-01-01 16:00:00\\\\\n",
       "\t 2013                & 1                   & 1                   & NA                  & 1935                & NA                  & NA                  & 2240                & NA                  & AA                  &  791                & N3EHAA              & LGA                 & DFW                 & NA                  & 1389                & 19                  & 35                  & 2013-01-01 19:00:00\\\\\n",
       "\t 2013                & 1                   & 1                   & NA                  & 1500                & NA                  & NA                  & 1825                & NA                  & AA                  & 1925                & N3EVAA              & LGA                 & MIA                 & NA                  & 1096                & 15                  &  0                  & 2013-01-01 15:00:00\\\\\n",
       "\t 2013                & 1                   & 1                   & NA                  &  600                & NA                  & NA                  &  901                & NA                  & B6                  &  125                & N618JB              & JFK                 & FLL                 & NA                  & 1069                &  6                  &  0                  & 2013-01-01 06:00:00\\\\\n",
       "\t 2013                & 1                   & 2                   & NA                  & 1540                & NA                  & NA                  & 1747                & NA                  & EV                  & 4352                & N10575              & EWR                 & CVG                 & NA                  &  569                & 15                  & 40                  & 2013-01-02 15:00:00\\\\\n",
       "\t 2013                & 1                   & 2                   & NA                  & 1620                & NA                  & NA                  & 1746                & NA                  & EV                  & 4406                & N13949              & EWR                 & PIT                 & NA                  &  319                & 16                  & 20                  & 2013-01-02 16:00:00\\\\\n",
       "\t 2013                & 1                   & 2                   & NA                  & 1355                & NA                  & NA                  & 1459                & NA                  & EV                  & 4434                & N10575              & EWR                 & MHT                 & NA                  &  209                & 13                  & 55                  & 2013-01-02 13:00:00\\\\\n",
       "\t 2013                & 1                   & 2                   & NA                  & 1420                & NA                  & NA                  & 1644                & NA                  & EV                  & 4935                & N759EV              & EWR                 & ATL                 & NA                  &  746                & 14                  & 20                  & 2013-01-02 14:00:00\\\\\n",
       "\t 2013                & 1                   & 2                   & NA                  & 1321                & NA                  & NA                  & 1536                & NA                  & EV                  & 3849                & N13550              & EWR                 & IND                 & NA                  &  645                & 13                  & 21                  & 2013-01-02 13:00:00\\\\\n",
       "\t 2013                & 1                   & 2                   & NA                  & 1545                & NA                  & NA                  & 1910                & NA                  & AA                  &  133                & NA                  & JFK                 & LAX                 & NA                  & 2475                & 15                  & 45                  & 2013-01-02 15:00:00\\\\\n",
       "\t 2013                & 1                   & 2                   & NA                  & 1330                & NA                  & NA                  & 1640                & NA                  & AA                  &  753                & N3FBAA              & LGA                 & DFW                 & NA                  & 1389                & 13                  & 30                  & 2013-01-02 13:00:00\\\\\n",
       "\t 2013                & 1                   & 2                   & NA                  & 1601                & NA                  & NA                  & 1735                & NA                  & UA                  &  623                & NA                  & EWR                 & ORD                 & NA                  &  719                & 16                  &  1                  & 2013-01-02 16:00:00\\\\\n",
       "\t 2013                & 1                   & 3                   & NA                  &  645                & NA                  & NA                  &  757                & NA                  & EV                  & 4241                & N14972              & EWR                 & DCA                 & NA                  &  199                &  6                  & 45                  & 2013-01-03 06:00:00\\\\\n",
       "\t 2013                & 1                   & 3                   & NA                  & 1030                & NA                  & NA                  & 1210                & NA                  & AA                  &  321                & N487AA              & LGA                 & ORD                 & NA                  &  733                & 10                  & 30                  & 2013-01-03 10:00:00\\\\\n",
       "\t 2013                & 1                   & 3                   & NA                  & 1125                & NA                  & NA                  & 1305                & NA                  & AA                  &  327                & N3AMAA              & LGA                 & ORD                 & NA                  &  733                & 11                  & 25                  & 2013-01-03 11:00:00\\\\\n",
       "\t 2013                & 1                   & 3                   & NA                  &  835                & NA                  & NA                  & 1150                & NA                  & AA                  &  717                & N3GXAA              & LGA                 & DFW                 & NA                  & 1389                &  8                  & 35                  & 2013-01-03 08:00:00\\\\\n",
       "\t 2013                & 1                   & 3                   & NA                  &  920                & NA                  & NA                  & 1245                & NA                  & AA                  &  721                & N201AA              & LGA                 & DFW                 & NA                  & 1389                &  9                  & 20                  & 2013-01-03 09:00:00\\\\\n",
       "\t 2013                & 1                   & 3                   & NA                  & 1020                & NA                  & NA                  & 1330                & NA                  & AA                  &  731                & N3FVAA              & LGA                 & DFW                 & NA                  & 1389                & 10                  & 20                  & 2013-01-03 10:00:00\\\\\n",
       "\t 2013                & 1                   & 3                   & NA                  & 1220                & NA                  & NA                  & 1415                & NA                  & AA                  & 1757                & N573AA              & LGA                 & STL                 & NA                  &  888                & 12                  & 20                  & 2013-01-03 12:00:00\\\\\n",
       "\t 2013                & 1                   & 3                   & NA                  &  630                & NA                  & NA                  &  830                & NA                  & MQ                  & 4599                & N500MQ              & LGA                 & MSP                 & NA                  & 1020                &  6                  & 30                  & 2013-01-03 06:00:00\\\\\n",
       "\t 2013                & 1                   & 3                   & NA                  &  857                & NA                  & NA                  & 1209                & NA                  & UA                  &  714                & NA                  & EWR                 & MIA                 & NA                  & 1085                &  8                  & 57                  & 2013-01-03 08:00:00\\\\\n",
       "\t 2013                & 1                   & 3                   & NA                  &  645                & NA                  & NA                  &  952                & NA                  & UA                  &  719                & NA                  & EWR                 & DFW                 & NA                  & 1372                &  6                  & 45                  & 2013-01-03 06:00:00\\\\\n",
       "\t 2013                & 1                   & 4                   & NA                  &  845                & NA                  & NA                  & 1015                & NA                  & 9E                  & 3405                & NA                  & JFK                 & DCA                 & NA                  &  213                &  8                  & 45                  & 2013-01-04 08:00:00\\\\\n",
       "\t 2013                & 1                   & 4                   & NA                  & 1830                & NA                  & NA                  & 2044                & NA                  & 9E                  & 3716                & NA                  & EWR                 & DTW                 & NA                  &  488                & 18                  & 30                  & 2013-01-04 18:00:00\\\\\n",
       "\t 2013                & 1                   & 4                   & NA                  &  920                & NA                  & NA                  & 1245                & NA                  & AA                  &  721                & N541AA              & LGA                 & DFW                 & NA                  & 1389                &  9                  & 20                  & 2013-01-04 09:00:00\\\\\n",
       "\t 2013                & 1                   & 4                   & NA                  & 1245                & NA                  & NA                  & 1550                & NA                  & AA                  &  745                & N3BGAA              & LGA                 & DFW                 & NA                  & 1389                & 12                  & 45                  & 2013-01-04 12:00:00\\\\\n",
       "\t 2013                & 1                   & 4                   & NA                  & 1430                & NA                  & NA                  & 1735                & NA                  & AA                  &  883                & N200AA              & EWR                 & DFW                 & NA                  & 1372                & 14                  & 30                  & 2013-01-04 14:00:00\\\\\n",
       "\t 2013                & 1                   & 4                   & NA                  & 1530                & NA                  & NA                  & 1725                & NA                  & AA                  & 2223                & N569AA              & LGA                 & STL                 & NA                  &  888                & 15                  & 30                  & 2013-01-04 15:00:00\\\\\n",
       "\t 2013                & 1                   & 5                   & NA                  & 1400                & NA                  & NA                  & 1518                & NA                  & EV                  & 5712                & N827AS              & JFK                 & IAD                 & NA                  &  228                & 14                  &  0                  & 2013-01-05 14:00:00\\\\\n",
       "\t 2013                & 1                   & 5                   & NA                  &  840                & NA                  & NA                  & 1001                & NA                  & 9E                  & 3422                & NA                  & JFK                 & BOS                 & NA                  &  187                &  8                  & 40                  & 2013-01-05 08:00:00\\\\\n",
       "\t ⋮ & ⋮ & ⋮ & ⋮ & ⋮ & ⋮ & ⋮ & ⋮ & ⋮ & ⋮ & ⋮ & ⋮ & ⋮ & ⋮ & ⋮ & ⋮ & ⋮ & ⋮ & ⋮\\\\\n",
       "\t 2013                & 9                   & 30                  & 2115                & 2110                &   5                 & 2246                & 2255                &  -9                 & MQ                  & 3603                & N519MQ              & LGA                 & DTW                 &  72                 &  502                & 21                  & 10                  & 2013-09-30 21:00:00\\\\\n",
       "\t 2013                & 9                   & 30                  & 2116                & 2124                &  -8                 & 2317                & 2337                & -20                 & EV                  & 4682                & N14542              & EWR                 & SDF                 &  94                 &  642                & 21                  & 24                  & 2013-09-30 21:00:00\\\\\n",
       "\t 2013                & 9                   & 30                  & 2119                & 2005                &  74                 & 2310                & 2212                &  58                 & EV                  & 4321                & N17984              & EWR                 & MCI                 & 147                 & 1092                & 20                  &  5                  & 2013-09-30 20:00:00\\\\\n",
       "\t 2013                & 9                   & 30                  & 2119                & 2120                &  -1                 & 2330                & 2354                & -24                 & B6                  & 1677                & N358JB              & JFK                 & JAX                 & 113                 &  828                & 21                  & 20                  & 2013-09-30 21:00:00\\\\\n",
       "\t 2013                & 9                   & 30                  & 2121                & 2100                &  21                 & 2349                &   14                & -25                 & DL                  & 2363                & N193DN              & JFK                 & LAX                 & 296                 & 2475                & 21                  &  0                  & 2013-09-30 21:00:00\\\\\n",
       "\t 2013                & 9                   & 30                  & 2122                & 2127                &  -5                 & 2226                & 2237                & -11                 & EV                  & 4372                & N14902              & EWR                 & DCA                 &  35                 &  199                & 21                  & 27                  & 2013-09-30 21:00:00\\\\\n",
       "\t 2013                & 9                   & 30                  & 2123                & 2125                &  -2                 & 2223                & 2247                & -24                 & EV                  & 5489                & N712EV              & LGA                 & CHO                 &  45                 &  305                & 21                  & 25                  & 2013-09-30 21:00:00\\\\\n",
       "\t 2013                & 9                   & 30                  & 2127                & 2129                &  -2                 & 2314                & 2323                &  -9                 & EV                  & 3833                & N16546              & EWR                 & CLT                 &  72                 &  529                & 21                  & 29                  & 2013-09-30 21:00:00\\\\\n",
       "\t 2013                & 9                   & 30                  & 2128                & 2130                &  -2                 & 2328                & 2359                & -31                 & B6                  &   97                & N807JB              & JFK                 & DEN                 & 213                 & 1626                & 21                  & 30                  & 2013-09-30 21:00:00\\\\\n",
       "\t 2013                & 9                   & 30                  & 2129                & 2059                &  30                 & 2230                & 2232                &  -2                 & EV                  & 5048                & N751EV              & LGA                 & RIC                 &  45                 &  292                & 20                  & 59                  & 2013-09-30 20:00:00\\\\\n",
       "\t 2013                & 9                   & 30                  & 2131                & 2140                &  -9                 & 2225                & 2255                & -30                 & MQ                  & 3621                & N807MQ              & JFK                 & DCA                 &  36                 &  213                & 21                  & 40                  & 2013-09-30 21:00:00\\\\\n",
       "\t 2013                & 9                   & 30                  & 2140                & 2140                &   0                 &   10                &   40                & -30                 & AA                  &  185                & N335AA              & JFK                 & LAX                 & 298                 & 2475                & 21                  & 40                  & 2013-09-30 21:00:00\\\\\n",
       "\t 2013                & 9                   & 30                  & 2142                & 2129                &  13                 & 2250                & 2239                &  11                 & EV                  & 4509                & N12957              & EWR                 & PWM                 &  47                 &  284                & 21                  & 29                  & 2013-09-30 21:00:00\\\\\n",
       "\t 2013                & 9                   & 30                  & 2145                & 2145                &   0                 &  115                &  140                & -25                 & B6                  & 1103                & N633JB              & JFK                 & SJU                 & 192                 & 1598                & 21                  & 45                  & 2013-09-30 21:00:00\\\\\n",
       "\t 2013                & 9                   & 30                  & 2147                & 2137                &  10                 &   30                &   27                &   3                 & B6                  & 1371                & N627JB              & LGA                 & FLL                 & 139                 & 1076                & 21                  & 37                  & 2013-09-30 21:00:00\\\\\n",
       "\t 2013                & 9                   & 30                  & 2149                & 2156                &  -7                 & 2245                & 2308                & -23                 & UA                  &  523                & N813UA              & EWR                 & BOS                 &  37                 &  200                & 21                  & 56                  & 2013-09-30 21:00:00\\\\\n",
       "\t 2013                & 9                   & 30                  & 2150                & 2159                &  -9                 & 2250                & 2306                & -16                 & EV                  & 3842                & N10575              & EWR                 & MHT                 &  39                 &  209                & 21                  & 59                  & 2013-09-30 21:00:00\\\\\n",
       "\t 2013                & 9                   & 30                  & 2159                & 1845                & 194                 & 2344                & 2030                & 194                 & 9E                  & 3320                & N906XJ              & JFK                 & BUF                 &  50                 &  301                & 18                  & 45                  & 2013-09-30 18:00:00\\\\\n",
       "\t 2013                & 9                   & 30                  & 2203                & 2205                &  -2                 & 2339                & 2331                &   8                 & EV                  & 5311                & N722EV              & LGA                 & BGR                 &  61                 &  378                & 22                  &  5                  & 2013-09-30 22:00:00\\\\\n",
       "\t 2013                & 9                   & 30                  & 2207                & 2140                &  27                 & 2257                & 2250                &   7                 & MQ                  & 3660                & N532MQ              & LGA                 & BNA                 &  97                 &  764                & 21                  & 40                  & 2013-09-30 21:00:00\\\\\n",
       "\t 2013                & 9                   & 30                  & 2211                & 2059                &  72                 & 2339                & 2242                &  57                 & EV                  & 4672                & N12145              & EWR                 & STL                 & 120                 &  872                & 20                  & 59                  & 2013-09-30 20:00:00\\\\\n",
       "\t 2013                & 9                   & 30                  & 2231                & 2245                & -14                 & 2335                & 2356                & -21                 & B6                  &  108                & N193JB              & JFK                 & PWM                 &  48                 &  273                & 22                  & 45                  & 2013-09-30 22:00:00\\\\\n",
       "\t 2013                & 9                   & 30                  & 2233                & 2113                &  80                 &  112                &   30                &  42                 & UA                  &  471                & N578UA              & EWR                 & SFO                 & 318                 & 2565                & 21                  & 13                  & 2013-09-30 21:00:00\\\\\n",
       "\t 2013                & 9                   & 30                  & 2235                & 2001                & 154                 &   59                & 2249                & 130                 & B6                  & 1083                & N804JB              & JFK                 & MCO                 & 123                 &  944                & 20                  &  1                  & 2013-09-30 20:00:00\\\\\n",
       "\t 2013                & 9                   & 30                  & 2237                & 2245                &  -8                 & 2345                & 2353                &  -8                 & B6                  &  234                & N318JB              & JFK                 & BTV                 &  43                 &  266                & 22                  & 45                  & 2013-09-30 22:00:00\\\\\n",
       "\t 2013                & 9                   & 30                  & 2240                & 2245                &  -5                 & 2334                & 2351                & -17                 & B6                  & 1816                & N354JB              & JFK                 & SYR                 &  41                 &  209                & 22                  & 45                  & 2013-09-30 22:00:00\\\\\n",
       "\t 2013                & 9                   & 30                  & 2240                & 2250                & -10                 & 2347                &    7                & -20                 & B6                  & 2002                & N281JB              & JFK                 & BUF                 &  52                 &  301                & 22                  & 50                  & 2013-09-30 22:00:00\\\\\n",
       "\t 2013                & 9                   & 30                  & 2241                & 2246                &  -5                 & 2345                &    1                & -16                 & B6                  &  486                & N346JB              & JFK                 & ROC                 &  47                 &  264                & 22                  & 46                  & 2013-09-30 22:00:00\\\\\n",
       "\t 2013                & 9                   & 30                  & 2307                & 2255                &  12                 & 2359                & 2358                &   1                 & B6                  &  718                & N565JB              & JFK                 & BOS                 &  33                 &  187                & 22                  & 55                  & 2013-09-30 22:00:00\\\\\n",
       "\t 2013                & 9                   & 30                  & 2349                & 2359                & -10                 &  325                &  350                & -25                 & B6                  &  745                & N516JB              & JFK                 & PSE                 & 196                 & 1617                & 23                  & 59                  & 2013-09-30 23:00:00\\\\\n",
       "\\end{tabular}\n"
      ],
      "text/markdown": [
       "\n",
       "| year | month | day | dep_time | sched_dep_time | dep_delay | arr_time | sched_arr_time | arr_delay | carrier | flight | tailnum | origin | dest | air_time | distance | hour | minute | time_hour |\n",
       "|---|---|---|---|---|---|---|---|---|---|---|---|---|---|---|---|---|---|---|\n",
       "| 2013                | 1                   | 1                   | NA                  | 1630                | NA                  | NA                  | 1815                | NA                  | EV                  | 4308                | N18120              | EWR                 | RDU                 | NA                  |  416                | 16                  | 30                  | 2013-01-01 16:00:00 |\n",
       "| 2013                | 1                   | 1                   | NA                  | 1935                | NA                  | NA                  | 2240                | NA                  | AA                  |  791                | N3EHAA              | LGA                 | DFW                 | NA                  | 1389                | 19                  | 35                  | 2013-01-01 19:00:00 |\n",
       "| 2013                | 1                   | 1                   | NA                  | 1500                | NA                  | NA                  | 1825                | NA                  | AA                  | 1925                | N3EVAA              | LGA                 | MIA                 | NA                  | 1096                | 15                  |  0                  | 2013-01-01 15:00:00 |\n",
       "| 2013                | 1                   | 1                   | NA                  |  600                | NA                  | NA                  |  901                | NA                  | B6                  |  125                | N618JB              | JFK                 | FLL                 | NA                  | 1069                |  6                  |  0                  | 2013-01-01 06:00:00 |\n",
       "| 2013                | 1                   | 2                   | NA                  | 1540                | NA                  | NA                  | 1747                | NA                  | EV                  | 4352                | N10575              | EWR                 | CVG                 | NA                  |  569                | 15                  | 40                  | 2013-01-02 15:00:00 |\n",
       "| 2013                | 1                   | 2                   | NA                  | 1620                | NA                  | NA                  | 1746                | NA                  | EV                  | 4406                | N13949              | EWR                 | PIT                 | NA                  |  319                | 16                  | 20                  | 2013-01-02 16:00:00 |\n",
       "| 2013                | 1                   | 2                   | NA                  | 1355                | NA                  | NA                  | 1459                | NA                  | EV                  | 4434                | N10575              | EWR                 | MHT                 | NA                  |  209                | 13                  | 55                  | 2013-01-02 13:00:00 |\n",
       "| 2013                | 1                   | 2                   | NA                  | 1420                | NA                  | NA                  | 1644                | NA                  | EV                  | 4935                | N759EV              | EWR                 | ATL                 | NA                  |  746                | 14                  | 20                  | 2013-01-02 14:00:00 |\n",
       "| 2013                | 1                   | 2                   | NA                  | 1321                | NA                  | NA                  | 1536                | NA                  | EV                  | 3849                | N13550              | EWR                 | IND                 | NA                  |  645                | 13                  | 21                  | 2013-01-02 13:00:00 |\n",
       "| 2013                | 1                   | 2                   | NA                  | 1545                | NA                  | NA                  | 1910                | NA                  | AA                  |  133                | NA                  | JFK                 | LAX                 | NA                  | 2475                | 15                  | 45                  | 2013-01-02 15:00:00 |\n",
       "| 2013                | 1                   | 2                   | NA                  | 1330                | NA                  | NA                  | 1640                | NA                  | AA                  |  753                | N3FBAA              | LGA                 | DFW                 | NA                  | 1389                | 13                  | 30                  | 2013-01-02 13:00:00 |\n",
       "| 2013                | 1                   | 2                   | NA                  | 1601                | NA                  | NA                  | 1735                | NA                  | UA                  |  623                | NA                  | EWR                 | ORD                 | NA                  |  719                | 16                  |  1                  | 2013-01-02 16:00:00 |\n",
       "| 2013                | 1                   | 3                   | NA                  |  645                | NA                  | NA                  |  757                | NA                  | EV                  | 4241                | N14972              | EWR                 | DCA                 | NA                  |  199                |  6                  | 45                  | 2013-01-03 06:00:00 |\n",
       "| 2013                | 1                   | 3                   | NA                  | 1030                | NA                  | NA                  | 1210                | NA                  | AA                  |  321                | N487AA              | LGA                 | ORD                 | NA                  |  733                | 10                  | 30                  | 2013-01-03 10:00:00 |\n",
       "| 2013                | 1                   | 3                   | NA                  | 1125                | NA                  | NA                  | 1305                | NA                  | AA                  |  327                | N3AMAA              | LGA                 | ORD                 | NA                  |  733                | 11                  | 25                  | 2013-01-03 11:00:00 |\n",
       "| 2013                | 1                   | 3                   | NA                  |  835                | NA                  | NA                  | 1150                | NA                  | AA                  |  717                | N3GXAA              | LGA                 | DFW                 | NA                  | 1389                |  8                  | 35                  | 2013-01-03 08:00:00 |\n",
       "| 2013                | 1                   | 3                   | NA                  |  920                | NA                  | NA                  | 1245                | NA                  | AA                  |  721                | N201AA              | LGA                 | DFW                 | NA                  | 1389                |  9                  | 20                  | 2013-01-03 09:00:00 |\n",
       "| 2013                | 1                   | 3                   | NA                  | 1020                | NA                  | NA                  | 1330                | NA                  | AA                  |  731                | N3FVAA              | LGA                 | DFW                 | NA                  | 1389                | 10                  | 20                  | 2013-01-03 10:00:00 |\n",
       "| 2013                | 1                   | 3                   | NA                  | 1220                | NA                  | NA                  | 1415                | NA                  | AA                  | 1757                | N573AA              | LGA                 | STL                 | NA                  |  888                | 12                  | 20                  | 2013-01-03 12:00:00 |\n",
       "| 2013                | 1                   | 3                   | NA                  |  630                | NA                  | NA                  |  830                | NA                  | MQ                  | 4599                | N500MQ              | LGA                 | MSP                 | NA                  | 1020                |  6                  | 30                  | 2013-01-03 06:00:00 |\n",
       "| 2013                | 1                   | 3                   | NA                  |  857                | NA                  | NA                  | 1209                | NA                  | UA                  |  714                | NA                  | EWR                 | MIA                 | NA                  | 1085                |  8                  | 57                  | 2013-01-03 08:00:00 |\n",
       "| 2013                | 1                   | 3                   | NA                  |  645                | NA                  | NA                  |  952                | NA                  | UA                  |  719                | NA                  | EWR                 | DFW                 | NA                  | 1372                |  6                  | 45                  | 2013-01-03 06:00:00 |\n",
       "| 2013                | 1                   | 4                   | NA                  |  845                | NA                  | NA                  | 1015                | NA                  | 9E                  | 3405                | NA                  | JFK                 | DCA                 | NA                  |  213                |  8                  | 45                  | 2013-01-04 08:00:00 |\n",
       "| 2013                | 1                   | 4                   | NA                  | 1830                | NA                  | NA                  | 2044                | NA                  | 9E                  | 3716                | NA                  | EWR                 | DTW                 | NA                  |  488                | 18                  | 30                  | 2013-01-04 18:00:00 |\n",
       "| 2013                | 1                   | 4                   | NA                  |  920                | NA                  | NA                  | 1245                | NA                  | AA                  |  721                | N541AA              | LGA                 | DFW                 | NA                  | 1389                |  9                  | 20                  | 2013-01-04 09:00:00 |\n",
       "| 2013                | 1                   | 4                   | NA                  | 1245                | NA                  | NA                  | 1550                | NA                  | AA                  |  745                | N3BGAA              | LGA                 | DFW                 | NA                  | 1389                | 12                  | 45                  | 2013-01-04 12:00:00 |\n",
       "| 2013                | 1                   | 4                   | NA                  | 1430                | NA                  | NA                  | 1735                | NA                  | AA                  |  883                | N200AA              | EWR                 | DFW                 | NA                  | 1372                | 14                  | 30                  | 2013-01-04 14:00:00 |\n",
       "| 2013                | 1                   | 4                   | NA                  | 1530                | NA                  | NA                  | 1725                | NA                  | AA                  | 2223                | N569AA              | LGA                 | STL                 | NA                  |  888                | 15                  | 30                  | 2013-01-04 15:00:00 |\n",
       "| 2013                | 1                   | 5                   | NA                  | 1400                | NA                  | NA                  | 1518                | NA                  | EV                  | 5712                | N827AS              | JFK                 | IAD                 | NA                  |  228                | 14                  |  0                  | 2013-01-05 14:00:00 |\n",
       "| 2013                | 1                   | 5                   | NA                  |  840                | NA                  | NA                  | 1001                | NA                  | 9E                  | 3422                | NA                  | JFK                 | BOS                 | NA                  |  187                |  8                  | 40                  | 2013-01-05 08:00:00 |\n",
       "| ⋮ | ⋮ | ⋮ | ⋮ | ⋮ | ⋮ | ⋮ | ⋮ | ⋮ | ⋮ | ⋮ | ⋮ | ⋮ | ⋮ | ⋮ | ⋮ | ⋮ | ⋮ | ⋮ |\n",
       "| 2013                | 9                   | 30                  | 2115                | 2110                |   5                 | 2246                | 2255                |  -9                 | MQ                  | 3603                | N519MQ              | LGA                 | DTW                 |  72                 |  502                | 21                  | 10                  | 2013-09-30 21:00:00 |\n",
       "| 2013                | 9                   | 30                  | 2116                | 2124                |  -8                 | 2317                | 2337                | -20                 | EV                  | 4682                | N14542              | EWR                 | SDF                 |  94                 |  642                | 21                  | 24                  | 2013-09-30 21:00:00 |\n",
       "| 2013                | 9                   | 30                  | 2119                | 2005                |  74                 | 2310                | 2212                |  58                 | EV                  | 4321                | N17984              | EWR                 | MCI                 | 147                 | 1092                | 20                  |  5                  | 2013-09-30 20:00:00 |\n",
       "| 2013                | 9                   | 30                  | 2119                | 2120                |  -1                 | 2330                | 2354                | -24                 | B6                  | 1677                | N358JB              | JFK                 | JAX                 | 113                 |  828                | 21                  | 20                  | 2013-09-30 21:00:00 |\n",
       "| 2013                | 9                   | 30                  | 2121                | 2100                |  21                 | 2349                |   14                | -25                 | DL                  | 2363                | N193DN              | JFK                 | LAX                 | 296                 | 2475                | 21                  |  0                  | 2013-09-30 21:00:00 |\n",
       "| 2013                | 9                   | 30                  | 2122                | 2127                |  -5                 | 2226                | 2237                | -11                 | EV                  | 4372                | N14902              | EWR                 | DCA                 |  35                 |  199                | 21                  | 27                  | 2013-09-30 21:00:00 |\n",
       "| 2013                | 9                   | 30                  | 2123                | 2125                |  -2                 | 2223                | 2247                | -24                 | EV                  | 5489                | N712EV              | LGA                 | CHO                 |  45                 |  305                | 21                  | 25                  | 2013-09-30 21:00:00 |\n",
       "| 2013                | 9                   | 30                  | 2127                | 2129                |  -2                 | 2314                | 2323                |  -9                 | EV                  | 3833                | N16546              | EWR                 | CLT                 |  72                 |  529                | 21                  | 29                  | 2013-09-30 21:00:00 |\n",
       "| 2013                | 9                   | 30                  | 2128                | 2130                |  -2                 | 2328                | 2359                | -31                 | B6                  |   97                | N807JB              | JFK                 | DEN                 | 213                 | 1626                | 21                  | 30                  | 2013-09-30 21:00:00 |\n",
       "| 2013                | 9                   | 30                  | 2129                | 2059                |  30                 | 2230                | 2232                |  -2                 | EV                  | 5048                | N751EV              | LGA                 | RIC                 |  45                 |  292                | 20                  | 59                  | 2013-09-30 20:00:00 |\n",
       "| 2013                | 9                   | 30                  | 2131                | 2140                |  -9                 | 2225                | 2255                | -30                 | MQ                  | 3621                | N807MQ              | JFK                 | DCA                 |  36                 |  213                | 21                  | 40                  | 2013-09-30 21:00:00 |\n",
       "| 2013                | 9                   | 30                  | 2140                | 2140                |   0                 |   10                |   40                | -30                 | AA                  |  185                | N335AA              | JFK                 | LAX                 | 298                 | 2475                | 21                  | 40                  | 2013-09-30 21:00:00 |\n",
       "| 2013                | 9                   | 30                  | 2142                | 2129                |  13                 | 2250                | 2239                |  11                 | EV                  | 4509                | N12957              | EWR                 | PWM                 |  47                 |  284                | 21                  | 29                  | 2013-09-30 21:00:00 |\n",
       "| 2013                | 9                   | 30                  | 2145                | 2145                |   0                 |  115                |  140                | -25                 | B6                  | 1103                | N633JB              | JFK                 | SJU                 | 192                 | 1598                | 21                  | 45                  | 2013-09-30 21:00:00 |\n",
       "| 2013                | 9                   | 30                  | 2147                | 2137                |  10                 |   30                |   27                |   3                 | B6                  | 1371                | N627JB              | LGA                 | FLL                 | 139                 | 1076                | 21                  | 37                  | 2013-09-30 21:00:00 |\n",
       "| 2013                | 9                   | 30                  | 2149                | 2156                |  -7                 | 2245                | 2308                | -23                 | UA                  |  523                | N813UA              | EWR                 | BOS                 |  37                 |  200                | 21                  | 56                  | 2013-09-30 21:00:00 |\n",
       "| 2013                | 9                   | 30                  | 2150                | 2159                |  -9                 | 2250                | 2306                | -16                 | EV                  | 3842                | N10575              | EWR                 | MHT                 |  39                 |  209                | 21                  | 59                  | 2013-09-30 21:00:00 |\n",
       "| 2013                | 9                   | 30                  | 2159                | 1845                | 194                 | 2344                | 2030                | 194                 | 9E                  | 3320                | N906XJ              | JFK                 | BUF                 |  50                 |  301                | 18                  | 45                  | 2013-09-30 18:00:00 |\n",
       "| 2013                | 9                   | 30                  | 2203                | 2205                |  -2                 | 2339                | 2331                |   8                 | EV                  | 5311                | N722EV              | LGA                 | BGR                 |  61                 |  378                | 22                  |  5                  | 2013-09-30 22:00:00 |\n",
       "| 2013                | 9                   | 30                  | 2207                | 2140                |  27                 | 2257                | 2250                |   7                 | MQ                  | 3660                | N532MQ              | LGA                 | BNA                 |  97                 |  764                | 21                  | 40                  | 2013-09-30 21:00:00 |\n",
       "| 2013                | 9                   | 30                  | 2211                | 2059                |  72                 | 2339                | 2242                |  57                 | EV                  | 4672                | N12145              | EWR                 | STL                 | 120                 |  872                | 20                  | 59                  | 2013-09-30 20:00:00 |\n",
       "| 2013                | 9                   | 30                  | 2231                | 2245                | -14                 | 2335                | 2356                | -21                 | B6                  |  108                | N193JB              | JFK                 | PWM                 |  48                 |  273                | 22                  | 45                  | 2013-09-30 22:00:00 |\n",
       "| 2013                | 9                   | 30                  | 2233                | 2113                |  80                 |  112                |   30                |  42                 | UA                  |  471                | N578UA              | EWR                 | SFO                 | 318                 | 2565                | 21                  | 13                  | 2013-09-30 21:00:00 |\n",
       "| 2013                | 9                   | 30                  | 2235                | 2001                | 154                 |   59                | 2249                | 130                 | B6                  | 1083                | N804JB              | JFK                 | MCO                 | 123                 |  944                | 20                  |  1                  | 2013-09-30 20:00:00 |\n",
       "| 2013                | 9                   | 30                  | 2237                | 2245                |  -8                 | 2345                | 2353                |  -8                 | B6                  |  234                | N318JB              | JFK                 | BTV                 |  43                 |  266                | 22                  | 45                  | 2013-09-30 22:00:00 |\n",
       "| 2013                | 9                   | 30                  | 2240                | 2245                |  -5                 | 2334                | 2351                | -17                 | B6                  | 1816                | N354JB              | JFK                 | SYR                 |  41                 |  209                | 22                  | 45                  | 2013-09-30 22:00:00 |\n",
       "| 2013                | 9                   | 30                  | 2240                | 2250                | -10                 | 2347                |    7                | -20                 | B6                  | 2002                | N281JB              | JFK                 | BUF                 |  52                 |  301                | 22                  | 50                  | 2013-09-30 22:00:00 |\n",
       "| 2013                | 9                   | 30                  | 2241                | 2246                |  -5                 | 2345                |    1                | -16                 | B6                  |  486                | N346JB              | JFK                 | ROC                 |  47                 |  264                | 22                  | 46                  | 2013-09-30 22:00:00 |\n",
       "| 2013                | 9                   | 30                  | 2307                | 2255                |  12                 | 2359                | 2358                |   1                 | B6                  |  718                | N565JB              | JFK                 | BOS                 |  33                 |  187                | 22                  | 55                  | 2013-09-30 22:00:00 |\n",
       "| 2013                | 9                   | 30                  | 2349                | 2359                | -10                 |  325                |  350                | -25                 | B6                  |  745                | N516JB              | JFK                 | PSE                 | 196                 | 1617                | 23                  | 59                  | 2013-09-30 23:00:00 |\n",
       "\n"
      ],
      "text/plain": [
       "       year month day dep_time sched_dep_time dep_delay arr_time sched_arr_time\n",
       "1      2013 1     1   NA       1630           NA        NA       1815          \n",
       "2      2013 1     1   NA       1935           NA        NA       2240          \n",
       "3      2013 1     1   NA       1500           NA        NA       1825          \n",
       "4      2013 1     1   NA        600           NA        NA        901          \n",
       "5      2013 1     2   NA       1540           NA        NA       1747          \n",
       "6      2013 1     2   NA       1620           NA        NA       1746          \n",
       "7      2013 1     2   NA       1355           NA        NA       1459          \n",
       "8      2013 1     2   NA       1420           NA        NA       1644          \n",
       "9      2013 1     2   NA       1321           NA        NA       1536          \n",
       "10     2013 1     2   NA       1545           NA        NA       1910          \n",
       "11     2013 1     2   NA       1330           NA        NA       1640          \n",
       "12     2013 1     2   NA       1601           NA        NA       1735          \n",
       "13     2013 1     3   NA        645           NA        NA        757          \n",
       "14     2013 1     3   NA       1030           NA        NA       1210          \n",
       "15     2013 1     3   NA       1125           NA        NA       1305          \n",
       "16     2013 1     3   NA        835           NA        NA       1150          \n",
       "17     2013 1     3   NA        920           NA        NA       1245          \n",
       "18     2013 1     3   NA       1020           NA        NA       1330          \n",
       "19     2013 1     3   NA       1220           NA        NA       1415          \n",
       "20     2013 1     3   NA        630           NA        NA        830          \n",
       "21     2013 1     3   NA        857           NA        NA       1209          \n",
       "22     2013 1     3   NA        645           NA        NA        952          \n",
       "23     2013 1     4   NA        845           NA        NA       1015          \n",
       "24     2013 1     4   NA       1830           NA        NA       2044          \n",
       "25     2013 1     4   NA        920           NA        NA       1245          \n",
       "26     2013 1     4   NA       1245           NA        NA       1550          \n",
       "27     2013 1     4   NA       1430           NA        NA       1735          \n",
       "28     2013 1     4   NA       1530           NA        NA       1725          \n",
       "29     2013 1     5   NA       1400           NA        NA       1518          \n",
       "30     2013 1     5   NA        840           NA        NA       1001          \n",
       "⋮      ⋮    ⋮     ⋮   ⋮        ⋮              ⋮         ⋮        ⋮             \n",
       "336747 2013 9     30  2115     2110             5       2246     2255          \n",
       "336748 2013 9     30  2116     2124            -8       2317     2337          \n",
       "336749 2013 9     30  2119     2005            74       2310     2212          \n",
       "336750 2013 9     30  2119     2120            -1       2330     2354          \n",
       "336751 2013 9     30  2121     2100            21       2349       14          \n",
       "336752 2013 9     30  2122     2127            -5       2226     2237          \n",
       "336753 2013 9     30  2123     2125            -2       2223     2247          \n",
       "336754 2013 9     30  2127     2129            -2       2314     2323          \n",
       "336755 2013 9     30  2128     2130            -2       2328     2359          \n",
       "336756 2013 9     30  2129     2059            30       2230     2232          \n",
       "336757 2013 9     30  2131     2140            -9       2225     2255          \n",
       "336758 2013 9     30  2140     2140             0         10       40          \n",
       "336759 2013 9     30  2142     2129            13       2250     2239          \n",
       "336760 2013 9     30  2145     2145             0        115      140          \n",
       "336761 2013 9     30  2147     2137            10         30       27          \n",
       "336762 2013 9     30  2149     2156            -7       2245     2308          \n",
       "336763 2013 9     30  2150     2159            -9       2250     2306          \n",
       "336764 2013 9     30  2159     1845           194       2344     2030          \n",
       "336765 2013 9     30  2203     2205            -2       2339     2331          \n",
       "336766 2013 9     30  2207     2140            27       2257     2250          \n",
       "336767 2013 9     30  2211     2059            72       2339     2242          \n",
       "336768 2013 9     30  2231     2245           -14       2335     2356          \n",
       "336769 2013 9     30  2233     2113            80        112       30          \n",
       "336770 2013 9     30  2235     2001           154         59     2249          \n",
       "336771 2013 9     30  2237     2245            -8       2345     2353          \n",
       "336772 2013 9     30  2240     2245            -5       2334     2351          \n",
       "336773 2013 9     30  2240     2250           -10       2347        7          \n",
       "336774 2013 9     30  2241     2246            -5       2345        1          \n",
       "336775 2013 9     30  2307     2255            12       2359     2358          \n",
       "336776 2013 9     30  2349     2359           -10        325      350          \n",
       "       arr_delay carrier flight tailnum origin dest air_time distance hour\n",
       "1      NA        EV      4308   N18120  EWR    RDU  NA        416     16  \n",
       "2      NA        AA       791   N3EHAA  LGA    DFW  NA       1389     19  \n",
       "3      NA        AA      1925   N3EVAA  LGA    MIA  NA       1096     15  \n",
       "4      NA        B6       125   N618JB  JFK    FLL  NA       1069      6  \n",
       "5      NA        EV      4352   N10575  EWR    CVG  NA        569     15  \n",
       "6      NA        EV      4406   N13949  EWR    PIT  NA        319     16  \n",
       "7      NA        EV      4434   N10575  EWR    MHT  NA        209     13  \n",
       "8      NA        EV      4935   N759EV  EWR    ATL  NA        746     14  \n",
       "9      NA        EV      3849   N13550  EWR    IND  NA        645     13  \n",
       "10     NA        AA       133   NA      JFK    LAX  NA       2475     15  \n",
       "11     NA        AA       753   N3FBAA  LGA    DFW  NA       1389     13  \n",
       "12     NA        UA       623   NA      EWR    ORD  NA        719     16  \n",
       "13     NA        EV      4241   N14972  EWR    DCA  NA        199      6  \n",
       "14     NA        AA       321   N487AA  LGA    ORD  NA        733     10  \n",
       "15     NA        AA       327   N3AMAA  LGA    ORD  NA        733     11  \n",
       "16     NA        AA       717   N3GXAA  LGA    DFW  NA       1389      8  \n",
       "17     NA        AA       721   N201AA  LGA    DFW  NA       1389      9  \n",
       "18     NA        AA       731   N3FVAA  LGA    DFW  NA       1389     10  \n",
       "19     NA        AA      1757   N573AA  LGA    STL  NA        888     12  \n",
       "20     NA        MQ      4599   N500MQ  LGA    MSP  NA       1020      6  \n",
       "21     NA        UA       714   NA      EWR    MIA  NA       1085      8  \n",
       "22     NA        UA       719   NA      EWR    DFW  NA       1372      6  \n",
       "23     NA        9E      3405   NA      JFK    DCA  NA        213      8  \n",
       "24     NA        9E      3716   NA      EWR    DTW  NA        488     18  \n",
       "25     NA        AA       721   N541AA  LGA    DFW  NA       1389      9  \n",
       "26     NA        AA       745   N3BGAA  LGA    DFW  NA       1389     12  \n",
       "27     NA        AA       883   N200AA  EWR    DFW  NA       1372     14  \n",
       "28     NA        AA      2223   N569AA  LGA    STL  NA        888     15  \n",
       "29     NA        EV      5712   N827AS  JFK    IAD  NA        228     14  \n",
       "30     NA        9E      3422   NA      JFK    BOS  NA        187      8  \n",
       "⋮      ⋮         ⋮       ⋮      ⋮       ⋮      ⋮    ⋮        ⋮        ⋮   \n",
       "336747  -9       MQ      3603   N519MQ  LGA    DTW   72       502     21  \n",
       "336748 -20       EV      4682   N14542  EWR    SDF   94       642     21  \n",
       "336749  58       EV      4321   N17984  EWR    MCI  147      1092     20  \n",
       "336750 -24       B6      1677   N358JB  JFK    JAX  113       828     21  \n",
       "336751 -25       DL      2363   N193DN  JFK    LAX  296      2475     21  \n",
       "336752 -11       EV      4372   N14902  EWR    DCA   35       199     21  \n",
       "336753 -24       EV      5489   N712EV  LGA    CHO   45       305     21  \n",
       "336754  -9       EV      3833   N16546  EWR    CLT   72       529     21  \n",
       "336755 -31       B6        97   N807JB  JFK    DEN  213      1626     21  \n",
       "336756  -2       EV      5048   N751EV  LGA    RIC   45       292     20  \n",
       "336757 -30       MQ      3621   N807MQ  JFK    DCA   36       213     21  \n",
       "336758 -30       AA       185   N335AA  JFK    LAX  298      2475     21  \n",
       "336759  11       EV      4509   N12957  EWR    PWM   47       284     21  \n",
       "336760 -25       B6      1103   N633JB  JFK    SJU  192      1598     21  \n",
       "336761   3       B6      1371   N627JB  LGA    FLL  139      1076     21  \n",
       "336762 -23       UA       523   N813UA  EWR    BOS   37       200     21  \n",
       "336763 -16       EV      3842   N10575  EWR    MHT   39       209     21  \n",
       "336764 194       9E      3320   N906XJ  JFK    BUF   50       301     18  \n",
       "336765   8       EV      5311   N722EV  LGA    BGR   61       378     22  \n",
       "336766   7       MQ      3660   N532MQ  LGA    BNA   97       764     21  \n",
       "336767  57       EV      4672   N12145  EWR    STL  120       872     20  \n",
       "336768 -21       B6       108   N193JB  JFK    PWM   48       273     22  \n",
       "336769  42       UA       471   N578UA  EWR    SFO  318      2565     21  \n",
       "336770 130       B6      1083   N804JB  JFK    MCO  123       944     20  \n",
       "336771  -8       B6       234   N318JB  JFK    BTV   43       266     22  \n",
       "336772 -17       B6      1816   N354JB  JFK    SYR   41       209     22  \n",
       "336773 -20       B6      2002   N281JB  JFK    BUF   52       301     22  \n",
       "336774 -16       B6       486   N346JB  JFK    ROC   47       264     22  \n",
       "336775   1       B6       718   N565JB  JFK    BOS   33       187     22  \n",
       "336776 -25       B6       745   N516JB  JFK    PSE  196      1617     23  \n",
       "       minute time_hour          \n",
       "1      30     2013-01-01 16:00:00\n",
       "2      35     2013-01-01 19:00:00\n",
       "3       0     2013-01-01 15:00:00\n",
       "4       0     2013-01-01 06:00:00\n",
       "5      40     2013-01-02 15:00:00\n",
       "6      20     2013-01-02 16:00:00\n",
       "7      55     2013-01-02 13:00:00\n",
       "8      20     2013-01-02 14:00:00\n",
       "9      21     2013-01-02 13:00:00\n",
       "10     45     2013-01-02 15:00:00\n",
       "11     30     2013-01-02 13:00:00\n",
       "12      1     2013-01-02 16:00:00\n",
       "13     45     2013-01-03 06:00:00\n",
       "14     30     2013-01-03 10:00:00\n",
       "15     25     2013-01-03 11:00:00\n",
       "16     35     2013-01-03 08:00:00\n",
       "17     20     2013-01-03 09:00:00\n",
       "18     20     2013-01-03 10:00:00\n",
       "19     20     2013-01-03 12:00:00\n",
       "20     30     2013-01-03 06:00:00\n",
       "21     57     2013-01-03 08:00:00\n",
       "22     45     2013-01-03 06:00:00\n",
       "23     45     2013-01-04 08:00:00\n",
       "24     30     2013-01-04 18:00:00\n",
       "25     20     2013-01-04 09:00:00\n",
       "26     45     2013-01-04 12:00:00\n",
       "27     30     2013-01-04 14:00:00\n",
       "28     30     2013-01-04 15:00:00\n",
       "29      0     2013-01-05 14:00:00\n",
       "30     40     2013-01-05 08:00:00\n",
       "⋮      ⋮      ⋮                  \n",
       "336747 10     2013-09-30 21:00:00\n",
       "336748 24     2013-09-30 21:00:00\n",
       "336749  5     2013-09-30 20:00:00\n",
       "336750 20     2013-09-30 21:00:00\n",
       "336751  0     2013-09-30 21:00:00\n",
       "336752 27     2013-09-30 21:00:00\n",
       "336753 25     2013-09-30 21:00:00\n",
       "336754 29     2013-09-30 21:00:00\n",
       "336755 30     2013-09-30 21:00:00\n",
       "336756 59     2013-09-30 20:00:00\n",
       "336757 40     2013-09-30 21:00:00\n",
       "336758 40     2013-09-30 21:00:00\n",
       "336759 29     2013-09-30 21:00:00\n",
       "336760 45     2013-09-30 21:00:00\n",
       "336761 37     2013-09-30 21:00:00\n",
       "336762 56     2013-09-30 21:00:00\n",
       "336763 59     2013-09-30 21:00:00\n",
       "336764 45     2013-09-30 18:00:00\n",
       "336765  5     2013-09-30 22:00:00\n",
       "336766 40     2013-09-30 21:00:00\n",
       "336767 59     2013-09-30 20:00:00\n",
       "336768 45     2013-09-30 22:00:00\n",
       "336769 13     2013-09-30 21:00:00\n",
       "336770  1     2013-09-30 20:00:00\n",
       "336771 45     2013-09-30 22:00:00\n",
       "336772 45     2013-09-30 22:00:00\n",
       "336773 50     2013-09-30 22:00:00\n",
       "336774 46     2013-09-30 22:00:00\n",
       "336775 55     2013-09-30 22:00:00\n",
       "336776 59     2013-09-30 23:00:00"
      ]
     },
     "metadata": {},
     "output_type": "display_data"
    }
   ],
   "source": [
    "flights %>% arrange(desc(is.na(dep_delay)))"
   ]
  },
  {
   "cell_type": "markdown",
   "metadata": {},
   "source": [
    "2. Classifique os voos para encontrar os voos que chegaram mais atrasados. Encontre os voos que saíram mais cedo."
   ]
  },
  {
   "cell_type": "code",
   "execution_count": 48,
   "metadata": {
    "scrolled": true
   },
   "outputs": [
    {
     "data": {
      "text/html": [
       "<table>\n",
       "<thead><tr><th scope=col>year</th><th scope=col>month</th><th scope=col>day</th><th scope=col>dep_time</th><th scope=col>sched_dep_time</th><th scope=col>dep_delay</th><th scope=col>arr_time</th><th scope=col>sched_arr_time</th><th scope=col>arr_delay</th><th scope=col>carrier</th><th scope=col>flight</th><th scope=col>tailnum</th><th scope=col>origin</th><th scope=col>dest</th><th scope=col>air_time</th><th scope=col>distance</th><th scope=col>hour</th><th scope=col>minute</th><th scope=col>time_hour</th></tr></thead>\n",
       "<tbody>\n",
       "\t<tr><td>2013               </td><td>1                  </td><td> 9                 </td><td> 641               </td><td> 900               </td><td>1301               </td><td>1242               </td><td>1530               </td><td>1272               </td><td>HA                 </td><td>  51               </td><td>N384HA             </td><td>JFK                </td><td>HNL                </td><td>640                </td><td>4983               </td><td> 9                 </td><td> 0                 </td><td>2013-01-09 09:00:00</td></tr>\n",
       "\t<tr><td>2013               </td><td>6                  </td><td>15                 </td><td>1432               </td><td>1935               </td><td>1137               </td><td>1607               </td><td>2120               </td><td>1127               </td><td>MQ                 </td><td>3535               </td><td>N504MQ             </td><td>JFK                </td><td>CMH                </td><td> 74                </td><td> 483               </td><td>19                 </td><td>35                 </td><td>2013-06-15 19:00:00</td></tr>\n",
       "</tbody>\n",
       "</table>\n"
      ],
      "text/latex": [
       "\\begin{tabular}{r|lllllllllllllllllll}\n",
       " year & month & day & dep\\_time & sched\\_dep\\_time & dep\\_delay & arr\\_time & sched\\_arr\\_time & arr\\_delay & carrier & flight & tailnum & origin & dest & air\\_time & distance & hour & minute & time\\_hour\\\\\n",
       "\\hline\n",
       "\t 2013                & 1                   &  9                  &  641                &  900                & 1301                & 1242                & 1530                & 1272                & HA                  &   51                & N384HA              & JFK                 & HNL                 & 640                 & 4983                &  9                  &  0                  & 2013-01-09 09:00:00\\\\\n",
       "\t 2013                & 6                   & 15                  & 1432                & 1935                & 1137                & 1607                & 2120                & 1127                & MQ                  & 3535                & N504MQ              & JFK                 & CMH                 &  74                 &  483                & 19                  & 35                  & 2013-06-15 19:00:00\\\\\n",
       "\\end{tabular}\n"
      ],
      "text/markdown": [
       "\n",
       "| year | month | day | dep_time | sched_dep_time | dep_delay | arr_time | sched_arr_time | arr_delay | carrier | flight | tailnum | origin | dest | air_time | distance | hour | minute | time_hour |\n",
       "|---|---|---|---|---|---|---|---|---|---|---|---|---|---|---|---|---|---|---|\n",
       "| 2013                | 1                   |  9                  |  641                |  900                | 1301                | 1242                | 1530                | 1272                | HA                  |   51                | N384HA              | JFK                 | HNL                 | 640                 | 4983                |  9                  |  0                  | 2013-01-09 09:00:00 |\n",
       "| 2013                | 6                   | 15                  | 1432                | 1935                | 1137                | 1607                | 2120                | 1127                | MQ                  | 3535                | N504MQ              | JFK                 | CMH                 |  74                 |  483                | 19                  | 35                  | 2013-06-15 19:00:00 |\n",
       "\n"
      ],
      "text/plain": [
       "  year month day dep_time sched_dep_time dep_delay arr_time sched_arr_time\n",
       "1 2013 1      9   641      900           1301      1242     1530          \n",
       "2 2013 6     15  1432     1935           1137      1607     2120          \n",
       "  arr_delay carrier flight tailnum origin dest air_time distance hour minute\n",
       "1 1272      HA        51   N384HA  JFK    HNL  640      4983      9    0    \n",
       "2 1127      MQ      3535   N504MQ  JFK    CMH   74       483     19   35    \n",
       "  time_hour          \n",
       "1 2013-01-09 09:00:00\n",
       "2 2013-06-15 19:00:00"
      ]
     },
     "metadata": {},
     "output_type": "display_data"
    }
   ],
   "source": [
    "flights %>% arrange(desc(arr_delay)) %>% head(2)"
   ]
  },
  {
   "cell_type": "code",
   "execution_count": 50,
   "metadata": {},
   "outputs": [
    {
     "data": {
      "text/html": [
       "<table>\n",
       "<thead><tr><th scope=col>year</th><th scope=col>month</th><th scope=col>day</th><th scope=col>dep_time</th><th scope=col>sched_dep_time</th><th scope=col>dep_delay</th><th scope=col>arr_time</th><th scope=col>sched_arr_time</th><th scope=col>arr_delay</th><th scope=col>carrier</th><th scope=col>flight</th><th scope=col>tailnum</th><th scope=col>origin</th><th scope=col>dest</th><th scope=col>air_time</th><th scope=col>distance</th><th scope=col>hour</th><th scope=col>minute</th><th scope=col>time_hour</th></tr></thead>\n",
       "<tbody>\n",
       "\t<tr><td>2013               </td><td>12                 </td><td>7                  </td><td>2040               </td><td>2123               </td><td>-43                </td><td>  40               </td><td>2352               </td><td> 48                </td><td>B6                 </td><td>  97               </td><td>N592JB             </td><td>JFK                </td><td>DEN                </td><td>265                </td><td>1626               </td><td>21                 </td><td>23                 </td><td>2013-12-07 21:00:00</td></tr>\n",
       "\t<tr><td>2013               </td><td> 2                 </td><td>3                  </td><td>2022               </td><td>2055               </td><td>-33                </td><td>2240               </td><td>2338               </td><td>-58                </td><td>DL                 </td><td>1715               </td><td>N612DL             </td><td>LGA                </td><td>MSY                </td><td>162                </td><td>1183               </td><td>20                 </td><td>55                 </td><td>2013-02-03 20:00:00</td></tr>\n",
       "</tbody>\n",
       "</table>\n"
      ],
      "text/latex": [
       "\\begin{tabular}{r|lllllllllllllllllll}\n",
       " year & month & day & dep\\_time & sched\\_dep\\_time & dep\\_delay & arr\\_time & sched\\_arr\\_time & arr\\_delay & carrier & flight & tailnum & origin & dest & air\\_time & distance & hour & minute & time\\_hour\\\\\n",
       "\\hline\n",
       "\t 2013                & 12                  & 7                   & 2040                & 2123                & -43                 &   40                & 2352                &  48                 & B6                  &   97                & N592JB              & JFK                 & DEN                 & 265                 & 1626                & 21                  & 23                  & 2013-12-07 21:00:00\\\\\n",
       "\t 2013                &  2                  & 3                   & 2022                & 2055                & -33                 & 2240                & 2338                & -58                 & DL                  & 1715                & N612DL              & LGA                 & MSY                 & 162                 & 1183                & 20                  & 55                  & 2013-02-03 20:00:00\\\\\n",
       "\\end{tabular}\n"
      ],
      "text/markdown": [
       "\n",
       "| year | month | day | dep_time | sched_dep_time | dep_delay | arr_time | sched_arr_time | arr_delay | carrier | flight | tailnum | origin | dest | air_time | distance | hour | minute | time_hour |\n",
       "|---|---|---|---|---|---|---|---|---|---|---|---|---|---|---|---|---|---|---|\n",
       "| 2013                | 12                  | 7                   | 2040                | 2123                | -43                 |   40                | 2352                |  48                 | B6                  |   97                | N592JB              | JFK                 | DEN                 | 265                 | 1626                | 21                  | 23                  | 2013-12-07 21:00:00 |\n",
       "| 2013                |  2                  | 3                   | 2022                | 2055                | -33                 | 2240                | 2338                | -58                 | DL                  | 1715                | N612DL              | LGA                 | MSY                 | 162                 | 1183                | 20                  | 55                  | 2013-02-03 20:00:00 |\n",
       "\n"
      ],
      "text/plain": [
       "  year month day dep_time sched_dep_time dep_delay arr_time sched_arr_time\n",
       "1 2013 12    7   2040     2123           -43         40     2352          \n",
       "2 2013  2    3   2022     2055           -33       2240     2338          \n",
       "  arr_delay carrier flight tailnum origin dest air_time distance hour minute\n",
       "1  48       B6        97   N592JB  JFK    DEN  265      1626     21   23    \n",
       "2 -58       DL      1715   N612DL  LGA    MSY  162      1183     20   55    \n",
       "  time_hour          \n",
       "1 2013-12-07 21:00:00\n",
       "2 2013-02-03 20:00:00"
      ]
     },
     "metadata": {},
     "output_type": "display_data"
    }
   ],
   "source": [
    "flights %>% arrange(dep_delay) %>% head(2)"
   ]
  },
  {
   "cell_type": "markdown",
   "metadata": {},
   "source": [
    "3. Quais voos viajaram mais tempo? Qual viajou menos tempo?"
   ]
  },
  {
   "cell_type": "code",
   "execution_count": 52,
   "metadata": {},
   "outputs": [
    {
     "data": {
      "text/html": [
       "<table>\n",
       "<thead><tr><th scope=col>year</th><th scope=col>month</th><th scope=col>day</th><th scope=col>dep_time</th><th scope=col>sched_dep_time</th><th scope=col>dep_delay</th><th scope=col>arr_time</th><th scope=col>sched_arr_time</th><th scope=col>arr_delay</th><th scope=col>carrier</th><th scope=col>flight</th><th scope=col>tailnum</th><th scope=col>origin</th><th scope=col>dest</th><th scope=col>air_time</th><th scope=col>distance</th><th scope=col>hour</th><th scope=col>minute</th><th scope=col>time_hour</th></tr></thead>\n",
       "<tbody>\n",
       "\t<tr><td>2013               </td><td>3                  </td><td>17                 </td><td>1337               </td><td>1335               </td><td> 2                 </td><td>1937               </td><td>1836               </td><td>61                 </td><td>UA                 </td><td>15                 </td><td>N77066             </td><td>EWR                </td><td>HNL                </td><td>695                </td><td>4963               </td><td>13                 </td><td>35                 </td><td>2013-03-17 13:00:00</td></tr>\n",
       "\t<tr><td>2013               </td><td>2                  </td><td> 6                 </td><td> 853               </td><td> 900               </td><td>-7                 </td><td>1542               </td><td>1540               </td><td> 2                 </td><td>HA                 </td><td>51                 </td><td>N389HA             </td><td>JFK                </td><td>HNL                </td><td>691                </td><td>4983               </td><td> 9                 </td><td> 0                 </td><td>2013-02-06 09:00:00</td></tr>\n",
       "</tbody>\n",
       "</table>\n"
      ],
      "text/latex": [
       "\\begin{tabular}{r|lllllllllllllllllll}\n",
       " year & month & day & dep\\_time & sched\\_dep\\_time & dep\\_delay & arr\\_time & sched\\_arr\\_time & arr\\_delay & carrier & flight & tailnum & origin & dest & air\\_time & distance & hour & minute & time\\_hour\\\\\n",
       "\\hline\n",
       "\t 2013                & 3                   & 17                  & 1337                & 1335                &  2                  & 1937                & 1836                & 61                  & UA                  & 15                  & N77066              & EWR                 & HNL                 & 695                 & 4963                & 13                  & 35                  & 2013-03-17 13:00:00\\\\\n",
       "\t 2013                & 2                   &  6                  &  853                &  900                & -7                  & 1542                & 1540                &  2                  & HA                  & 51                  & N389HA              & JFK                 & HNL                 & 691                 & 4983                &  9                  &  0                  & 2013-02-06 09:00:00\\\\\n",
       "\\end{tabular}\n"
      ],
      "text/markdown": [
       "\n",
       "| year | month | day | dep_time | sched_dep_time | dep_delay | arr_time | sched_arr_time | arr_delay | carrier | flight | tailnum | origin | dest | air_time | distance | hour | minute | time_hour |\n",
       "|---|---|---|---|---|---|---|---|---|---|---|---|---|---|---|---|---|---|---|\n",
       "| 2013                | 3                   | 17                  | 1337                | 1335                |  2                  | 1937                | 1836                | 61                  | UA                  | 15                  | N77066              | EWR                 | HNL                 | 695                 | 4963                | 13                  | 35                  | 2013-03-17 13:00:00 |\n",
       "| 2013                | 2                   |  6                  |  853                |  900                | -7                  | 1542                | 1540                |  2                  | HA                  | 51                  | N389HA              | JFK                 | HNL                 | 691                 | 4983                |  9                  |  0                  | 2013-02-06 09:00:00 |\n",
       "\n"
      ],
      "text/plain": [
       "  year month day dep_time sched_dep_time dep_delay arr_time sched_arr_time\n",
       "1 2013 3     17  1337     1335            2        1937     1836          \n",
       "2 2013 2      6   853      900           -7        1542     1540          \n",
       "  arr_delay carrier flight tailnum origin dest air_time distance hour minute\n",
       "1 61        UA      15     N77066  EWR    HNL  695      4963     13   35    \n",
       "2  2        HA      51     N389HA  JFK    HNL  691      4983      9    0    \n",
       "  time_hour          \n",
       "1 2013-03-17 13:00:00\n",
       "2 2013-02-06 09:00:00"
      ]
     },
     "metadata": {},
     "output_type": "display_data"
    }
   ],
   "source": [
    "flights %>% arrange(desc(air_time)) %>% head(2)"
   ]
  },
  {
   "cell_type": "code",
   "execution_count": 54,
   "metadata": {},
   "outputs": [
    {
     "data": {
      "text/html": [
       "<table>\n",
       "<thead><tr><th scope=col>year</th><th scope=col>month</th><th scope=col>day</th><th scope=col>dep_time</th><th scope=col>sched_dep_time</th><th scope=col>dep_delay</th><th scope=col>arr_time</th><th scope=col>sched_arr_time</th><th scope=col>arr_delay</th><th scope=col>carrier</th><th scope=col>flight</th><th scope=col>tailnum</th><th scope=col>origin</th><th scope=col>dest</th><th scope=col>air_time</th><th scope=col>distance</th><th scope=col>hour</th><th scope=col>minute</th><th scope=col>time_hour</th></tr></thead>\n",
       "<tbody>\n",
       "\t<tr><td>2013               </td><td>3                  </td><td>31                 </td><td>1354               </td><td>1401               </td><td>-7                 </td><td>1806               </td><td>1701               </td><td>65                 </td><td>UA                 </td><td>800                </td><td>N519UA             </td><td>EWR                </td><td>IAH                </td><td>284                </td><td>1400               </td><td>14                 </td><td> 1                 </td><td>2013-03-31 14:00:00</td></tr>\n",
       "\t<tr><td>2013               </td><td>2                  </td><td>11                 </td><td>1248               </td><td>1251               </td><td>-3                 </td><td>1655               </td><td>1602               </td><td>53                 </td><td>UA                 </td><td>428                </td><td>N466UA             </td><td>LGA                </td><td>IAH                </td><td>279                </td><td>1416               </td><td>12                 </td><td>51                 </td><td>2013-02-11 12:00:00</td></tr>\n",
       "</tbody>\n",
       "</table>\n"
      ],
      "text/latex": [
       "\\begin{tabular}{r|lllllllllllllllllll}\n",
       " year & month & day & dep\\_time & sched\\_dep\\_time & dep\\_delay & arr\\_time & sched\\_arr\\_time & arr\\_delay & carrier & flight & tailnum & origin & dest & air\\_time & distance & hour & minute & time\\_hour\\\\\n",
       "\\hline\n",
       "\t 2013                & 3                   & 31                  & 1354                & 1401                & -7                  & 1806                & 1701                & 65                  & UA                  & 800                 & N519UA              & EWR                 & IAH                 & 284                 & 1400                & 14                  &  1                  & 2013-03-31 14:00:00\\\\\n",
       "\t 2013                & 2                   & 11                  & 1248                & 1251                & -3                  & 1655                & 1602                & 53                  & UA                  & 428                 & N466UA              & LGA                 & IAH                 & 279                 & 1416                & 12                  & 51                  & 2013-02-11 12:00:00\\\\\n",
       "\\end{tabular}\n"
      ],
      "text/markdown": [
       "\n",
       "| year | month | day | dep_time | sched_dep_time | dep_delay | arr_time | sched_arr_time | arr_delay | carrier | flight | tailnum | origin | dest | air_time | distance | hour | minute | time_hour |\n",
       "|---|---|---|---|---|---|---|---|---|---|---|---|---|---|---|---|---|---|---|\n",
       "| 2013                | 3                   | 31                  | 1354                | 1401                | -7                  | 1806                | 1701                | 65                  | UA                  | 800                 | N519UA              | EWR                 | IAH                 | 284                 | 1400                | 14                  |  1                  | 2013-03-31 14:00:00 |\n",
       "| 2013                | 2                   | 11                  | 1248                | 1251                | -3                  | 1655                | 1602                | 53                  | UA                  | 428                 | N466UA              | LGA                 | IAH                 | 279                 | 1416                | 12                  | 51                  | 2013-02-11 12:00:00 |\n",
       "\n"
      ],
      "text/plain": [
       "  year month day dep_time sched_dep_time dep_delay arr_time sched_arr_time\n",
       "1 2013 3     31  1354     1401           -7        1806     1701          \n",
       "2 2013 2     11  1248     1251           -3        1655     1602          \n",
       "  arr_delay carrier flight tailnum origin dest air_time distance hour minute\n",
       "1 65        UA      800    N519UA  EWR    IAH  284      1400     14    1    \n",
       "2 53        UA      428    N466UA  LGA    IAH  279      1416     12   51    \n",
       "  time_hour          \n",
       "1 2013-03-31 14:00:00\n",
       "2 2013-02-11 12:00:00"
      ]
     },
     "metadata": {},
     "output_type": "display_data"
    }
   ],
   "source": [
    "flights %>% filter(dest == 'IAH') %>% arrange(desc(air_time)) %>% head(2)"
   ]
  },
  {
   "cell_type": "markdown",
   "metadata": {},
   "source": [
    "## Selecione colunas com `select()`"
   ]
  },
  {
   "cell_type": "code",
   "execution_count": 57,
   "metadata": {},
   "outputs": [
    {
     "data": {
      "text/html": [
       "<ol class=list-inline>\n",
       "\t<li>'year'</li>\n",
       "\t<li>'month'</li>\n",
       "\t<li>'day'</li>\n",
       "\t<li>'dep_time'</li>\n",
       "\t<li>'sched_dep_time'</li>\n",
       "\t<li>'dep_delay'</li>\n",
       "\t<li>'arr_time'</li>\n",
       "\t<li>'sched_arr_time'</li>\n",
       "\t<li>'arr_delay'</li>\n",
       "\t<li>'carrier'</li>\n",
       "\t<li>'flight'</li>\n",
       "\t<li>'tailnum'</li>\n",
       "\t<li>'origin'</li>\n",
       "\t<li>'dest'</li>\n",
       "\t<li>'air_time'</li>\n",
       "\t<li>'distance'</li>\n",
       "\t<li>'hour'</li>\n",
       "\t<li>'minute'</li>\n",
       "\t<li>'time_hour'</li>\n",
       "</ol>\n"
      ],
      "text/latex": [
       "\\begin{enumerate*}\n",
       "\\item 'year'\n",
       "\\item 'month'\n",
       "\\item 'day'\n",
       "\\item 'dep\\_time'\n",
       "\\item 'sched\\_dep\\_time'\n",
       "\\item 'dep\\_delay'\n",
       "\\item 'arr\\_time'\n",
       "\\item 'sched\\_arr\\_time'\n",
       "\\item 'arr\\_delay'\n",
       "\\item 'carrier'\n",
       "\\item 'flight'\n",
       "\\item 'tailnum'\n",
       "\\item 'origin'\n",
       "\\item 'dest'\n",
       "\\item 'air\\_time'\n",
       "\\item 'distance'\n",
       "\\item 'hour'\n",
       "\\item 'minute'\n",
       "\\item 'time\\_hour'\n",
       "\\end{enumerate*}\n"
      ],
      "text/markdown": [
       "1. 'year'\n",
       "2. 'month'\n",
       "3. 'day'\n",
       "4. 'dep_time'\n",
       "5. 'sched_dep_time'\n",
       "6. 'dep_delay'\n",
       "7. 'arr_time'\n",
       "8. 'sched_arr_time'\n",
       "9. 'arr_delay'\n",
       "10. 'carrier'\n",
       "11. 'flight'\n",
       "12. 'tailnum'\n",
       "13. 'origin'\n",
       "14. 'dest'\n",
       "15. 'air_time'\n",
       "16. 'distance'\n",
       "17. 'hour'\n",
       "18. 'minute'\n",
       "19. 'time_hour'\n",
       "\n",
       "\n"
      ],
      "text/plain": [
       " [1] \"year\"           \"month\"          \"day\"            \"dep_time\"      \n",
       " [5] \"sched_dep_time\" \"dep_delay\"      \"arr_time\"       \"sched_arr_time\"\n",
       " [9] \"arr_delay\"      \"carrier\"        \"flight\"         \"tailnum\"       \n",
       "[13] \"origin\"         \"dest\"           \"air_time\"       \"distance\"      \n",
       "[17] \"hour\"           \"minute\"         \"time_hour\"     "
      ]
     },
     "metadata": {},
     "output_type": "display_data"
    }
   ],
   "source": [
    "colnames(flights)"
   ]
  },
  {
   "cell_type": "code",
   "execution_count": 56,
   "metadata": {},
   "outputs": [
    {
     "data": {
      "text/html": [
       "<table>\n",
       "<thead><tr><th scope=col>year</th><th scope=col>month</th><th scope=col>day</th><th scope=col>dep_time</th><th scope=col>arr_time</th></tr></thead>\n",
       "<tbody>\n",
       "\t<tr><td>2013</td><td>1   </td><td>1   </td><td>517 </td><td> 830</td></tr>\n",
       "\t<tr><td>2013</td><td>1   </td><td>1   </td><td>533 </td><td> 850</td></tr>\n",
       "\t<tr><td>2013</td><td>1   </td><td>1   </td><td>542 </td><td> 923</td></tr>\n",
       "\t<tr><td>2013</td><td>1   </td><td>1   </td><td>544 </td><td>1004</td></tr>\n",
       "</tbody>\n",
       "</table>\n"
      ],
      "text/latex": [
       "\\begin{tabular}{r|lllll}\n",
       " year & month & day & dep\\_time & arr\\_time\\\\\n",
       "\\hline\n",
       "\t 2013 & 1    & 1    & 517  &  830\\\\\n",
       "\t 2013 & 1    & 1    & 533  &  850\\\\\n",
       "\t 2013 & 1    & 1    & 542  &  923\\\\\n",
       "\t 2013 & 1    & 1    & 544  & 1004\\\\\n",
       "\\end{tabular}\n"
      ],
      "text/markdown": [
       "\n",
       "| year | month | day | dep_time | arr_time |\n",
       "|---|---|---|---|---|\n",
       "| 2013 | 1    | 1    | 517  |  830 |\n",
       "| 2013 | 1    | 1    | 533  |  850 |\n",
       "| 2013 | 1    | 1    | 542  |  923 |\n",
       "| 2013 | 1    | 1    | 544  | 1004 |\n",
       "\n"
      ],
      "text/plain": [
       "  year month day dep_time arr_time\n",
       "1 2013 1     1   517       830    \n",
       "2 2013 1     1   533       850    \n",
       "3 2013 1     1   542       923    \n",
       "4 2013 1     1   544      1004    "
      ]
     },
     "metadata": {},
     "output_type": "display_data"
    }
   ],
   "source": [
    "select(flights, year, month, day, dep_time, arr_time) %>%  head(4)"
   ]
  },
  {
   "cell_type": "code",
   "execution_count": 60,
   "metadata": {},
   "outputs": [
    {
     "data": {
      "text/html": [
       "<table>\n",
       "<thead><tr><th scope=col>year</th><th scope=col>month</th><th scope=col>day</th><th scope=col>dep_time</th><th scope=col>sched_arr_time</th><th scope=col>carrier</th></tr></thead>\n",
       "<tbody>\n",
       "\t<tr><td>2013</td><td>1   </td><td>1   </td><td>517 </td><td>819 </td><td>UA  </td></tr>\n",
       "\t<tr><td>2013</td><td>1   </td><td>1   </td><td>533 </td><td>830 </td><td>UA  </td></tr>\n",
       "\t<tr><td>2013</td><td>1   </td><td>1   </td><td>542 </td><td>850 </td><td>AA  </td></tr>\n",
       "</tbody>\n",
       "</table>\n"
      ],
      "text/latex": [
       "\\begin{tabular}{r|llllll}\n",
       " year & month & day & dep\\_time & sched\\_arr\\_time & carrier\\\\\n",
       "\\hline\n",
       "\t 2013 & 1    & 1    & 517  & 819  & UA  \\\\\n",
       "\t 2013 & 1    & 1    & 533  & 830  & UA  \\\\\n",
       "\t 2013 & 1    & 1    & 542  & 850  & AA  \\\\\n",
       "\\end{tabular}\n"
      ],
      "text/markdown": [
       "\n",
       "| year | month | day | dep_time | sched_arr_time | carrier |\n",
       "|---|---|---|---|---|---|\n",
       "| 2013 | 1    | 1    | 517  | 819  | UA   |\n",
       "| 2013 | 1    | 1    | 533  | 830  | UA   |\n",
       "| 2013 | 1    | 1    | 542  | 850  | AA   |\n",
       "\n"
      ],
      "text/plain": [
       "  year month day dep_time sched_arr_time carrier\n",
       "1 2013 1     1   517      819            UA     \n",
       "2 2013 1     1   533      830            UA     \n",
       "3 2013 1     1   542      850            AA     "
      ]
     },
     "metadata": {},
     "output_type": "display_data"
    }
   ],
   "source": [
    "select(flights, 1,2,3,4,8,10) %>% head(3)"
   ]
  },
  {
   "cell_type": "code",
   "execution_count": 62,
   "metadata": {},
   "outputs": [
    {
     "data": {
      "text/html": [
       "<table>\n",
       "<thead><tr><th scope=col>dep_time</th><th scope=col>sched_dep_time</th><th scope=col>arr_time</th><th scope=col>sched_arr_time</th><th scope=col>air_time</th></tr></thead>\n",
       "<tbody>\n",
       "\t<tr><td>517</td><td>515</td><td>830</td><td>819</td><td>227</td></tr>\n",
       "\t<tr><td>533</td><td>529</td><td>850</td><td>830</td><td>227</td></tr>\n",
       "</tbody>\n",
       "</table>\n"
      ],
      "text/latex": [
       "\\begin{tabular}{r|lllll}\n",
       " dep\\_time & sched\\_dep\\_time & arr\\_time & sched\\_arr\\_time & air\\_time\\\\\n",
       "\\hline\n",
       "\t 517 & 515 & 830 & 819 & 227\\\\\n",
       "\t 533 & 529 & 850 & 830 & 227\\\\\n",
       "\\end{tabular}\n"
      ],
      "text/markdown": [
       "\n",
       "| dep_time | sched_dep_time | arr_time | sched_arr_time | air_time |\n",
       "|---|---|---|---|---|\n",
       "| 517 | 515 | 830 | 819 | 227 |\n",
       "| 533 | 529 | 850 | 830 | 227 |\n",
       "\n"
      ],
      "text/plain": [
       "  dep_time sched_dep_time arr_time sched_arr_time air_time\n",
       "1 517      515            830      819            227     \n",
       "2 533      529            850      830            227     "
      ]
     },
     "metadata": {},
     "output_type": "display_data"
    }
   ],
   "source": [
    "select(flights, ends_with('time')) %>% head(2)"
   ]
  },
  {
   "cell_type": "markdown",
   "metadata": {},
   "source": [
    "1. Encontre formas de selecionar `dep_time`, `dep_delay`, `arr_time` e `arr_delay`."
   ]
  },
  {
   "cell_type": "code",
   "execution_count": 63,
   "metadata": {},
   "outputs": [
    {
     "data": {
      "text/html": [
       "<table>\n",
       "<thead><tr><th scope=col>dep_time</th><th scope=col>dep_delay</th><th scope=col>arr_time</th><th scope=col>arr_delay</th></tr></thead>\n",
       "<tbody>\n",
       "\t<tr><td>517</td><td>2  </td><td>830</td><td>11 </td></tr>\n",
       "\t<tr><td>533</td><td>4  </td><td>850</td><td>20 </td></tr>\n",
       "</tbody>\n",
       "</table>\n"
      ],
      "text/latex": [
       "\\begin{tabular}{r|llll}\n",
       " dep\\_time & dep\\_delay & arr\\_time & arr\\_delay\\\\\n",
       "\\hline\n",
       "\t 517 & 2   & 830 & 11 \\\\\n",
       "\t 533 & 4   & 850 & 20 \\\\\n",
       "\\end{tabular}\n"
      ],
      "text/markdown": [
       "\n",
       "| dep_time | dep_delay | arr_time | arr_delay |\n",
       "|---|---|---|---|\n",
       "| 517 | 2   | 830 | 11  |\n",
       "| 533 | 4   | 850 | 20  |\n",
       "\n"
      ],
      "text/plain": [
       "  dep_time dep_delay arr_time arr_delay\n",
       "1 517      2         830      11       \n",
       "2 533      4         850      20       "
      ]
     },
     "metadata": {},
     "output_type": "display_data"
    }
   ],
   "source": [
    "select(flights, dep_time, dep_delay, arr_time, arr_delay) %>%  head(2)"
   ]
  },
  {
   "cell_type": "code",
   "execution_count": 66,
   "metadata": {},
   "outputs": [
    {
     "data": {
      "text/html": [
       "<table>\n",
       "<thead><tr><th scope=col>year</th><th scope=col>month</th><th scope=col>day</th><th scope=col>dep_time</th><th scope=col>dep_delay</th><th scope=col>arr_time</th><th scope=col>arr_delay</th></tr></thead>\n",
       "<tbody>\n",
       "\t<tr><td>2013</td><td>1   </td><td>1   </td><td>517 </td><td>2   </td><td>830 </td><td>11  </td></tr>\n",
       "\t<tr><td>2013</td><td>1   </td><td>1   </td><td>533 </td><td>4   </td><td>850 </td><td>20  </td></tr>\n",
       "</tbody>\n",
       "</table>\n"
      ],
      "text/latex": [
       "\\begin{tabular}{r|lllllll}\n",
       " year & month & day & dep\\_time & dep\\_delay & arr\\_time & arr\\_delay\\\\\n",
       "\\hline\n",
       "\t 2013 & 1    & 1    & 517  & 2    & 830  & 11  \\\\\n",
       "\t 2013 & 1    & 1    & 533  & 4    & 850  & 20  \\\\\n",
       "\\end{tabular}\n"
      ],
      "text/markdown": [
       "\n",
       "| year | month | day | dep_time | dep_delay | arr_time | arr_delay |\n",
       "|---|---|---|---|---|---|---|\n",
       "| 2013 | 1    | 1    | 517  | 2    | 830  | 11   |\n",
       "| 2013 | 1    | 1    | 533  | 4    | 850  | 20   |\n",
       "\n"
      ],
      "text/plain": [
       "  year month day dep_time dep_delay arr_time arr_delay\n",
       "1 2013 1     1   517      2         830      11       \n",
       "2 2013 1     1   533      4         850      20       "
      ]
     },
     "metadata": {},
     "output_type": "display_data"
    }
   ],
   "source": [
    "select(flights, year, month, day, starts_with('dep'), starts_with('arr')) %>%  head(2)"
   ]
  },
  {
   "cell_type": "markdown",
   "metadata": {},
   "source": [
    "2. O que acontece se incluir múltiplas vezes a mesma variável na chamada da função `select()`?"
   ]
  },
  {
   "cell_type": "code",
   "execution_count": 71,
   "metadata": {},
   "outputs": [
    {
     "data": {
      "text/html": [
       "<table>\n",
       "<thead><tr><th scope=col>year</th><th scope=col>day</th><th scope=col>arr_time</th></tr></thead>\n",
       "<tbody>\n",
       "\t<tr><td>2013</td><td>1   </td><td>830 </td></tr>\n",
       "\t<tr><td>2013</td><td>1   </td><td>850 </td></tr>\n",
       "</tbody>\n",
       "</table>\n"
      ],
      "text/latex": [
       "\\begin{tabular}{r|lll}\n",
       " year & day & arr\\_time\\\\\n",
       "\\hline\n",
       "\t 2013 & 1    & 830 \\\\\n",
       "\t 2013 & 1    & 850 \\\\\n",
       "\\end{tabular}\n"
      ],
      "text/markdown": [
       "\n",
       "| year | day | arr_time |\n",
       "|---|---|---|\n",
       "| 2013 | 1    | 830  |\n",
       "| 2013 | 1    | 850  |\n",
       "\n"
      ],
      "text/plain": [
       "  year day arr_time\n",
       "1 2013 1   830     \n",
       "2 2013 1   850     "
      ]
     },
     "metadata": {},
     "output_type": "display_data"
    }
   ],
   "source": [
    "select(flights, year, year, day, day,arr_time,arr_time) %>%  head(2)\n",
    "# nao funciona"
   ]
  },
  {
   "cell_type": "markdown",
   "metadata": {},
   "source": [
    "3. O resultado da chamada abaixo vai contra sua intuição? O que fazer para se comportar como o esperado?\n",
    "\n",
    "```{r}\n",
    "select(flights, contains(\"TIME\")) \n",
    "```"
   ]
  },
  {
   "cell_type": "code",
   "execution_count": 77,
   "metadata": {},
   "outputs": [
    {
     "data": {
      "text/html": [
       "<table>\n",
       "<thead><tr><th scope=col>dep_time</th><th scope=col>sched_dep_time</th><th scope=col>arr_time</th><th scope=col>sched_arr_time</th><th scope=col>air_time</th><th scope=col>time_hour</th></tr></thead>\n",
       "<tbody>\n",
       "\t<tr><td>517                </td><td>515                </td><td>830                </td><td>819                </td><td>227                </td><td>2013-01-01 05:00:00</td></tr>\n",
       "\t<tr><td>533                </td><td>529                </td><td>850                </td><td>830                </td><td>227                </td><td>2013-01-01 05:00:00</td></tr>\n",
       "</tbody>\n",
       "</table>\n"
      ],
      "text/latex": [
       "\\begin{tabular}{r|llllll}\n",
       " dep\\_time & sched\\_dep\\_time & arr\\_time & sched\\_arr\\_time & air\\_time & time\\_hour\\\\\n",
       "\\hline\n",
       "\t 517                 & 515                 & 830                 & 819                 & 227                 & 2013-01-01 05:00:00\\\\\n",
       "\t 533                 & 529                 & 850                 & 830                 & 227                 & 2013-01-01 05:00:00\\\\\n",
       "\\end{tabular}\n"
      ],
      "text/markdown": [
       "\n",
       "| dep_time | sched_dep_time | arr_time | sched_arr_time | air_time | time_hour |\n",
       "|---|---|---|---|---|---|\n",
       "| 517                 | 515                 | 830                 | 819                 | 227                 | 2013-01-01 05:00:00 |\n",
       "| 533                 | 529                 | 850                 | 830                 | 227                 | 2013-01-01 05:00:00 |\n",
       "\n"
      ],
      "text/plain": [
       "  dep_time sched_dep_time arr_time sched_arr_time air_time time_hour          \n",
       "1 517      515            830      819            227      2013-01-01 05:00:00\n",
       "2 533      529            850      830            227      2013-01-01 05:00:00"
      ]
     },
     "metadata": {},
     "output_type": "display_data"
    }
   ],
   "source": [
    "select(flights, contains(\"time\",ignore.case = FALSE))  %>% head(2)"
   ]
  },
  {
   "cell_type": "markdown",
   "metadata": {},
   "source": [
    "## Adicione variáveis com `mutate()`"
   ]
  },
  {
   "cell_type": "code",
   "execution_count": 78,
   "metadata": {},
   "outputs": [],
   "source": [
    "flights_sml = select(flights, \n",
    "  year:day, \n",
    "  ends_with(\"delay\"), \n",
    "  distance, \n",
    "  air_time\n",
    ")"
   ]
  },
  {
   "cell_type": "code",
   "execution_count": 79,
   "metadata": {},
   "outputs": [
    {
     "data": {
      "text/html": [
       "<table>\n",
       "<thead><tr><th scope=col>year</th><th scope=col>month</th><th scope=col>day</th><th scope=col>dep_delay</th><th scope=col>arr_delay</th><th scope=col>distance</th><th scope=col>air_time</th></tr></thead>\n",
       "<tbody>\n",
       "\t<tr><td>2013</td><td>1   </td><td>1   </td><td> 2  </td><td> 11 </td><td>1400</td><td>227 </td></tr>\n",
       "\t<tr><td>2013</td><td>1   </td><td>1   </td><td> 4  </td><td> 20 </td><td>1416</td><td>227 </td></tr>\n",
       "\t<tr><td>2013</td><td>1   </td><td>1   </td><td> 2  </td><td> 33 </td><td>1089</td><td>160 </td></tr>\n",
       "\t<tr><td>2013</td><td>1   </td><td>1   </td><td>-1  </td><td>-18 </td><td>1576</td><td>183 </td></tr>\n",
       "\t<tr><td>2013</td><td>1   </td><td>1   </td><td>-6  </td><td>-25 </td><td> 762</td><td>116 </td></tr>\n",
       "\t<tr><td>2013</td><td>1   </td><td>1   </td><td>-4  </td><td> 12 </td><td> 719</td><td>150 </td></tr>\n",
       "</tbody>\n",
       "</table>\n"
      ],
      "text/latex": [
       "\\begin{tabular}{r|lllllll}\n",
       " year & month & day & dep\\_delay & arr\\_delay & distance & air\\_time\\\\\n",
       "\\hline\n",
       "\t 2013 & 1    & 1    &  2   &  11  & 1400 & 227 \\\\\n",
       "\t 2013 & 1    & 1    &  4   &  20  & 1416 & 227 \\\\\n",
       "\t 2013 & 1    & 1    &  2   &  33  & 1089 & 160 \\\\\n",
       "\t 2013 & 1    & 1    & -1   & -18  & 1576 & 183 \\\\\n",
       "\t 2013 & 1    & 1    & -6   & -25  &  762 & 116 \\\\\n",
       "\t 2013 & 1    & 1    & -4   &  12  &  719 & 150 \\\\\n",
       "\\end{tabular}\n"
      ],
      "text/markdown": [
       "\n",
       "| year | month | day | dep_delay | arr_delay | distance | air_time |\n",
       "|---|---|---|---|---|---|---|\n",
       "| 2013 | 1    | 1    |  2   |  11  | 1400 | 227  |\n",
       "| 2013 | 1    | 1    |  4   |  20  | 1416 | 227  |\n",
       "| 2013 | 1    | 1    |  2   |  33  | 1089 | 160  |\n",
       "| 2013 | 1    | 1    | -1   | -18  | 1576 | 183  |\n",
       "| 2013 | 1    | 1    | -6   | -25  |  762 | 116  |\n",
       "| 2013 | 1    | 1    | -4   |  12  |  719 | 150  |\n",
       "\n"
      ],
      "text/plain": [
       "  year month day dep_delay arr_delay distance air_time\n",
       "1 2013 1     1    2         11       1400     227     \n",
       "2 2013 1     1    4         20       1416     227     \n",
       "3 2013 1     1    2         33       1089     160     \n",
       "4 2013 1     1   -1        -18       1576     183     \n",
       "5 2013 1     1   -6        -25        762     116     \n",
       "6 2013 1     1   -4         12        719     150     "
      ]
     },
     "metadata": {},
     "output_type": "display_data"
    }
   ],
   "source": [
    "head(flights_sml)"
   ]
  },
  {
   "cell_type": "markdown",
   "metadata": {},
   "source": [
    "1. Crie a coluna `speed` (lembre que air_time está em minutos)"
   ]
  },
  {
   "cell_type": "code",
   "execution_count": 81,
   "metadata": {},
   "outputs": [
    {
     "data": {
      "text/html": [
       "<table>\n",
       "<thead><tr><th scope=col>year</th><th scope=col>month</th><th scope=col>day</th><th scope=col>dep_delay</th><th scope=col>arr_delay</th><th scope=col>distance</th><th scope=col>air_time</th><th scope=col>speed</th></tr></thead>\n",
       "<tbody>\n",
       "\t<tr><td>2013    </td><td>1       </td><td>1       </td><td> 2      </td><td> 11     </td><td>1400    </td><td>227     </td><td>370.0441</td></tr>\n",
       "\t<tr><td>2013    </td><td>1       </td><td>1       </td><td> 4      </td><td> 20     </td><td>1416    </td><td>227     </td><td>374.2731</td></tr>\n",
       "\t<tr><td>2013    </td><td>1       </td><td>1       </td><td> 2      </td><td> 33     </td><td>1089    </td><td>160     </td><td>408.3750</td></tr>\n",
       "\t<tr><td>2013    </td><td>1       </td><td>1       </td><td>-1      </td><td>-18     </td><td>1576    </td><td>183     </td><td>516.7213</td></tr>\n",
       "\t<tr><td>2013    </td><td>1       </td><td>1       </td><td>-6      </td><td>-25     </td><td> 762    </td><td>116     </td><td>394.1379</td></tr>\n",
       "\t<tr><td>2013    </td><td>1       </td><td>1       </td><td>-4      </td><td> 12     </td><td> 719    </td><td>150     </td><td>287.6000</td></tr>\n",
       "</tbody>\n",
       "</table>\n"
      ],
      "text/latex": [
       "\\begin{tabular}{r|llllllll}\n",
       " year & month & day & dep\\_delay & arr\\_delay & distance & air\\_time & speed\\\\\n",
       "\\hline\n",
       "\t 2013     & 1        & 1        &  2       &  11      & 1400     & 227      & 370.0441\\\\\n",
       "\t 2013     & 1        & 1        &  4       &  20      & 1416     & 227      & 374.2731\\\\\n",
       "\t 2013     & 1        & 1        &  2       &  33      & 1089     & 160      & 408.3750\\\\\n",
       "\t 2013     & 1        & 1        & -1       & -18      & 1576     & 183      & 516.7213\\\\\n",
       "\t 2013     & 1        & 1        & -6       & -25      &  762     & 116      & 394.1379\\\\\n",
       "\t 2013     & 1        & 1        & -4       &  12      &  719     & 150      & 287.6000\\\\\n",
       "\\end{tabular}\n"
      ],
      "text/markdown": [
       "\n",
       "| year | month | day | dep_delay | arr_delay | distance | air_time | speed |\n",
       "|---|---|---|---|---|---|---|---|\n",
       "| 2013     | 1        | 1        |  2       |  11      | 1400     | 227      | 370.0441 |\n",
       "| 2013     | 1        | 1        |  4       |  20      | 1416     | 227      | 374.2731 |\n",
       "| 2013     | 1        | 1        |  2       |  33      | 1089     | 160      | 408.3750 |\n",
       "| 2013     | 1        | 1        | -1       | -18      | 1576     | 183      | 516.7213 |\n",
       "| 2013     | 1        | 1        | -6       | -25      |  762     | 116      | 394.1379 |\n",
       "| 2013     | 1        | 1        | -4       |  12      |  719     | 150      | 287.6000 |\n",
       "\n"
      ],
      "text/plain": [
       "  year month day dep_delay arr_delay distance air_time speed   \n",
       "1 2013 1     1    2         11       1400     227      370.0441\n",
       "2 2013 1     1    4         20       1416     227      374.2731\n",
       "3 2013 1     1    2         33       1089     160      408.3750\n",
       "4 2013 1     1   -1        -18       1576     183      516.7213\n",
       "5 2013 1     1   -6        -25        762     116      394.1379\n",
       "6 2013 1     1   -4         12        719     150      287.6000"
      ]
     },
     "metadata": {},
     "output_type": "display_data"
    }
   ],
   "source": [
    "flights_sml  %>% mutate(speed = distance/air_time * 60) %>% head()"
   ]
  },
  {
   "cell_type": "markdown",
   "metadata": {},
   "source": [
    "2. Crie a coluna `gain`, que resulta da diferença entre `dep_delay` e `arr_delay`"
   ]
  },
  {
   "cell_type": "code",
   "execution_count": 83,
   "metadata": {},
   "outputs": [
    {
     "data": {
      "text/html": [
       "<table>\n",
       "<thead><tr><th scope=col>year</th><th scope=col>month</th><th scope=col>day</th><th scope=col>dep_delay</th><th scope=col>arr_delay</th><th scope=col>distance</th><th scope=col>air_time</th><th scope=col>speed</th><th scope=col>gain</th><th scope=col>gain_per_hour</th></tr></thead>\n",
       "<tbody>\n",
       "\t<tr><td>2013      </td><td>1         </td><td>1         </td><td> 2        </td><td> 11       </td><td>1400      </td><td>227       </td><td>370.0441  </td><td> -9       </td><td> -2.378855</td></tr>\n",
       "\t<tr><td>2013      </td><td>1         </td><td>1         </td><td> 4        </td><td> 20       </td><td>1416      </td><td>227       </td><td>374.2731  </td><td>-16       </td><td> -4.229075</td></tr>\n",
       "\t<tr><td>2013      </td><td>1         </td><td>1         </td><td> 2        </td><td> 33       </td><td>1089      </td><td>160       </td><td>408.3750  </td><td>-31       </td><td>-11.625000</td></tr>\n",
       "\t<tr><td>2013      </td><td>1         </td><td>1         </td><td>-1        </td><td>-18       </td><td>1576      </td><td>183       </td><td>516.7213  </td><td> 17       </td><td>  5.573770</td></tr>\n",
       "\t<tr><td>2013      </td><td>1         </td><td>1         </td><td>-6        </td><td>-25       </td><td> 762      </td><td>116       </td><td>394.1379  </td><td> 19       </td><td>  9.827586</td></tr>\n",
       "\t<tr><td>2013      </td><td>1         </td><td>1         </td><td>-4        </td><td> 12       </td><td> 719      </td><td>150       </td><td>287.6000  </td><td>-16       </td><td> -6.400000</td></tr>\n",
       "</tbody>\n",
       "</table>\n"
      ],
      "text/latex": [
       "\\begin{tabular}{r|llllllllll}\n",
       " year & month & day & dep\\_delay & arr\\_delay & distance & air\\_time & speed & gain & gain\\_per\\_hour\\\\\n",
       "\\hline\n",
       "\t 2013       & 1          & 1          &  2         &  11        & 1400       & 227        & 370.0441   &  -9        &  -2.378855\\\\\n",
       "\t 2013       & 1          & 1          &  4         &  20        & 1416       & 227        & 374.2731   & -16        &  -4.229075\\\\\n",
       "\t 2013       & 1          & 1          &  2         &  33        & 1089       & 160        & 408.3750   & -31        & -11.625000\\\\\n",
       "\t 2013       & 1          & 1          & -1         & -18        & 1576       & 183        & 516.7213   &  17        &   5.573770\\\\\n",
       "\t 2013       & 1          & 1          & -6         & -25        &  762       & 116        & 394.1379   &  19        &   9.827586\\\\\n",
       "\t 2013       & 1          & 1          & -4         &  12        &  719       & 150        & 287.6000   & -16        &  -6.400000\\\\\n",
       "\\end{tabular}\n"
      ],
      "text/markdown": [
       "\n",
       "| year | month | day | dep_delay | arr_delay | distance | air_time | speed | gain | gain_per_hour |\n",
       "|---|---|---|---|---|---|---|---|---|---|\n",
       "| 2013       | 1          | 1          |  2         |  11        | 1400       | 227        | 370.0441   |  -9        |  -2.378855 |\n",
       "| 2013       | 1          | 1          |  4         |  20        | 1416       | 227        | 374.2731   | -16        |  -4.229075 |\n",
       "| 2013       | 1          | 1          |  2         |  33        | 1089       | 160        | 408.3750   | -31        | -11.625000 |\n",
       "| 2013       | 1          | 1          | -1         | -18        | 1576       | 183        | 516.7213   |  17        |   5.573770 |\n",
       "| 2013       | 1          | 1          | -6         | -25        |  762       | 116        | 394.1379   |  19        |   9.827586 |\n",
       "| 2013       | 1          | 1          | -4         |  12        |  719       | 150        | 287.6000   | -16        |  -6.400000 |\n",
       "\n"
      ],
      "text/plain": [
       "  year month day dep_delay arr_delay distance air_time speed    gain\n",
       "1 2013 1     1    2         11       1400     227      370.0441  -9 \n",
       "2 2013 1     1    4         20       1416     227      374.2731 -16 \n",
       "3 2013 1     1    2         33       1089     160      408.3750 -31 \n",
       "4 2013 1     1   -1        -18       1576     183      516.7213  17 \n",
       "5 2013 1     1   -6        -25        762     116      394.1379  19 \n",
       "6 2013 1     1   -4         12        719     150      287.6000 -16 \n",
       "  gain_per_hour\n",
       "1  -2.378855   \n",
       "2  -4.229075   \n",
       "3 -11.625000   \n",
       "4   5.573770   \n",
       "5   9.827586   \n",
       "6  -6.400000   "
      ]
     },
     "metadata": {},
     "output_type": "display_data"
    }
   ],
   "source": [
    "flights_sml  %>% mutate(speed = distance/air_time * 60,\n",
    "                        gain = dep_delay - arr_delay,\n",
    "                        gain_per_hour = gain / (air_time/60))  %>%  head()"
   ]
  },
  {
   "cell_type": "markdown",
   "metadata": {},
   "source": [
    "## Agregue informações com `summarise()` e `group_by()`"
   ]
  },
  {
   "cell_type": "code",
   "execution_count": 88,
   "metadata": {},
   "outputs": [
    {
     "data": {
      "text/html": [
       "<table>\n",
       "<thead><tr><th scope=col>mean(distance)</th><th scope=col>mean(air_time)</th><th scope=col>mean(arr_delay)</th></tr></thead>\n",
       "<tbody>\n",
       "\t<tr><td>1039.913</td><td>NA      </td><td>NA      </td></tr>\n",
       "</tbody>\n",
       "</table>\n"
      ],
      "text/latex": [
       "\\begin{tabular}{r|lll}\n",
       " mean(distance) & mean(air\\_time) & mean(arr\\_delay)\\\\\n",
       "\\hline\n",
       "\t 1039.913 & NA       & NA      \\\\\n",
       "\\end{tabular}\n"
      ],
      "text/markdown": [
       "\n",
       "| mean(distance) | mean(air_time) | mean(arr_delay) |\n",
       "|---|---|---|\n",
       "| 1039.913 | NA       | NA       |\n",
       "\n"
      ],
      "text/plain": [
       "  mean(distance) mean(air_time) mean(arr_delay)\n",
       "1 1039.913       NA             NA             "
      ]
     },
     "metadata": {},
     "output_type": "display_data"
    }
   ],
   "source": [
    "flights_sml %>% summarise(mean(distance), mean(air_time), mean(arr_delay))"
   ]
  },
  {
   "cell_type": "code",
   "execution_count": 91,
   "metadata": {},
   "outputs": [
    {
     "data": {
      "text/html": [
       "<ol class=list-inline>\n",
       "\t<li>327346</li>\n",
       "\t<li>19</li>\n",
       "</ol>\n"
      ],
      "text/latex": [
       "\\begin{enumerate*}\n",
       "\\item 327346\n",
       "\\item 19\n",
       "\\end{enumerate*}\n"
      ],
      "text/markdown": [
       "1. 327346\n",
       "2. 19\n",
       "\n",
       "\n"
      ],
      "text/plain": [
       "[1] 327346     19"
      ]
     },
     "metadata": {},
     "output_type": "display_data"
    }
   ],
   "source": [
    "not_cancelled = flights %>%  filter(!is.na(dep_delay) , !is.na(arr_delay))\n",
    "dim(not_cancelled)"
   ]
  },
  {
   "cell_type": "code",
   "execution_count": 97,
   "metadata": {},
   "outputs": [
    {
     "data": {
      "text/html": [
       "<table>\n",
       "<thead><tr><th scope=col>year</th><th scope=col>month</th><th scope=col>day</th><th scope=col>mean(dep_delay)</th></tr></thead>\n",
       "<tbody>\n",
       "\t<tr><td>2013    </td><td>1       </td><td>1       </td><td>11.43562</td></tr>\n",
       "\t<tr><td>2013    </td><td>1       </td><td>2       </td><td>13.67780</td></tr>\n",
       "</tbody>\n",
       "</table>\n"
      ],
      "text/latex": [
       "\\begin{tabular}{r|llll}\n",
       " year & month & day & mean(dep\\_delay)\\\\\n",
       "\\hline\n",
       "\t 2013     & 1        & 1        & 11.43562\\\\\n",
       "\t 2013     & 1        & 2        & 13.67780\\\\\n",
       "\\end{tabular}\n"
      ],
      "text/markdown": [
       "\n",
       "| year | month | day | mean(dep_delay) |\n",
       "|---|---|---|---|\n",
       "| 2013     | 1        | 1        | 11.43562 |\n",
       "| 2013     | 1        | 2        | 13.67780 |\n",
       "\n"
      ],
      "text/plain": [
       "  year month day mean(dep_delay)\n",
       "1 2013 1     1   11.43562       \n",
       "2 2013 1     2   13.67780       "
      ]
     },
     "metadata": {},
     "output_type": "display_data"
    }
   ],
   "source": [
    "not_cancelled  %>% group_by(year, month, day) %>% summarise(mean(dep_delay))  %>% head(2)"
   ]
  },
  {
   "cell_type": "code",
   "execution_count": 103,
   "metadata": {},
   "outputs": [
    {
     "data": {
      "text/html": [
       "<table>\n",
       "<thead><tr><th scope=col>year</th><th scope=col>month</th><th scope=col>mead_atraso</th><th scope=col>meadia_atraso_mesmo</th></tr></thead>\n",
       "<tbody>\n",
       "\t<tr><td>2013     </td><td> 1       </td><td> 9.985491</td><td>35.24179 </td></tr>\n",
       "\t<tr><td>2013     </td><td> 2       </td><td>10.760239</td><td>35.17606 </td></tr>\n",
       "\t<tr><td>2013     </td><td> 3       </td><td>13.164289</td><td>39.51540 </td></tr>\n",
       "\t<tr><td>2013     </td><td> 4       </td><td>13.849187</td><td>44.05532 </td></tr>\n",
       "\t<tr><td>2013     </td><td> 5       </td><td>12.891709</td><td>39.09352 </td></tr>\n",
       "\t<tr><td>2013     </td><td> 6       </td><td>20.725614</td><td>49.63155 </td></tr>\n",
       "\t<tr><td>2013     </td><td> 7       </td><td>21.522179</td><td>48.54883 </td></tr>\n",
       "\t<tr><td>2013     </td><td> 8       </td><td>12.570524</td><td>37.22452 </td></tr>\n",
       "\t<tr><td>2013     </td><td> 9       </td><td> 6.630285</td><td>35.51741 </td></tr>\n",
       "\t<tr><td>2013     </td><td>10       </td><td> 6.233175</td><td>31.55526 </td></tr>\n",
       "\t<tr><td>2013     </td><td>11       </td><td> 5.420340</td><td>28.66707 </td></tr>\n",
       "\t<tr><td>2013     </td><td>12       </td><td>16.482161</td><td>37.06027 </td></tr>\n",
       "</tbody>\n",
       "</table>\n"
      ],
      "text/latex": [
       "\\begin{tabular}{r|llll}\n",
       " year & month & mead\\_atraso & meadia\\_atraso\\_mesmo\\\\\n",
       "\\hline\n",
       "\t 2013      &  1        &  9.985491 & 35.24179 \\\\\n",
       "\t 2013      &  2        & 10.760239 & 35.17606 \\\\\n",
       "\t 2013      &  3        & 13.164289 & 39.51540 \\\\\n",
       "\t 2013      &  4        & 13.849187 & 44.05532 \\\\\n",
       "\t 2013      &  5        & 12.891709 & 39.09352 \\\\\n",
       "\t 2013      &  6        & 20.725614 & 49.63155 \\\\\n",
       "\t 2013      &  7        & 21.522179 & 48.54883 \\\\\n",
       "\t 2013      &  8        & 12.570524 & 37.22452 \\\\\n",
       "\t 2013      &  9        &  6.630285 & 35.51741 \\\\\n",
       "\t 2013      & 10        &  6.233175 & 31.55526 \\\\\n",
       "\t 2013      & 11        &  5.420340 & 28.66707 \\\\\n",
       "\t 2013      & 12        & 16.482161 & 37.06027 \\\\\n",
       "\\end{tabular}\n"
      ],
      "text/markdown": [
       "\n",
       "| year | month | mead_atraso | meadia_atraso_mesmo |\n",
       "|---|---|---|---|\n",
       "| 2013      |  1        |  9.985491 | 35.24179  |\n",
       "| 2013      |  2        | 10.760239 | 35.17606  |\n",
       "| 2013      |  3        | 13.164289 | 39.51540  |\n",
       "| 2013      |  4        | 13.849187 | 44.05532  |\n",
       "| 2013      |  5        | 12.891709 | 39.09352  |\n",
       "| 2013      |  6        | 20.725614 | 49.63155  |\n",
       "| 2013      |  7        | 21.522179 | 48.54883  |\n",
       "| 2013      |  8        | 12.570524 | 37.22452  |\n",
       "| 2013      |  9        |  6.630285 | 35.51741  |\n",
       "| 2013      | 10        |  6.233175 | 31.55526  |\n",
       "| 2013      | 11        |  5.420340 | 28.66707  |\n",
       "| 2013      | 12        | 16.482161 | 37.06027  |\n",
       "\n"
      ],
      "text/plain": [
       "   year month mead_atraso meadia_atraso_mesmo\n",
       "1  2013  1     9.985491   35.24179           \n",
       "2  2013  2    10.760239   35.17606           \n",
       "3  2013  3    13.164289   39.51540           \n",
       "4  2013  4    13.849187   44.05532           \n",
       "5  2013  5    12.891709   39.09352           \n",
       "6  2013  6    20.725614   49.63155           \n",
       "7  2013  7    21.522179   48.54883           \n",
       "8  2013  8    12.570524   37.22452           \n",
       "9  2013  9     6.630285   35.51741           \n",
       "10 2013 10     6.233175   31.55526           \n",
       "11 2013 11     5.420340   28.66707           \n",
       "12 2013 12    16.482161   37.06027           "
      ]
     },
     "metadata": {},
     "output_type": "display_data"
    }
   ],
   "source": [
    "not_cancelled  %>% group_by(year, month) %>% summarise(mead_atraso = mean(dep_delay),\n",
    "                                                      meadia_atraso_mesmo = mean(dep_delay[dep_delay > 0])) "
   ]
  },
  {
   "cell_type": "code",
   "execution_count": 92,
   "metadata": {},
   "outputs": [
    {
     "data": {
      "text/html": [
       "<table>\n",
       "<thead><tr><th scope=col>year</th><th scope=col>month</th><th scope=col>day</th><th scope=col>dep_time</th><th scope=col>sched_dep_time</th><th scope=col>dep_delay</th><th scope=col>arr_time</th><th scope=col>sched_arr_time</th><th scope=col>arr_delay</th><th scope=col>carrier</th><th scope=col>flight</th><th scope=col>tailnum</th><th scope=col>origin</th><th scope=col>dest</th><th scope=col>air_time</th><th scope=col>distance</th><th scope=col>hour</th><th scope=col>minute</th><th scope=col>time_hour</th></tr></thead>\n",
       "<tbody>\n",
       "\t<tr><td>2013               </td><td>1                  </td><td>1                  </td><td>517                </td><td>515                </td><td> 2                 </td><td> 830               </td><td> 819               </td><td> 11                </td><td>UA                 </td><td>1545               </td><td>N14228             </td><td>EWR                </td><td>IAH                </td><td>227                </td><td>1400               </td><td>5                  </td><td>15                 </td><td>2013-01-01 05:00:00</td></tr>\n",
       "\t<tr><td>2013               </td><td>1                  </td><td>1                  </td><td>533                </td><td>529                </td><td> 4                 </td><td> 850               </td><td> 830               </td><td> 20                </td><td>UA                 </td><td>1714               </td><td>N24211             </td><td>LGA                </td><td>IAH                </td><td>227                </td><td>1416               </td><td>5                  </td><td>29                 </td><td>2013-01-01 05:00:00</td></tr>\n",
       "\t<tr><td>2013               </td><td>1                  </td><td>1                  </td><td>542                </td><td>540                </td><td> 2                 </td><td> 923               </td><td> 850               </td><td> 33                </td><td>AA                 </td><td>1141               </td><td>N619AA             </td><td>JFK                </td><td>MIA                </td><td>160                </td><td>1089               </td><td>5                  </td><td>40                 </td><td>2013-01-01 05:00:00</td></tr>\n",
       "\t<tr><td>2013               </td><td>1                  </td><td>1                  </td><td>544                </td><td>545                </td><td>-1                 </td><td>1004               </td><td>1022               </td><td>-18                </td><td>B6                 </td><td> 725               </td><td>N804JB             </td><td>JFK                </td><td>BQN                </td><td>183                </td><td>1576               </td><td>5                  </td><td>45                 </td><td>2013-01-01 05:00:00</td></tr>\n",
       "\t<tr><td>2013               </td><td>1                  </td><td>1                  </td><td>554                </td><td>600                </td><td>-6                 </td><td> 812               </td><td> 837               </td><td>-25                </td><td>DL                 </td><td> 461               </td><td>N668DN             </td><td>LGA                </td><td>ATL                </td><td>116                </td><td> 762               </td><td>6                  </td><td> 0                 </td><td>2013-01-01 06:00:00</td></tr>\n",
       "\t<tr><td>2013               </td><td>1                  </td><td>1                  </td><td>554                </td><td>558                </td><td>-4                 </td><td> 740               </td><td> 728               </td><td> 12                </td><td>UA                 </td><td>1696               </td><td>N39463             </td><td>EWR                </td><td>ORD                </td><td>150                </td><td> 719               </td><td>5                  </td><td>58                 </td><td>2013-01-01 05:00:00</td></tr>\n",
       "</tbody>\n",
       "</table>\n"
      ],
      "text/latex": [
       "\\begin{tabular}{r|lllllllllllllllllll}\n",
       " year & month & day & dep\\_time & sched\\_dep\\_time & dep\\_delay & arr\\_time & sched\\_arr\\_time & arr\\_delay & carrier & flight & tailnum & origin & dest & air\\_time & distance & hour & minute & time\\_hour\\\\\n",
       "\\hline\n",
       "\t 2013                & 1                   & 1                   & 517                 & 515                 &  2                  &  830                &  819                &  11                 & UA                  & 1545                & N14228              & EWR                 & IAH                 & 227                 & 1400                & 5                   & 15                  & 2013-01-01 05:00:00\\\\\n",
       "\t 2013                & 1                   & 1                   & 533                 & 529                 &  4                  &  850                &  830                &  20                 & UA                  & 1714                & N24211              & LGA                 & IAH                 & 227                 & 1416                & 5                   & 29                  & 2013-01-01 05:00:00\\\\\n",
       "\t 2013                & 1                   & 1                   & 542                 & 540                 &  2                  &  923                &  850                &  33                 & AA                  & 1141                & N619AA              & JFK                 & MIA                 & 160                 & 1089                & 5                   & 40                  & 2013-01-01 05:00:00\\\\\n",
       "\t 2013                & 1                   & 1                   & 544                 & 545                 & -1                  & 1004                & 1022                & -18                 & B6                  &  725                & N804JB              & JFK                 & BQN                 & 183                 & 1576                & 5                   & 45                  & 2013-01-01 05:00:00\\\\\n",
       "\t 2013                & 1                   & 1                   & 554                 & 600                 & -6                  &  812                &  837                & -25                 & DL                  &  461                & N668DN              & LGA                 & ATL                 & 116                 &  762                & 6                   &  0                  & 2013-01-01 06:00:00\\\\\n",
       "\t 2013                & 1                   & 1                   & 554                 & 558                 & -4                  &  740                &  728                &  12                 & UA                  & 1696                & N39463              & EWR                 & ORD                 & 150                 &  719                & 5                   & 58                  & 2013-01-01 05:00:00\\\\\n",
       "\\end{tabular}\n"
      ],
      "text/markdown": [
       "\n",
       "| year | month | day | dep_time | sched_dep_time | dep_delay | arr_time | sched_arr_time | arr_delay | carrier | flight | tailnum | origin | dest | air_time | distance | hour | minute | time_hour |\n",
       "|---|---|---|---|---|---|---|---|---|---|---|---|---|---|---|---|---|---|---|\n",
       "| 2013                | 1                   | 1                   | 517                 | 515                 |  2                  |  830                |  819                |  11                 | UA                  | 1545                | N14228              | EWR                 | IAH                 | 227                 | 1400                | 5                   | 15                  | 2013-01-01 05:00:00 |\n",
       "| 2013                | 1                   | 1                   | 533                 | 529                 |  4                  |  850                |  830                |  20                 | UA                  | 1714                | N24211              | LGA                 | IAH                 | 227                 | 1416                | 5                   | 29                  | 2013-01-01 05:00:00 |\n",
       "| 2013                | 1                   | 1                   | 542                 | 540                 |  2                  |  923                |  850                |  33                 | AA                  | 1141                | N619AA              | JFK                 | MIA                 | 160                 | 1089                | 5                   | 40                  | 2013-01-01 05:00:00 |\n",
       "| 2013                | 1                   | 1                   | 544                 | 545                 | -1                  | 1004                | 1022                | -18                 | B6                  |  725                | N804JB              | JFK                 | BQN                 | 183                 | 1576                | 5                   | 45                  | 2013-01-01 05:00:00 |\n",
       "| 2013                | 1                   | 1                   | 554                 | 600                 | -6                  |  812                |  837                | -25                 | DL                  |  461                | N668DN              | LGA                 | ATL                 | 116                 |  762                | 6                   |  0                  | 2013-01-01 06:00:00 |\n",
       "| 2013                | 1                   | 1                   | 554                 | 558                 | -4                  |  740                |  728                |  12                 | UA                  | 1696                | N39463              | EWR                 | ORD                 | 150                 |  719                | 5                   | 58                  | 2013-01-01 05:00:00 |\n",
       "\n"
      ],
      "text/plain": [
       "  year month day dep_time sched_dep_time dep_delay arr_time sched_arr_time\n",
       "1 2013 1     1   517      515             2         830      819          \n",
       "2 2013 1     1   533      529             4         850      830          \n",
       "3 2013 1     1   542      540             2         923      850          \n",
       "4 2013 1     1   544      545            -1        1004     1022          \n",
       "5 2013 1     1   554      600            -6         812      837          \n",
       "6 2013 1     1   554      558            -4         740      728          \n",
       "  arr_delay carrier flight tailnum origin dest air_time distance hour minute\n",
       "1  11       UA      1545   N14228  EWR    IAH  227      1400     5    15    \n",
       "2  20       UA      1714   N24211  LGA    IAH  227      1416     5    29    \n",
       "3  33       AA      1141   N619AA  JFK    MIA  160      1089     5    40    \n",
       "4 -18       B6       725   N804JB  JFK    BQN  183      1576     5    45    \n",
       "5 -25       DL       461   N668DN  LGA    ATL  116       762     6     0    \n",
       "6  12       UA      1696   N39463  EWR    ORD  150       719     5    58    \n",
       "  time_hour          \n",
       "1 2013-01-01 05:00:00\n",
       "2 2013-01-01 05:00:00\n",
       "3 2013-01-01 05:00:00\n",
       "4 2013-01-01 05:00:00\n",
       "5 2013-01-01 06:00:00\n",
       "6 2013-01-01 05:00:00"
      ]
     },
     "metadata": {},
     "output_type": "display_data"
    }
   ],
   "source": [
    "head(not_cancelled)"
   ]
  },
  {
   "cell_type": "code",
   "execution_count": 125,
   "metadata": {},
   "outputs": [
    {
     "data": {
      "text/html": [
       "<table>\n",
       "<thead><tr><th scope=col>carrier</th><th scope=col>delay</th><th scope=col>delay_2</th></tr></thead>\n",
       "<tbody>\n",
       "\t<tr><td>F9       </td><td>45.18235 </td><td>20.201175</td></tr>\n",
       "\t<tr><td>EV       </td><td>50.19481 </td><td>19.838929</td></tr>\n",
       "\t<tr><td>YV       </td><td>52.87069 </td><td>18.898897</td></tr>\n",
       "\t<tr><td>FL       </td><td>40.62477 </td><td>18.605984</td></tr>\n",
       "\t<tr><td>WN       </td><td>34.77705 </td><td>17.661657</td></tr>\n",
       "\t<tr><td>9E       </td><td>48.47393 </td><td>16.439574</td></tr>\n",
       "\t<tr><td>B6       </td><td>39.70976 </td><td>12.967548</td></tr>\n",
       "\t<tr><td>VX       </td><td>34.23150 </td><td>12.756646</td></tr>\n",
       "\t<tr><td>OO       </td><td>58.00000 </td><td>12.586207</td></tr>\n",
       "\t<tr><td>UA       </td><td>29.79019 </td><td>12.016908</td></tr>\n",
       "\t<tr><td>MQ       </td><td>44.74328 </td><td>10.445381</td></tr>\n",
       "\t<tr><td>DL       </td><td>37.33439 </td><td> 9.223950</td></tr>\n",
       "\t<tr><td>AA       </td><td>37.16259 </td><td> 8.569130</td></tr>\n",
       "\t<tr><td>AS       </td><td>31.47556 </td><td> 5.830748</td></tr>\n",
       "\t<tr><td>HA       </td><td>44.84058 </td><td> 4.900585</td></tr>\n",
       "\t<tr><td>US       </td><td>32.91852 </td><td> 3.744693</td></tr>\n",
       "</tbody>\n",
       "</table>\n"
      ],
      "text/latex": [
       "\\begin{tabular}{r|lll}\n",
       " carrier & delay & delay\\_2\\\\\n",
       "\\hline\n",
       "\t F9        & 45.18235  & 20.201175\\\\\n",
       "\t EV        & 50.19481  & 19.838929\\\\\n",
       "\t YV        & 52.87069  & 18.898897\\\\\n",
       "\t FL        & 40.62477  & 18.605984\\\\\n",
       "\t WN        & 34.77705  & 17.661657\\\\\n",
       "\t 9E        & 48.47393  & 16.439574\\\\\n",
       "\t B6        & 39.70976  & 12.967548\\\\\n",
       "\t VX        & 34.23150  & 12.756646\\\\\n",
       "\t OO        & 58.00000  & 12.586207\\\\\n",
       "\t UA        & 29.79019  & 12.016908\\\\\n",
       "\t MQ        & 44.74328  & 10.445381\\\\\n",
       "\t DL        & 37.33439  &  9.223950\\\\\n",
       "\t AA        & 37.16259  &  8.569130\\\\\n",
       "\t AS        & 31.47556  &  5.830748\\\\\n",
       "\t HA        & 44.84058  &  4.900585\\\\\n",
       "\t US        & 32.91852  &  3.744693\\\\\n",
       "\\end{tabular}\n"
      ],
      "text/markdown": [
       "\n",
       "| carrier | delay | delay_2 |\n",
       "|---|---|---|\n",
       "| F9        | 45.18235  | 20.201175 |\n",
       "| EV        | 50.19481  | 19.838929 |\n",
       "| YV        | 52.87069  | 18.898897 |\n",
       "| FL        | 40.62477  | 18.605984 |\n",
       "| WN        | 34.77705  | 17.661657 |\n",
       "| 9E        | 48.47393  | 16.439574 |\n",
       "| B6        | 39.70976  | 12.967548 |\n",
       "| VX        | 34.23150  | 12.756646 |\n",
       "| OO        | 58.00000  | 12.586207 |\n",
       "| UA        | 29.79019  | 12.016908 |\n",
       "| MQ        | 44.74328  | 10.445381 |\n",
       "| DL        | 37.33439  |  9.223950 |\n",
       "| AA        | 37.16259  |  8.569130 |\n",
       "| AS        | 31.47556  |  5.830748 |\n",
       "| HA        | 44.84058  |  4.900585 |\n",
       "| US        | 32.91852  |  3.744693 |\n",
       "\n"
      ],
      "text/plain": [
       "   carrier delay    delay_2  \n",
       "1  F9      45.18235 20.201175\n",
       "2  EV      50.19481 19.838929\n",
       "3  YV      52.87069 18.898897\n",
       "4  FL      40.62477 18.605984\n",
       "5  WN      34.77705 17.661657\n",
       "6  9E      48.47393 16.439574\n",
       "7  B6      39.70976 12.967548\n",
       "8  VX      34.23150 12.756646\n",
       "9  OO      58.00000 12.586207\n",
       "10 UA      29.79019 12.016908\n",
       "11 MQ      44.74328 10.445381\n",
       "12 DL      37.33439  9.223950\n",
       "13 AA      37.16259  8.569130\n",
       "14 AS      31.47556  5.830748\n",
       "15 HA      44.84058  4.900585\n",
       "16 US      32.91852  3.744693"
      ]
     },
     "metadata": {},
     "output_type": "display_data"
    }
   ],
   "source": [
    "not_cancelled %>% group_by(carrier) %>%\n",
    " summarise(delay = mean(dep_delay[dep_delay>0]), \n",
    "          delay_2 = mean(dep_delay)) %>%  arrange(desc(delay_2))"
   ]
  },
  {
   "cell_type": "markdown",
   "metadata": {},
   "source": [
    "# Tidyr\n",
    "\n",
    "Conceito de \"tidy data\":\n",
    "\n",
    "1. Cada variável em uma coluna\n",
    "2. Cada observação em uma linha\n",
    "3. Um valor em cada célula\n",
    "\n",
    "Funções apresentadas:\n",
    "\n",
    "1. `spread()`\n",
    "2. `gather()`"
   ]
  },
  {
   "cell_type": "code",
   "execution_count": 104,
   "metadata": {},
   "outputs": [
    {
     "data": {
      "text/html": [
       "<table>\n",
       "<thead><tr><th scope=col>country</th><th scope=col>year</th><th scope=col>cases</th><th scope=col>population</th></tr></thead>\n",
       "<tbody>\n",
       "\t<tr><td>Afghanistan</td><td>1999       </td><td>   745     </td><td>  19987071 </td></tr>\n",
       "\t<tr><td>Afghanistan</td><td>2000       </td><td>  2666     </td><td>  20595360 </td></tr>\n",
       "\t<tr><td>Brazil     </td><td>1999       </td><td> 37737     </td><td> 172006362 </td></tr>\n",
       "\t<tr><td>Brazil     </td><td>2000       </td><td> 80488     </td><td> 174504898 </td></tr>\n",
       "\t<tr><td>China      </td><td>1999       </td><td>212258     </td><td>1272915272 </td></tr>\n",
       "\t<tr><td>China      </td><td>2000       </td><td>213766     </td><td>1280428583 </td></tr>\n",
       "</tbody>\n",
       "</table>\n"
      ],
      "text/latex": [
       "\\begin{tabular}{r|llll}\n",
       " country & year & cases & population\\\\\n",
       "\\hline\n",
       "\t Afghanistan & 1999        &    745      &   19987071 \\\\\n",
       "\t Afghanistan & 2000        &   2666      &   20595360 \\\\\n",
       "\t Brazil      & 1999        &  37737      &  172006362 \\\\\n",
       "\t Brazil      & 2000        &  80488      &  174504898 \\\\\n",
       "\t China       & 1999        & 212258      & 1272915272 \\\\\n",
       "\t China       & 2000        & 213766      & 1280428583 \\\\\n",
       "\\end{tabular}\n"
      ],
      "text/markdown": [
       "\n",
       "| country | year | cases | population |\n",
       "|---|---|---|---|\n",
       "| Afghanistan | 1999        |    745      |   19987071  |\n",
       "| Afghanistan | 2000        |   2666      |   20595360  |\n",
       "| Brazil      | 1999        |  37737      |  172006362  |\n",
       "| Brazil      | 2000        |  80488      |  174504898  |\n",
       "| China       | 1999        | 212258      | 1272915272  |\n",
       "| China       | 2000        | 213766      | 1280428583  |\n",
       "\n"
      ],
      "text/plain": [
       "  country     year cases  population\n",
       "1 Afghanistan 1999    745   19987071\n",
       "2 Afghanistan 2000   2666   20595360\n",
       "3 Brazil      1999  37737  172006362\n",
       "4 Brazil      2000  80488  174504898\n",
       "5 China       1999 212258 1272915272\n",
       "6 China       2000 213766 1280428583"
      ]
     },
     "metadata": {},
     "output_type": "display_data"
    }
   ],
   "source": [
    "table1"
   ]
  },
  {
   "cell_type": "markdown",
   "metadata": {},
   "source": [
    "## `gather()`"
   ]
  },
  {
   "cell_type": "code",
   "execution_count": 112,
   "metadata": {},
   "outputs": [],
   "source": [
    "cases = table4a  %>% gather('1999','2000',key = 'year', value = 'cases')\n",
    "population = table4b %>% gather(-country, key = 'year', value = 'population')"
   ]
  },
  {
   "cell_type": "code",
   "execution_count": 125,
   "metadata": {
    "collapsed": true
   },
   "outputs": [
    {
     "data": {
      "text/html": [
       "<table>\n",
       "<thead><tr><th scope=col>carrier</th><th scope=col>delay</th><th scope=col>delay_2</th></tr></thead>\n",
       "<tbody>\n",
       "\t<tr><td>F9       </td><td>45.18235 </td><td>20.201175</td></tr>\n",
       "\t<tr><td>EV       </td><td>50.19481 </td><td>19.838929</td></tr>\n",
       "\t<tr><td>YV       </td><td>52.87069 </td><td>18.898897</td></tr>\n",
       "\t<tr><td>FL       </td><td>40.62477 </td><td>18.605984</td></tr>\n",
       "\t<tr><td>WN       </td><td>34.77705 </td><td>17.661657</td></tr>\n",
       "\t<tr><td>9E       </td><td>48.47393 </td><td>16.439574</td></tr>\n",
       "\t<tr><td>B6       </td><td>39.70976 </td><td>12.967548</td></tr>\n",
       "\t<tr><td>VX       </td><td>34.23150 </td><td>12.756646</td></tr>\n",
       "\t<tr><td>OO       </td><td>58.00000 </td><td>12.586207</td></tr>\n",
       "\t<tr><td>UA       </td><td>29.79019 </td><td>12.016908</td></tr>\n",
       "\t<tr><td>MQ       </td><td>44.74328 </td><td>10.445381</td></tr>\n",
       "\t<tr><td>DL       </td><td>37.33439 </td><td> 9.223950</td></tr>\n",
       "\t<tr><td>AA       </td><td>37.16259 </td><td> 8.569130</td></tr>\n",
       "\t<tr><td>AS       </td><td>31.47556 </td><td> 5.830748</td></tr>\n",
       "\t<tr><td>HA       </td><td>44.84058 </td><td> 4.900585</td></tr>\n",
       "\t<tr><td>US       </td><td>32.91852 </td><td> 3.744693</td></tr>\n",
       "</tbody>\n",
       "</table>\n"
      ],
      "text/latex": [
       "\\begin{tabular}{r|lll}\n",
       " carrier & delay & delay\\_2\\\\\n",
       "\\hline\n",
       "\t F9        & 45.18235  & 20.201175\\\\\n",
       "\t EV        & 50.19481  & 19.838929\\\\\n",
       "\t YV        & 52.87069  & 18.898897\\\\\n",
       "\t FL        & 40.62477  & 18.605984\\\\\n",
       "\t WN        & 34.77705  & 17.661657\\\\\n",
       "\t 9E        & 48.47393  & 16.439574\\\\\n",
       "\t B6        & 39.70976  & 12.967548\\\\\n",
       "\t VX        & 34.23150  & 12.756646\\\\\n",
       "\t OO        & 58.00000  & 12.586207\\\\\n",
       "\t UA        & 29.79019  & 12.016908\\\\\n",
       "\t MQ        & 44.74328  & 10.445381\\\\\n",
       "\t DL        & 37.33439  &  9.223950\\\\\n",
       "\t AA        & 37.16259  &  8.569130\\\\\n",
       "\t AS        & 31.47556  &  5.830748\\\\\n",
       "\t HA        & 44.84058  &  4.900585\\\\\n",
       "\t US        & 32.91852  &  3.744693\\\\\n",
       "\\end{tabular}\n"
      ],
      "text/markdown": [
       "\n",
       "| carrier | delay | delay_2 |\n",
       "|---|---|---|\n",
       "| F9        | 45.18235  | 20.201175 |\n",
       "| EV        | 50.19481  | 19.838929 |\n",
       "| YV        | 52.87069  | 18.898897 |\n",
       "| FL        | 40.62477  | 18.605984 |\n",
       "| WN        | 34.77705  | 17.661657 |\n",
       "| 9E        | 48.47393  | 16.439574 |\n",
       "| B6        | 39.70976  | 12.967548 |\n",
       "| VX        | 34.23150  | 12.756646 |\n",
       "| OO        | 58.00000  | 12.586207 |\n",
       "| UA        | 29.79019  | 12.016908 |\n",
       "| MQ        | 44.74328  | 10.445381 |\n",
       "| DL        | 37.33439  |  9.223950 |\n",
       "| AA        | 37.16259  |  8.569130 |\n",
       "| AS        | 31.47556  |  5.830748 |\n",
       "| HA        | 44.84058  |  4.900585 |\n",
       "| US        | 32.91852  |  3.744693 |\n",
       "\n"
      ],
      "text/plain": [
       "   carrier delay    delay_2  \n",
       "1  F9      45.18235 20.201175\n",
       "2  EV      50.19481 19.838929\n",
       "3  YV      52.87069 18.898897\n",
       "4  FL      40.62477 18.605984\n",
       "5  WN      34.77705 17.661657\n",
       "6  9E      48.47393 16.439574\n",
       "7  B6      39.70976 12.967548\n",
       "8  VX      34.23150 12.756646\n",
       "9  OO      58.00000 12.586207\n",
       "10 UA      29.79019 12.016908\n",
       "11 MQ      44.74328 10.445381\n",
       "12 DL      37.33439  9.223950\n",
       "13 AA      37.16259  8.569130\n",
       "14 AS      31.47556  5.830748\n",
       "15 HA      44.84058  4.900585\n",
       "16 US      32.91852  3.744693"
      ]
     },
     "metadata": {},
     "output_type": "display_data"
    }
   ],
   "source": [
    "not_cancelled %>% group_by(carrier) %>%\n",
    " summarise(delay = mean(dep_delay[dep_delay>0]), \n",
    "          delay_2 = mean(dep_delay)) %>%  arrange(desc(delay_2))"
   ]
  },
  {
   "cell_type": "code",
   "execution_count": 119,
   "metadata": {},
   "outputs": [
    {
     "name": "stderr",
     "output_type": "stream",
     "text": [
      "Joining, by = c(\"country\", \"year\")\n"
     ]
    },
    {
     "data": {
      "text/html": [
       "<table>\n",
       "<thead><tr><th scope=col>country</th><th scope=col>year</th><th scope=col>cases</th><th scope=col>population</th></tr></thead>\n",
       "<tbody>\n",
       "\t<tr><td>Afghanistan</td><td>1999       </td><td>   745     </td><td>  19987071 </td></tr>\n",
       "\t<tr><td>Afghanistan</td><td>2000       </td><td>  2666     </td><td>  20595360 </td></tr>\n",
       "\t<tr><td>Brazil     </td><td>1999       </td><td> 37737     </td><td> 172006362 </td></tr>\n",
       "\t<tr><td>Brazil     </td><td>2000       </td><td> 80488     </td><td> 174504898 </td></tr>\n",
       "\t<tr><td>China      </td><td>1999       </td><td>212258     </td><td>1272915272 </td></tr>\n",
       "\t<tr><td>China      </td><td>2000       </td><td>213766     </td><td>1280428583 </td></tr>\n",
       "</tbody>\n",
       "</table>\n"
      ],
      "text/latex": [
       "\\begin{tabular}{r|llll}\n",
       " country & year & cases & population\\\\\n",
       "\\hline\n",
       "\t Afghanistan & 1999        &    745      &   19987071 \\\\\n",
       "\t Afghanistan & 2000        &   2666      &   20595360 \\\\\n",
       "\t Brazil      & 1999        &  37737      &  172006362 \\\\\n",
       "\t Brazil      & 2000        &  80488      &  174504898 \\\\\n",
       "\t China       & 1999        & 212258      & 1272915272 \\\\\n",
       "\t China       & 2000        & 213766      & 1280428583 \\\\\n",
       "\\end{tabular}\n"
      ],
      "text/markdown": [
       "\n",
       "| country | year | cases | population |\n",
       "|---|---|---|---|\n",
       "| Afghanistan | 1999        |    745      |   19987071  |\n",
       "| Afghanistan | 2000        |   2666      |   20595360  |\n",
       "| Brazil      | 1999        |  37737      |  172006362  |\n",
       "| Brazil      | 2000        |  80488      |  174504898  |\n",
       "| China       | 1999        | 212258      | 1272915272  |\n",
       "| China       | 2000        | 213766      | 1280428583  |\n",
       "\n"
      ],
      "text/plain": [
       "  country     year cases  population\n",
       "1 Afghanistan 1999    745   19987071\n",
       "2 Afghanistan 2000   2666   20595360\n",
       "3 Brazil      1999  37737  172006362\n",
       "4 Brazil      2000  80488  174504898\n",
       "5 China       1999 212258 1272915272\n",
       "6 China       2000 213766 1280428583"
      ]
     },
     "metadata": {},
     "output_type": "display_data"
    }
   ],
   "source": [
    "inner_join(cases, population) %>% arrange(country)"
   ]
  },
  {
   "cell_type": "markdown",
   "metadata": {},
   "source": [
    "## `spread()`"
   ]
  },
  {
   "cell_type": "code",
   "execution_count": 120,
   "metadata": {},
   "outputs": [
    {
     "data": {
      "text/html": [
       "<ol class=list-inline>\n",
       "\t<li>12</li>\n",
       "\t<li>4</li>\n",
       "</ol>\n"
      ],
      "text/latex": [
       "\\begin{enumerate*}\n",
       "\\item 12\n",
       "\\item 4\n",
       "\\end{enumerate*}\n"
      ],
      "text/markdown": [
       "1. 12\n",
       "2. 4\n",
       "\n",
       "\n"
      ],
      "text/plain": [
       "[1] 12  4"
      ]
     },
     "metadata": {},
     "output_type": "display_data"
    },
    {
     "data": {
      "text/html": [
       "<table>\n",
       "<thead><tr><th scope=col>country</th><th scope=col>year</th><th scope=col>type</th><th scope=col>count</th></tr></thead>\n",
       "<tbody>\n",
       "\t<tr><td>Afghanistan</td><td>1999       </td><td>cases      </td><td>      745  </td></tr>\n",
       "\t<tr><td>Afghanistan</td><td>1999       </td><td>population </td><td> 19987071  </td></tr>\n",
       "\t<tr><td>Afghanistan</td><td>2000       </td><td>cases      </td><td>     2666  </td></tr>\n",
       "\t<tr><td>Afghanistan</td><td>2000       </td><td>population </td><td> 20595360  </td></tr>\n",
       "\t<tr><td>Brazil     </td><td>1999       </td><td>cases      </td><td>    37737  </td></tr>\n",
       "\t<tr><td>Brazil     </td><td>1999       </td><td>population </td><td>172006362  </td></tr>\n",
       "</tbody>\n",
       "</table>\n"
      ],
      "text/latex": [
       "\\begin{tabular}{r|llll}\n",
       " country & year & type & count\\\\\n",
       "\\hline\n",
       "\t Afghanistan & 1999        & cases       &       745  \\\\\n",
       "\t Afghanistan & 1999        & population  &  19987071  \\\\\n",
       "\t Afghanistan & 2000        & cases       &      2666  \\\\\n",
       "\t Afghanistan & 2000        & population  &  20595360  \\\\\n",
       "\t Brazil      & 1999        & cases       &     37737  \\\\\n",
       "\t Brazil      & 1999        & population  & 172006362  \\\\\n",
       "\\end{tabular}\n"
      ],
      "text/markdown": [
       "\n",
       "| country | year | type | count |\n",
       "|---|---|---|---|\n",
       "| Afghanistan | 1999        | cases       |       745   |\n",
       "| Afghanistan | 1999        | population  |  19987071   |\n",
       "| Afghanistan | 2000        | cases       |      2666   |\n",
       "| Afghanistan | 2000        | population  |  20595360   |\n",
       "| Brazil      | 1999        | cases       |     37737   |\n",
       "| Brazil      | 1999        | population  | 172006362   |\n",
       "\n"
      ],
      "text/plain": [
       "  country     year type       count    \n",
       "1 Afghanistan 1999 cases            745\n",
       "2 Afghanistan 1999 population  19987071\n",
       "3 Afghanistan 2000 cases           2666\n",
       "4 Afghanistan 2000 population  20595360\n",
       "5 Brazil      1999 cases          37737\n",
       "6 Brazil      1999 population 172006362"
      ]
     },
     "metadata": {},
     "output_type": "display_data"
    }
   ],
   "source": [
    "dim(table2)\n",
    "head(table2)"
   ]
  },
  {
   "cell_type": "code",
   "execution_count": 121,
   "metadata": {},
   "outputs": [
    {
     "data": {
      "text/html": [
       "<table>\n",
       "<thead><tr><th scope=col>country</th><th scope=col>year</th><th scope=col>cases</th><th scope=col>population</th></tr></thead>\n",
       "<tbody>\n",
       "\t<tr><td>Afghanistan</td><td>1999       </td><td>   745     </td><td>  19987071 </td></tr>\n",
       "\t<tr><td>Afghanistan</td><td>2000       </td><td>  2666     </td><td>  20595360 </td></tr>\n",
       "\t<tr><td>Brazil     </td><td>1999       </td><td> 37737     </td><td> 172006362 </td></tr>\n",
       "\t<tr><td>Brazil     </td><td>2000       </td><td> 80488     </td><td> 174504898 </td></tr>\n",
       "\t<tr><td>China      </td><td>1999       </td><td>212258     </td><td>1272915272 </td></tr>\n",
       "\t<tr><td>China      </td><td>2000       </td><td>213766     </td><td>1280428583 </td></tr>\n",
       "</tbody>\n",
       "</table>\n"
      ],
      "text/latex": [
       "\\begin{tabular}{r|llll}\n",
       " country & year & cases & population\\\\\n",
       "\\hline\n",
       "\t Afghanistan & 1999        &    745      &   19987071 \\\\\n",
       "\t Afghanistan & 2000        &   2666      &   20595360 \\\\\n",
       "\t Brazil      & 1999        &  37737      &  172006362 \\\\\n",
       "\t Brazil      & 2000        &  80488      &  174504898 \\\\\n",
       "\t China       & 1999        & 212258      & 1272915272 \\\\\n",
       "\t China       & 2000        & 213766      & 1280428583 \\\\\n",
       "\\end{tabular}\n"
      ],
      "text/markdown": [
       "\n",
       "| country | year | cases | population |\n",
       "|---|---|---|---|\n",
       "| Afghanistan | 1999        |    745      |   19987071  |\n",
       "| Afghanistan | 2000        |   2666      |   20595360  |\n",
       "| Brazil      | 1999        |  37737      |  172006362  |\n",
       "| Brazil      | 2000        |  80488      |  174504898  |\n",
       "| China       | 1999        | 212258      | 1272915272  |\n",
       "| China       | 2000        | 213766      | 1280428583  |\n",
       "\n"
      ],
      "text/plain": [
       "  country     year cases  population\n",
       "1 Afghanistan 1999    745   19987071\n",
       "2 Afghanistan 2000   2666   20595360\n",
       "3 Brazil      1999  37737  172006362\n",
       "4 Brazil      2000  80488  174504898\n",
       "5 China       1999 212258 1272915272\n",
       "6 China       2000 213766 1280428583"
      ]
     },
     "metadata": {},
     "output_type": "display_data"
    }
   ],
   "source": [
    "table2 %>% spread(key = type, value = count)"
   ]
  }
 ],
 "metadata": {
  "kernelspec": {
   "display_name": "R",
   "language": "R",
   "name": "ir"
  },
  "language_info": {
   "codemirror_mode": "r",
   "file_extension": ".r",
   "mimetype": "text/x-r-source",
   "name": "R",
   "pygments_lexer": "r",
   "version": "3.5.3"
  },
  "varInspector": {
   "cols": {
    "lenName": 16,
    "lenType": 16,
    "lenVar": 40
   },
   "kernels_config": {
    "python": {
     "delete_cmd_postfix": "",
     "delete_cmd_prefix": "del ",
     "library": "var_list.py",
     "varRefreshCmd": "print(var_dic_list())"
    },
    "r": {
     "delete_cmd_postfix": ") ",
     "delete_cmd_prefix": "rm(",
     "library": "var_list.r",
     "varRefreshCmd": "cat(var_dic_list()) "
    }
   },
   "types_to_exclude": [
    "module",
    "function",
    "builtin_function_or_method",
    "instance",
    "_Feature"
   ],
   "window_display": true
  }
 },
 "nbformat": 4,
 "nbformat_minor": 2
}

{
 "cells": [
  {
   "cell_type": "code",
   "execution_count": 1,
   "metadata": {
    "scrolled": true
   },
   "outputs": [
    {
     "name": "stderr",
     "output_type": "stream",
     "text": [
      "Registered S3 methods overwritten by 'ggplot2':\n",
      "  method         from \n",
      "  [.quosures     rlang\n",
      "  c.quosures     rlang\n",
      "  print.quosures rlang\n",
      "Registered S3 method overwritten by 'rvest':\n",
      "  method            from\n",
      "  read_xml.response xml2\n",
      "── \u001b[1mAttaching packages\u001b[22m ─────────────────────────────────────── tidyverse 1.2.1 ──\n",
      "\u001b[32m✔\u001b[39m \u001b[34mggplot2\u001b[39m 3.1.1       \u001b[32m✔\u001b[39m \u001b[34mpurrr  \u001b[39m 0.3.2  \n",
      "\u001b[32m✔\u001b[39m \u001b[34mtibble \u001b[39m 2.1.1       \u001b[32m✔\u001b[39m \u001b[34mdplyr  \u001b[39m 0.8.0.\u001b[31m1\u001b[39m\n",
      "\u001b[32m✔\u001b[39m \u001b[34mtidyr  \u001b[39m 0.8.3       \u001b[32m✔\u001b[39m \u001b[34mstringr\u001b[39m 1.4.0  \n",
      "\u001b[32m✔\u001b[39m \u001b[34mreadr  \u001b[39m 1.3.1       \u001b[32m✔\u001b[39m \u001b[34mforcats\u001b[39m 0.4.0  \n",
      "── \u001b[1mConflicts\u001b[22m ────────────────────────────────────────── tidyverse_conflicts() ──\n",
      "\u001b[31m✖\u001b[39m \u001b[34mdplyr\u001b[39m::\u001b[32mfilter()\u001b[39m masks \u001b[34mstats\u001b[39m::filter()\n",
      "\u001b[31m✖\u001b[39m \u001b[34mdplyr\u001b[39m::\u001b[32mlag()\u001b[39m    masks \u001b[34mstats\u001b[39m::lag()\n",
      "Loading required package: ParamHelpers\n",
      "\n",
      "Attaching package: ‘e1071’\n",
      "\n",
      "The following object is masked from ‘package:mlr’:\n",
      "\n",
      "    impute\n",
      "\n",
      "\n",
      "Attaching package: ‘xgboost’\n",
      "\n",
      "The following object is masked from ‘package:dplyr’:\n",
      "\n",
      "    slice\n",
      "\n"
     ]
    }
   ],
   "source": [
    "library(tidyverse)\n",
    "library(mlr)\n",
    "library(mlbench)\n",
    "library(e1071)\n",
    "library(xgboost)\n",
    "library(parallelMap)\n",
    "\n",
    "count_na = function(df){\n",
    "    sapply(df, function(x){sum(is.na(x))})\n",
    "    }"
   ]
  },
  {
   "cell_type": "markdown",
   "metadata": {},
   "source": [
    "## MLR: Machine Learning in R\n",
    "\n",
    "Site de referência: https://mlr.mlr-org.com/\n",
    "\n",
    "Aproveite para ver o tutorial básico [neste link](https://mlr.mlr-org.com/articles/tutorial/usecase_regression.html).\n",
    "\n",
    "![workflow](imgs/Selection_047.png)"
   ]
  },
  {
   "cell_type": "markdown",
   "metadata": {},
   "source": [
    "Vamos aprender o workflow com o `BostonHousing`. Descrição em na documentação do pacote [mlbench](https://www.rdocumentation.org/packages/mlbench/versions/2.1-1/topics/BostonHousing)."
   ]
  },
  {
   "cell_type": "code",
   "execution_count": 2,
   "metadata": {},
   "outputs": [
    {
     "name": "stderr",
     "output_type": "stream",
     "text": [
      "Registered S3 methods overwritten by 'ggplot2':\n",
      "  method         from \n",
      "  [.quosures     rlang\n",
      "  c.quosures     rlang\n",
      "  print.quosures rlang\n",
      "Registered S3 method overwritten by 'rvest':\n",
      "  method            from\n",
      "  read_xml.response xml2\n",
      "── \u001b[1mAttaching packages\u001b[22m ─────────────────────────────────────── tidyverse 1.2.1 ──\n",
      "\u001b[32m✔\u001b[39m \u001b[34mggplot2\u001b[39m 3.1.1       \u001b[32m✔\u001b[39m \u001b[34mpurrr  \u001b[39m 0.3.2  \n",
      "\u001b[32m✔\u001b[39m \u001b[34mtibble \u001b[39m 2.1.1       \u001b[32m✔\u001b[39m \u001b[34mdplyr  \u001b[39m 0.8.0.\u001b[31m1\u001b[39m\n",
      "\u001b[32m✔\u001b[39m \u001b[34mtidyr  \u001b[39m 0.8.3       \u001b[32m✔\u001b[39m \u001b[34mstringr\u001b[39m 1.4.0  \n",
      "\u001b[32m✔\u001b[39m \u001b[34mreadr  \u001b[39m 1.3.1       \u001b[32m✔\u001b[39m \u001b[34mforcats\u001b[39m 0.4.0  \n",
      "── \u001b[1mConflicts\u001b[22m ────────────────────────────────────────── tidyverse_conflicts() ──\n",
      "\u001b[31m✖\u001b[39m \u001b[34mdplyr\u001b[39m::\u001b[32mfilter()\u001b[39m masks \u001b[34mstats\u001b[39m::filter()\n",
      "\u001b[31m✖\u001b[39m \u001b[34mdplyr\u001b[39m::\u001b[32mlag()\u001b[39m    masks \u001b[34mstats\u001b[39m::lag()\n",
      "Loading required package: ParamHelpers\n"
     ]
    }
   ],
   "source": [
    "library(mlbench)\n",
    "library(tidyverse)\n",
    "library(mlr)"
   ]
  },
  {
   "cell_type": "code",
   "execution_count": 5,
   "metadata": {},
   "outputs": [
    {
     "data": {
      "text/html": [
       "<table>\n",
       "<caption>A data.frame: 6 × 14</caption>\n",
       "<thead>\n",
       "\t<tr><th scope=col>crim</th><th scope=col>zn</th><th scope=col>indus</th><th scope=col>chas</th><th scope=col>nox</th><th scope=col>rm</th><th scope=col>age</th><th scope=col>dis</th><th scope=col>rad</th><th scope=col>tax</th><th scope=col>ptratio</th><th scope=col>b</th><th scope=col>lstat</th><th scope=col>medv</th></tr>\n",
       "\t<tr><th scope=col>&lt;dbl&gt;</th><th scope=col>&lt;dbl&gt;</th><th scope=col>&lt;dbl&gt;</th><th scope=col>&lt;fct&gt;</th><th scope=col>&lt;dbl&gt;</th><th scope=col>&lt;dbl&gt;</th><th scope=col>&lt;dbl&gt;</th><th scope=col>&lt;dbl&gt;</th><th scope=col>&lt;dbl&gt;</th><th scope=col>&lt;dbl&gt;</th><th scope=col>&lt;dbl&gt;</th><th scope=col>&lt;dbl&gt;</th><th scope=col>&lt;dbl&gt;</th><th scope=col>&lt;dbl&gt;</th></tr>\n",
       "</thead>\n",
       "<tbody>\n",
       "\t<tr><td>0.00632</td><td>18</td><td>2.31</td><td>0</td><td>0.538</td><td>6.575</td><td>65.2</td><td>4.0900</td><td>1</td><td>296</td><td>15.3</td><td>396.90</td><td>4.98</td><td>24.0</td></tr>\n",
       "\t<tr><td>0.02731</td><td> 0</td><td>7.07</td><td>0</td><td>0.469</td><td>6.421</td><td>78.9</td><td>4.9671</td><td>2</td><td>242</td><td>17.8</td><td>396.90</td><td>9.14</td><td>21.6</td></tr>\n",
       "\t<tr><td>0.02729</td><td> 0</td><td>7.07</td><td>0</td><td>0.469</td><td>7.185</td><td>61.1</td><td>4.9671</td><td>2</td><td>242</td><td>17.8</td><td>392.83</td><td>4.03</td><td>34.7</td></tr>\n",
       "\t<tr><td>0.03237</td><td> 0</td><td>2.18</td><td>0</td><td>0.458</td><td>6.998</td><td>45.8</td><td>6.0622</td><td>3</td><td>222</td><td>18.7</td><td>394.63</td><td>2.94</td><td>33.4</td></tr>\n",
       "\t<tr><td>0.06905</td><td> 0</td><td>2.18</td><td>0</td><td>0.458</td><td>7.147</td><td>54.2</td><td>6.0622</td><td>3</td><td>222</td><td>18.7</td><td>396.90</td><td>5.33</td><td>36.2</td></tr>\n",
       "\t<tr><td>0.02985</td><td> 0</td><td>2.18</td><td>0</td><td>0.458</td><td>6.430</td><td>58.7</td><td>6.0622</td><td>3</td><td>222</td><td>18.7</td><td>394.12</td><td>5.21</td><td>28.7</td></tr>\n",
       "</tbody>\n",
       "</table>\n"
      ],
      "text/latex": [
       "A data.frame: 6 × 14\n",
       "\\begin{tabular}{r|llllllllllllll}\n",
       " crim & zn & indus & chas & nox & rm & age & dis & rad & tax & ptratio & b & lstat & medv\\\\\n",
       " <dbl> & <dbl> & <dbl> & <fct> & <dbl> & <dbl> & <dbl> & <dbl> & <dbl> & <dbl> & <dbl> & <dbl> & <dbl> & <dbl>\\\\\n",
       "\\hline\n",
       "\t 0.00632 & 18 & 2.31 & 0 & 0.538 & 6.575 & 65.2 & 4.0900 & 1 & 296 & 15.3 & 396.90 & 4.98 & 24.0\\\\\n",
       "\t 0.02731 &  0 & 7.07 & 0 & 0.469 & 6.421 & 78.9 & 4.9671 & 2 & 242 & 17.8 & 396.90 & 9.14 & 21.6\\\\\n",
       "\t 0.02729 &  0 & 7.07 & 0 & 0.469 & 7.185 & 61.1 & 4.9671 & 2 & 242 & 17.8 & 392.83 & 4.03 & 34.7\\\\\n",
       "\t 0.03237 &  0 & 2.18 & 0 & 0.458 & 6.998 & 45.8 & 6.0622 & 3 & 222 & 18.7 & 394.63 & 2.94 & 33.4\\\\\n",
       "\t 0.06905 &  0 & 2.18 & 0 & 0.458 & 7.147 & 54.2 & 6.0622 & 3 & 222 & 18.7 & 396.90 & 5.33 & 36.2\\\\\n",
       "\t 0.02985 &  0 & 2.18 & 0 & 0.458 & 6.430 & 58.7 & 6.0622 & 3 & 222 & 18.7 & 394.12 & 5.21 & 28.7\\\\\n",
       "\\end{tabular}\n"
      ],
      "text/markdown": [
       "\n",
       "A data.frame: 6 × 14\n",
       "\n",
       "| crim &lt;dbl&gt; | zn &lt;dbl&gt; | indus &lt;dbl&gt; | chas &lt;fct&gt; | nox &lt;dbl&gt; | rm &lt;dbl&gt; | age &lt;dbl&gt; | dis &lt;dbl&gt; | rad &lt;dbl&gt; | tax &lt;dbl&gt; | ptratio &lt;dbl&gt; | b &lt;dbl&gt; | lstat &lt;dbl&gt; | medv &lt;dbl&gt; |\n",
       "|---|---|---|---|---|---|---|---|---|---|---|---|---|---|\n",
       "| 0.00632 | 18 | 2.31 | 0 | 0.538 | 6.575 | 65.2 | 4.0900 | 1 | 296 | 15.3 | 396.90 | 4.98 | 24.0 |\n",
       "| 0.02731 |  0 | 7.07 | 0 | 0.469 | 6.421 | 78.9 | 4.9671 | 2 | 242 | 17.8 | 396.90 | 9.14 | 21.6 |\n",
       "| 0.02729 |  0 | 7.07 | 0 | 0.469 | 7.185 | 61.1 | 4.9671 | 2 | 242 | 17.8 | 392.83 | 4.03 | 34.7 |\n",
       "| 0.03237 |  0 | 2.18 | 0 | 0.458 | 6.998 | 45.8 | 6.0622 | 3 | 222 | 18.7 | 394.63 | 2.94 | 33.4 |\n",
       "| 0.06905 |  0 | 2.18 | 0 | 0.458 | 7.147 | 54.2 | 6.0622 | 3 | 222 | 18.7 | 396.90 | 5.33 | 36.2 |\n",
       "| 0.02985 |  0 | 2.18 | 0 | 0.458 | 6.430 | 58.7 | 6.0622 | 3 | 222 | 18.7 | 394.12 | 5.21 | 28.7 |\n",
       "\n"
      ],
      "text/plain": [
       "  crim    zn indus chas nox   rm    age  dis    rad tax ptratio b      lstat\n",
       "1 0.00632 18 2.31  0    0.538 6.575 65.2 4.0900 1   296 15.3    396.90 4.98 \n",
       "2 0.02731  0 7.07  0    0.469 6.421 78.9 4.9671 2   242 17.8    396.90 9.14 \n",
       "3 0.02729  0 7.07  0    0.469 7.185 61.1 4.9671 2   242 17.8    392.83 4.03 \n",
       "4 0.03237  0 2.18  0    0.458 6.998 45.8 6.0622 3   222 18.7    394.63 2.94 \n",
       "5 0.06905  0 2.18  0    0.458 7.147 54.2 6.0622 3   222 18.7    396.90 5.33 \n",
       "6 0.02985  0 2.18  0    0.458 6.430 58.7 6.0622 3   222 18.7    394.12 5.21 \n",
       "  medv\n",
       "1 24.0\n",
       "2 21.6\n",
       "3 34.7\n",
       "4 33.4\n",
       "5 36.2\n",
       "6 28.7"
      ]
     },
     "metadata": {},
     "output_type": "display_data"
    }
   ],
   "source": [
    "data(BostonHousing)\n",
    "df = BostonHousing\n",
    "head(df)"
   ]
  },
  {
   "cell_type": "code",
   "execution_count": 7,
   "metadata": {},
   "outputs": [],
   "source": [
    "?BostonHousing"
   ]
  },
  {
   "cell_type": "markdown",
   "metadata": {},
   "source": [
    "## 1. Criar a task"
   ]
  },
  {
   "cell_type": "code",
   "execution_count": 8,
   "metadata": {},
   "outputs": [],
   "source": [
    "regr.task = makeRegrTask(data = df, target = 'medv')"
   ]
  },
  {
   "cell_type": "code",
   "execution_count": 9,
   "metadata": {},
   "outputs": [
    {
     "data": {
      "text/plain": [
       "Supervised task: df\n",
       "Type: regr\n",
       "Target: medv\n",
       "Observations: 506\n",
       "Features:\n",
       "   numerics     factors     ordered functionals \n",
       "         12           1           0           0 \n",
       "Missings: FALSE\n",
       "Has weights: FALSE\n",
       "Has blocking: FALSE\n",
       "Has coordinates: FALSE"
      ]
     },
     "metadata": {},
     "output_type": "display_data"
    }
   ],
   "source": [
    "regr.task"
   ]
  },
  {
   "cell_type": "markdown",
   "metadata": {},
   "source": [
    "## 2. Definir o learner\n",
    "\n",
    "Checar os learners disponíveis no [site](https://mlr.mlr-org.com/articles/tutorial/integrated_learners.html)"
   ]
  },
  {
   "cell_type": "code",
   "execution_count": 10,
   "metadata": {},
   "outputs": [],
   "source": [
    "svm_learner = makeLearner(cl='regr.svm', cost = 1)"
   ]
  },
  {
   "cell_type": "code",
   "execution_count": 11,
   "metadata": {},
   "outputs": [
    {
     "data": {
      "text/plain": [
       "Learner regr.svm from package e1071\n",
       "Type: regr\n",
       "Name: Support Vector Machines (libsvm); Short name: svm\n",
       "Class: regr.svm\n",
       "Properties: numerics,factors\n",
       "Predict-Type: response\n",
       "Hyperparameters: cost=1\n"
      ]
     },
     "metadata": {},
     "output_type": "display_data"
    }
   ],
   "source": [
    "svm_learner"
   ]
  },
  {
   "cell_type": "markdown",
   "metadata": {},
   "source": [
    "## 3. Treinar o modelo\n",
    "\n",
    "Após os 2 primeiros passos, podemos definir a estratégia de resample e treinar o modelo.\n",
    "\n",
    "Aqui vamos criar duas estratégias: `Holdout` e `Cross Validation` com 5 folds."
   ]
  },
  {
   "cell_type": "code",
   "execution_count": 81,
   "metadata": {},
   "outputs": [],
   "source": [
    "holdout = makeResampleDesc(method = 'Holdout', split = 0.7)\n",
    "cv = makeResampleDesc(method = 'CV', iters = 8)"
   ]
  },
  {
   "cell_type": "code",
   "execution_count": 82,
   "metadata": {},
   "outputs": [
    {
     "data": {
      "text/plain": [
       "Resample description: cross-validation with 8 iterations.\n",
       "Predict: test\n",
       "Stratification: FALSE"
      ]
     },
     "metadata": {},
     "output_type": "display_data"
    }
   ],
   "source": [
    "cv"
   ]
  },
  {
   "cell_type": "code",
   "execution_count": 13,
   "metadata": {},
   "outputs": [
    {
     "data": {
      "text/plain": [
       "Resample description: holdout with 0.70 split rate.\n",
       "Predict: test\n",
       "Stratification: FALSE"
      ]
     },
     "metadata": {},
     "output_type": "display_data"
    },
    {
     "data": {
      "text/plain": [
       "Resample description: cross-validation with 5 iterations.\n",
       "Predict: test\n",
       "Stratification: FALSE"
      ]
     },
     "metadata": {},
     "output_type": "display_data"
    }
   ],
   "source": [
    "holdout\n",
    "cv"
   ]
  },
  {
   "cell_type": "markdown",
   "metadata": {},
   "source": [
    "Para treinar, usamos a função `resample()`."
   ]
  },
  {
   "cell_type": "code",
   "execution_count": 14,
   "metadata": {},
   "outputs": [
    {
     "name": "stderr",
     "output_type": "stream",
     "text": [
      "Resampling: holdout\n",
      "Measures:             mae       mse       \n",
      "[Resample] iter 1:    2.5856057 20.7799511\n",
      "\n",
      "\n",
      "Aggregated Result: mae.test.mean=2.5856057,mse.test.mean=20.7799511\n",
      "\n",
      "\n"
     ]
    }
   ],
   "source": [
    "res_holdout = resample(learner = svm_learner,task = regr.task,\n",
    "                       resampling = holdout, list(mae, mse) )"
   ]
  },
  {
   "cell_type": "code",
   "execution_count": 27,
   "metadata": {},
   "outputs": [
    {
     "name": "stderr",
     "output_type": "stream",
     "text": [
      "Resampling: cross-validation\n",
      "Measures:             mae       \n",
      "[Resample] iter 1:    2.2784589 \n",
      "[Resample] iter 2:    1.8464070 \n",
      "[Resample] iter 3:    2.4946917 \n",
      "[Resample] iter 4:    2.1577096 \n",
      "[Resample] iter 5:    2.3452422 \n",
      "\n",
      "\n",
      "Aggregated Result: mae.test.mean=2.2245019\n",
      "\n",
      "\n"
     ]
    }
   ],
   "source": [
    "set.seed(2019)\n",
    "res_cv = resample(svm_learner, regr.task, cv, mae)"
   ]
  },
  {
   "cell_type": "markdown",
   "metadata": {},
   "source": [
    "## 3.1 Com ajuste de hiperparâmetros"
   ]
  },
  {
   "cell_type": "code",
   "execution_count": 28,
   "metadata": {},
   "outputs": [],
   "source": [
    "parameters_svm = makeParamSet(makeNumericParam(\"cost\",lower = 0.1,\n",
    "                                              upper = 1),\n",
    "                             makeNumericParam(\"gamma\", lower = 0.1,\n",
    "                                              upper = 1))"
   ]
  },
  {
   "cell_type": "code",
   "execution_count": 29,
   "metadata": {},
   "outputs": [
    {
     "data": {
      "text/plain": [
       "         Type len Def   Constr Req Tunable Trafo\n",
       "cost  numeric   -   - 0.1 to 1   -    TRUE     -\n",
       "gamma numeric   -   - 0.1 to 1   -    TRUE     -"
      ]
     },
     "metadata": {},
     "output_type": "display_data"
    }
   ],
   "source": [
    "parameters_svm"
   ]
  },
  {
   "cell_type": "markdown",
   "metadata": {},
   "source": [
    "Definir a forma de busca, vamos usar `random search`. Mais detalhes no [link](https://mlr.mlr-org.com/articles/tutorial/tune.html)."
   ]
  },
  {
   "cell_type": "code",
   "execution_count": 31,
   "metadata": {},
   "outputs": [],
   "source": [
    "ctrl  = makeTuneControlRandom(maxit = 100)"
   ]
  },
  {
   "cell_type": "code",
   "execution_count": 34,
   "metadata": {},
   "outputs": [
    {
     "data": {
      "text/html": [
       "<dl>\n",
       "\t<dt>$cost</dt>\n",
       "\t\t<dd>0.945904041198082</dd>\n",
       "\t<dt>$gamma</dt>\n",
       "\t\t<dd>0.138959464384243</dd>\n",
       "</dl>\n"
      ],
      "text/latex": [
       "\\begin{description}\n",
       "\\item[\\$cost] 0.945904041198082\n",
       "\\item[\\$gamma] 0.138959464384243\n",
       "\\end{description}\n"
      ],
      "text/markdown": [
       "$cost\n",
       ":   0.945904041198082\n",
       "$gamma\n",
       ":   0.138959464384243\n",
       "\n",
       "\n"
      ],
      "text/plain": [
       "$cost\n",
       "[1] 0.945904\n",
       "\n",
       "$gamma\n",
       "[1] 0.1389595\n"
      ]
     },
     "metadata": {},
     "output_type": "display_data"
    }
   ],
   "source": [
    "tr$x"
   ]
  },
  {
   "cell_type": "code",
   "execution_count": 37,
   "metadata": {},
   "outputs": [
    {
     "data": {
      "text/plain": [
       "Resample instance for 506 cases.\n",
       "Resample description: cross-validation with 5 iterations.\n",
       "Predict: test\n",
       "Stratification: FALSE"
      ]
     },
     "metadata": {},
     "output_type": "display_data"
    }
   ],
   "source": [
    "tr$resampling"
   ]
  },
  {
   "cell_type": "code",
   "execution_count": 39,
   "metadata": {},
   "outputs": [
    {
     "data": {
      "text/plain": [
       "                   Type  len            Def                           Constr\n",
       "type           discrete    - eps-regression     eps-regression,nu-regression\n",
       "kernel         discrete    -         radial linear,polynomial,radial,sigmoid\n",
       "degree          integer    -              3                         1 to Inf\n",
       "gamma           numeric    -              -                         0 to Inf\n",
       "coef0           numeric    -              0                      -Inf to Inf\n",
       "cost            numeric    -              1                         0 to Inf\n",
       "nu              numeric    -            0.5                      -Inf to Inf\n",
       "cachesize       numeric    -             40                      -Inf to Inf\n",
       "tolerance       numeric    -          0.001                         0 to Inf\n",
       "epsilon         numeric    -              -                         0 to Inf\n",
       "shrinking       logical    -           TRUE                                -\n",
       "cross           integer    -              0                         0 to Inf\n",
       "fitted          logical    -           TRUE                                -\n",
       "scale     logicalvector <NA>           TRUE                                -\n",
       "          Req Tunable Trafo\n",
       "type        -    TRUE     -\n",
       "kernel      -    TRUE     -\n",
       "degree      Y    TRUE     -\n",
       "gamma       Y    TRUE     -\n",
       "coef0       Y    TRUE     -\n",
       "cost        Y    TRUE     -\n",
       "nu          Y    TRUE     -\n",
       "cachesize   -    TRUE     -\n",
       "tolerance   -    TRUE     -\n",
       "epsilon     Y    TRUE     -\n",
       "shrinking   -    TRUE     -\n",
       "cross       -   FALSE     -\n",
       "fitted      -   FALSE     -\n",
       "scale       -    TRUE     -"
      ]
     },
     "metadata": {},
     "output_type": "display_data"
    }
   ],
   "source": [
    "getLearnerParamSet(svm_learner)"
   ]
  },
  {
   "cell_type": "code",
   "execution_count": 32,
   "metadata": {
    "scrolled": true
   },
   "outputs": [
    {
     "name": "stderr",
     "output_type": "stream",
     "text": [
      "[Tune] Started tuning learner regr.svm for parameter set:\n",
      "         Type len Def   Constr Req Tunable Trafo\n",
      "cost  numeric   -   - 0.1 to 1   -    TRUE     -\n",
      "gamma numeric   -   - 0.1 to 1   -    TRUE     -\n",
      "With control class: TuneControlRandom\n",
      "Imputation value: Inf\n",
      "[Tune-x] 1: cost=0.802; gamma=0.7\n",
      "[Tune-y] 1: mae.test.mean=3.3302249; time: 0.0 min\n",
      "[Tune-x] 2: cost=0.409; gamma=0.713\n",
      "[Tune-y] 2: mae.test.mean=3.7629726; time: 0.0 min\n",
      "[Tune-x] 3: cost=0.542; gamma=0.509\n",
      "[Tune-y] 3: mae.test.mean=3.2051902; time: 0.0 min\n",
      "[Tune-x] 4: cost=0.4; gamma=0.742\n",
      "[Tune-y] 4: mae.test.mean=3.8274946; time: 0.0 min\n",
      "[Tune-x] 5: cost=0.529; gamma=0.75\n",
      "[Tune-y] 5: mae.test.mean=3.6524673; time: 0.0 min\n",
      "[Tune-x] 6: cost=0.818; gamma=0.51\n",
      "[Tune-y] 6: mae.test.mean=2.9913404; time: 0.0 min\n",
      "[Tune-x] 7: cost=0.898; gamma=0.32\n",
      "[Tune-y] 7: mae.test.mean=2.5550492; time: 0.0 min\n",
      "[Tune-x] 8: cost=0.428; gamma=0.907\n",
      "[Tune-y] 8: mae.test.mean=4.0515848; time: 0.0 min\n",
      "[Tune-x] 9: cost=0.692; gamma=0.142\n",
      "[Tune-y] 9: mae.test.mean=2.3296600; time: 0.0 min\n",
      "[Tune-x] 10: cost=0.597; gamma=0.726\n",
      "[Tune-y] 10: mae.test.mean=3.5397568; time: 0.0 min\n",
      "[Tune-x] 11: cost=0.92; gamma=0.645\n",
      "[Tune-y] 11: mae.test.mean=3.1717394; time: 0.0 min\n",
      "[Tune-x] 12: cost=0.401; gamma=0.244\n",
      "[Tune-y] 12: mae.test.mean=2.7756897; time: 0.0 min\n",
      "[Tune-x] 13: cost=0.731; gamma=0.739\n",
      "[Tune-y] 13: mae.test.mean=3.4410937; time: 0.0 min\n",
      "[Tune-x] 14: cost=0.741; gamma=0.11\n",
      "[Tune-y] 14: mae.test.mean=2.2997042; time: 0.0 min\n",
      "[Tune-x] 15: cost=0.43; gamma=0.506\n",
      "[Tune-y] 15: mae.test.mean=3.3326206; time: 0.0 min\n",
      "[Tune-x] 16: cost=0.68; gamma=0.438\n",
      "[Tune-y] 16: mae.test.mean=2.9374253; time: 0.0 min\n",
      "[Tune-x] 17: cost=0.598; gamma=0.555\n",
      "[Tune-y] 17: mae.test.mean=3.2398868; time: 0.0 min\n",
      "[Tune-x] 18: cost=0.623; gamma=0.942\n",
      "[Tune-y] 18: mae.test.mean=3.8376756; time: 0.0 min\n",
      "[Tune-x] 19: cost=0.824; gamma=0.369\n",
      "[Tune-y] 19: mae.test.mean=2.7034370; time: 0.0 min\n",
      "[Tune-x] 20: cost=0.308; gamma=0.638\n",
      "[Tune-y] 20: mae.test.mean=3.8482878; time: 0.0 min\n",
      "[Tune-x] 21: cost=0.935; gamma=0.416\n",
      "[Tune-y] 21: mae.test.mean=2.7465225; time: 0.0 min\n",
      "[Tune-x] 22: cost=0.106; gamma=0.783\n",
      "[Tune-y] 22: mae.test.mean=5.0247946; time: 0.0 min\n",
      "[Tune-x] 23: cost=0.39; gamma=0.957\n",
      "[Tune-y] 23: mae.test.mean=4.1960396; time: 0.0 min\n",
      "[Tune-x] 24: cost=0.539; gamma=0.915\n",
      "[Tune-y] 24: mae.test.mean=3.8955839; time: 0.0 min\n",
      "[Tune-x] 25: cost=0.646; gamma=0.168\n",
      "[Tune-y] 25: mae.test.mean=2.3911516; time: 0.0 min\n",
      "[Tune-x] 26: cost=0.971; gamma=0.808\n",
      "[Tune-y] 26: mae.test.mean=3.3908889; time: 0.0 min\n",
      "[Tune-x] 27: cost=0.671; gamma=0.443\n",
      "[Tune-y] 27: mae.test.mean=2.9549989; time: 0.0 min\n",
      "[Tune-x] 28: cost=0.642; gamma=0.395\n",
      "[Tune-y] 28: mae.test.mean=2.8789940; time: 0.0 min\n",
      "[Tune-x] 29: cost=0.592; gamma=0.269\n",
      "[Tune-y] 29: mae.test.mean=2.6437427; time: 0.0 min\n",
      "[Tune-x] 30: cost=0.482; gamma=0.646\n",
      "[Tune-y] 30: mae.test.mean=3.5351570; time: 0.0 min\n",
      "[Tune-x] 31: cost=0.704; gamma=0.546\n",
      "[Tune-y] 31: mae.test.mean=3.1349351; time: 0.0 min\n",
      "[Tune-x] 32: cost=0.216; gamma=0.255\n",
      "[Tune-y] 32: mae.test.mean=3.1694890; time: 0.0 min\n",
      "[Tune-x] 33: cost=0.476; gamma=0.381\n",
      "[Tune-y] 33: mae.test.mean=2.9964925; time: 0.0 min\n",
      "[Tune-x] 34: cost=0.912; gamma=0.401\n",
      "[Tune-y] 34: mae.test.mean=2.7259958; time: 0.0 min\n",
      "[Tune-x] 35: cost=0.998; gamma=0.417\n",
      "[Tune-y] 35: mae.test.mean=2.7141989; time: 0.0 min\n",
      "[Tune-x] 36: cost=0.666; gamma=0.35\n",
      "[Tune-y] 36: mae.test.mean=2.7644165; time: 0.0 min\n",
      "[Tune-x] 37: cost=0.366; gamma=0.615\n",
      "[Tune-y] 37: mae.test.mean=3.6689459; time: 0.0 min\n",
      "[Tune-x] 38: cost=0.925; gamma=0.191\n",
      "[Tune-y] 38: mae.test.mean=2.2769681; time: 0.0 min\n",
      "[Tune-x] 39: cost=0.851; gamma=0.309\n",
      "[Tune-y] 39: mae.test.mean=2.5587180; time: 0.0 min\n",
      "[Tune-x] 40: cost=0.593; gamma=0.801\n",
      "[Tune-y] 40: mae.test.mean=3.6601641; time: 0.0 min\n",
      "[Tune-x] 41: cost=0.935; gamma=0.496\n",
      "[Tune-y] 41: mae.test.mean=2.9026016; time: 0.0 min\n",
      "[Tune-x] 42: cost=0.133; gamma=0.208\n",
      "[Tune-y] 42: mae.test.mean=3.3742169; time: 0.0 min\n",
      "[Tune-x] 43: cost=0.65; gamma=0.66\n",
      "[Tune-y] 43: mae.test.mean=3.3787729; time: 0.0 min\n",
      "[Tune-x] 44: cost=0.272; gamma=0.495\n",
      "[Tune-y] 44: mae.test.mean=3.6464972; time: 0.0 min\n",
      "[Tune-x] 45: cost=0.273; gamma=0.485\n",
      "[Tune-y] 45: mae.test.mean=3.6190877; time: 0.0 min\n",
      "[Tune-x] 46: cost=0.486; gamma=0.593\n",
      "[Tune-y] 46: mae.test.mean=3.4342143; time: 0.0 min\n",
      "[Tune-x] 47: cost=0.939; gamma=0.266\n",
      "[Tune-y] 47: mae.test.mean=2.4214493; time: 0.0 min\n",
      "[Tune-x] 48: cost=0.929; gamma=0.533\n",
      "[Tune-y] 48: mae.test.mean=2.9752883; time: 0.0 min\n",
      "[Tune-x] 49: cost=0.542; gamma=0.6\n",
      "[Tune-y] 49: mae.test.mean=3.3792891; time: 0.0 min\n",
      "[Tune-x] 50: cost=0.628; gamma=0.239\n",
      "[Tune-y] 50: mae.test.mean=2.5476262; time: 0.0 min\n",
      "[Tune-x] 51: cost=0.154; gamma=0.929\n",
      "[Tune-y] 51: mae.test.mean=4.9038004; time: 0.0 min\n",
      "[Tune-x] 52: cost=0.728; gamma=0.369\n",
      "[Tune-y] 52: mae.test.mean=2.7627511; time: 0.0 min\n",
      "[Tune-x] 53: cost=0.934; gamma=0.318\n",
      "[Tune-y] 53: mae.test.mean=2.5316192; time: 0.0 min\n",
      "[Tune-x] 54: cost=0.618; gamma=0.471\n",
      "[Tune-y] 54: mae.test.mean=3.0518964; time: 0.0 min\n",
      "[Tune-x] 55: cost=0.566; gamma=0.734\n",
      "[Tune-y] 55: mae.test.mean=3.5851121; time: 0.0 min\n",
      "[Tune-x] 56: cost=0.836; gamma=0.508\n",
      "[Tune-y] 56: mae.test.mean=2.9765699; time: 0.0 min\n",
      "[Tune-x] 57: cost=0.954; gamma=0.688\n",
      "[Tune-y] 57: mae.test.mean=3.2227942; time: 0.0 min\n",
      "[Tune-x] 58: cost=0.878; gamma=0.678\n",
      "[Tune-y] 58: mae.test.mean=3.2487744; time: 0.0 min\n",
      "[Tune-x] 59: cost=0.988; gamma=0.641\n",
      "[Tune-y] 59: mae.test.mean=3.1317372; time: 0.0 min\n",
      "[Tune-x] 60: cost=0.807; gamma=0.197\n",
      "[Tune-y] 60: mae.test.mean=2.3429604; time: 0.0 min\n",
      "[Tune-x] 61: cost=0.37; gamma=0.126\n",
      "[Tune-y] 61: mae.test.mean=2.5692660; time: 0.0 min\n",
      "[Tune-x] 62: cost=0.335; gamma=0.543\n",
      "[Tune-y] 62: mae.test.mean=3.5980645; time: 0.0 min\n",
      "[Tune-x] 63: cost=0.617; gamma=0.827\n",
      "[Tune-y] 63: mae.test.mean=3.6763770; time: 0.0 min\n",
      "[Tune-x] 64: cost=0.916; gamma=0.629\n",
      "[Tune-y] 64: mae.test.mean=3.1471845; time: 0.0 min\n",
      "[Tune-x] 65: cost=0.329; gamma=0.539\n",
      "[Tune-y] 65: mae.test.mean=3.6019084; time: 0.0 min\n",
      "[Tune-x] 66: cost=0.477; gamma=0.686\n",
      "[Tune-y] 66: mae.test.mean=3.6142970; time: 0.0 min\n",
      "[Tune-x] 67: cost=0.987; gamma=0.499\n",
      "[Tune-y] 67: mae.test.mean=2.8837527; time: 0.0 min\n",
      "[Tune-x] 68: cost=0.233; gamma=0.148\n",
      "[Tune-y] 68: mae.test.mean=2.8276338; time: 0.0 min\n",
      "[Tune-x] 69: cost=0.755; gamma=0.141\n",
      "[Tune-y] 69: mae.test.mean=2.2953026; time: 0.0 min\n",
      "[Tune-x] 70: cost=0.308; gamma=0.156\n",
      "[Tune-y] 70: mae.test.mean=2.7011586; time: 0.0 min\n",
      "[Tune-x] 71: cost=0.157; gamma=0.277\n",
      "[Tune-y] 71: mae.test.mean=3.4777363; time: 0.0 min\n",
      "[Tune-x] 72: cost=0.72; gamma=0.306\n",
      "[Tune-y] 72: mae.test.mean=2.6336830; time: 0.0 min\n",
      "[Tune-x] 73: cost=0.651; gamma=0.363\n",
      "[Tune-y] 73: mae.test.mean=2.8035547; time: 0.0 min\n",
      "[Tune-x] 74: cost=0.624; gamma=0.485\n",
      "[Tune-y] 74: mae.test.mean=3.0755661; time: 0.0 min\n",
      "[Tune-x] 75: cost=0.244; gamma=0.317\n",
      "[Tune-y] 75: mae.test.mean=3.2709016; time: 0.0 min\n",
      "[Tune-x] 76: cost=0.125; gamma=0.356\n",
      "[Tune-y] 76: mae.test.mean=3.9540026; time: 0.0 min\n",
      "[Tune-x] 77: cost=0.289; gamma=0.203\n",
      "[Tune-y] 77: mae.test.mean=2.8504845; time: 0.0 min\n",
      "[Tune-x] 78: cost=0.632; gamma=0.265\n",
      "[Tune-y] 78: mae.test.mean=2.6043489; time: 0.0 min\n",
      "[Tune-x] 79: cost=0.936; gamma=0.766\n",
      "[Tune-y] 79: mae.test.mean=3.3502936; time: 0.0 min\n",
      "[Tune-x] 80: cost=0.107; gamma=0.348\n",
      "[Tune-y] 80: mae.test.mean=4.0739733; time: 0.0 min\n",
      "[Tune-x] 81: cost=0.959; gamma=0.949\n",
      "[Tune-y] 81: mae.test.mean=3.5917387; time: 0.0 min\n",
      "[Tune-x] 82: cost=0.959; gamma=0.431\n",
      "[Tune-y] 82: mae.test.mean=2.7653720; time: 0.0 min\n",
      "[Tune-x] 83: cost=0.324; gamma=0.276\n",
      "[Tune-y] 83: mae.test.mean=2.9704951; time: 0.0 min\n",
      "[Tune-x] 84: cost=0.3; gamma=0.678\n",
      "[Tune-y] 84: mae.test.mean=3.9441517; time: 0.0 min\n",
      "[Tune-x] 85: cost=0.268; gamma=0.131\n",
      "[Tune-y] 85: mae.test.mean=2.7217042; time: 0.0 min\n",
      "[Tune-x] 86: cost=0.946; gamma=0.139\n",
      "[Tune-y] 86: mae.test.mean=2.2119958; time: 0.0 min\n",
      "[Tune-x] 87: cost=0.726; gamma=0.92\n",
      "[Tune-y] 87: mae.test.mean=3.7090517; time: 0.0 min\n",
      "[Tune-x] 88: cost=0.359; gamma=0.898\n",
      "[Tune-y] 88: mae.test.mean=4.1726978; time: 0.0 min\n",
      "[Tune-x] 89: cost=0.742; gamma=0.905\n",
      "[Tune-y] 89: mae.test.mean=3.6755957; time: 0.0 min\n",
      "[Tune-x] 90: cost=0.886; gamma=0.905\n",
      "[Tune-y] 90: mae.test.mean=3.5740563; time: 0.0 min\n"
     ]
    },
    {
     "name": "stderr",
     "output_type": "stream",
     "text": [
      "[Tune-x] 91: cost=0.245; gamma=0.986\n",
      "[Tune-y] 91: mae.test.mean=4.6019590; time: 0.0 min\n",
      "[Tune-x] 92: cost=0.449; gamma=0.162\n",
      "[Tune-y] 92: mae.test.mean=2.5496946; time: 0.0 min\n",
      "[Tune-x] 93: cost=0.691; gamma=0.765\n",
      "[Tune-y] 93: mae.test.mean=3.5130059; time: 0.0 min\n",
      "[Tune-x] 94: cost=0.92; gamma=0.518\n",
      "[Tune-y] 94: mae.test.mean=2.9531818; time: 0.0 min\n",
      "[Tune-x] 95: cost=0.239; gamma=0.937\n",
      "[Tune-y] 95: mae.test.mean=4.5571643; time: 0.0 min\n",
      "[Tune-x] 96: cost=0.589; gamma=0.945\n",
      "[Tune-y] 96: mae.test.mean=3.8780895; time: 0.0 min\n",
      "[Tune-x] 97: cost=0.377; gamma=0.834\n",
      "[Tune-y] 97: mae.test.mean=4.0328014; time: 0.0 min\n",
      "[Tune-x] 98: cost=0.239; gamma=0.817\n",
      "[Tune-y] 98: mae.test.mean=4.3796056; time: 0.0 min\n",
      "[Tune-x] 99: cost=0.425; gamma=0.639\n",
      "[Tune-y] 99: mae.test.mean=3.6075700; time: 0.0 min\n",
      "[Tune-x] 100: cost=0.924; gamma=0.99\n",
      "[Tune-y] 100: mae.test.mean=3.6698739; time: 0.0 min\n",
      "[Tune] Result: cost=0.946; gamma=0.139 : mae.test.mean=2.2119958\n"
     ]
    }
   ],
   "source": [
    "set.seed(2019)\n",
    "tr = tuneParams(svm_learner, regr.task, cv, mae, parameters_svm, \n",
    "               ctrl)"
   ]
  },
  {
   "cell_type": "markdown",
   "metadata": {},
   "source": [
    "Melhores hiperparâmetros:"
   ]
  },
  {
   "cell_type": "code",
   "execution_count": 40,
   "metadata": {},
   "outputs": [
    {
     "data": {
      "text/html": [
       "<dl>\n",
       "\t<dt>$cost</dt>\n",
       "\t\t<dd>0.945904041198082</dd>\n",
       "\t<dt>$gamma</dt>\n",
       "\t\t<dd>0.138959464384243</dd>\n",
       "</dl>\n"
      ],
      "text/latex": [
       "\\begin{description}\n",
       "\\item[\\$cost] 0.945904041198082\n",
       "\\item[\\$gamma] 0.138959464384243\n",
       "\\end{description}\n"
      ],
      "text/markdown": [
       "$cost\n",
       ":   0.945904041198082\n",
       "$gamma\n",
       ":   0.138959464384243\n",
       "\n",
       "\n"
      ],
      "text/plain": [
       "$cost\n",
       "[1] 0.945904\n",
       "\n",
       "$gamma\n",
       "[1] 0.1389595\n"
      ]
     },
     "metadata": {},
     "output_type": "display_data"
    }
   ],
   "source": [
    "tr$x"
   ]
  },
  {
   "cell_type": "code",
   "execution_count": null,
   "metadata": {},
   "outputs": [],
   "source": []
  },
  {
   "cell_type": "code",
   "execution_count": null,
   "metadata": {},
   "outputs": [],
   "source": []
  },
  {
   "cell_type": "code",
   "execution_count": null,
   "metadata": {},
   "outputs": [],
   "source": []
  },
  {
   "cell_type": "code",
   "execution_count": null,
   "metadata": {},
   "outputs": [],
   "source": []
  },
  {
   "cell_type": "code",
   "execution_count": null,
   "metadata": {},
   "outputs": [],
   "source": []
  },
  {
   "cell_type": "code",
   "execution_count": null,
   "metadata": {},
   "outputs": [],
   "source": []
  },
  {
   "cell_type": "code",
   "execution_count": null,
   "metadata": {},
   "outputs": [],
   "source": []
  },
  {
   "cell_type": "code",
   "execution_count": null,
   "metadata": {},
   "outputs": [],
   "source": []
  },
  {
   "cell_type": "code",
   "execution_count": null,
   "metadata": {},
   "outputs": [],
   "source": []
  },
  {
   "cell_type": "code",
   "execution_count": null,
   "metadata": {},
   "outputs": [],
   "source": []
  },
  {
   "cell_type": "code",
   "execution_count": null,
   "metadata": {},
   "outputs": [],
   "source": []
  },
  {
   "cell_type": "code",
   "execution_count": null,
   "metadata": {},
   "outputs": [],
   "source": []
  },
  {
   "cell_type": "markdown",
   "metadata": {},
   "source": [
    "# Agora é sua vez!\n",
    "\n",
    "\n",
    "![your_turn](imgs/avengers.jpg)\n",
    "\n",
    "\n",
    "\n",
    "\n",
    "## Faça o mesmo com o conjunto de dados [Soybean](https://www.rdocumentation.org/packages/mlbench/versions/2.1-1/topics/Soybean) do pacote mlbench. \n",
    "\n",
    "### Siga as instruções abaixo:\n",
    "\n",
    "1. Crie um holdout set e NÃO USE DURANTE O CROSS VALIDATION\n",
    "2. Vamos comparar `xgboost` e `svm`\n",
    "3. Crie um learner para cada tecninca\n",
    "4. Use cv com 5 folds como técnica de amostragem (resample)\n",
    "5. Use random search com 100 iterações como controle do ajuste de parâmetros\n",
    "6. Encontre os melhores hiperparâmetros para cada técnica\n",
    "7. Ao fim, treinaremos um modelo com os melhores e testaremos no conjunto separado no item 1 para comparar a performance dos dois"
   ]
  },
  {
   "cell_type": "markdown",
   "metadata": {},
   "source": [
    "## 0. Criando dummy features (0 e 1 para categóricas) "
   ]
  },
  {
   "cell_type": "code",
   "execution_count": 48,
   "metadata": {},
   "outputs": [
    {
     "data": {
      "text/html": [
       "<ol class=list-inline>\n",
       "\t<li>683</li>\n",
       "\t<li>36</li>\n",
       "</ol>\n"
      ],
      "text/latex": [
       "\\begin{enumerate*}\n",
       "\\item 683\n",
       "\\item 36\n",
       "\\end{enumerate*}\n"
      ],
      "text/markdown": [
       "1. 683\n",
       "2. 36\n",
       "\n",
       "\n"
      ],
      "text/plain": [
       "[1] 683  36"
      ]
     },
     "metadata": {},
     "output_type": "display_data"
    },
    {
     "data": {
      "text/html": [
       "<ol class=list-inline>\n",
       "\t<li>683</li>\n",
       "\t<li>100</li>\n",
       "</ol>\n"
      ],
      "text/latex": [
       "\\begin{enumerate*}\n",
       "\\item 683\n",
       "\\item 100\n",
       "\\end{enumerate*}\n"
      ],
      "text/markdown": [
       "1. 683\n",
       "2. 100\n",
       "\n",
       "\n"
      ],
      "text/plain": [
       "[1] 683 100"
      ]
     },
     "metadata": {},
     "output_type": "display_data"
    }
   ],
   "source": [
    "data(Soybean,package = 'mlbench')\n",
    "soy = createDummyFeatures(Soybean,target = \"Class\")\n",
    "dim(Soybean)\n",
    "dim(soy)\n"
   ]
  },
  {
   "cell_type": "code",
   "execution_count": 52,
   "metadata": {},
   "outputs": [
    {
     "data": {
      "text/plain": [
       "\n",
       "               2-4-d-injury         alternarialeaf-spot \n",
       "                         16                          91 \n",
       "                anthracnose            bacterial-blight \n",
       "                         44                          20 \n",
       "          bacterial-pustule                  brown-spot \n",
       "                         20                          92 \n",
       "             brown-stem-rot                charcoal-rot \n",
       "                         44                          20 \n",
       "              cyst-nematode diaporthe-pod-&-stem-blight \n",
       "                         14                          15 \n",
       "      diaporthe-stem-canker                downy-mildew \n",
       "                         20                          20 \n",
       "         frog-eye-leaf-spot            herbicide-injury \n",
       "                         91                           8 \n",
       "     phyllosticta-leaf-spot            phytophthora-rot \n",
       "                         20                          88 \n",
       "             powdery-mildew           purple-seed-stain \n",
       "                         20                          20 \n",
       "       rhizoctonia-root-rot \n",
       "                         20 "
      ]
     },
     "metadata": {},
     "output_type": "display_data"
    }
   ],
   "source": [
    "table(soy$Class)"
   ]
  },
  {
   "cell_type": "code",
   "execution_count": 53,
   "metadata": {},
   "outputs": [
    {
     "data": {
      "text/html": [
       "<ol class=list-inline>\n",
       "\t<li>562</li>\n",
       "\t<li>100</li>\n",
       "</ol>\n"
      ],
      "text/latex": [
       "\\begin{enumerate*}\n",
       "\\item 562\n",
       "\\item 100\n",
       "\\end{enumerate*}\n"
      ],
      "text/markdown": [
       "1. 562\n",
       "2. 100\n",
       "\n",
       "\n"
      ],
      "text/plain": [
       "[1] 562 100"
      ]
     },
     "metadata": {},
     "output_type": "display_data"
    }
   ],
   "source": [
    "dim(drop_na(soy))"
   ]
  },
  {
   "cell_type": "code",
   "execution_count": 65,
   "metadata": {},
   "outputs": [
    {
     "name": "stderr",
     "output_type": "stream",
     "text": [
      "Warning message in makeClassifTask(data = drop_na(soy), target = \"Class\"):\n",
      "“Target column 'Class' contains empty factor levels”"
     ]
    }
   ],
   "source": [
    "task = makeClassifTask(data = drop_na(soy), target = 'Class')\n",
    "set.seed(25)\n",
    "holdout = makeResampleInstance(\"Holdout\",task, split = 0.7)\n",
    "tsk_train = subsetTask(task, holdout$train.inds[[1]])\n",
    "tsk_test = subsetTask(task, holdout$test.inds[[1]])"
   ]
  },
  {
   "cell_type": "code",
   "execution_count": 67,
   "metadata": {},
   "outputs": [
    {
     "data": {
      "text/plain": [
       "Supervised task: drop_na(soy)\n",
       "Type: classif\n",
       "Target: Class\n",
       "Observations: 562\n",
       "Features:\n",
       "   numerics     factors     ordered functionals \n",
       "         99           0           0           0 \n",
       "Missings: FALSE\n",
       "Has weights: FALSE\n",
       "Has blocking: FALSE\n",
       "Has coordinates: FALSE\n",
       "Classes: 15\n",
       "   alternarialeaf-spot            anthracnose       bacterial-blight \n",
       "                    91                     44                     20 \n",
       "     bacterial-pustule             brown-spot         brown-stem-rot \n",
       "                    20                     92                     44 \n",
       "          charcoal-rot  diaporthe-stem-canker           downy-mildew \n",
       "                    20                     20                     20 \n",
       "    frog-eye-leaf-spot phyllosticta-leaf-spot       phytophthora-rot \n",
       "                    91                     20                     20 \n",
       "        powdery-mildew      purple-seed-stain   rhizoctonia-root-rot \n",
       "                    20                     20                     20 \n",
       "Positive class: NA"
      ]
     },
     "metadata": {},
     "output_type": "display_data"
    }
   ],
   "source": [
    "task"
   ]
  },
  {
   "cell_type": "code",
   "execution_count": 68,
   "metadata": {},
   "outputs": [
    {
     "data": {
      "text/plain": [
       "Supervised task: drop_na(soy)\n",
       "Type: classif\n",
       "Target: Class\n",
       "Observations: 169\n",
       "Features:\n",
       "   numerics     factors     ordered functionals \n",
       "         99           0           0           0 \n",
       "Missings: FALSE\n",
       "Has weights: FALSE\n",
       "Has blocking: FALSE\n",
       "Has coordinates: FALSE\n",
       "Classes: 15\n",
       "   alternarialeaf-spot            anthracnose       bacterial-blight \n",
       "                    27                     13                      4 \n",
       "     bacterial-pustule             brown-spot         brown-stem-rot \n",
       "                     6                     30                     16 \n",
       "          charcoal-rot  diaporthe-stem-canker           downy-mildew \n",
       "                     6                      5                      6 \n",
       "    frog-eye-leaf-spot phyllosticta-leaf-spot       phytophthora-rot \n",
       "                    23                      7                      6 \n",
       "        powdery-mildew      purple-seed-stain   rhizoctonia-root-rot \n",
       "                     5                      7                      8 \n",
       "Positive class: NA"
      ]
     },
     "metadata": {},
     "output_type": "display_data"
    }
   ],
   "source": [
    "tsk_test"
   ]
  },
  {
   "cell_type": "code",
   "execution_count": 64,
   "metadata": {},
   "outputs": [
    {
     "data": {
      "text/html": [
       "<ol class=list-inline>\n",
       "\t<li>17</li>\n",
       "\t<li>497</li>\n",
       "\t<li>42</li>\n",
       "\t<li>237</li>\n",
       "\t<li>97</li>\n",
       "\t<li>311</li>\n",
       "\t<li>540</li>\n",
       "\t<li>364</li>\n",
       "\t<li>5</li>\n",
       "\t<li>291</li>\n",
       "\t<li>234</li>\n",
       "\t<li>463</li>\n",
       "\t<li>105</li>\n",
       "\t<li>202</li>\n",
       "\t<li>332</li>\n",
       "\t<li>432</li>\n",
       "\t<li>174</li>\n",
       "\t<li>560</li>\n",
       "\t<li>542</li>\n",
       "\t<li>461</li>\n",
       "\t<li>320</li>\n",
       "\t<li>36</li>\n",
       "\t<li>120</li>\n",
       "\t<li>24</li>\n",
       "\t<li>121</li>\n",
       "\t<li>47</li>\n",
       "\t<li>68</li>\n",
       "\t<li>142</li>\n",
       "\t<li>551</li>\n",
       "\t<li>446</li>\n",
       "\t<li>472</li>\n",
       "\t<li>114</li>\n",
       "\t<li>290</li>\n",
       "\t<li>280</li>\n",
       "\t<li>221</li>\n",
       "\t<li>215</li>\n",
       "\t<li>490</li>\n",
       "\t<li>484</li>\n",
       "\t<li>192</li>\n",
       "\t<li>54</li>\n",
       "\t<li>155</li>\n",
       "\t<li>118</li>\n",
       "\t<li>448</li>\n",
       "\t<li>153</li>\n",
       "\t<li>27</li>\n",
       "\t<li>288</li>\n",
       "\t<li>535</li>\n",
       "\t<li>167</li>\n",
       "\t<li>550</li>\n",
       "\t<li>103</li>\n",
       "\t<li>312</li>\n",
       "\t<li>55</li>\n",
       "\t<li>23</li>\n",
       "\t<li>256</li>\n",
       "\t<li>327</li>\n",
       "\t<li>409</li>\n",
       "\t<li>270</li>\n",
       "\t<li>369</li>\n",
       "\t<li>358</li>\n",
       "\t<li>370</li>\n",
       "\t<li>412</li>\n",
       "\t<li>58</li>\n",
       "\t<li>185</li>\n",
       "\t<li>244</li>\n",
       "\t<li>197</li>\n",
       "\t<li>2</li>\n",
       "\t<li>9</li>\n",
       "\t<li>193</li>\n",
       "\t<li>482</li>\n",
       "\t<li>171</li>\n",
       "\t<li>324</li>\n",
       "\t<li>87</li>\n",
       "\t<li>150</li>\n",
       "\t<li>371</li>\n",
       "\t<li>10</li>\n",
       "\t<li>476</li>\n",
       "\t<li>501</li>\n",
       "\t<li>220</li>\n",
       "\t<li>468</li>\n",
       "\t<li>107</li>\n",
       "\t<li>519</li>\n",
       "\t<li>231</li>\n",
       "\t<li>233</li>\n",
       "\t<li>262</li>\n",
       "\t<li>180</li>\n",
       "\t<li>41</li>\n",
       "\t<li>35</li>\n",
       "\t<li>343</li>\n",
       "\t<li>134</li>\n",
       "\t<li>418</li>\n",
       "\t<li>341</li>\n",
       "\t<li>136</li>\n",
       "\t<li>440</li>\n",
       "\t<li>179</li>\n",
       "\t<li>146</li>\n",
       "\t<li>254</li>\n",
       "\t<li>382</li>\n",
       "\t<li>102</li>\n",
       "\t<li>34</li>\n",
       "\t<li>176</li>\n",
       "\t<li>308</li>\n",
       "\t<li>98</li>\n",
       "\t<li>213</li>\n",
       "\t<li>56</li>\n",
       "\t<li>457</li>\n",
       "\t<li>62</li>\n",
       "\t<li>301</li>\n",
       "\t<li>93</li>\n",
       "\t<li>111</li>\n",
       "\t<li>376</li>\n",
       "\t<li>217</li>\n",
       "\t<li>203</li>\n",
       "\t<li>20</li>\n",
       "\t<li>453</li>\n",
       "\t<li>30</li>\n",
       "\t<li>84</li>\n",
       "\t<li>456</li>\n",
       "\t<li>425</li>\n",
       "\t<li>344</li>\n",
       "\t<li>313</li>\n",
       "\t<li>379</li>\n",
       "\t<li>43</li>\n",
       "\t<li>365</li>\n",
       "\t<li>318</li>\n",
       "\t<li>86</li>\n",
       "\t<li>515</li>\n",
       "\t<li>53</li>\n",
       "\t<li>375</li>\n",
       "\t<li>117</li>\n",
       "\t<li>559</li>\n",
       "\t<li>449</li>\n",
       "\t<li>471</li>\n",
       "\t<li>353</li>\n",
       "\t<li>156</li>\n",
       "\t<li>21</li>\n",
       "\t<li>445</li>\n",
       "\t<li>137</li>\n",
       "\t<li>206</li>\n",
       "\t<li>261</li>\n",
       "\t<li>367</li>\n",
       "\t<li>13</li>\n",
       "\t<li>431</li>\n",
       "\t<li>408</li>\n",
       "\t<li>481</li>\n",
       "\t<li>397</li>\n",
       "\t<li>424</li>\n",
       "\t<li>380</li>\n",
       "\t<li>504</li>\n",
       "\t<li>326</li>\n",
       "\t<li>211</li>\n",
       "\t<li>50</li>\n",
       "\t<li>532</li>\n",
       "\t<li>166</li>\n",
       "\t<li>372</li>\n",
       "\t<li>219</li>\n",
       "\t<li>209</li>\n",
       "\t<li>554</li>\n",
       "\t<li>177</li>\n",
       "\t<li>337</li>\n",
       "\t<li>277</li>\n",
       "\t<li>394</li>\n",
       "\t<li>16</li>\n",
       "\t<li>125</li>\n",
       "\t<li>434</li>\n",
       "\t<li>73</li>\n",
       "\t<li>243</li>\n",
       "\t<li>546</li>\n",
       "\t<li>129</li>\n",
       "\t<li>255</li>\n",
       "</ol>\n"
      ],
      "text/latex": [
       "\\begin{enumerate*}\n",
       "\\item 17\n",
       "\\item 497\n",
       "\\item 42\n",
       "\\item 237\n",
       "\\item 97\n",
       "\\item 311\n",
       "\\item 540\n",
       "\\item 364\n",
       "\\item 5\n",
       "\\item 291\n",
       "\\item 234\n",
       "\\item 463\n",
       "\\item 105\n",
       "\\item 202\n",
       "\\item 332\n",
       "\\item 432\n",
       "\\item 174\n",
       "\\item 560\n",
       "\\item 542\n",
       "\\item 461\n",
       "\\item 320\n",
       "\\item 36\n",
       "\\item 120\n",
       "\\item 24\n",
       "\\item 121\n",
       "\\item 47\n",
       "\\item 68\n",
       "\\item 142\n",
       "\\item 551\n",
       "\\item 446\n",
       "\\item 472\n",
       "\\item 114\n",
       "\\item 290\n",
       "\\item 280\n",
       "\\item 221\n",
       "\\item 215\n",
       "\\item 490\n",
       "\\item 484\n",
       "\\item 192\n",
       "\\item 54\n",
       "\\item 155\n",
       "\\item 118\n",
       "\\item 448\n",
       "\\item 153\n",
       "\\item 27\n",
       "\\item 288\n",
       "\\item 535\n",
       "\\item 167\n",
       "\\item 550\n",
       "\\item 103\n",
       "\\item 312\n",
       "\\item 55\n",
       "\\item 23\n",
       "\\item 256\n",
       "\\item 327\n",
       "\\item 409\n",
       "\\item 270\n",
       "\\item 369\n",
       "\\item 358\n",
       "\\item 370\n",
       "\\item 412\n",
       "\\item 58\n",
       "\\item 185\n",
       "\\item 244\n",
       "\\item 197\n",
       "\\item 2\n",
       "\\item 9\n",
       "\\item 193\n",
       "\\item 482\n",
       "\\item 171\n",
       "\\item 324\n",
       "\\item 87\n",
       "\\item 150\n",
       "\\item 371\n",
       "\\item 10\n",
       "\\item 476\n",
       "\\item 501\n",
       "\\item 220\n",
       "\\item 468\n",
       "\\item 107\n",
       "\\item 519\n",
       "\\item 231\n",
       "\\item 233\n",
       "\\item 262\n",
       "\\item 180\n",
       "\\item 41\n",
       "\\item 35\n",
       "\\item 343\n",
       "\\item 134\n",
       "\\item 418\n",
       "\\item 341\n",
       "\\item 136\n",
       "\\item 440\n",
       "\\item 179\n",
       "\\item 146\n",
       "\\item 254\n",
       "\\item 382\n",
       "\\item 102\n",
       "\\item 34\n",
       "\\item 176\n",
       "\\item 308\n",
       "\\item 98\n",
       "\\item 213\n",
       "\\item 56\n",
       "\\item 457\n",
       "\\item 62\n",
       "\\item 301\n",
       "\\item 93\n",
       "\\item 111\n",
       "\\item 376\n",
       "\\item 217\n",
       "\\item 203\n",
       "\\item 20\n",
       "\\item 453\n",
       "\\item 30\n",
       "\\item 84\n",
       "\\item 456\n",
       "\\item 425\n",
       "\\item 344\n",
       "\\item 313\n",
       "\\item 379\n",
       "\\item 43\n",
       "\\item 365\n",
       "\\item 318\n",
       "\\item 86\n",
       "\\item 515\n",
       "\\item 53\n",
       "\\item 375\n",
       "\\item 117\n",
       "\\item 559\n",
       "\\item 449\n",
       "\\item 471\n",
       "\\item 353\n",
       "\\item 156\n",
       "\\item 21\n",
       "\\item 445\n",
       "\\item 137\n",
       "\\item 206\n",
       "\\item 261\n",
       "\\item 367\n",
       "\\item 13\n",
       "\\item 431\n",
       "\\item 408\n",
       "\\item 481\n",
       "\\item 397\n",
       "\\item 424\n",
       "\\item 380\n",
       "\\item 504\n",
       "\\item 326\n",
       "\\item 211\n",
       "\\item 50\n",
       "\\item 532\n",
       "\\item 166\n",
       "\\item 372\n",
       "\\item 219\n",
       "\\item 209\n",
       "\\item 554\n",
       "\\item 177\n",
       "\\item 337\n",
       "\\item 277\n",
       "\\item 394\n",
       "\\item 16\n",
       "\\item 125\n",
       "\\item 434\n",
       "\\item 73\n",
       "\\item 243\n",
       "\\item 546\n",
       "\\item 129\n",
       "\\item 255\n",
       "\\end{enumerate*}\n"
      ],
      "text/markdown": [
       "1. 17\n",
       "2. 497\n",
       "3. 42\n",
       "4. 237\n",
       "5. 97\n",
       "6. 311\n",
       "7. 540\n",
       "8. 364\n",
       "9. 5\n",
       "10. 291\n",
       "11. 234\n",
       "12. 463\n",
       "13. 105\n",
       "14. 202\n",
       "15. 332\n",
       "16. 432\n",
       "17. 174\n",
       "18. 560\n",
       "19. 542\n",
       "20. 461\n",
       "21. 320\n",
       "22. 36\n",
       "23. 120\n",
       "24. 24\n",
       "25. 121\n",
       "26. 47\n",
       "27. 68\n",
       "28. 142\n",
       "29. 551\n",
       "30. 446\n",
       "31. 472\n",
       "32. 114\n",
       "33. 290\n",
       "34. 280\n",
       "35. 221\n",
       "36. 215\n",
       "37. 490\n",
       "38. 484\n",
       "39. 192\n",
       "40. 54\n",
       "41. 155\n",
       "42. 118\n",
       "43. 448\n",
       "44. 153\n",
       "45. 27\n",
       "46. 288\n",
       "47. 535\n",
       "48. 167\n",
       "49. 550\n",
       "50. 103\n",
       "51. 312\n",
       "52. 55\n",
       "53. 23\n",
       "54. 256\n",
       "55. 327\n",
       "56. 409\n",
       "57. 270\n",
       "58. 369\n",
       "59. 358\n",
       "60. 370\n",
       "61. 412\n",
       "62. 58\n",
       "63. 185\n",
       "64. 244\n",
       "65. 197\n",
       "66. 2\n",
       "67. 9\n",
       "68. 193\n",
       "69. 482\n",
       "70. 171\n",
       "71. 324\n",
       "72. 87\n",
       "73. 150\n",
       "74. 371\n",
       "75. 10\n",
       "76. 476\n",
       "77. 501\n",
       "78. 220\n",
       "79. 468\n",
       "80. 107\n",
       "81. 519\n",
       "82. 231\n",
       "83. 233\n",
       "84. 262\n",
       "85. 180\n",
       "86. 41\n",
       "87. 35\n",
       "88. 343\n",
       "89. 134\n",
       "90. 418\n",
       "91. 341\n",
       "92. 136\n",
       "93. 440\n",
       "94. 179\n",
       "95. 146\n",
       "96. 254\n",
       "97. 382\n",
       "98. 102\n",
       "99. 34\n",
       "100. 176\n",
       "101. 308\n",
       "102. 98\n",
       "103. 213\n",
       "104. 56\n",
       "105. 457\n",
       "106. 62\n",
       "107. 301\n",
       "108. 93\n",
       "109. 111\n",
       "110. 376\n",
       "111. 217\n",
       "112. 203\n",
       "113. 20\n",
       "114. 453\n",
       "115. 30\n",
       "116. 84\n",
       "117. 456\n",
       "118. 425\n",
       "119. 344\n",
       "120. 313\n",
       "121. 379\n",
       "122. 43\n",
       "123. 365\n",
       "124. 318\n",
       "125. 86\n",
       "126. 515\n",
       "127. 53\n",
       "128. 375\n",
       "129. 117\n",
       "130. 559\n",
       "131. 449\n",
       "132. 471\n",
       "133. 353\n",
       "134. 156\n",
       "135. 21\n",
       "136. 445\n",
       "137. 137\n",
       "138. 206\n",
       "139. 261\n",
       "140. 367\n",
       "141. 13\n",
       "142. 431\n",
       "143. 408\n",
       "144. 481\n",
       "145. 397\n",
       "146. 424\n",
       "147. 380\n",
       "148. 504\n",
       "149. 326\n",
       "150. 211\n",
       "151. 50\n",
       "152. 532\n",
       "153. 166\n",
       "154. 372\n",
       "155. 219\n",
       "156. 209\n",
       "157. 554\n",
       "158. 177\n",
       "159. 337\n",
       "160. 277\n",
       "161. 394\n",
       "162. 16\n",
       "163. 125\n",
       "164. 434\n",
       "165. 73\n",
       "166. 243\n",
       "167. 546\n",
       "168. 129\n",
       "169. 255\n",
       "\n",
       "\n"
      ],
      "text/plain": [
       "  [1]  17 497  42 237  97 311 540 364   5 291 234 463 105 202 332 432 174 560\n",
       " [19] 542 461 320  36 120  24 121  47  68 142 551 446 472 114 290 280 221 215\n",
       " [37] 490 484 192  54 155 118 448 153  27 288 535 167 550 103 312  55  23 256\n",
       " [55] 327 409 270 369 358 370 412  58 185 244 197   2   9 193 482 171 324  87\n",
       " [73] 150 371  10 476 501 220 468 107 519 231 233 262 180  41  35 343 134 418\n",
       " [91] 341 136 440 179 146 254 382 102  34 176 308  98 213  56 457  62 301  93\n",
       "[109] 111 376 217 203  20 453  30  84 456 425 344 313 379  43 365 318  86 515\n",
       "[127]  53 375 117 559 449 471 353 156  21 445 137 206 261 367  13 431 408 481\n",
       "[145] 397 424 380 504 326 211  50 532 166 372 219 209 554 177 337 277 394  16\n",
       "[163] 125 434  73 243 546 129 255"
      ]
     },
     "metadata": {},
     "output_type": "display_data"
    }
   ],
   "source": [
    "holdout$test.inds[[1]]"
   ]
  },
  {
   "cell_type": "code",
   "execution_count": 63,
   "metadata": {
    "scrolled": true
   },
   "outputs": [
    {
     "data": {
      "text/html": [
       "393"
      ],
      "text/latex": [
       "393"
      ],
      "text/markdown": [
       "393"
      ],
      "text/plain": [
       "[1] 393"
      ]
     },
     "metadata": {},
     "output_type": "display_data"
    }
   ],
   "source": [
    "length(holdout$train.inds[[1]])"
   ]
  },
  {
   "cell_type": "code",
   "execution_count": 69,
   "metadata": {
    "collapsed": true
   },
   "outputs": [
    {
     "name": "stderr",
     "output_type": "stream",
     "text": [
      "\n",
      "Attaching package: ‘e1071’\n",
      "\n",
      "The following object is masked from ‘package:mlr’:\n",
      "\n",
      "    impute\n",
      "\n",
      "\n",
      "Attaching package: ‘xgboost’\n",
      "\n",
      "The following object is masked from ‘package:dplyr’:\n",
      "\n",
      "    slice\n",
      "\n"
     ]
    }
   ],
   "source": [
    "library(e1071)\n",
    "library(xgboost)"
   ]
  },
  {
   "cell_type": "code",
   "execution_count": 71,
   "metadata": {
    "collapsed": true
   },
   "outputs": [
    {
     "name": "stderr",
     "output_type": "stream",
     "text": [
      "Warning message in makeParam(id = id, type = \"numeric\", learner.param = TRUE, lower = lower, :\n",
      "“NA used as a default value for learner parameter missing.\n",
      "ParamHelpers uses NA as a special value for dependent parameters.”"
     ]
    }
   ],
   "source": [
    "xgb_learner = makeLearner(\"classif.xgboost\")\n",
    "#Warning: https://stackoverflow.com/questions/55545145/what-does-the-warning-na-used-as-a-default-value-for-learner-parameter-missing\n",
    "svm_learner = makeLearner(\"classif.svm\")"
   ]
  },
  {
   "cell_type": "code",
   "execution_count": 72,
   "metadata": {},
   "outputs": [
    {
     "data": {
      "text/plain": [
       "         Type len Def   Constr Req Tunable Trafo\n",
       "cost  numeric   -   - 0.1 to 1   -    TRUE     -\n",
       "gamma numeric   -   - 0.1 to 1   -    TRUE     -"
      ]
     },
     "metadata": {},
     "output_type": "display_data"
    }
   ],
   "source": [
    "parameters_svm"
   ]
  },
  {
   "cell_type": "code",
   "execution_count": 75,
   "metadata": {},
   "outputs": [
    {
     "data": {
      "text/plain": [
       "             Type len Def   Constr Req Tunable Trafo\n",
       "eta       numeric   -   -   0 to 1   -    TRUE     -\n",
       "lambda    numeric   -   - 0 to 200   -    TRUE     -\n",
       "max_depth integer   -   -  1 to 20   -    TRUE     -"
      ]
     },
     "metadata": {},
     "output_type": "display_data"
    }
   ],
   "source": [
    "parameters_sxgb = makeParamSet(\n",
    "                makeNumericParam(\"eta\",0,1),\n",
    "                makeNumericParam(\"lambda\",0,200),\n",
    "                makeIntegerParam(\"max_depth\",1,20))\n",
    "parameters_sxgb"
   ]
  },
  {
   "cell_type": "code",
   "execution_count": 74,
   "metadata": {
    "collapsed": true
   },
   "outputs": [
    {
     "data": {
      "text/plain": [
       "                                Type  len             Def               Constr\n",
       "booster                     discrete    -          gbtree gbtree,gblinear,dart\n",
       "watchlist                    untyped    -          <NULL>                    -\n",
       "eta                          numeric    -             0.3               0 to 1\n",
       "gamma                        numeric    -               0             0 to Inf\n",
       "max_depth                    integer    -               6             1 to Inf\n",
       "min_child_weight             numeric    -               1             0 to Inf\n",
       "subsample                    numeric    -               1               0 to 1\n",
       "colsample_bytree             numeric    -               1               0 to 1\n",
       "colsample_bylevel            numeric    -               1               0 to 1\n",
       "num_parallel_tree            integer    -               1             1 to Inf\n",
       "lambda                       numeric    -               1             0 to Inf\n",
       "lambda_bias                  numeric    -               0             0 to Inf\n",
       "alpha                        numeric    -               0             0 to Inf\n",
       "objective                    untyped    - binary:logistic                    -\n",
       "eval_metric                  untyped    -           error                    -\n",
       "base_score                   numeric    -             0.5          -Inf to Inf\n",
       "max_delta_step               numeric    -               0             0 to Inf\n",
       "missing                      numeric    -                          -Inf to Inf\n",
       "monotone_constraints   integervector <NA>               0              -1 to 1\n",
       "tweedie_variance_power       numeric    -             1.5               1 to 2\n",
       "nthread                      integer    -               -             1 to Inf\n",
       "nrounds                      integer    -               1             1 to Inf\n",
       "feval                        untyped    -          <NULL>                    -\n",
       "verbose                      integer    -               1               0 to 2\n",
       "print_every_n                integer    -               1             1 to Inf\n",
       "early_stopping_rounds        integer    -          <NULL>             1 to Inf\n",
       "maximize                     logical    -          <NULL>                    -\n",
       "sample_type                 discrete    -         uniform     uniform,weighted\n",
       "normalize_type              discrete    -            tree          tree,forest\n",
       "rate_drop                    numeric    -               0               0 to 1\n",
       "skip_drop                    numeric    -               0               0 to 1\n",
       "callbacks                    untyped    -                                    -\n",
       "                       Req Tunable Trafo\n",
       "booster                  -    TRUE     -\n",
       "watchlist                -   FALSE     -\n",
       "eta                      -    TRUE     -\n",
       "gamma                    -    TRUE     -\n",
       "max_depth                -    TRUE     -\n",
       "min_child_weight         -    TRUE     -\n",
       "subsample                -    TRUE     -\n",
       "colsample_bytree         -    TRUE     -\n",
       "colsample_bylevel        -    TRUE     -\n",
       "num_parallel_tree        -    TRUE     -\n",
       "lambda                   -    TRUE     -\n",
       "lambda_bias              -    TRUE     -\n",
       "alpha                    -    TRUE     -\n",
       "objective                -   FALSE     -\n",
       "eval_metric              -   FALSE     -\n",
       "base_score               -   FALSE     -\n",
       "max_delta_step           -    TRUE     -\n",
       "missing                  -   FALSE     -\n",
       "monotone_constraints     -    TRUE     -\n",
       "tweedie_variance_power   Y    TRUE     -\n",
       "nthread                  -   FALSE     -\n",
       "nrounds                  -    TRUE     -\n",
       "feval                    -   FALSE     -\n",
       "verbose                  -   FALSE     -\n",
       "print_every_n            Y   FALSE     -\n",
       "early_stopping_rounds    -   FALSE     -\n",
       "maximize                 -   FALSE     -\n",
       "sample_type              Y    TRUE     -\n",
       "normalize_type           Y    TRUE     -\n",
       "rate_drop                Y    TRUE     -\n",
       "skip_drop                Y    TRUE     -\n",
       "callbacks                -   FALSE     -"
      ]
     },
     "metadata": {},
     "output_type": "display_data"
    }
   ],
   "source": [
    "getLearnerParamSet(xgb_learner)"
   ]
  },
  {
   "cell_type": "code",
   "execution_count": 76,
   "metadata": {
    "scrolled": true
   },
   "outputs": [],
   "source": [
    "tune_control = makeTuneControlRandom(maxit=100)"
   ]
  },
  {
   "cell_type": "code",
   "execution_count": 80,
   "metadata": {},
   "outputs": [
    {
     "data": {
      "text/plain": [
       "Resample description: cross-validation with 5 iterations.\n",
       "Predict: test\n",
       "Stratification: FALSE"
      ]
     },
     "metadata": {},
     "output_type": "display_data"
    }
   ],
   "source": [
    "cv5"
   ]
  },
  {
   "cell_type": "code",
   "execution_count": 109,
   "metadata": {
    "collapsed": true
   },
   "outputs": [
    {
     "name": "stderr",
     "output_type": "stream",
     "text": [
      "[Tune] Started tuning learner classif.xgboost for parameter set:\n",
      "             Type len Def   Constr Req Tunable Trafo\n",
      "eta       numeric   -   -   0 to 1   -    TRUE     -\n",
      "lambda    numeric   -   - 0 to 200   -    TRUE     -\n",
      "max_depth integer   -   -  1 to 20   -    TRUE     -\n",
      "With control class: TuneControlRandom\n",
      "Imputation value: -0\n",
      "[Tune-x] 1: eta=0.741; lambda=168; max_depth=4\n",
      "[Tune-y] 1: acc.test.mean=0.6967868; time: 0.0 min\n",
      "[Tune-x] 2: eta=0.157; lambda=39.6; max_depth=5\n",
      "[Tune-y] 2: acc.test.mean=0.7248296; time: 0.0 min\n",
      "[Tune-x] 3: eta=0.451; lambda=192; max_depth=8\n",
      "[Tune-y] 3: acc.test.mean=0.6967868; time: 0.0 min\n",
      "[Tune-x] 4: eta=0.117; lambda=36.2; max_depth=7\n",
      "[Tune-y] 4: acc.test.mean=0.7273612; time: 0.0 min\n",
      "[Tune-x] 5: eta=0.329; lambda=11.6; max_depth=1\n",
      "[Tune-y] 5: acc.test.mean=0.5342746; time: 0.0 min\n",
      "[Tune-x] 6: eta=0.39; lambda=189; max_depth=6\n",
      "[Tune-y] 6: acc.test.mean=0.6967868; time: 0.0 min\n",
      "[Tune-x] 7: eta=0.284; lambda=149; max_depth=1\n",
      "[Tune-y] 7: acc.test.mean=0.3788705; time: 0.0 min\n",
      "[Tune-x] 8: eta=0.262; lambda=114; max_depth=6\n",
      "[Tune-y] 8: acc.test.mean=0.7121714; time: 0.0 min\n",
      "[Tune-x] 9: eta=0.963; lambda=166; max_depth=15\n",
      "[Tune-y] 9: acc.test.mean=0.6967868; time: 0.0 min\n",
      "[Tune-x] 10: eta=0.458; lambda=44.7; max_depth=8\n",
      "[Tune-y] 10: acc.test.mean=0.7096397; time: 0.0 min\n",
      "[Tune-x] 11: eta=0.289; lambda=86; max_depth=6\n",
      "[Tune-y] 11: acc.test.mean=0.7121714; time: 0.0 min\n",
      "[Tune-x] 12: eta=0.609; lambda=47; max_depth=12\n",
      "[Tune-y] 12: acc.test.mean=0.7121714; time: 0.0 min\n",
      "[Tune-x] 13: eta=0.505; lambda=196; max_depth=17\n",
      "[Tune-y] 13: acc.test.mean=0.6967868; time: 0.0 min\n",
      "[Tune-x] 14: eta=0.0985; lambda=33.9; max_depth=15\n",
      "[Tune-y] 14: acc.test.mean=0.7273612; time: 0.0 min\n",
      "[Tune-x] 15: eta=0.817; lambda=193; max_depth=13\n",
      "[Tune-y] 15: acc.test.mean=0.6967868; time: 0.0 min\n",
      "[Tune-x] 16: eta=0.584; lambda=195; max_depth=17\n",
      "[Tune-y] 16: acc.test.mean=0.6967868; time: 0.0 min\n",
      "[Tune-x] 17: eta=0.589; lambda=36.7; max_depth=10\n",
      "[Tune-y] 17: acc.test.mean=0.7273612; time: 0.0 min\n",
      "[Tune-x] 18: eta=0.478; lambda=103; max_depth=2\n",
      "[Tune-y] 18: acc.test.mean=0.5697176; time: 0.0 min\n",
      "[Tune-x] 19: eta=0.725; lambda=125; max_depth=3\n",
      "[Tune-y] 19: acc.test.mean=0.6637131; time: 0.0 min\n",
      "[Tune-x] 20: eta=0.919; lambda=141; max_depth=3\n",
      "[Tune-y] 20: acc.test.mean=0.6637131; time: 0.0 min\n",
      "[Tune-x] 21: eta=0.231; lambda=83.8; max_depth=1\n",
      "[Tune-y] 21: acc.test.mean=0.3788705; time: 0.0 min\n",
      "[Tune-x] 22: eta=0.0603; lambda=29.4; max_depth=14\n",
      "[Tune-y] 22: acc.test.mean=0.7273612; time: 0.0 min\n",
      "[Tune-x] 23: eta=0.786; lambda=67.5; max_depth=5\n",
      "[Tune-y] 23: acc.test.mean=0.7147030; time: 0.0 min\n",
      "[Tune-x] 24: eta=0.0437; lambda=36.7; max_depth=20\n",
      "[Tune-y] 24: acc.test.mean=0.7273612; time: 0.0 min\n",
      "[Tune-x] 25: eta=0.6; lambda=138; max_depth=5\n",
      "[Tune-y] 25: acc.test.mean=0.7121714; time: 0.0 min\n",
      "[Tune-x] 26: eta=0.25; lambda=45.3; max_depth=4\n",
      "[Tune-y] 26: acc.test.mean=0.7121714; time: 0.0 min\n",
      "[Tune-x] 27: eta=0.115; lambda=8.34; max_depth=20\n",
      "[Tune-y] 27: acc.test.mean=0.7863681; time: 0.0 min\n",
      "[Tune-x] 28: eta=0.727; lambda=76.3; max_depth=4\n",
      "[Tune-y] 28: acc.test.mean=0.7121714; time: 0.0 min\n",
      "[Tune-x] 29: eta=0.968; lambda=153; max_depth=6\n",
      "[Tune-y] 29: acc.test.mean=0.6967868; time: 0.0 min\n",
      "[Tune-x] 30: eta=0.488; lambda=44.9; max_depth=10\n",
      "[Tune-y] 30: acc.test.mean=0.7096397; time: 0.0 min\n",
      "[Tune-x] 31: eta=0.309; lambda=108; max_depth=2\n",
      "[Tune-y] 31: acc.test.mean=0.5697176; time: 0.0 min\n",
      "[Tune-x] 32: eta=0.249; lambda=9.57; max_depth=10\n",
      "[Tune-y] 32: acc.test.mean=0.8017527; time: 0.0 min\n",
      "[Tune-x] 33: eta=0.147; lambda=57.5; max_depth=8\n",
      "[Tune-y] 33: acc.test.mean=0.7121714; time: 0.0 min\n",
      "[Tune-x] 34: eta=0.992; lambda=103; max_depth=10\n",
      "[Tune-y] 34: acc.test.mean=0.7121714; time: 0.0 min\n",
      "[Tune-x] 35: eta=0.149; lambda=41.1; max_depth=18\n",
      "[Tune-y] 35: acc.test.mean=0.7248296; time: 0.0 min\n",
      "[Tune-x] 36: eta=0.387; lambda=59.7; max_depth=12\n",
      "[Tune-y] 36: acc.test.mean=0.7121714; time: 0.0 min\n",
      "[Tune-x] 37: eta=0.213; lambda=28.8; max_depth=18\n",
      "[Tune-y] 37: acc.test.mean=0.7273612; time: 0.0 min\n",
      "[Tune-x] 38: eta=0.768; lambda=107; max_depth=13\n",
      "[Tune-y] 38: acc.test.mean=0.7121714; time: 0.0 min\n",
      "[Tune-x] 39: eta=0.2; lambda=72.7; max_depth=15\n",
      "[Tune-y] 39: acc.test.mean=0.7121714; time: 0.0 min\n",
      "[Tune-x] 40: eta=0.9; lambda=53.8; max_depth=4\n",
      "[Tune-y] 40: acc.test.mean=0.7121714; time: 0.0 min\n",
      "[Tune-x] 41: eta=0.194; lambda=61; max_depth=16\n",
      "[Tune-y] 41: acc.test.mean=0.7121714; time: 0.0 min\n",
      "[Tune-x] 42: eta=0.434; lambda=112; max_depth=8\n",
      "[Tune-y] 42: acc.test.mean=0.7121714; time: 0.0 min\n",
      "[Tune-x] 43: eta=0.31; lambda=196; max_depth=16\n",
      "[Tune-y] 43: acc.test.mean=0.6967868; time: 0.0 min\n",
      "[Tune-x] 44: eta=0.816; lambda=73.4; max_depth=12\n",
      "[Tune-y] 44: acc.test.mean=0.7121714; time: 0.0 min\n",
      "[Tune-x] 45: eta=0.0955; lambda=84; max_depth=1\n",
      "[Tune-y] 45: acc.test.mean=0.3788705; time: 0.0 min\n",
      "[Tune-x] 46: eta=0.21; lambda=110; max_depth=15\n",
      "[Tune-y] 46: acc.test.mean=0.7121714; time: 0.0 min\n",
      "[Tune-x] 47: eta=0.168; lambda=73.6; max_depth=16\n",
      "[Tune-y] 47: acc.test.mean=0.7121714; time: 0.0 min\n",
      "[Tune-x] 48: eta=0.0417; lambda=141; max_depth=13\n",
      "[Tune-y] 48: acc.test.mean=0.7121714; time: 0.0 min\n",
      "[Tune-x] 49: eta=0.385; lambda=35.9; max_depth=7\n",
      "[Tune-y] 49: acc.test.mean=0.7273612; time: 0.0 min\n",
      "[Tune-x] 50: eta=0.285; lambda=15.5; max_depth=4\n",
      "[Tune-y] 50: acc.test.mean=0.7375527; time: 0.0 min\n",
      "[Tune-x] 51: eta=0.285; lambda=159; max_depth=16\n",
      "[Tune-y] 51: acc.test.mean=0.6967868; time: 0.0 min\n",
      "[Tune-x] 52: eta=0.212; lambda=18.8; max_depth=17\n",
      "[Tune-y] 52: acc.test.mean=0.7273612; time: 0.0 min\n",
      "[Tune-x] 53: eta=0.504; lambda=199; max_depth=6\n",
      "[Tune-y] 53: acc.test.mean=0.6967868; time: 0.0 min\n",
      "[Tune-x] 54: eta=0.446; lambda=128; max_depth=10\n",
      "[Tune-y] 54: acc.test.mean=0.7121714; time: 0.0 min\n",
      "[Tune-x] 55: eta=0.227; lambda=17.9; max_depth=8\n",
      "[Tune-y] 55: acc.test.mean=0.7248296; time: 0.0 min\n",
      "[Tune-x] 56: eta=0.671; lambda=47.7; max_depth=17\n",
      "[Tune-y] 56: acc.test.mean=0.7121714; time: 0.0 min\n",
      "[Tune-x] 57: eta=0.0373; lambda=80.9; max_depth=10\n",
      "[Tune-y] 57: acc.test.mean=0.7121714; time: 0.0 min\n",
      "[Tune-x] 58: eta=0.533; lambda=194; max_depth=8\n",
      "[Tune-y] 58: acc.test.mean=0.6967868; time: 0.0 min\n",
      "[Tune-x] 59: eta=0.719; lambda=126; max_depth=19\n",
      "[Tune-y] 59: acc.test.mean=0.7121714; time: 0.0 min\n",
      "[Tune-x] 60: eta=0.605; lambda=138; max_depth=20\n",
      "[Tune-y] 60: acc.test.mean=0.7121714; time: 0.0 min\n",
      "[Tune-x] 61: eta=0.593; lambda=73; max_depth=9\n",
      "[Tune-y] 61: acc.test.mean=0.7121714; time: 0.0 min\n",
      "[Tune-x] 62: eta=0.856; lambda=160; max_depth=5\n",
      "[Tune-y] 62: acc.test.mean=0.6967868; time: 0.0 min\n",
      "[Tune-x] 63: eta=0.547; lambda=105; max_depth=20\n",
      "[Tune-y] 63: acc.test.mean=0.7121714; time: 0.0 min\n",
      "[Tune-x] 64: eta=0.68; lambda=73; max_depth=8\n",
      "[Tune-y] 64: acc.test.mean=0.7121714; time: 0.0 min\n",
      "[Tune-x] 65: eta=0.286; lambda=117; max_depth=3\n",
      "[Tune-y] 65: acc.test.mean=0.6637131; time: 0.0 min\n",
      "[Tune-x] 66: eta=0.901; lambda=41.1; max_depth=2\n",
      "[Tune-y] 66: acc.test.mean=0.6102240; time: 0.0 min\n",
      "[Tune-x] 67: eta=0.965; lambda=43.3; max_depth=7\n",
      "[Tune-y] 67: acc.test.mean=0.7096397; time: 0.0 min\n",
      "[Tune-x] 68: eta=0.695; lambda=64.6; max_depth=18\n",
      "[Tune-y] 68: acc.test.mean=0.7121714; time: 0.0 min\n",
      "[Tune-x] 69: eta=0.222; lambda=124; max_depth=1\n",
      "[Tune-y] 69: acc.test.mean=0.3788705; time: 0.0 min\n",
      "[Tune-x] 70: eta=0.583; lambda=156; max_depth=14\n",
      "[Tune-y] 70: acc.test.mean=0.6967868; time: 0.0 min\n",
      "[Tune-x] 71: eta=0.0759; lambda=5.69; max_depth=14\n",
      "[Tune-y] 71: acc.test.mean=0.8068484; time: 0.0 min\n",
      "[Tune-x] 72: eta=0.892; lambda=189; max_depth=14\n",
      "[Tune-y] 72: acc.test.mean=0.6967868; time: 0.0 min\n",
      "[Tune-x] 73: eta=0.938; lambda=97.5; max_depth=1\n",
      "[Tune-y] 73: acc.test.mean=0.3788705; time: 0.0 min\n",
      "[Tune-x] 74: eta=0.0527; lambda=161; max_depth=14\n",
      "[Tune-y] 74: acc.test.mean=0.6967868; time: 0.0 min\n",
      "[Tune-x] 75: eta=0.413; lambda=49; max_depth=11\n",
      "[Tune-y] 75: acc.test.mean=0.7121714; time: 0.0 min\n",
      "[Tune-x] 76: eta=0.92; lambda=138; max_depth=1\n",
      "[Tune-y] 76: acc.test.mean=0.3788705; time: 0.0 min\n",
      "[Tune-x] 77: eta=0.672; lambda=115; max_depth=14\n",
      "[Tune-y] 77: acc.test.mean=0.7121714; time: 0.0 min\n",
      "[Tune-x] 78: eta=0.241; lambda=15.2; max_depth=5\n",
      "[Tune-y] 78: acc.test.mean=0.7298929; time: 0.0 min\n",
      "[Tune-x] 79: eta=0.336; lambda=52.3; max_depth=11\n"
     ]
    },
    {
     "name": "stderr",
     "output_type": "stream",
     "text": [
      "[Tune-y] 79: acc.test.mean=0.7121714; time: 0.0 min\n",
      "[Tune-x] 80: eta=0.959; lambda=12.5; max_depth=1\n",
      "[Tune-y] 80: acc.test.mean=0.5111977; time: 0.0 min\n",
      "[Tune-x] 81: eta=0.176; lambda=10.7; max_depth=15\n",
      "[Tune-y] 81: acc.test.mean=0.8017202; time: 0.0 min\n",
      "[Tune-x] 82: eta=0.743; lambda=195; max_depth=17\n",
      "[Tune-y] 82: acc.test.mean=0.6967868; time: 0.0 min\n",
      "[Tune-x] 83: eta=0.258; lambda=155; max_depth=6\n",
      "[Tune-y] 83: acc.test.mean=0.6967868; time: 0.0 min\n",
      "[Tune-x] 84: eta=0.41; lambda=47.1; max_depth=5\n",
      "[Tune-y] 84: acc.test.mean=0.7121714; time: 0.0 min\n",
      "[Tune-x] 85: eta=0.69; lambda=139; max_depth=3\n",
      "[Tune-y] 85: acc.test.mean=0.6637131; time: 0.0 min\n",
      "[Tune-x] 86: eta=0.731; lambda=66.5; max_depth=1\n",
      "[Tune-y] 86: acc.test.mean=0.4092502; time: 0.0 min\n",
      "[Tune-x] 87: eta=0.351; lambda=73.7; max_depth=18\n",
      "[Tune-y] 87: acc.test.mean=0.7121714; time: 0.0 min\n",
      "[Tune-x] 88: eta=0.694; lambda=18.1; max_depth=1\n",
      "[Tune-y] 88: acc.test.mean=0.4934761; time: 0.0 min\n",
      "[Tune-x] 89: eta=0.596; lambda=83.6; max_depth=3\n",
      "[Tune-y] 89: acc.test.mean=0.6790977; time: 0.0 min\n",
      "[Tune-x] 90: eta=0.345; lambda=5; max_depth=3\n",
      "[Tune-y] 90: acc.test.mean=0.7582603; time: 0.0 min\n",
      "[Tune-x] 91: eta=0.562; lambda=135; max_depth=14\n",
      "[Tune-y] 91: acc.test.mean=0.7121714; time: 0.0 min\n",
      "[Tune-x] 92: eta=0.582; lambda=137; max_depth=3\n",
      "[Tune-y] 92: acc.test.mean=0.6637131; time: 0.0 min\n",
      "[Tune-x] 93: eta=0.371; lambda=156; max_depth=19\n",
      "[Tune-y] 93: acc.test.mean=0.6967868; time: 0.0 min\n",
      "[Tune-x] 94: eta=0.275; lambda=41.8; max_depth=2\n",
      "[Tune-y] 94: acc.test.mean=0.6102240; time: 0.0 min\n",
      "[Tune-x] 95: eta=0.404; lambda=31.9; max_depth=17\n",
      "[Tune-y] 95: acc.test.mean=0.7273612; time: 0.0 min\n",
      "[Tune-x] 96: eta=0.863; lambda=147; max_depth=17\n",
      "[Tune-y] 96: acc.test.mean=0.7121714; time: 0.0 min\n",
      "[Tune-x] 97: eta=0.81; lambda=43.9; max_depth=11\n",
      "[Tune-y] 97: acc.test.mean=0.7096397; time: 0.0 min\n",
      "[Tune-x] 98: eta=0.317; lambda=14.6; max_depth=3\n",
      "[Tune-y] 98: acc.test.mean=0.6943525; time: 0.0 min\n",
      "[Tune-x] 99: eta=0.243; lambda=66.8; max_depth=6\n",
      "[Tune-y] 99: acc.test.mean=0.7147030; time: 0.0 min\n",
      "[Tune-x] 100: eta=0.201; lambda=35.8; max_depth=6\n",
      "[Tune-y] 100: acc.test.mean=0.7273612; time: 0.0 min\n",
      "[Tune] Result: eta=0.0759; lambda=5.69; max_depth=14 : acc.test.mean=0.8068484\n"
     ]
    }
   ],
   "source": [
    "set.seed(10)\n",
    "tr_xgb = tuneParams(xgb_learner, tsk_train, cv5,acc,parameters_sxgb,tune_control)"
   ]
  },
  {
   "cell_type": "code",
   "execution_count": 89,
   "metadata": {},
   "outputs": [
    {
     "data": {
      "text/html": [
       "<strong>acc.test.mean:</strong> 0.786140863356053"
      ],
      "text/latex": [
       "\\textbf{acc.test.mean:} 0.786140863356053"
      ],
      "text/markdown": [
       "**acc.test.mean:** 0.786140863356053"
      ],
      "text/plain": [
       "acc.test.mean \n",
       "    0.7861409 "
      ]
     },
     "metadata": {},
     "output_type": "display_data"
    }
   ],
   "source": [
    "tr_xgb$y"
   ]
  },
  {
   "cell_type": "code",
   "execution_count": 92,
   "metadata": {
    "collapsed": true
   },
   "outputs": [
    {
     "name": "stderr",
     "output_type": "stream",
     "text": [
      "[Tune] Started tuning learner classif.svm for parameter set:\n",
      "         Type len Def   Constr Req Tunable Trafo\n",
      "cost  numeric   -   - 0.1 to 1   -    TRUE     -\n",
      "gamma numeric   -   - 0.1 to 1   -    TRUE     -\n",
      "With control class: TuneControlRandom\n",
      "Imputation value: -0\n",
      "[Tune-x] 1: cost=0.292; gamma=0.779\n",
      "Warning message in svm.default(x, y, scale = scale, ..., na.action = na.action):\n",
      "“Variable(s) ‘ext.decay.2’ and ‘fruit.pods.2’ and ‘roots.2’ constant. Cannot scale data.”Warning message in svm.default(x, y, scale = scale, ..., na.action = na.action):\n",
      "“Variable(s) ‘ext.decay.2’ and ‘fruit.pods.2’ and ‘roots.2’ constant. Cannot scale data.”Warning message in svm.default(x, y, scale = scale, ..., na.action = na.action):\n",
      "“Variable(s) ‘ext.decay.2’ and ‘fruit.pods.2’ and ‘roots.2’ constant. Cannot scale data.”Warning message in svm.default(x, y, scale = scale, ..., na.action = na.action):\n",
      "“Variable(s) ‘ext.decay.2’ and ‘fruit.pods.2’ and ‘roots.2’ constant. Cannot scale data.”Warning message in svm.default(x, y, scale = scale, ..., na.action = na.action):\n",
      "“Variable(s) ‘ext.decay.2’ and ‘fruit.pods.2’ and ‘roots.2’ constant. Cannot scale data.”[Tune-y] 1: acc.test.mean=0.1578384; time: 0.0 min\n",
      "[Tune-x] 2: cost=0.51; gamma=0.184\n",
      "Warning message in svm.default(x, y, scale = scale, ..., na.action = na.action):\n",
      "“Variable(s) ‘ext.decay.2’ and ‘fruit.pods.2’ and ‘roots.2’ constant. Cannot scale data.”Warning message in svm.default(x, y, scale = scale, ..., na.action = na.action):\n",
      "“Variable(s) ‘ext.decay.2’ and ‘fruit.pods.2’ and ‘roots.2’ constant. Cannot scale data.”Warning message in svm.default(x, y, scale = scale, ..., na.action = na.action):\n",
      "“Variable(s) ‘ext.decay.2’ and ‘fruit.pods.2’ and ‘roots.2’ constant. Cannot scale data.”Warning message in svm.default(x, y, scale = scale, ..., na.action = na.action):\n",
      "“Variable(s) ‘ext.decay.2’ and ‘fruit.pods.2’ and ‘roots.2’ constant. Cannot scale data.”Warning message in svm.default(x, y, scale = scale, ..., na.action = na.action):\n",
      "“Variable(s) ‘ext.decay.2’ and ‘fruit.pods.2’ and ‘roots.2’ constant. Cannot scale data.”[Tune-y] 2: acc.test.mean=0.6948393; time: 0.0 min\n",
      "[Tune-x] 3: cost=0.767; gamma=0.209\n",
      "Warning message in svm.default(x, y, scale = scale, ..., na.action = na.action):\n",
      "“Variable(s) ‘ext.decay.2’ and ‘fruit.pods.2’ and ‘roots.2’ constant. Cannot scale data.”Warning message in svm.default(x, y, scale = scale, ..., na.action = na.action):\n",
      "“Variable(s) ‘ext.decay.2’ and ‘fruit.pods.2’ and ‘roots.2’ constant. Cannot scale data.”Warning message in svm.default(x, y, scale = scale, ..., na.action = na.action):\n",
      "“Variable(s) ‘ext.decay.2’ and ‘fruit.pods.2’ and ‘roots.2’ constant. Cannot scale data.”Warning message in svm.default(x, y, scale = scale, ..., na.action = na.action):\n",
      "“Variable(s) ‘ext.decay.2’ and ‘fruit.pods.2’ and ‘roots.2’ constant. Cannot scale data.”Warning message in svm.default(x, y, scale = scale, ..., na.action = na.action):\n",
      "“Variable(s) ‘ext.decay.2’ and ‘fruit.pods.2’ and ‘roots.2’ constant. Cannot scale data.”[Tune-y] 3: acc.test.mean=0.7735475; time: 0.0 min\n",
      "[Tune-x] 4: cost=0.402; gamma=0.65\n",
      "Warning message in svm.default(x, y, scale = scale, ..., na.action = na.action):\n",
      "“Variable(s) ‘ext.decay.2’ and ‘fruit.pods.2’ and ‘roots.2’ constant. Cannot scale data.”Warning message in svm.default(x, y, scale = scale, ..., na.action = na.action):\n",
      "“Variable(s) ‘ext.decay.2’ and ‘fruit.pods.2’ and ‘roots.2’ constant. Cannot scale data.”Warning message in svm.default(x, y, scale = scale, ..., na.action = na.action):\n",
      "“Variable(s) ‘ext.decay.2’ and ‘fruit.pods.2’ and ‘roots.2’ constant. Cannot scale data.”Warning message in svm.default(x, y, scale = scale, ..., na.action = na.action):\n",
      "“Variable(s) ‘ext.decay.2’ and ‘fruit.pods.2’ and ‘roots.2’ constant. Cannot scale data.”Warning message in svm.default(x, y, scale = scale, ..., na.action = na.action):\n",
      "“Variable(s) ‘ext.decay.2’ and ‘fruit.pods.2’ and ‘roots.2’ constant. Cannot scale data.”[Tune-y] 4: acc.test.mean=0.2341123; time: 0.0 min\n",
      "[Tune-x] 5: cost=0.122; gamma=0.431\n",
      "Warning message in svm.default(x, y, scale = scale, ..., na.action = na.action):\n",
      "“Variable(s) ‘ext.decay.2’ and ‘fruit.pods.2’ and ‘roots.2’ constant. Cannot scale data.”Warning message in svm.default(x, y, scale = scale, ..., na.action = na.action):\n",
      "“Variable(s) ‘ext.decay.2’ and ‘fruit.pods.2’ and ‘roots.2’ constant. Cannot scale data.”Warning message in svm.default(x, y, scale = scale, ..., na.action = na.action):\n",
      "“Variable(s) ‘ext.decay.2’ and ‘fruit.pods.2’ and ‘roots.2’ constant. Cannot scale data.”Warning message in svm.default(x, y, scale = scale, ..., na.action = na.action):\n",
      "“Variable(s) ‘ext.decay.2’ and ‘fruit.pods.2’ and ‘roots.2’ constant. Cannot scale data.”Warning message in svm.default(x, y, scale = scale, ..., na.action = na.action):\n",
      "“Variable(s) ‘ext.decay.2’ and ‘fruit.pods.2’ and ‘roots.2’ constant. Cannot scale data.”[Tune-y] 5: acc.test.mean=0.1527751; time: 0.0 min\n",
      "[Tune-x] 6: cost=0.318; gamma=0.356\n",
      "Warning message in svm.default(x, y, scale = scale, ..., na.action = na.action):\n",
      "“Variable(s) ‘ext.decay.2’ and ‘fruit.pods.2’ and ‘roots.2’ constant. Cannot scale data.”Warning message in svm.default(x, y, scale = scale, ..., na.action = na.action):\n",
      "“Variable(s) ‘ext.decay.2’ and ‘fruit.pods.2’ and ‘roots.2’ constant. Cannot scale data.”Warning message in svm.default(x, y, scale = scale, ..., na.action = na.action):\n",
      "“Variable(s) ‘ext.decay.2’ and ‘fruit.pods.2’ and ‘roots.2’ constant. Cannot scale data.”Warning message in svm.default(x, y, scale = scale, ..., na.action = na.action):\n",
      "“Variable(s) ‘ext.decay.2’ and ‘fruit.pods.2’ and ‘roots.2’ constant. Cannot scale data.”Warning message in svm.default(x, y, scale = scale, ..., na.action = na.action):\n",
      "“Variable(s) ‘ext.decay.2’ and ‘fruit.pods.2’ and ‘roots.2’ constant. Cannot scale data.”[Tune-y] 6: acc.test.mean=0.3690360; time: 0.0 min\n",
      "[Tune-x] 7: cost=0.401; gamma=0.96\n",
      "Warning message in svm.default(x, y, scale = scale, ..., na.action = na.action):\n",
      "“Variable(s) ‘ext.decay.2’ and ‘fruit.pods.2’ and ‘roots.2’ constant. Cannot scale data.”Warning message in svm.default(x, y, scale = scale, ..., na.action = na.action):\n",
      "“Variable(s) ‘ext.decay.2’ and ‘fruit.pods.2’ and ‘roots.2’ constant. Cannot scale data.”Warning message in svm.default(x, y, scale = scale, ..., na.action = na.action):\n",
      "“Variable(s) ‘ext.decay.2’ and ‘fruit.pods.2’ and ‘roots.2’ constant. Cannot scale data.”Warning message in svm.default(x, y, scale = scale, ..., na.action = na.action):\n",
      "“Variable(s) ‘ext.decay.2’ and ‘fruit.pods.2’ and ‘roots.2’ constant. Cannot scale data.”Warning message in svm.default(x, y, scale = scale, ..., na.action = na.action):\n",
      "“Variable(s) ‘ext.decay.2’ and ‘fruit.pods.2’ and ‘roots.2’ constant. Cannot scale data.”[Tune-y] 7: acc.test.mean=0.1909445; time: 0.0 min\n",
      "[Tune-x] 8: cost=0.261; gamma=0.29\n",
      "Warning message in svm.default(x, y, scale = scale, ..., na.action = na.action):\n",
      "“Variable(s) ‘ext.decay.2’ and ‘fruit.pods.2’ and ‘roots.2’ constant. Cannot scale data.”Warning message in svm.default(x, y, scale = scale, ..., na.action = na.action):\n",
      "“Variable(s) ‘ext.decay.2’ and ‘fruit.pods.2’ and ‘roots.2’ constant. Cannot scale data.”Warning message in svm.default(x, y, scale = scale, ..., na.action = na.action):\n",
      "“Variable(s) ‘ext.decay.2’ and ‘fruit.pods.2’ and ‘roots.2’ constant. Cannot scale data.”Warning message in svm.default(x, y, scale = scale, ..., na.action = na.action):\n",
      "“Variable(s) ‘ext.decay.2’ and ‘fruit.pods.2’ and ‘roots.2’ constant. Cannot scale data.”Warning message in svm.default(x, y, scale = scale, ..., na.action = na.action):\n",
      "“Variable(s) ‘ext.decay.2’ and ‘fruit.pods.2’ and ‘roots.2’ constant. Cannot scale data.”[Tune-y] 8: acc.test.mean=0.3869198; time: 0.0 min\n",
      "[Tune-x] 9: cost=0.758; gamma=0.136\n",
      "Warning message in svm.default(x, y, scale = scale, ..., na.action = na.action):\n",
      "“Variable(s) ‘ext.decay.2’ and ‘fruit.pods.2’ and ‘roots.2’ constant. Cannot scale data.”Warning message in svm.default(x, y, scale = scale, ..., na.action = na.action):\n",
      "“Variable(s) ‘ext.decay.2’ and ‘fruit.pods.2’ and ‘roots.2’ constant. Cannot scale data.”Warning message in svm.default(x, y, scale = scale, ..., na.action = na.action):\n"
     ]
    },
    {
     "name": "stderr",
     "output_type": "stream",
     "text": [
      "“Variable(s) ‘ext.decay.2’ and ‘fruit.pods.2’ and ‘roots.2’ constant. Cannot scale data.”Warning message in svm.default(x, y, scale = scale, ..., na.action = na.action):\n",
      "“Variable(s) ‘ext.decay.2’ and ‘fruit.pods.2’ and ‘roots.2’ constant. Cannot scale data.”Warning message in svm.default(x, y, scale = scale, ..., na.action = na.action):\n",
      "“Variable(s) ‘ext.decay.2’ and ‘fruit.pods.2’ and ‘roots.2’ constant. Cannot scale data.”[Tune-y] 9: acc.test.mean=0.8727361; time: 0.0 min\n",
      "[Tune-x] 10: cost=0.745; gamma=0.362\n",
      "Warning message in svm.default(x, y, scale = scale, ..., na.action = na.action):\n",
      "“Variable(s) ‘ext.decay.2’ and ‘fruit.pods.2’ and ‘roots.2’ constant. Cannot scale data.”Warning message in svm.default(x, y, scale = scale, ..., na.action = na.action):\n",
      "“Variable(s) ‘ext.decay.2’ and ‘fruit.pods.2’ and ‘roots.2’ constant. Cannot scale data.”Warning message in svm.default(x, y, scale = scale, ..., na.action = na.action):\n",
      "“Variable(s) ‘ext.decay.2’ and ‘fruit.pods.2’ and ‘roots.2’ constant. Cannot scale data.”Warning message in svm.default(x, y, scale = scale, ..., na.action = na.action):\n",
      "“Variable(s) ‘ext.decay.2’ and ‘fruit.pods.2’ and ‘roots.2’ constant. Cannot scale data.”Warning message in svm.default(x, y, scale = scale, ..., na.action = na.action):\n",
      "“Variable(s) ‘ext.decay.2’ and ‘fruit.pods.2’ and ‘roots.2’ constant. Cannot scale data.”[Tune-y] 10: acc.test.mean=0.4937683; time: 0.0 min\n",
      "[Tune-x] 11: cost=0.441; gamma=0.31\n",
      "Warning message in svm.default(x, y, scale = scale, ..., na.action = na.action):\n",
      "“Variable(s) ‘ext.decay.2’ and ‘fruit.pods.2’ and ‘roots.2’ constant. Cannot scale data.”Warning message in svm.default(x, y, scale = scale, ..., na.action = na.action):\n",
      "“Variable(s) ‘ext.decay.2’ and ‘fruit.pods.2’ and ‘roots.2’ constant. Cannot scale data.”Warning message in svm.default(x, y, scale = scale, ..., na.action = na.action):\n",
      "“Variable(s) ‘ext.decay.2’ and ‘fruit.pods.2’ and ‘roots.2’ constant. Cannot scale data.”Warning message in svm.default(x, y, scale = scale, ..., na.action = na.action):\n",
      "“Variable(s) ‘ext.decay.2’ and ‘fruit.pods.2’ and ‘roots.2’ constant. Cannot scale data.”Warning message in svm.default(x, y, scale = scale, ..., na.action = na.action):\n",
      "“Variable(s) ‘ext.decay.2’ and ‘fruit.pods.2’ and ‘roots.2’ constant. Cannot scale data.”[Tune-y] 11: acc.test.mean=0.4201233; time: 0.0 min\n",
      "[Tune-x] 12: cost=0.171; gamma=0.119\n",
      "Warning message in svm.default(x, y, scale = scale, ..., na.action = na.action):\n",
      "“Variable(s) ‘ext.decay.2’ and ‘fruit.pods.2’ and ‘roots.2’ constant. Cannot scale data.”Warning message in svm.default(x, y, scale = scale, ..., na.action = na.action):\n",
      "“Variable(s) ‘ext.decay.2’ and ‘fruit.pods.2’ and ‘roots.2’ constant. Cannot scale data.”Warning message in svm.default(x, y, scale = scale, ..., na.action = na.action):\n",
      "“Variable(s) ‘ext.decay.2’ and ‘fruit.pods.2’ and ‘roots.2’ constant. Cannot scale data.”Warning message in svm.default(x, y, scale = scale, ..., na.action = na.action):\n",
      "“Variable(s) ‘ext.decay.2’ and ‘fruit.pods.2’ and ‘roots.2’ constant. Cannot scale data.”Warning message in svm.default(x, y, scale = scale, ..., na.action = na.action):\n",
      "“Variable(s) ‘ext.decay.2’ and ‘fruit.pods.2’ and ‘roots.2’ constant. Cannot scale data.”[Tune-y] 12: acc.test.mean=0.4608569; time: 0.0 min\n",
      "[Tune-x] 13: cost=0.134; gamma=0.721\n",
      "Warning message in svm.default(x, y, scale = scale, ..., na.action = na.action):\n",
      "“Variable(s) ‘ext.decay.2’ and ‘fruit.pods.2’ and ‘roots.2’ constant. Cannot scale data.”Warning message in svm.default(x, y, scale = scale, ..., na.action = na.action):\n",
      "“Variable(s) ‘ext.decay.2’ and ‘fruit.pods.2’ and ‘roots.2’ constant. Cannot scale data.”Warning message in svm.default(x, y, scale = scale, ..., na.action = na.action):\n",
      "“Variable(s) ‘ext.decay.2’ and ‘fruit.pods.2’ and ‘roots.2’ constant. Cannot scale data.”Warning message in svm.default(x, y, scale = scale, ..., na.action = na.action):\n",
      "“Variable(s) ‘ext.decay.2’ and ‘fruit.pods.2’ and ‘roots.2’ constant. Cannot scale data.”Warning message in svm.default(x, y, scale = scale, ..., na.action = na.action):\n",
      "“Variable(s) ‘ext.decay.2’ and ‘fruit.pods.2’ and ‘roots.2’ constant. Cannot scale data.”[Tune-y] 13: acc.test.mean=0.1527751; time: 0.0 min\n",
      "[Tune-x] 14: cost=0.692; gamma=0.107\n",
      "Warning message in svm.default(x, y, scale = scale, ..., na.action = na.action):\n",
      "“Variable(s) ‘ext.decay.2’ and ‘fruit.pods.2’ and ‘roots.2’ constant. Cannot scale data.”Warning message in svm.default(x, y, scale = scale, ..., na.action = na.action):\n",
      "“Variable(s) ‘ext.decay.2’ and ‘fruit.pods.2’ and ‘roots.2’ constant. Cannot scale data.”Warning message in svm.default(x, y, scale = scale, ..., na.action = na.action):\n",
      "“Variable(s) ‘ext.decay.2’ and ‘fruit.pods.2’ and ‘roots.2’ constant. Cannot scale data.”Warning message in svm.default(x, y, scale = scale, ..., na.action = na.action):\n",
      "“Variable(s) ‘ext.decay.2’ and ‘fruit.pods.2’ and ‘roots.2’ constant. Cannot scale data.”Warning message in svm.default(x, y, scale = scale, ..., na.action = na.action):\n",
      "“Variable(s) ‘ext.decay.2’ and ‘fruit.pods.2’ and ‘roots.2’ constant. Cannot scale data.”[Tune-y] 14: acc.test.mean=0.8828627; time: 0.0 min\n",
      "[Tune-x] 15: cost=0.503; gamma=0.289\n",
      "Warning message in svm.default(x, y, scale = scale, ..., na.action = na.action):\n",
      "“Variable(s) ‘ext.decay.2’ and ‘fruit.pods.2’ and ‘roots.2’ constant. Cannot scale data.”Warning message in svm.default(x, y, scale = scale, ..., na.action = na.action):\n",
      "“Variable(s) ‘ext.decay.2’ and ‘fruit.pods.2’ and ‘roots.2’ constant. Cannot scale data.”Warning message in svm.default(x, y, scale = scale, ..., na.action = na.action):\n",
      "“Variable(s) ‘ext.decay.2’ and ‘fruit.pods.2’ and ‘roots.2’ constant. Cannot scale data.”Warning message in svm.default(x, y, scale = scale, ..., na.action = na.action):\n",
      "“Variable(s) ‘ext.decay.2’ and ‘fruit.pods.2’ and ‘roots.2’ constant. Cannot scale data.”Warning message in svm.default(x, y, scale = scale, ..., na.action = na.action):\n",
      "“Variable(s) ‘ext.decay.2’ and ‘fruit.pods.2’ and ‘roots.2’ constant. Cannot scale data.”[Tune-y] 15: acc.test.mean=0.4836741; time: 0.0 min\n",
      "[Tune-x] 16: cost=0.804; gamma=0.813\n",
      "Warning message in svm.default(x, y, scale = scale, ..., na.action = na.action):\n",
      "“Variable(s) ‘ext.decay.2’ and ‘fruit.pods.2’ and ‘roots.2’ constant. Cannot scale data.”Warning message in svm.default(x, y, scale = scale, ..., na.action = na.action):\n",
      "“Variable(s) ‘ext.decay.2’ and ‘fruit.pods.2’ and ‘roots.2’ constant. Cannot scale data.”Warning message in svm.default(x, y, scale = scale, ..., na.action = na.action):\n",
      "“Variable(s) ‘ext.decay.2’ and ‘fruit.pods.2’ and ‘roots.2’ constant. Cannot scale data.”Warning message in svm.default(x, y, scale = scale, ..., na.action = na.action):\n",
      "“Variable(s) ‘ext.decay.2’ and ‘fruit.pods.2’ and ‘roots.2’ constant. Cannot scale data.”Warning message in svm.default(x, y, scale = scale, ..., na.action = na.action):\n",
      "“Variable(s) ‘ext.decay.2’ and ‘fruit.pods.2’ and ‘roots.2’ constant. Cannot scale data.”[Tune-y] 16: acc.test.mean=0.3055177; time: 0.0 min\n",
      "[Tune-x] 17: cost=0.948; gamma=0.62\n",
      "Warning message in svm.default(x, y, scale = scale, ..., na.action = na.action):\n",
      "“Variable(s) ‘ext.decay.2’ and ‘fruit.pods.2’ and ‘roots.2’ constant. Cannot scale data.”Warning message in svm.default(x, y, scale = scale, ..., na.action = na.action):\n",
      "“Variable(s) ‘ext.decay.2’ and ‘fruit.pods.2’ and ‘roots.2’ constant. Cannot scale data.”Warning message in svm.default(x, y, scale = scale, ..., na.action = na.action):\n",
      "“Variable(s) ‘ext.decay.2’ and ‘fruit.pods.2’ and ‘roots.2’ constant. Cannot scale data.”Warning message in svm.default(x, y, scale = scale, ..., na.action = na.action):\n",
      "“Variable(s) ‘ext.decay.2’ and ‘fruit.pods.2’ and ‘roots.2’ constant. Cannot scale data.”Warning message in svm.default(x, y, scale = scale, ..., na.action = na.action):\n",
      "“Variable(s) ‘ext.decay.2’ and ‘fruit.pods.2’ and ‘roots.2’ constant. Cannot scale data.”[Tune-y] 17: acc.test.mean=0.3691983; time: 0.0 min\n",
      "[Tune-x] 18: cost=0.57; gamma=0.758\n",
      "Warning message in svm.default(x, y, scale = scale, ..., na.action = na.action):\n"
     ]
    },
    {
     "name": "stderr",
     "output_type": "stream",
     "text": [
      "“Variable(s) ‘ext.decay.2’ and ‘fruit.pods.2’ and ‘roots.2’ constant. Cannot scale data.”Warning message in svm.default(x, y, scale = scale, ..., na.action = na.action):\n",
      "“Variable(s) ‘ext.decay.2’ and ‘fruit.pods.2’ and ‘roots.2’ constant. Cannot scale data.”Warning message in svm.default(x, y, scale = scale, ..., na.action = na.action):\n",
      "“Variable(s) ‘ext.decay.2’ and ‘fruit.pods.2’ and ‘roots.2’ constant. Cannot scale data.”Warning message in svm.default(x, y, scale = scale, ..., na.action = na.action):\n",
      "“Variable(s) ‘ext.decay.2’ and ‘fruit.pods.2’ and ‘roots.2’ constant. Cannot scale data.”Warning message in svm.default(x, y, scale = scale, ..., na.action = na.action):\n",
      "“Variable(s) ‘ext.decay.2’ and ‘fruit.pods.2’ and ‘roots.2’ constant. Cannot scale data.”[Tune-y] 18: acc.test.mean=0.2647517; time: 0.0 min\n",
      "[Tune-x] 19: cost=0.142; gamma=0.879\n",
      "Warning message in svm.default(x, y, scale = scale, ..., na.action = na.action):\n",
      "“Variable(s) ‘ext.decay.2’ and ‘fruit.pods.2’ and ‘roots.2’ constant. Cannot scale data.”Warning message in svm.default(x, y, scale = scale, ..., na.action = na.action):\n",
      "“Variable(s) ‘ext.decay.2’ and ‘fruit.pods.2’ and ‘roots.2’ constant. Cannot scale data.”Warning message in svm.default(x, y, scale = scale, ..., na.action = na.action):\n",
      "“Variable(s) ‘ext.decay.2’ and ‘fruit.pods.2’ and ‘roots.2’ constant. Cannot scale data.”Warning message in svm.default(x, y, scale = scale, ..., na.action = na.action):\n",
      "“Variable(s) ‘ext.decay.2’ and ‘fruit.pods.2’ and ‘roots.2’ constant. Cannot scale data.”Warning message in svm.default(x, y, scale = scale, ..., na.action = na.action):\n",
      "“Variable(s) ‘ext.decay.2’ and ‘fruit.pods.2’ and ‘roots.2’ constant. Cannot scale data.”[Tune-y] 19: acc.test.mean=0.1527751; time: 0.0 min\n",
      "[Tune-x] 20: cost=0.359; gamma=0.126\n",
      "Warning message in svm.default(x, y, scale = scale, ..., na.action = na.action):\n",
      "“Variable(s) ‘ext.decay.2’ and ‘fruit.pods.2’ and ‘roots.2’ constant. Cannot scale data.”Warning message in svm.default(x, y, scale = scale, ..., na.action = na.action):\n",
      "“Variable(s) ‘ext.decay.2’ and ‘fruit.pods.2’ and ‘roots.2’ constant. Cannot scale data.”Warning message in svm.default(x, y, scale = scale, ..., na.action = na.action):\n",
      "“Variable(s) ‘ext.decay.2’ and ‘fruit.pods.2’ and ‘roots.2’ constant. Cannot scale data.”Warning message in svm.default(x, y, scale = scale, ..., na.action = na.action):\n",
      "“Variable(s) ‘ext.decay.2’ and ‘fruit.pods.2’ and ‘roots.2’ constant. Cannot scale data.”Warning message in svm.default(x, y, scale = scale, ..., na.action = na.action):\n",
      "“Variable(s) ‘ext.decay.2’ and ‘fruit.pods.2’ and ‘roots.2’ constant. Cannot scale data.”[Tune-y] 20: acc.test.mean=0.7354755; time: 0.0 min\n",
      "[Tune-x] 21: cost=0.119; gamma=0.11\n",
      "Warning message in svm.default(x, y, scale = scale, ..., na.action = na.action):\n",
      "“Variable(s) ‘ext.decay.2’ and ‘fruit.pods.2’ and ‘roots.2’ constant. Cannot scale data.”Warning message in svm.default(x, y, scale = scale, ..., na.action = na.action):\n",
      "“Variable(s) ‘ext.decay.2’ and ‘fruit.pods.2’ and ‘roots.2’ constant. Cannot scale data.”Warning message in svm.default(x, y, scale = scale, ..., na.action = na.action):\n",
      "“Variable(s) ‘ext.decay.2’ and ‘fruit.pods.2’ and ‘roots.2’ constant. Cannot scale data.”Warning message in svm.default(x, y, scale = scale, ..., na.action = na.action):\n",
      "“Variable(s) ‘ext.decay.2’ and ‘fruit.pods.2’ and ‘roots.2’ constant. Cannot scale data.”Warning message in svm.default(x, y, scale = scale, ..., na.action = na.action):\n",
      "“Variable(s) ‘ext.decay.2’ and ‘fruit.pods.2’ and ‘roots.2’ constant. Cannot scale data.”[Tune-y] 21: acc.test.mean=0.4250893; time: 0.0 min\n",
      "[Tune-x] 22: cost=0.644; gamma=0.842\n",
      "Warning message in svm.default(x, y, scale = scale, ..., na.action = na.action):\n",
      "“Variable(s) ‘ext.decay.2’ and ‘fruit.pods.2’ and ‘roots.2’ constant. Cannot scale data.”Warning message in svm.default(x, y, scale = scale, ..., na.action = na.action):\n",
      "“Variable(s) ‘ext.decay.2’ and ‘fruit.pods.2’ and ‘roots.2’ constant. Cannot scale data.”Warning message in svm.default(x, y, scale = scale, ..., na.action = na.action):\n",
      "“Variable(s) ‘ext.decay.2’ and ‘fruit.pods.2’ and ‘roots.2’ constant. Cannot scale data.”Warning message in svm.default(x, y, scale = scale, ..., na.action = na.action):\n",
      "“Variable(s) ‘ext.decay.2’ and ‘fruit.pods.2’ and ‘roots.2’ constant. Cannot scale data.”Warning message in svm.default(x, y, scale = scale, ..., na.action = na.action):\n",
      "“Variable(s) ‘ext.decay.2’ and ‘fruit.pods.2’ and ‘roots.2’ constant. Cannot scale data.”[Tune-y] 22: acc.test.mean=0.2596884; time: 0.0 min\n",
      "[Tune-x] 23: cost=0.889; gamma=0.242\n",
      "Warning message in svm.default(x, y, scale = scale, ..., na.action = na.action):\n",
      "“Variable(s) ‘ext.decay.2’ and ‘fruit.pods.2’ and ‘roots.2’ constant. Cannot scale data.”Warning message in svm.default(x, y, scale = scale, ..., na.action = na.action):\n",
      "“Variable(s) ‘ext.decay.2’ and ‘fruit.pods.2’ and ‘roots.2’ constant. Cannot scale data.”Warning message in svm.default(x, y, scale = scale, ..., na.action = na.action):\n",
      "“Variable(s) ‘ext.decay.2’ and ‘fruit.pods.2’ and ‘roots.2’ constant. Cannot scale data.”Warning message in svm.default(x, y, scale = scale, ..., na.action = na.action):\n",
      "“Variable(s) ‘ext.decay.2’ and ‘fruit.pods.2’ and ‘roots.2’ constant. Cannot scale data.”Warning message in svm.default(x, y, scale = scale, ..., na.action = na.action):\n",
      "“Variable(s) ‘ext.decay.2’ and ‘fruit.pods.2’ and ‘roots.2’ constant. Cannot scale data.”[Tune-y] 23: acc.test.mean=0.7405063; time: 0.0 min\n",
      "[Tune-x] 24: cost=0.82; gamma=0.556\n",
      "Warning message in svm.default(x, y, scale = scale, ..., na.action = na.action):\n",
      "“Variable(s) ‘ext.decay.2’ and ‘fruit.pods.2’ and ‘roots.2’ constant. Cannot scale data.”Warning message in svm.default(x, y, scale = scale, ..., na.action = na.action):\n",
      "“Variable(s) ‘ext.decay.2’ and ‘fruit.pods.2’ and ‘roots.2’ constant. Cannot scale data.”Warning message in svm.default(x, y, scale = scale, ..., na.action = na.action):\n",
      "“Variable(s) ‘ext.decay.2’ and ‘fruit.pods.2’ and ‘roots.2’ constant. Cannot scale data.”Warning message in svm.default(x, y, scale = scale, ..., na.action = na.action):\n",
      "“Variable(s) ‘ext.decay.2’ and ‘fruit.pods.2’ and ‘roots.2’ constant. Cannot scale data.”Warning message in svm.default(x, y, scale = scale, ..., na.action = na.action):\n",
      "“Variable(s) ‘ext.decay.2’ and ‘fruit.pods.2’ and ‘roots.2’ constant. Cannot scale data.”[Tune-y] 24: acc.test.mean=0.3818890; time: 0.0 min\n",
      "[Tune-x] 25: cost=0.273; gamma=0.317\n",
      "Warning message in svm.default(x, y, scale = scale, ..., na.action = na.action):\n",
      "“Variable(s) ‘ext.decay.2’ and ‘fruit.pods.2’ and ‘roots.2’ constant. Cannot scale data.”Warning message in svm.default(x, y, scale = scale, ..., na.action = na.action):\n",
      "“Variable(s) ‘ext.decay.2’ and ‘fruit.pods.2’ and ‘roots.2’ constant. Cannot scale data.”Warning message in svm.default(x, y, scale = scale, ..., na.action = na.action):\n",
      "“Variable(s) ‘ext.decay.2’ and ‘fruit.pods.2’ and ‘roots.2’ constant. Cannot scale data.”Warning message in svm.default(x, y, scale = scale, ..., na.action = na.action):\n",
      "“Variable(s) ‘ext.decay.2’ and ‘fruit.pods.2’ and ‘roots.2’ constant. Cannot scale data.”Warning message in svm.default(x, y, scale = scale, ..., na.action = na.action):\n",
      "“Variable(s) ‘ext.decay.2’ and ‘fruit.pods.2’ and ‘roots.2’ constant. Cannot scale data.”[Tune-y] 25: acc.test.mean=0.3716001; time: 0.0 min\n",
      "[Tune-x] 26: cost=0.867; gamma=0.942\n",
      "Warning message in svm.default(x, y, scale = scale, ..., na.action = na.action):\n",
      "“Variable(s) ‘ext.decay.2’ and ‘fruit.pods.2’ and ‘roots.2’ constant. Cannot scale data.”Warning message in svm.default(x, y, scale = scale, ..., na.action = na.action):\n",
      "“Variable(s) ‘ext.decay.2’ and ‘fruit.pods.2’ and ‘roots.2’ constant. Cannot scale data.”Warning message in svm.default(x, y, scale = scale, ..., na.action = na.action):\n",
      "“Variable(s) ‘ext.decay.2’ and ‘fruit.pods.2’ and ‘roots.2’ constant. Cannot scale data.”Warning message in svm.default(x, y, scale = scale, ..., na.action = na.action):\n",
      "“Variable(s) ‘ext.decay.2’ and ‘fruit.pods.2’ and ‘roots.2’ constant. Cannot scale data.”Warning message in svm.default(x, y, scale = scale, ..., na.action = na.action):\n"
     ]
    },
    {
     "name": "stderr",
     "output_type": "stream",
     "text": [
      "“Variable(s) ‘ext.decay.2’ and ‘fruit.pods.2’ and ‘roots.2’ constant. Cannot scale data.”[Tune-y] 26: acc.test.mean=0.2851996; time: 0.0 min\n",
      "[Tune-x] 27: cost=0.983; gamma=0.939\n",
      "Warning message in svm.default(x, y, scale = scale, ..., na.action = na.action):\n",
      "“Variable(s) ‘ext.decay.2’ and ‘fruit.pods.2’ and ‘roots.2’ constant. Cannot scale data.”Warning message in svm.default(x, y, scale = scale, ..., na.action = na.action):\n",
      "“Variable(s) ‘ext.decay.2’ and ‘fruit.pods.2’ and ‘roots.2’ constant. Cannot scale data.”Warning message in svm.default(x, y, scale = scale, ..., na.action = na.action):\n",
      "“Variable(s) ‘ext.decay.2’ and ‘fruit.pods.2’ and ‘roots.2’ constant. Cannot scale data.”Warning message in svm.default(x, y, scale = scale, ..., na.action = na.action):\n",
      "“Variable(s) ‘ext.decay.2’ and ‘fruit.pods.2’ and ‘roots.2’ constant. Cannot scale data.”Warning message in svm.default(x, y, scale = scale, ..., na.action = na.action):\n",
      "“Variable(s) ‘ext.decay.2’ and ‘fruit.pods.2’ and ‘roots.2’ constant. Cannot scale data.”[Tune-y] 27: acc.test.mean=0.3079844; time: 0.0 min\n",
      "[Tune-x] 28: cost=0.883; gamma=0.327\n",
      "Warning message in svm.default(x, y, scale = scale, ..., na.action = na.action):\n",
      "“Variable(s) ‘ext.decay.2’ and ‘fruit.pods.2’ and ‘roots.2’ constant. Cannot scale data.”Warning message in svm.default(x, y, scale = scale, ..., na.action = na.action):\n",
      "“Variable(s) ‘ext.decay.2’ and ‘fruit.pods.2’ and ‘roots.2’ constant. Cannot scale data.”Warning message in svm.default(x, y, scale = scale, ..., na.action = na.action):\n",
      "“Variable(s) ‘ext.decay.2’ and ‘fruit.pods.2’ and ‘roots.2’ constant. Cannot scale data.”Warning message in svm.default(x, y, scale = scale, ..., na.action = na.action):\n",
      "“Variable(s) ‘ext.decay.2’ and ‘fruit.pods.2’ and ‘roots.2’ constant. Cannot scale data.”Warning message in svm.default(x, y, scale = scale, ..., na.action = na.action):\n",
      "“Variable(s) ‘ext.decay.2’ and ‘fruit.pods.2’ and ‘roots.2’ constant. Cannot scale data.”[Tune-y] 28: acc.test.mean=0.5573515; time: 0.0 min\n",
      "[Tune-x] 29: cost=0.413; gamma=0.761\n",
      "Warning message in svm.default(x, y, scale = scale, ..., na.action = na.action):\n",
      "“Variable(s) ‘ext.decay.2’ and ‘fruit.pods.2’ and ‘roots.2’ constant. Cannot scale data.”Warning message in svm.default(x, y, scale = scale, ..., na.action = na.action):\n",
      "“Variable(s) ‘ext.decay.2’ and ‘fruit.pods.2’ and ‘roots.2’ constant. Cannot scale data.”Warning message in svm.default(x, y, scale = scale, ..., na.action = na.action):\n",
      "“Variable(s) ‘ext.decay.2’ and ‘fruit.pods.2’ and ‘roots.2’ constant. Cannot scale data.”Warning message in svm.default(x, y, scale = scale, ..., na.action = na.action):\n",
      "“Variable(s) ‘ext.decay.2’ and ‘fruit.pods.2’ and ‘roots.2’ constant. Cannot scale data.”Warning message in svm.default(x, y, scale = scale, ..., na.action = na.action):\n",
      "“Variable(s) ‘ext.decay.2’ and ‘fruit.pods.2’ and ‘roots.2’ constant. Cannot scale data.”[Tune-y] 29: acc.test.mean=0.2213892; time: 0.0 min\n",
      "[Tune-x] 30: cost=0.158; gamma=0.479\n",
      "Warning message in svm.default(x, y, scale = scale, ..., na.action = na.action):\n",
      "“Variable(s) ‘ext.decay.2’ and ‘fruit.pods.2’ and ‘roots.2’ constant. Cannot scale data.”Warning message in svm.default(x, y, scale = scale, ..., na.action = na.action):\n",
      "“Variable(s) ‘ext.decay.2’ and ‘fruit.pods.2’ and ‘roots.2’ constant. Cannot scale data.”Warning message in svm.default(x, y, scale = scale, ..., na.action = na.action):\n",
      "“Variable(s) ‘ext.decay.2’ and ‘fruit.pods.2’ and ‘roots.2’ constant. Cannot scale data.”Warning message in svm.default(x, y, scale = scale, ..., na.action = na.action):\n",
      "“Variable(s) ‘ext.decay.2’ and ‘fruit.pods.2’ and ‘roots.2’ constant. Cannot scale data.”Warning message in svm.default(x, y, scale = scale, ..., na.action = na.action):\n",
      "“Variable(s) ‘ext.decay.2’ and ‘fruit.pods.2’ and ‘roots.2’ constant. Cannot scale data.”[Tune-y] 30: acc.test.mean=0.1527751; time: 0.0 min\n",
      "[Tune-x] 31: cost=0.224; gamma=0.637\n",
      "Warning message in svm.default(x, y, scale = scale, ..., na.action = na.action):\n",
      "“Variable(s) ‘ext.decay.2’ and ‘fruit.pods.2’ and ‘roots.2’ constant. Cannot scale data.”Warning message in svm.default(x, y, scale = scale, ..., na.action = na.action):\n",
      "“Variable(s) ‘ext.decay.2’ and ‘fruit.pods.2’ and ‘roots.2’ constant. Cannot scale data.”Warning message in svm.default(x, y, scale = scale, ..., na.action = na.action):\n",
      "“Variable(s) ‘ext.decay.2’ and ‘fruit.pods.2’ and ‘roots.2’ constant. Cannot scale data.”Warning message in svm.default(x, y, scale = scale, ..., na.action = na.action):\n",
      "“Variable(s) ‘ext.decay.2’ and ‘fruit.pods.2’ and ‘roots.2’ constant. Cannot scale data.”Warning message in svm.default(x, y, scale = scale, ..., na.action = na.action):\n",
      "“Variable(s) ‘ext.decay.2’ and ‘fruit.pods.2’ and ‘roots.2’ constant. Cannot scale data.”[Tune-y] 31: acc.test.mean=0.1527751; time: 0.0 min\n",
      "[Tune-x] 32: cost=0.816; gamma=0.247\n",
      "Warning message in svm.default(x, y, scale = scale, ..., na.action = na.action):\n",
      "“Variable(s) ‘ext.decay.2’ and ‘fruit.pods.2’ and ‘roots.2’ constant. Cannot scale data.”Warning message in svm.default(x, y, scale = scale, ..., na.action = na.action):\n",
      "“Variable(s) ‘ext.decay.2’ and ‘fruit.pods.2’ and ‘roots.2’ constant. Cannot scale data.”Warning message in svm.default(x, y, scale = scale, ..., na.action = na.action):\n",
      "“Variable(s) ‘ext.decay.2’ and ‘fruit.pods.2’ and ‘roots.2’ constant. Cannot scale data.”Warning message in svm.default(x, y, scale = scale, ..., na.action = na.action):\n",
      "“Variable(s) ‘ext.decay.2’ and ‘fruit.pods.2’ and ‘roots.2’ constant. Cannot scale data.”Warning message in svm.default(x, y, scale = scale, ..., na.action = na.action):\n",
      "“Variable(s) ‘ext.decay.2’ and ‘fruit.pods.2’ and ‘roots.2’ constant. Cannot scale data.”[Tune-y] 32: acc.test.mean=0.6897111; time: 0.0 min\n",
      "[Tune-x] 33: cost=0.897; gamma=0.703\n",
      "Warning message in svm.default(x, y, scale = scale, ..., na.action = na.action):\n",
      "“Variable(s) ‘ext.decay.2’ and ‘fruit.pods.2’ and ‘roots.2’ constant. Cannot scale data.”Warning message in svm.default(x, y, scale = scale, ..., na.action = na.action):\n",
      "“Variable(s) ‘ext.decay.2’ and ‘fruit.pods.2’ and ‘roots.2’ constant. Cannot scale data.”Warning message in svm.default(x, y, scale = scale, ..., na.action = na.action):\n",
      "“Variable(s) ‘ext.decay.2’ and ‘fruit.pods.2’ and ‘roots.2’ constant. Cannot scale data.”Warning message in svm.default(x, y, scale = scale, ..., na.action = na.action):\n",
      "“Variable(s) ‘ext.decay.2’ and ‘fruit.pods.2’ and ‘roots.2’ constant. Cannot scale data.”Warning message in svm.default(x, y, scale = scale, ..., na.action = na.action):\n",
      "“Variable(s) ‘ext.decay.2’ and ‘fruit.pods.2’ and ‘roots.2’ constant. Cannot scale data.”[Tune-y] 33: acc.test.mean=0.3462188; time: 0.0 min\n",
      "[Tune-x] 34: cost=0.712; gamma=0.642\n",
      "Warning message in svm.default(x, y, scale = scale, ..., na.action = na.action):\n",
      "“Variable(s) ‘ext.decay.2’ and ‘fruit.pods.2’ and ‘roots.2’ constant. Cannot scale data.”Warning message in svm.default(x, y, scale = scale, ..., na.action = na.action):\n",
      "“Variable(s) ‘ext.decay.2’ and ‘fruit.pods.2’ and ‘roots.2’ constant. Cannot scale data.”Warning message in svm.default(x, y, scale = scale, ..., na.action = na.action):\n",
      "“Variable(s) ‘ext.decay.2’ and ‘fruit.pods.2’ and ‘roots.2’ constant. Cannot scale data.”Warning message in svm.default(x, y, scale = scale, ..., na.action = na.action):\n",
      "“Variable(s) ‘ext.decay.2’ and ‘fruit.pods.2’ and ‘roots.2’ constant. Cannot scale data.”Warning message in svm.default(x, y, scale = scale, ..., na.action = na.action):\n",
      "“Variable(s) ‘ext.decay.2’ and ‘fruit.pods.2’ and ‘roots.2’ constant. Cannot scale data.”[Tune-y] 34: acc.test.mean=0.3334307; time: 0.0 min\n",
      "[Tune-x] 35: cost=0.382; gamma=0.581\n",
      "Warning message in svm.default(x, y, scale = scale, ..., na.action = na.action):\n",
      "“Variable(s) ‘ext.decay.2’ and ‘fruit.pods.2’ and ‘roots.2’ constant. Cannot scale data.”Warning message in svm.default(x, y, scale = scale, ..., na.action = na.action):\n",
      "“Variable(s) ‘ext.decay.2’ and ‘fruit.pods.2’ and ‘roots.2’ constant. Cannot scale data.”Warning message in svm.default(x, y, scale = scale, ..., na.action = na.action):\n"
     ]
    },
    {
     "name": "stderr",
     "output_type": "stream",
     "text": [
      "“Variable(s) ‘ext.decay.2’ and ‘fruit.pods.2’ and ‘roots.2’ constant. Cannot scale data.”Warning message in svm.default(x, y, scale = scale, ..., na.action = na.action):\n",
      "“Variable(s) ‘ext.decay.2’ and ‘fruit.pods.2’ and ‘roots.2’ constant. Cannot scale data.”Warning message in svm.default(x, y, scale = scale, ..., na.action = na.action):\n",
      "“Variable(s) ‘ext.decay.2’ and ‘fruit.pods.2’ and ‘roots.2’ constant. Cannot scale data.”[Tune-y] 35: acc.test.mean=0.2570269; time: 0.0 min\n",
      "[Tune-x] 36: cost=0.933; gamma=0.24\n",
      "Warning message in svm.default(x, y, scale = scale, ..., na.action = na.action):\n",
      "“Variable(s) ‘ext.decay.2’ and ‘fruit.pods.2’ and ‘roots.2’ constant. Cannot scale data.”Warning message in svm.default(x, y, scale = scale, ..., na.action = na.action):\n",
      "“Variable(s) ‘ext.decay.2’ and ‘fruit.pods.2’ and ‘roots.2’ constant. Cannot scale data.”Warning message in svm.default(x, y, scale = scale, ..., na.action = na.action):\n",
      "“Variable(s) ‘ext.decay.2’ and ‘fruit.pods.2’ and ‘roots.2’ constant. Cannot scale data.”Warning message in svm.default(x, y, scale = scale, ..., na.action = na.action):\n",
      "“Variable(s) ‘ext.decay.2’ and ‘fruit.pods.2’ and ‘roots.2’ constant. Cannot scale data.”Warning message in svm.default(x, y, scale = scale, ..., na.action = na.action):\n",
      "“Variable(s) ‘ext.decay.2’ and ‘fruit.pods.2’ and ‘roots.2’ constant. Cannot scale data.”[Tune-y] 36: acc.test.mean=0.7557611; time: 0.0 min\n",
      "[Tune-x] 37: cost=0.165; gamma=0.5\n",
      "Warning message in svm.default(x, y, scale = scale, ..., na.action = na.action):\n",
      "“Variable(s) ‘ext.decay.2’ and ‘fruit.pods.2’ and ‘roots.2’ constant. Cannot scale data.”Warning message in svm.default(x, y, scale = scale, ..., na.action = na.action):\n",
      "“Variable(s) ‘ext.decay.2’ and ‘fruit.pods.2’ and ‘roots.2’ constant. Cannot scale data.”Warning message in svm.default(x, y, scale = scale, ..., na.action = na.action):\n",
      "“Variable(s) ‘ext.decay.2’ and ‘fruit.pods.2’ and ‘roots.2’ constant. Cannot scale data.”Warning message in svm.default(x, y, scale = scale, ..., na.action = na.action):\n",
      "“Variable(s) ‘ext.decay.2’ and ‘fruit.pods.2’ and ‘roots.2’ constant. Cannot scale data.”Warning message in svm.default(x, y, scale = scale, ..., na.action = na.action):\n",
      "“Variable(s) ‘ext.decay.2’ and ‘fruit.pods.2’ and ‘roots.2’ constant. Cannot scale data.”[Tune-y] 37: acc.test.mean=0.1527751; time: 0.0 min\n",
      "[Tune-x] 38: cost=0.832; gamma=0.874\n",
      "Warning message in svm.default(x, y, scale = scale, ..., na.action = na.action):\n",
      "“Variable(s) ‘ext.decay.2’ and ‘fruit.pods.2’ and ‘roots.2’ constant. Cannot scale data.”Warning message in svm.default(x, y, scale = scale, ..., na.action = na.action):\n",
      "“Variable(s) ‘ext.decay.2’ and ‘fruit.pods.2’ and ‘roots.2’ constant. Cannot scale data.”Warning message in svm.default(x, y, scale = scale, ..., na.action = na.action):\n",
      "“Variable(s) ‘ext.decay.2’ and ‘fruit.pods.2’ and ‘roots.2’ constant. Cannot scale data.”Warning message in svm.default(x, y, scale = scale, ..., na.action = na.action):\n",
      "“Variable(s) ‘ext.decay.2’ and ‘fruit.pods.2’ and ‘roots.2’ constant. Cannot scale data.”Warning message in svm.default(x, y, scale = scale, ..., na.action = na.action):\n",
      "“Variable(s) ‘ext.decay.2’ and ‘fruit.pods.2’ and ‘roots.2’ constant. Cannot scale data.”[Tune-y] 38: acc.test.mean=0.2979228; time: 0.0 min\n",
      "[Tune-x] 39: cost=0.931; gamma=0.194\n",
      "Warning message in svm.default(x, y, scale = scale, ..., na.action = na.action):\n",
      "“Variable(s) ‘ext.decay.2’ and ‘fruit.pods.2’ and ‘roots.2’ constant. Cannot scale data.”Warning message in svm.default(x, y, scale = scale, ..., na.action = na.action):\n",
      "“Variable(s) ‘ext.decay.2’ and ‘fruit.pods.2’ and ‘roots.2’ constant. Cannot scale data.”Warning message in svm.default(x, y, scale = scale, ..., na.action = na.action):\n",
      "“Variable(s) ‘ext.decay.2’ and ‘fruit.pods.2’ and ‘roots.2’ constant. Cannot scale data.”Warning message in svm.default(x, y, scale = scale, ..., na.action = na.action):\n",
      "“Variable(s) ‘ext.decay.2’ and ‘fruit.pods.2’ and ‘roots.2’ constant. Cannot scale data.”Warning message in svm.default(x, y, scale = scale, ..., na.action = na.action):\n",
      "“Variable(s) ‘ext.decay.2’ and ‘fruit.pods.2’ and ‘roots.2’ constant. Cannot scale data.”[Tune-y] 39: acc.test.mean=0.8446608; time: 0.0 min\n",
      "[Tune-x] 40: cost=0.352; gamma=0.949\n",
      "Warning message in svm.default(x, y, scale = scale, ..., na.action = na.action):\n",
      "“Variable(s) ‘ext.decay.2’ and ‘fruit.pods.2’ and ‘roots.2’ constant. Cannot scale data.”Warning message in svm.default(x, y, scale = scale, ..., na.action = na.action):\n",
      "“Variable(s) ‘ext.decay.2’ and ‘fruit.pods.2’ and ‘roots.2’ constant. Cannot scale data.”Warning message in svm.default(x, y, scale = scale, ..., na.action = na.action):\n",
      "“Variable(s) ‘ext.decay.2’ and ‘fruit.pods.2’ and ‘roots.2’ constant. Cannot scale data.”Warning message in svm.default(x, y, scale = scale, ..., na.action = na.action):\n",
      "“Variable(s) ‘ext.decay.2’ and ‘fruit.pods.2’ and ‘roots.2’ constant. Cannot scale data.”Warning message in svm.default(x, y, scale = scale, ..., na.action = na.action):\n",
      "“Variable(s) ‘ext.decay.2’ and ‘fruit.pods.2’ and ‘roots.2’ constant. Cannot scale data.”[Tune-y] 40: acc.test.mean=0.1782538; time: 0.0 min\n",
      "[Tune-x] 41: cost=0.554; gamma=0.138\n",
      "Warning message in svm.default(x, y, scale = scale, ..., na.action = na.action):\n",
      "“Variable(s) ‘ext.decay.2’ and ‘fruit.pods.2’ and ‘roots.2’ constant. Cannot scale data.”Warning message in svm.default(x, y, scale = scale, ..., na.action = na.action):\n",
      "“Variable(s) ‘ext.decay.2’ and ‘fruit.pods.2’ and ‘roots.2’ constant. Cannot scale data.”Warning message in svm.default(x, y, scale = scale, ..., na.action = na.action):\n",
      "“Variable(s) ‘ext.decay.2’ and ‘fruit.pods.2’ and ‘roots.2’ constant. Cannot scale data.”Warning message in svm.default(x, y, scale = scale, ..., na.action = na.action):\n",
      "“Variable(s) ‘ext.decay.2’ and ‘fruit.pods.2’ and ‘roots.2’ constant. Cannot scale data.”Warning message in svm.default(x, y, scale = scale, ..., na.action = na.action):\n",
      "“Variable(s) ‘ext.decay.2’ and ‘fruit.pods.2’ and ‘roots.2’ constant. Cannot scale data.”[Tune-y] 41: acc.test.mean=0.8370983; time: 0.0 min\n",
      "[Tune-x] 42: cost=0.621; gamma=0.396\n",
      "Warning message in svm.default(x, y, scale = scale, ..., na.action = na.action):\n",
      "“Variable(s) ‘ext.decay.2’ and ‘fruit.pods.2’ and ‘roots.2’ constant. Cannot scale data.”Warning message in svm.default(x, y, scale = scale, ..., na.action = na.action):\n",
      "“Variable(s) ‘ext.decay.2’ and ‘fruit.pods.2’ and ‘roots.2’ constant. Cannot scale data.”Warning message in svm.default(x, y, scale = scale, ..., na.action = na.action):\n",
      "“Variable(s) ‘ext.decay.2’ and ‘fruit.pods.2’ and ‘roots.2’ constant. Cannot scale data.”Warning message in svm.default(x, y, scale = scale, ..., na.action = na.action):\n",
      "“Variable(s) ‘ext.decay.2’ and ‘fruit.pods.2’ and ‘roots.2’ constant. Cannot scale data.”Warning message in svm.default(x, y, scale = scale, ..., na.action = na.action):\n",
      "“Variable(s) ‘ext.decay.2’ and ‘fruit.pods.2’ and ‘roots.2’ constant. Cannot scale data.”[Tune-y] 42: acc.test.mean=0.4200909; time: 0.0 min\n",
      "[Tune-x] 43: cost=0.607; gamma=0.447\n",
      "Warning message in svm.default(x, y, scale = scale, ..., na.action = na.action):\n",
      "“Variable(s) ‘ext.decay.2’ and ‘fruit.pods.2’ and ‘roots.2’ constant. Cannot scale data.”Warning message in svm.default(x, y, scale = scale, ..., na.action = na.action):\n",
      "“Variable(s) ‘ext.decay.2’ and ‘fruit.pods.2’ and ‘roots.2’ constant. Cannot scale data.”Warning message in svm.default(x, y, scale = scale, ..., na.action = na.action):\n",
      "“Variable(s) ‘ext.decay.2’ and ‘fruit.pods.2’ and ‘roots.2’ constant. Cannot scale data.”Warning message in svm.default(x, y, scale = scale, ..., na.action = na.action):\n",
      "“Variable(s) ‘ext.decay.2’ and ‘fruit.pods.2’ and ‘roots.2’ constant. Cannot scale data.”Warning message in svm.default(x, y, scale = scale, ..., na.action = na.action):\n",
      "“Variable(s) ‘ext.decay.2’ and ‘fruit.pods.2’ and ‘roots.2’ constant. Cannot scale data.”[Tune-y] 43: acc.test.mean=0.3945797; time: 0.0 min\n",
      "[Tune-x] 44: cost=0.199; gamma=0.459\n",
      "Warning message in svm.default(x, y, scale = scale, ..., na.action = na.action):\n"
     ]
    },
    {
     "name": "stderr",
     "output_type": "stream",
     "text": [
      "“Variable(s) ‘ext.decay.2’ and ‘fruit.pods.2’ and ‘roots.2’ constant. Cannot scale data.”Warning message in svm.default(x, y, scale = scale, ..., na.action = na.action):\n",
      "“Variable(s) ‘ext.decay.2’ and ‘fruit.pods.2’ and ‘roots.2’ constant. Cannot scale data.”Warning message in svm.default(x, y, scale = scale, ..., na.action = na.action):\n",
      "“Variable(s) ‘ext.decay.2’ and ‘fruit.pods.2’ and ‘roots.2’ constant. Cannot scale data.”Warning message in svm.default(x, y, scale = scale, ..., na.action = na.action):\n",
      "“Variable(s) ‘ext.decay.2’ and ‘fruit.pods.2’ and ‘roots.2’ constant. Cannot scale data.”Warning message in svm.default(x, y, scale = scale, ..., na.action = na.action):\n",
      "“Variable(s) ‘ext.decay.2’ and ‘fruit.pods.2’ and ‘roots.2’ constant. Cannot scale data.”[Tune-y] 44: acc.test.mean=0.1705615; time: 0.0 min\n",
      "[Tune-x] 45: cost=0.533; gamma=0.772\n",
      "Warning message in svm.default(x, y, scale = scale, ..., na.action = na.action):\n",
      "“Variable(s) ‘ext.decay.2’ and ‘fruit.pods.2’ and ‘roots.2’ constant. Cannot scale data.”Warning message in svm.default(x, y, scale = scale, ..., na.action = na.action):\n",
      "“Variable(s) ‘ext.decay.2’ and ‘fruit.pods.2’ and ‘roots.2’ constant. Cannot scale data.”Warning message in svm.default(x, y, scale = scale, ..., na.action = na.action):\n",
      "“Variable(s) ‘ext.decay.2’ and ‘fruit.pods.2’ and ‘roots.2’ constant. Cannot scale data.”Warning message in svm.default(x, y, scale = scale, ..., na.action = na.action):\n",
      "“Variable(s) ‘ext.decay.2’ and ‘fruit.pods.2’ and ‘roots.2’ constant. Cannot scale data.”Warning message in svm.default(x, y, scale = scale, ..., na.action = na.action):\n",
      "“Variable(s) ‘ext.decay.2’ and ‘fruit.pods.2’ and ‘roots.2’ constant. Cannot scale data.”[Tune-y] 45: acc.test.mean=0.2519961; time: 0.0 min\n",
      "[Tune-x] 46: cost=0.658; gamma=0.891\n",
      "Warning message in svm.default(x, y, scale = scale, ..., na.action = na.action):\n",
      "“Variable(s) ‘ext.decay.2’ and ‘fruit.pods.2’ and ‘roots.2’ constant. Cannot scale data.”Warning message in svm.default(x, y, scale = scale, ..., na.action = na.action):\n",
      "“Variable(s) ‘ext.decay.2’ and ‘fruit.pods.2’ and ‘roots.2’ constant. Cannot scale data.”Warning message in svm.default(x, y, scale = scale, ..., na.action = na.action):\n",
      "“Variable(s) ‘ext.decay.2’ and ‘fruit.pods.2’ and ‘roots.2’ constant. Cannot scale data.”Warning message in svm.default(x, y, scale = scale, ..., na.action = na.action):\n",
      "“Variable(s) ‘ext.decay.2’ and ‘fruit.pods.2’ and ‘roots.2’ constant. Cannot scale data.”Warning message in svm.default(x, y, scale = scale, ..., na.action = na.action):\n",
      "“Variable(s) ‘ext.decay.2’ and ‘fruit.pods.2’ and ‘roots.2’ constant. Cannot scale data.”[Tune-y] 46: acc.test.mean=0.2519961; time: 0.0 min\n",
      "[Tune-x] 47: cost=0.361; gamma=0.637\n",
      "Warning message in svm.default(x, y, scale = scale, ..., na.action = na.action):\n",
      "“Variable(s) ‘ext.decay.2’ and ‘fruit.pods.2’ and ‘roots.2’ constant. Cannot scale data.”Warning message in svm.default(x, y, scale = scale, ..., na.action = na.action):\n",
      "“Variable(s) ‘ext.decay.2’ and ‘fruit.pods.2’ and ‘roots.2’ constant. Cannot scale data.”Warning message in svm.default(x, y, scale = scale, ..., na.action = na.action):\n",
      "“Variable(s) ‘ext.decay.2’ and ‘fruit.pods.2’ and ‘roots.2’ constant. Cannot scale data.”Warning message in svm.default(x, y, scale = scale, ..., na.action = na.action):\n",
      "“Variable(s) ‘ext.decay.2’ and ‘fruit.pods.2’ and ‘roots.2’ constant. Cannot scale data.”Warning message in svm.default(x, y, scale = scale, ..., na.action = na.action):\n",
      "“Variable(s) ‘ext.decay.2’ and ‘fruit.pods.2’ and ‘roots.2’ constant. Cannot scale data.”[Tune-y] 47: acc.test.mean=0.2467381; time: 0.0 min\n",
      "[Tune-x] 48: cost=0.136; gamma=0.153\n",
      "Warning message in svm.default(x, y, scale = scale, ..., na.action = na.action):\n",
      "“Variable(s) ‘ext.decay.2’ and ‘fruit.pods.2’ and ‘roots.2’ constant. Cannot scale data.”Warning message in svm.default(x, y, scale = scale, ..., na.action = na.action):\n",
      "“Variable(s) ‘ext.decay.2’ and ‘fruit.pods.2’ and ‘roots.2’ constant. Cannot scale data.”Warning message in svm.default(x, y, scale = scale, ..., na.action = na.action):\n",
      "“Variable(s) ‘ext.decay.2’ and ‘fruit.pods.2’ and ‘roots.2’ constant. Cannot scale data.”Warning message in svm.default(x, y, scale = scale, ..., na.action = na.action):\n",
      "“Variable(s) ‘ext.decay.2’ and ‘fruit.pods.2’ and ‘roots.2’ constant. Cannot scale data.”Warning message in svm.default(x, y, scale = scale, ..., na.action = na.action):\n",
      "“Variable(s) ‘ext.decay.2’ and ‘fruit.pods.2’ and ‘roots.2’ constant. Cannot scale data.”[Tune-y] 48: acc.test.mean=0.3996754; time: 0.0 min\n",
      "[Tune-x] 49: cost=0.805; gamma=0.452\n",
      "Warning message in svm.default(x, y, scale = scale, ..., na.action = na.action):\n",
      "“Variable(s) ‘ext.decay.2’ and ‘fruit.pods.2’ and ‘roots.2’ constant. Cannot scale data.”Warning message in svm.default(x, y, scale = scale, ..., na.action = na.action):\n",
      "“Variable(s) ‘ext.decay.2’ and ‘fruit.pods.2’ and ‘roots.2’ constant. Cannot scale data.”Warning message in svm.default(x, y, scale = scale, ..., na.action = na.action):\n",
      "“Variable(s) ‘ext.decay.2’ and ‘fruit.pods.2’ and ‘roots.2’ constant. Cannot scale data.”Warning message in svm.default(x, y, scale = scale, ..., na.action = na.action):\n",
      "“Variable(s) ‘ext.decay.2’ and ‘fruit.pods.2’ and ‘roots.2’ constant. Cannot scale data.”Warning message in svm.default(x, y, scale = scale, ..., na.action = na.action):\n",
      "“Variable(s) ‘ext.decay.2’ and ‘fruit.pods.2’ and ‘roots.2’ constant. Cannot scale data.”[Tune-y] 49: acc.test.mean=0.4149951; time: 0.0 min\n",
      "[Tune-x] 50: cost=0.827; gamma=0.938\n",
      "Warning message in svm.default(x, y, scale = scale, ..., na.action = na.action):\n",
      "“Variable(s) ‘ext.decay.2’ and ‘fruit.pods.2’ and ‘roots.2’ constant. Cannot scale data.”Warning message in svm.default(x, y, scale = scale, ..., na.action = na.action):\n",
      "“Variable(s) ‘ext.decay.2’ and ‘fruit.pods.2’ and ‘roots.2’ constant. Cannot scale data.”Warning message in svm.default(x, y, scale = scale, ..., na.action = na.action):\n",
      "“Variable(s) ‘ext.decay.2’ and ‘fruit.pods.2’ and ‘roots.2’ constant. Cannot scale data.”Warning message in svm.default(x, y, scale = scale, ..., na.action = na.action):\n",
      "“Variable(s) ‘ext.decay.2’ and ‘fruit.pods.2’ and ‘roots.2’ constant. Cannot scale data.”Warning message in svm.default(x, y, scale = scale, ..., na.action = na.action):\n",
      "“Variable(s) ‘ext.decay.2’ and ‘fruit.pods.2’ and ‘roots.2’ constant. Cannot scale data.”[Tune-y] 50: acc.test.mean=0.2826680; time: 0.0 min\n",
      "[Tune-x] 51: cost=0.275; gamma=0.565\n",
      "Warning message in svm.default(x, y, scale = scale, ..., na.action = na.action):\n",
      "“Variable(s) ‘ext.decay.2’ and ‘fruit.pods.2’ and ‘roots.2’ constant. Cannot scale data.”Warning message in svm.default(x, y, scale = scale, ..., na.action = na.action):\n",
      "“Variable(s) ‘ext.decay.2’ and ‘fruit.pods.2’ and ‘roots.2’ constant. Cannot scale data.”Warning message in svm.default(x, y, scale = scale, ..., na.action = na.action):\n",
      "“Variable(s) ‘ext.decay.2’ and ‘fruit.pods.2’ and ‘roots.2’ constant. Cannot scale data.”Warning message in svm.default(x, y, scale = scale, ..., na.action = na.action):\n",
      "“Variable(s) ‘ext.decay.2’ and ‘fruit.pods.2’ and ‘roots.2’ constant. Cannot scale data.”Warning message in svm.default(x, y, scale = scale, ..., na.action = na.action):\n",
      "“Variable(s) ‘ext.decay.2’ and ‘fruit.pods.2’ and ‘roots.2’ constant. Cannot scale data.”[Tune-y] 51: acc.test.mean=0.1984745; time: 0.0 min\n",
      "[Tune-x] 52: cost=0.547; gamma=0.901\n",
      "Warning message in svm.default(x, y, scale = scale, ..., na.action = na.action):\n",
      "“Variable(s) ‘ext.decay.2’ and ‘fruit.pods.2’ and ‘roots.2’ constant. Cannot scale data.”Warning message in svm.default(x, y, scale = scale, ..., na.action = na.action):\n",
      "“Variable(s) ‘ext.decay.2’ and ‘fruit.pods.2’ and ‘roots.2’ constant. Cannot scale data.”Warning message in svm.default(x, y, scale = scale, ..., na.action = na.action):\n",
      "“Variable(s) ‘ext.decay.2’ and ‘fruit.pods.2’ and ‘roots.2’ constant. Cannot scale data.”Warning message in svm.default(x, y, scale = scale, ..., na.action = na.action):\n",
      "“Variable(s) ‘ext.decay.2’ and ‘fruit.pods.2’ and ‘roots.2’ constant. Cannot scale data.”Warning message in svm.default(x, y, scale = scale, ..., na.action = na.action):\n"
     ]
    },
    {
     "name": "stderr",
     "output_type": "stream",
     "text": [
      "“Variable(s) ‘ext.decay.2’ and ‘fruit.pods.2’ and ‘roots.2’ constant. Cannot scale data.”[Tune-y] 52: acc.test.mean=0.2240506; time: 0.0 min\n",
      "[Tune-x] 53: cost=0.15; gamma=0.857\n",
      "Warning message in svm.default(x, y, scale = scale, ..., na.action = na.action):\n",
      "“Variable(s) ‘ext.decay.2’ and ‘fruit.pods.2’ and ‘roots.2’ constant. Cannot scale data.”Warning message in svm.default(x, y, scale = scale, ..., na.action = na.action):\n",
      "“Variable(s) ‘ext.decay.2’ and ‘fruit.pods.2’ and ‘roots.2’ constant. Cannot scale data.”Warning message in svm.default(x, y, scale = scale, ..., na.action = na.action):\n",
      "“Variable(s) ‘ext.decay.2’ and ‘fruit.pods.2’ and ‘roots.2’ constant. Cannot scale data.”Warning message in svm.default(x, y, scale = scale, ..., na.action = na.action):\n",
      "“Variable(s) ‘ext.decay.2’ and ‘fruit.pods.2’ and ‘roots.2’ constant. Cannot scale data.”Warning message in svm.default(x, y, scale = scale, ..., na.action = na.action):\n",
      "“Variable(s) ‘ext.decay.2’ and ‘fruit.pods.2’ and ‘roots.2’ constant. Cannot scale data.”[Tune-y] 53: acc.test.mean=0.1527751; time: 0.0 min\n",
      "[Tune-x] 54: cost=0.944; gamma=0.959\n",
      "Warning message in svm.default(x, y, scale = scale, ..., na.action = na.action):\n",
      "“Variable(s) ‘ext.decay.2’ and ‘fruit.pods.2’ and ‘roots.2’ constant. Cannot scale data.”Warning message in svm.default(x, y, scale = scale, ..., na.action = na.action):\n",
      "“Variable(s) ‘ext.decay.2’ and ‘fruit.pods.2’ and ‘roots.2’ constant. Cannot scale data.”Warning message in svm.default(x, y, scale = scale, ..., na.action = na.action):\n",
      "“Variable(s) ‘ext.decay.2’ and ‘fruit.pods.2’ and ‘roots.2’ constant. Cannot scale data.”Warning message in svm.default(x, y, scale = scale, ..., na.action = na.action):\n",
      "“Variable(s) ‘ext.decay.2’ and ‘fruit.pods.2’ and ‘roots.2’ constant. Cannot scale data.”Warning message in svm.default(x, y, scale = scale, ..., na.action = na.action):\n",
      "“Variable(s) ‘ext.decay.2’ and ‘fruit.pods.2’ and ‘roots.2’ constant. Cannot scale data.”[Tune-y] 54: acc.test.mean=0.2927945; time: 0.0 min\n",
      "[Tune-x] 55: cost=0.53; gamma=0.82\n",
      "Warning message in svm.default(x, y, scale = scale, ..., na.action = na.action):\n",
      "“Variable(s) ‘ext.decay.2’ and ‘fruit.pods.2’ and ‘roots.2’ constant. Cannot scale data.”Warning message in svm.default(x, y, scale = scale, ..., na.action = na.action):\n",
      "“Variable(s) ‘ext.decay.2’ and ‘fruit.pods.2’ and ‘roots.2’ constant. Cannot scale data.”Warning message in svm.default(x, y, scale = scale, ..., na.action = na.action):\n",
      "“Variable(s) ‘ext.decay.2’ and ‘fruit.pods.2’ and ‘roots.2’ constant. Cannot scale data.”Warning message in svm.default(x, y, scale = scale, ..., na.action = na.action):\n",
      "“Variable(s) ‘ext.decay.2’ and ‘fruit.pods.2’ and ‘roots.2’ constant. Cannot scale data.”Warning message in svm.default(x, y, scale = scale, ..., na.action = na.action):\n",
      "“Variable(s) ‘ext.decay.2’ and ‘fruit.pods.2’ and ‘roots.2’ constant. Cannot scale data.”[Tune-y] 55: acc.test.mean=0.2341772; time: 0.0 min\n",
      "[Tune-x] 56: cost=0.771; gamma=0.765\n",
      "Warning message in svm.default(x, y, scale = scale, ..., na.action = na.action):\n",
      "“Variable(s) ‘ext.decay.2’ and ‘fruit.pods.2’ and ‘roots.2’ constant. Cannot scale data.”Warning message in svm.default(x, y, scale = scale, ..., na.action = na.action):\n",
      "“Variable(s) ‘ext.decay.2’ and ‘fruit.pods.2’ and ‘roots.2’ constant. Cannot scale data.”Warning message in svm.default(x, y, scale = scale, ..., na.action = na.action):\n",
      "“Variable(s) ‘ext.decay.2’ and ‘fruit.pods.2’ and ‘roots.2’ constant. Cannot scale data.”Warning message in svm.default(x, y, scale = scale, ..., na.action = na.action):\n",
      "“Variable(s) ‘ext.decay.2’ and ‘fruit.pods.2’ and ‘roots.2’ constant. Cannot scale data.”Warning message in svm.default(x, y, scale = scale, ..., na.action = na.action):\n",
      "“Variable(s) ‘ext.decay.2’ and ‘fruit.pods.2’ and ‘roots.2’ constant. Cannot scale data.”[Tune-y] 56: acc.test.mean=0.3131451; time: 0.0 min\n",
      "[Tune-x] 57: cost=0.997; gamma=0.775\n",
      "Warning message in svm.default(x, y, scale = scale, ..., na.action = na.action):\n",
      "“Variable(s) ‘ext.decay.2’ and ‘fruit.pods.2’ and ‘roots.2’ constant. Cannot scale data.”Warning message in svm.default(x, y, scale = scale, ..., na.action = na.action):\n",
      "“Variable(s) ‘ext.decay.2’ and ‘fruit.pods.2’ and ‘roots.2’ constant. Cannot scale data.”Warning message in svm.default(x, y, scale = scale, ..., na.action = na.action):\n",
      "“Variable(s) ‘ext.decay.2’ and ‘fruit.pods.2’ and ‘roots.2’ constant. Cannot scale data.”Warning message in svm.default(x, y, scale = scale, ..., na.action = na.action):\n",
      "“Variable(s) ‘ext.decay.2’ and ‘fruit.pods.2’ and ‘roots.2’ constant. Cannot scale data.”Warning message in svm.default(x, y, scale = scale, ..., na.action = na.action):\n",
      "“Variable(s) ‘ext.decay.2’ and ‘fruit.pods.2’ and ‘roots.2’ constant. Cannot scale data.”[Tune-y] 57: acc.test.mean=0.3436222; time: 0.0 min\n",
      "[Tune-x] 58: cost=0.607; gamma=0.15\n",
      "Warning message in svm.default(x, y, scale = scale, ..., na.action = na.action):\n",
      "“Variable(s) ‘ext.decay.2’ and ‘fruit.pods.2’ and ‘roots.2’ constant. Cannot scale data.”Warning message in svm.default(x, y, scale = scale, ..., na.action = na.action):\n",
      "“Variable(s) ‘ext.decay.2’ and ‘fruit.pods.2’ and ‘roots.2’ constant. Cannot scale data.”Warning message in svm.default(x, y, scale = scale, ..., na.action = na.action):\n",
      "“Variable(s) ‘ext.decay.2’ and ‘fruit.pods.2’ and ‘roots.2’ constant. Cannot scale data.”Warning message in svm.default(x, y, scale = scale, ..., na.action = na.action):\n",
      "“Variable(s) ‘ext.decay.2’ and ‘fruit.pods.2’ and ‘roots.2’ constant. Cannot scale data.”Warning message in svm.default(x, y, scale = scale, ..., na.action = na.action):\n",
      "“Variable(s) ‘ext.decay.2’ and ‘fruit.pods.2’ and ‘roots.2’ constant. Cannot scale data.”[Tune-y] 58: acc.test.mean=0.8446933; time: 0.0 min\n",
      "[Tune-x] 59: cost=0.746; gamma=0.377\n",
      "Warning message in svm.default(x, y, scale = scale, ..., na.action = na.action):\n",
      "“Variable(s) ‘ext.decay.2’ and ‘fruit.pods.2’ and ‘roots.2’ constant. Cannot scale data.”Warning message in svm.default(x, y, scale = scale, ..., na.action = na.action):\n",
      "“Variable(s) ‘ext.decay.2’ and ‘fruit.pods.2’ and ‘roots.2’ constant. Cannot scale data.”Warning message in svm.default(x, y, scale = scale, ..., na.action = na.action):\n",
      "“Variable(s) ‘ext.decay.2’ and ‘fruit.pods.2’ and ‘roots.2’ constant. Cannot scale data.”Warning message in svm.default(x, y, scale = scale, ..., na.action = na.action):\n",
      "“Variable(s) ‘ext.decay.2’ and ‘fruit.pods.2’ and ‘roots.2’ constant. Cannot scale data.”Warning message in svm.default(x, y, scale = scale, ..., na.action = na.action):\n",
      "“Variable(s) ‘ext.decay.2’ and ‘fruit.pods.2’ and ‘roots.2’ constant. Cannot scale data.”[Tune-y] 59: acc.test.mean=0.4785784; time: 0.0 min\n",
      "[Tune-x] 60: cost=0.8; gamma=0.799\n",
      "Warning message in svm.default(x, y, scale = scale, ..., na.action = na.action):\n",
      "“Variable(s) ‘ext.decay.2’ and ‘fruit.pods.2’ and ‘roots.2’ constant. Cannot scale data.”Warning message in svm.default(x, y, scale = scale, ..., na.action = na.action):\n",
      "“Variable(s) ‘ext.decay.2’ and ‘fruit.pods.2’ and ‘roots.2’ constant. Cannot scale data.”Warning message in svm.default(x, y, scale = scale, ..., na.action = na.action):\n",
      "“Variable(s) ‘ext.decay.2’ and ‘fruit.pods.2’ and ‘roots.2’ constant. Cannot scale data.”Warning message in svm.default(x, y, scale = scale, ..., na.action = na.action):\n",
      "“Variable(s) ‘ext.decay.2’ and ‘fruit.pods.2’ and ‘roots.2’ constant. Cannot scale data.”Warning message in svm.default(x, y, scale = scale, ..., na.action = na.action):\n",
      "“Variable(s) ‘ext.decay.2’ and ‘fruit.pods.2’ and ‘roots.2’ constant. Cannot scale data.”[Tune-y] 60: acc.test.mean=0.3080818; time: 0.0 min\n",
      "[Tune-x] 61: cost=0.3; gamma=0.932\n",
      "Warning message in svm.default(x, y, scale = scale, ..., na.action = na.action):\n",
      "“Variable(s) ‘ext.decay.2’ and ‘fruit.pods.2’ and ‘roots.2’ constant. Cannot scale data.”Warning message in svm.default(x, y, scale = scale, ..., na.action = na.action):\n",
      "“Variable(s) ‘ext.decay.2’ and ‘fruit.pods.2’ and ‘roots.2’ constant. Cannot scale data.”Warning message in svm.default(x, y, scale = scale, ..., na.action = na.action):\n",
      "“Variable(s) ‘ext.decay.2’ and ‘fruit.pods.2’ and ‘roots.2’ constant. Cannot scale data.”Warning message in svm.default(x, y, scale = scale, ..., na.action = na.action):\n"
     ]
    },
    {
     "name": "stderr",
     "output_type": "stream",
     "text": [
      "“Variable(s) ‘ext.decay.2’ and ‘fruit.pods.2’ and ‘roots.2’ constant. Cannot scale data.”Warning message in svm.default(x, y, scale = scale, ..., na.action = na.action):\n",
      "“Variable(s) ‘ext.decay.2’ and ‘fruit.pods.2’ and ‘roots.2’ constant. Cannot scale data.”[Tune-y] 61: acc.test.mean=0.1553067; time: 0.0 min\n",
      "[Tune-x] 62: cost=0.767; gamma=0.662\n",
      "Warning message in svm.default(x, y, scale = scale, ..., na.action = na.action):\n",
      "“Variable(s) ‘ext.decay.2’ and ‘fruit.pods.2’ and ‘roots.2’ constant. Cannot scale data.”Warning message in svm.default(x, y, scale = scale, ..., na.action = na.action):\n",
      "“Variable(s) ‘ext.decay.2’ and ‘fruit.pods.2’ and ‘roots.2’ constant. Cannot scale data.”Warning message in svm.default(x, y, scale = scale, ..., na.action = na.action):\n",
      "“Variable(s) ‘ext.decay.2’ and ‘fruit.pods.2’ and ‘roots.2’ constant. Cannot scale data.”Warning message in svm.default(x, y, scale = scale, ..., na.action = na.action):\n",
      "“Variable(s) ‘ext.decay.2’ and ‘fruit.pods.2’ and ‘roots.2’ constant. Cannot scale data.”Warning message in svm.default(x, y, scale = scale, ..., na.action = na.action):\n",
      "“Variable(s) ‘ext.decay.2’ and ‘fruit.pods.2’ and ‘roots.2’ constant. Cannot scale data.”[Tune-y] 62: acc.test.mean=0.3410906; time: 0.0 min\n",
      "[Tune-x] 63: cost=0.553; gamma=0.897\n",
      "Warning message in svm.default(x, y, scale = scale, ..., na.action = na.action):\n",
      "“Variable(s) ‘ext.decay.2’ and ‘fruit.pods.2’ and ‘roots.2’ constant. Cannot scale data.”Warning message in svm.default(x, y, scale = scale, ..., na.action = na.action):\n",
      "“Variable(s) ‘ext.decay.2’ and ‘fruit.pods.2’ and ‘roots.2’ constant. Cannot scale data.”Warning message in svm.default(x, y, scale = scale, ..., na.action = na.action):\n",
      "“Variable(s) ‘ext.decay.2’ and ‘fruit.pods.2’ and ‘roots.2’ constant. Cannot scale data.”Warning message in svm.default(x, y, scale = scale, ..., na.action = na.action):\n",
      "“Variable(s) ‘ext.decay.2’ and ‘fruit.pods.2’ and ‘roots.2’ constant. Cannot scale data.”Warning message in svm.default(x, y, scale = scale, ..., na.action = na.action):\n",
      "“Variable(s) ‘ext.decay.2’ and ‘fruit.pods.2’ and ‘roots.2’ constant. Cannot scale data.”[Tune-y] 63: acc.test.mean=0.2240506; time: 0.0 min\n",
      "[Tune-x] 64: cost=0.517; gamma=0.372\n",
      "Warning message in svm.default(x, y, scale = scale, ..., na.action = na.action):\n",
      "“Variable(s) ‘ext.decay.2’ and ‘fruit.pods.2’ and ‘roots.2’ constant. Cannot scale data.”Warning message in svm.default(x, y, scale = scale, ..., na.action = na.action):\n",
      "“Variable(s) ‘ext.decay.2’ and ‘fruit.pods.2’ and ‘roots.2’ constant. Cannot scale data.”Warning message in svm.default(x, y, scale = scale, ..., na.action = na.action):\n",
      "“Variable(s) ‘ext.decay.2’ and ‘fruit.pods.2’ and ‘roots.2’ constant. Cannot scale data.”Warning message in svm.default(x, y, scale = scale, ..., na.action = na.action):\n",
      "“Variable(s) ‘ext.decay.2’ and ‘fruit.pods.2’ and ‘roots.2’ constant. Cannot scale data.”Warning message in svm.default(x, y, scale = scale, ..., na.action = na.action):\n",
      "“Variable(s) ‘ext.decay.2’ and ‘fruit.pods.2’ and ‘roots.2’ constant. Cannot scale data.”[Tune-y] 64: acc.test.mean=0.4048036; time: 0.0 min\n",
      "[Tune-x] 65: cost=0.85; gamma=0.73\n",
      "Warning message in svm.default(x, y, scale = scale, ..., na.action = na.action):\n",
      "“Variable(s) ‘ext.decay.2’ and ‘fruit.pods.2’ and ‘roots.2’ constant. Cannot scale data.”Warning message in svm.default(x, y, scale = scale, ..., na.action = na.action):\n",
      "“Variable(s) ‘ext.decay.2’ and ‘fruit.pods.2’ and ‘roots.2’ constant. Cannot scale data.”Warning message in svm.default(x, y, scale = scale, ..., na.action = na.action):\n",
      "“Variable(s) ‘ext.decay.2’ and ‘fruit.pods.2’ and ‘roots.2’ constant. Cannot scale data.”Warning message in svm.default(x, y, scale = scale, ..., na.action = na.action):\n",
      "“Variable(s) ‘ext.decay.2’ and ‘fruit.pods.2’ and ‘roots.2’ constant. Cannot scale data.”Warning message in svm.default(x, y, scale = scale, ..., na.action = na.action):\n",
      "“Variable(s) ‘ext.decay.2’ and ‘fruit.pods.2’ and ‘roots.2’ constant. Cannot scale data.”[Tune-y] 65: acc.test.mean=0.3334956; time: 0.0 min\n",
      "[Tune-x] 66: cost=0.244; gamma=0.115\n",
      "Warning message in svm.default(x, y, scale = scale, ..., na.action = na.action):\n",
      "“Variable(s) ‘ext.decay.2’ and ‘fruit.pods.2’ and ‘roots.2’ constant. Cannot scale data.”Warning message in svm.default(x, y, scale = scale, ..., na.action = na.action):\n",
      "“Variable(s) ‘ext.decay.2’ and ‘fruit.pods.2’ and ‘roots.2’ constant. Cannot scale data.”Warning message in svm.default(x, y, scale = scale, ..., na.action = na.action):\n",
      "“Variable(s) ‘ext.decay.2’ and ‘fruit.pods.2’ and ‘roots.2’ constant. Cannot scale data.”Warning message in svm.default(x, y, scale = scale, ..., na.action = na.action):\n",
      "“Variable(s) ‘ext.decay.2’ and ‘fruit.pods.2’ and ‘roots.2’ constant. Cannot scale data.”Warning message in svm.default(x, y, scale = scale, ..., na.action = na.action):\n",
      "“Variable(s) ‘ext.decay.2’ and ‘fruit.pods.2’ and ‘roots.2’ constant. Cannot scale data.”[Tune-y] 66: acc.test.mean=0.5905875; time: 0.0 min\n",
      "[Tune-x] 67: cost=0.89; gamma=0.257\n",
      "Warning message in svm.default(x, y, scale = scale, ..., na.action = na.action):\n",
      "“Variable(s) ‘ext.decay.2’ and ‘fruit.pods.2’ and ‘roots.2’ constant. Cannot scale data.”Warning message in svm.default(x, y, scale = scale, ..., na.action = na.action):\n",
      "“Variable(s) ‘ext.decay.2’ and ‘fruit.pods.2’ and ‘roots.2’ constant. Cannot scale data.”Warning message in svm.default(x, y, scale = scale, ..., na.action = na.action):\n",
      "“Variable(s) ‘ext.decay.2’ and ‘fruit.pods.2’ and ‘roots.2’ constant. Cannot scale data.”Warning message in svm.default(x, y, scale = scale, ..., na.action = na.action):\n",
      "“Variable(s) ‘ext.decay.2’ and ‘fruit.pods.2’ and ‘roots.2’ constant. Cannot scale data.”Warning message in svm.default(x, y, scale = scale, ..., na.action = na.action):\n",
      "“Variable(s) ‘ext.decay.2’ and ‘fruit.pods.2’ and ‘roots.2’ constant. Cannot scale data.”[Tune-y] 67: acc.test.mean=0.7074651; time: 0.0 min\n",
      "[Tune-x] 68: cost=0.22; gamma=0.302\n",
      "Warning message in svm.default(x, y, scale = scale, ..., na.action = na.action):\n",
      "“Variable(s) ‘ext.decay.2’ and ‘fruit.pods.2’ and ‘roots.2’ constant. Cannot scale data.”Warning message in svm.default(x, y, scale = scale, ..., na.action = na.action):\n",
      "“Variable(s) ‘ext.decay.2’ and ‘fruit.pods.2’ and ‘roots.2’ constant. Cannot scale data.”Warning message in svm.default(x, y, scale = scale, ..., na.action = na.action):\n",
      "“Variable(s) ‘ext.decay.2’ and ‘fruit.pods.2’ and ‘roots.2’ constant. Cannot scale data.”Warning message in svm.default(x, y, scale = scale, ..., na.action = na.action):\n",
      "“Variable(s) ‘ext.decay.2’ and ‘fruit.pods.2’ and ‘roots.2’ constant. Cannot scale data.”Warning message in svm.default(x, y, scale = scale, ..., na.action = na.action):\n",
      "“Variable(s) ‘ext.decay.2’ and ‘fruit.pods.2’ and ‘roots.2’ constant. Cannot scale data.”[Tune-y] 68: acc.test.mean=0.3587796; time: 0.0 min\n",
      "[Tune-x] 69: cost=0.27; gamma=0.47\n",
      "Warning message in svm.default(x, y, scale = scale, ..., na.action = na.action):\n",
      "“Variable(s) ‘ext.decay.2’ and ‘fruit.pods.2’ and ‘roots.2’ constant. Cannot scale data.”Warning message in svm.default(x, y, scale = scale, ..., na.action = na.action):\n",
      "“Variable(s) ‘ext.decay.2’ and ‘fruit.pods.2’ and ‘roots.2’ constant. Cannot scale data.”Warning message in svm.default(x, y, scale = scale, ..., na.action = na.action):\n",
      "“Variable(s) ‘ext.decay.2’ and ‘fruit.pods.2’ and ‘roots.2’ constant. Cannot scale data.”Warning message in svm.default(x, y, scale = scale, ..., na.action = na.action):\n",
      "“Variable(s) ‘ext.decay.2’ and ‘fruit.pods.2’ and ‘roots.2’ constant. Cannot scale data.”Warning message in svm.default(x, y, scale = scale, ..., na.action = na.action):\n",
      "“Variable(s) ‘ext.decay.2’ and ‘fruit.pods.2’ and ‘roots.2’ constant. Cannot scale data.”[Tune-y] 69: acc.test.mean=0.2569296; time: 0.0 min\n",
      "[Tune-x] 70: cost=0.793; gamma=0.316\n",
      "Warning message in svm.default(x, y, scale = scale, ..., na.action = na.action):\n",
      "“Variable(s) ‘ext.decay.2’ and ‘fruit.pods.2’ and ‘roots.2’ constant. Cannot scale data.”Warning message in svm.default(x, y, scale = scale, ..., na.action = na.action):\n"
     ]
    },
    {
     "name": "stderr",
     "output_type": "stream",
     "text": [
      "“Variable(s) ‘ext.decay.2’ and ‘fruit.pods.2’ and ‘roots.2’ constant. Cannot scale data.”Warning message in svm.default(x, y, scale = scale, ..., na.action = na.action):\n",
      "“Variable(s) ‘ext.decay.2’ and ‘fruit.pods.2’ and ‘roots.2’ constant. Cannot scale data.”Warning message in svm.default(x, y, scale = scale, ..., na.action = na.action):\n",
      "“Variable(s) ‘ext.decay.2’ and ‘fruit.pods.2’ and ‘roots.2’ constant. Cannot scale data.”Warning message in svm.default(x, y, scale = scale, ..., na.action = na.action):\n",
      "“Variable(s) ‘ext.decay.2’ and ‘fruit.pods.2’ and ‘roots.2’ constant. Cannot scale data.”[Tune-y] 70: acc.test.mean=0.5420967; time: 0.0 min\n",
      "[Tune-x] 71: cost=0.419; gamma=0.596\n",
      "Warning message in svm.default(x, y, scale = scale, ..., na.action = na.action):\n",
      "“Variable(s) ‘ext.decay.2’ and ‘fruit.pods.2’ and ‘roots.2’ constant. Cannot scale data.”Warning message in svm.default(x, y, scale = scale, ..., na.action = na.action):\n",
      "“Variable(s) ‘ext.decay.2’ and ‘fruit.pods.2’ and ‘roots.2’ constant. Cannot scale data.”Warning message in svm.default(x, y, scale = scale, ..., na.action = na.action):\n",
      "“Variable(s) ‘ext.decay.2’ and ‘fruit.pods.2’ and ‘roots.2’ constant. Cannot scale data.”Warning message in svm.default(x, y, scale = scale, ..., na.action = na.action):\n",
      "“Variable(s) ‘ext.decay.2’ and ‘fruit.pods.2’ and ‘roots.2’ constant. Cannot scale data.”Warning message in svm.default(x, y, scale = scale, ..., na.action = na.action):\n",
      "“Variable(s) ‘ext.decay.2’ and ‘fruit.pods.2’ and ‘roots.2’ constant. Cannot scale data.”[Tune-y] 71: acc.test.mean=0.2672509; time: 0.0 min\n",
      "[Tune-x] 72: cost=0.19; gamma=0.49\n",
      "Warning message in svm.default(x, y, scale = scale, ..., na.action = na.action):\n",
      "“Variable(s) ‘ext.decay.2’ and ‘fruit.pods.2’ and ‘roots.2’ constant. Cannot scale data.”Warning message in svm.default(x, y, scale = scale, ..., na.action = na.action):\n",
      "“Variable(s) ‘ext.decay.2’ and ‘fruit.pods.2’ and ‘roots.2’ constant. Cannot scale data.”Warning message in svm.default(x, y, scale = scale, ..., na.action = na.action):\n",
      "“Variable(s) ‘ext.decay.2’ and ‘fruit.pods.2’ and ‘roots.2’ constant. Cannot scale data.”Warning message in svm.default(x, y, scale = scale, ..., na.action = na.action):\n",
      "“Variable(s) ‘ext.decay.2’ and ‘fruit.pods.2’ and ‘roots.2’ constant. Cannot scale data.”Warning message in svm.default(x, y, scale = scale, ..., na.action = na.action):\n",
      "“Variable(s) ‘ext.decay.2’ and ‘fruit.pods.2’ and ‘roots.2’ constant. Cannot scale data.”[Tune-y] 72: acc.test.mean=0.1527751; time: 0.0 min\n",
      "[Tune-x] 73: cost=0.604; gamma=0.596\n",
      "Warning message in svm.default(x, y, scale = scale, ..., na.action = na.action):\n",
      "“Variable(s) ‘ext.decay.2’ and ‘fruit.pods.2’ and ‘roots.2’ constant. Cannot scale data.”Warning message in svm.default(x, y, scale = scale, ..., na.action = na.action):\n",
      "“Variable(s) ‘ext.decay.2’ and ‘fruit.pods.2’ and ‘roots.2’ constant. Cannot scale data.”Warning message in svm.default(x, y, scale = scale, ..., na.action = na.action):\n",
      "“Variable(s) ‘ext.decay.2’ and ‘fruit.pods.2’ and ‘roots.2’ constant. Cannot scale data.”Warning message in svm.default(x, y, scale = scale, ..., na.action = na.action):\n",
      "“Variable(s) ‘ext.decay.2’ and ‘fruit.pods.2’ and ‘roots.2’ constant. Cannot scale data.”Warning message in svm.default(x, y, scale = scale, ..., na.action = na.action):\n",
      "“Variable(s) ‘ext.decay.2’ and ‘fruit.pods.2’ and ‘roots.2’ constant. Cannot scale data.”[Tune-y] 73: acc.test.mean=0.3308666; time: 0.0 min\n",
      "[Tune-x] 74: cost=0.315; gamma=0.82\n",
      "Warning message in svm.default(x, y, scale = scale, ..., na.action = na.action):\n",
      "“Variable(s) ‘ext.decay.2’ and ‘fruit.pods.2’ and ‘roots.2’ constant. Cannot scale data.”Warning message in svm.default(x, y, scale = scale, ..., na.action = na.action):\n",
      "“Variable(s) ‘ext.decay.2’ and ‘fruit.pods.2’ and ‘roots.2’ constant. Cannot scale data.”Warning message in svm.default(x, y, scale = scale, ..., na.action = na.action):\n",
      "“Variable(s) ‘ext.decay.2’ and ‘fruit.pods.2’ and ‘roots.2’ constant. Cannot scale data.”Warning message in svm.default(x, y, scale = scale, ..., na.action = na.action):\n",
      "“Variable(s) ‘ext.decay.2’ and ‘fruit.pods.2’ and ‘roots.2’ constant. Cannot scale data.”Warning message in svm.default(x, y, scale = scale, ..., na.action = na.action):\n",
      "“Variable(s) ‘ext.decay.2’ and ‘fruit.pods.2’ and ‘roots.2’ constant. Cannot scale data.”[Tune-y] 74: acc.test.mean=0.1680299; time: 0.0 min\n",
      "[Tune-x] 75: cost=0.377; gamma=0.431\n",
      "Warning message in svm.default(x, y, scale = scale, ..., na.action = na.action):\n",
      "“Variable(s) ‘ext.decay.2’ and ‘fruit.pods.2’ and ‘roots.2’ constant. Cannot scale data.”Warning message in svm.default(x, y, scale = scale, ..., na.action = na.action):\n",
      "“Variable(s) ‘ext.decay.2’ and ‘fruit.pods.2’ and ‘roots.2’ constant. Cannot scale data.”Warning message in svm.default(x, y, scale = scale, ..., na.action = na.action):\n",
      "“Variable(s) ‘ext.decay.2’ and ‘fruit.pods.2’ and ‘roots.2’ constant. Cannot scale data.”Warning message in svm.default(x, y, scale = scale, ..., na.action = na.action):\n",
      "“Variable(s) ‘ext.decay.2’ and ‘fruit.pods.2’ and ‘roots.2’ constant. Cannot scale data.”Warning message in svm.default(x, y, scale = scale, ..., na.action = na.action):\n",
      "“Variable(s) ‘ext.decay.2’ and ‘fruit.pods.2’ and ‘roots.2’ constant. Cannot scale data.”[Tune-y] 75: acc.test.mean=0.3410256; time: 0.0 min\n",
      "[Tune-x] 76: cost=0.557; gamma=0.859\n",
      "Warning message in svm.default(x, y, scale = scale, ..., na.action = na.action):\n",
      "“Variable(s) ‘ext.decay.2’ and ‘fruit.pods.2’ and ‘roots.2’ constant. Cannot scale data.”Warning message in svm.default(x, y, scale = scale, ..., na.action = na.action):\n",
      "“Variable(s) ‘ext.decay.2’ and ‘fruit.pods.2’ and ‘roots.2’ constant. Cannot scale data.”Warning message in svm.default(x, y, scale = scale, ..., na.action = na.action):\n",
      "“Variable(s) ‘ext.decay.2’ and ‘fruit.pods.2’ and ‘roots.2’ constant. Cannot scale data.”Warning message in svm.default(x, y, scale = scale, ..., na.action = na.action):\n",
      "“Variable(s) ‘ext.decay.2’ and ‘fruit.pods.2’ and ‘roots.2’ constant. Cannot scale data.”Warning message in svm.default(x, y, scale = scale, ..., na.action = na.action):\n",
      "“Variable(s) ‘ext.decay.2’ and ‘fruit.pods.2’ and ‘roots.2’ constant. Cannot scale data.”[Tune-y] 76: acc.test.mean=0.2316456; time: 0.0 min\n",
      "[Tune-x] 77: cost=0.557; gamma=0.443\n",
      "Warning message in svm.default(x, y, scale = scale, ..., na.action = na.action):\n",
      "“Variable(s) ‘ext.decay.2’ and ‘fruit.pods.2’ and ‘roots.2’ constant. Cannot scale data.”Warning message in svm.default(x, y, scale = scale, ..., na.action = na.action):\n",
      "“Variable(s) ‘ext.decay.2’ and ‘fruit.pods.2’ and ‘roots.2’ constant. Cannot scale data.”Warning message in svm.default(x, y, scale = scale, ..., na.action = na.action):\n",
      "“Variable(s) ‘ext.decay.2’ and ‘fruit.pods.2’ and ‘roots.2’ constant. Cannot scale data.”Warning message in svm.default(x, y, scale = scale, ..., na.action = na.action):\n",
      "“Variable(s) ‘ext.decay.2’ and ‘fruit.pods.2’ and ‘roots.2’ constant. Cannot scale data.”Warning message in svm.default(x, y, scale = scale, ..., na.action = na.action):\n",
      "“Variable(s) ‘ext.decay.2’ and ‘fruit.pods.2’ and ‘roots.2’ constant. Cannot scale data.”[Tune-y] 77: acc.test.mean=0.3894515; time: 0.0 min\n",
      "[Tune-x] 78: cost=0.266; gamma=0.421\n",
      "Warning message in svm.default(x, y, scale = scale, ..., na.action = na.action):\n",
      "“Variable(s) ‘ext.decay.2’ and ‘fruit.pods.2’ and ‘roots.2’ constant. Cannot scale data.”Warning message in svm.default(x, y, scale = scale, ..., na.action = na.action):\n",
      "“Variable(s) ‘ext.decay.2’ and ‘fruit.pods.2’ and ‘roots.2’ constant. Cannot scale data.”Warning message in svm.default(x, y, scale = scale, ..., na.action = na.action):\n",
      "“Variable(s) ‘ext.decay.2’ and ‘fruit.pods.2’ and ‘roots.2’ constant. Cannot scale data.”Warning message in svm.default(x, y, scale = scale, ..., na.action = na.action):\n",
      "“Variable(s) ‘ext.decay.2’ and ‘fruit.pods.2’ and ‘roots.2’ constant. Cannot scale data.”Warning message in svm.default(x, y, scale = scale, ..., na.action = na.action):\n",
      "“Variable(s) ‘ext.decay.2’ and ‘fruit.pods.2’ and ‘roots.2’ constant. Cannot scale data.”[Tune-y] 78: acc.test.mean=0.3027588; time: 0.0 min\n",
      "[Tune-x] 79: cost=0.717; gamma=0.383\n"
     ]
    },
    {
     "name": "stderr",
     "output_type": "stream",
     "text": [
      "Warning message in svm.default(x, y, scale = scale, ..., na.action = na.action):\n",
      "“Variable(s) ‘ext.decay.2’ and ‘fruit.pods.2’ and ‘roots.2’ constant. Cannot scale data.”Warning message in svm.default(x, y, scale = scale, ..., na.action = na.action):\n",
      "“Variable(s) ‘ext.decay.2’ and ‘fruit.pods.2’ and ‘roots.2’ constant. Cannot scale data.”Warning message in svm.default(x, y, scale = scale, ..., na.action = na.action):\n",
      "“Variable(s) ‘ext.decay.2’ and ‘fruit.pods.2’ and ‘roots.2’ constant. Cannot scale data.”Warning message in svm.default(x, y, scale = scale, ..., na.action = na.action):\n",
      "“Variable(s) ‘ext.decay.2’ and ‘fruit.pods.2’ and ‘roots.2’ constant. Cannot scale data.”Warning message in svm.default(x, y, scale = scale, ..., na.action = na.action):\n",
      "“Variable(s) ‘ext.decay.2’ and ‘fruit.pods.2’ and ‘roots.2’ constant. Cannot scale data.”[Tune-y] 79: acc.test.mean=0.4658552; time: 0.0 min\n",
      "[Tune-x] 80: cost=0.698; gamma=0.69\n",
      "Warning message in svm.default(x, y, scale = scale, ..., na.action = na.action):\n",
      "“Variable(s) ‘ext.decay.2’ and ‘fruit.pods.2’ and ‘roots.2’ constant. Cannot scale data.”Warning message in svm.default(x, y, scale = scale, ..., na.action = na.action):\n",
      "“Variable(s) ‘ext.decay.2’ and ‘fruit.pods.2’ and ‘roots.2’ constant. Cannot scale data.”Warning message in svm.default(x, y, scale = scale, ..., na.action = na.action):\n",
      "“Variable(s) ‘ext.decay.2’ and ‘fruit.pods.2’ and ‘roots.2’ constant. Cannot scale data.”Warning message in svm.default(x, y, scale = scale, ..., na.action = na.action):\n",
      "“Variable(s) ‘ext.decay.2’ and ‘fruit.pods.2’ and ‘roots.2’ constant. Cannot scale data.”Warning message in svm.default(x, y, scale = scale, ..., na.action = na.action):\n",
      "“Variable(s) ‘ext.decay.2’ and ‘fruit.pods.2’ and ‘roots.2’ constant. Cannot scale data.”[Tune-y] 80: acc.test.mean=0.3105485; time: 0.0 min\n",
      "[Tune-x] 81: cost=0.656; gamma=0.89\n",
      "Warning message in svm.default(x, y, scale = scale, ..., na.action = na.action):\n",
      "“Variable(s) ‘ext.decay.2’ and ‘fruit.pods.2’ and ‘roots.2’ constant. Cannot scale data.”Warning message in svm.default(x, y, scale = scale, ..., na.action = na.action):\n",
      "“Variable(s) ‘ext.decay.2’ and ‘fruit.pods.2’ and ‘roots.2’ constant. Cannot scale data.”Warning message in svm.default(x, y, scale = scale, ..., na.action = na.action):\n",
      "“Variable(s) ‘ext.decay.2’ and ‘fruit.pods.2’ and ‘roots.2’ constant. Cannot scale data.”Warning message in svm.default(x, y, scale = scale, ..., na.action = na.action):\n",
      "“Variable(s) ‘ext.decay.2’ and ‘fruit.pods.2’ and ‘roots.2’ constant. Cannot scale data.”Warning message in svm.default(x, y, scale = scale, ..., na.action = na.action):\n",
      "“Variable(s) ‘ext.decay.2’ and ‘fruit.pods.2’ and ‘roots.2’ constant. Cannot scale data.”[Tune-y] 81: acc.test.mean=0.2519961; time: 0.0 min\n",
      "[Tune-x] 82: cost=0.965; gamma=0.462\n",
      "Warning message in svm.default(x, y, scale = scale, ..., na.action = na.action):\n",
      "“Variable(s) ‘ext.decay.2’ and ‘fruit.pods.2’ and ‘roots.2’ constant. Cannot scale data.”Warning message in svm.default(x, y, scale = scale, ..., na.action = na.action):\n",
      "“Variable(s) ‘ext.decay.2’ and ‘fruit.pods.2’ and ‘roots.2’ constant. Cannot scale data.”Warning message in svm.default(x, y, scale = scale, ..., na.action = na.action):\n",
      "“Variable(s) ‘ext.decay.2’ and ‘fruit.pods.2’ and ‘roots.2’ constant. Cannot scale data.”Warning message in svm.default(x, y, scale = scale, ..., na.action = na.action):\n",
      "“Variable(s) ‘ext.decay.2’ and ‘fruit.pods.2’ and ‘roots.2’ constant. Cannot scale data.”Warning message in svm.default(x, y, scale = scale, ..., na.action = na.action):\n",
      "“Variable(s) ‘ext.decay.2’ and ‘fruit.pods.2’ and ‘roots.2’ constant. Cannot scale data.”[Tune-y] 82: acc.test.mean=0.4530672; time: 0.0 min\n",
      "[Tune-x] 83: cost=0.246; gamma=0.529\n",
      "Warning message in svm.default(x, y, scale = scale, ..., na.action = na.action):\n",
      "“Variable(s) ‘ext.decay.2’ and ‘fruit.pods.2’ and ‘roots.2’ constant. Cannot scale data.”Warning message in svm.default(x, y, scale = scale, ..., na.action = na.action):\n",
      "“Variable(s) ‘ext.decay.2’ and ‘fruit.pods.2’ and ‘roots.2’ constant. Cannot scale data.”Warning message in svm.default(x, y, scale = scale, ..., na.action = na.action):\n",
      "“Variable(s) ‘ext.decay.2’ and ‘fruit.pods.2’ and ‘roots.2’ constant. Cannot scale data.”Warning message in svm.default(x, y, scale = scale, ..., na.action = na.action):\n",
      "“Variable(s) ‘ext.decay.2’ and ‘fruit.pods.2’ and ‘roots.2’ constant. Cannot scale data.”Warning message in svm.default(x, y, scale = scale, ..., na.action = na.action):\n",
      "“Variable(s) ‘ext.decay.2’ and ‘fruit.pods.2’ and ‘roots.2’ constant. Cannot scale data.”[Tune-y] 83: acc.test.mean=0.1857838; time: 0.0 min\n",
      "[Tune-x] 84: cost=0.716; gamma=0.52\n",
      "Warning message in svm.default(x, y, scale = scale, ..., na.action = na.action):\n",
      "“Variable(s) ‘ext.decay.2’ and ‘fruit.pods.2’ and ‘roots.2’ constant. Cannot scale data.”Warning message in svm.default(x, y, scale = scale, ..., na.action = na.action):\n",
      "“Variable(s) ‘ext.decay.2’ and ‘fruit.pods.2’ and ‘roots.2’ constant. Cannot scale data.”Warning message in svm.default(x, y, scale = scale, ..., na.action = na.action):\n",
      "“Variable(s) ‘ext.decay.2’ and ‘fruit.pods.2’ and ‘roots.2’ constant. Cannot scale data.”Warning message in svm.default(x, y, scale = scale, ..., na.action = na.action):\n",
      "“Variable(s) ‘ext.decay.2’ and ‘fruit.pods.2’ and ‘roots.2’ constant. Cannot scale data.”Warning message in svm.default(x, y, scale = scale, ..., na.action = na.action):\n",
      "“Variable(s) ‘ext.decay.2’ and ‘fruit.pods.2’ and ‘roots.2’ constant. Cannot scale data.”[Tune-y] 84: acc.test.mean=0.3793249; time: 0.0 min\n",
      "[Tune-x] 85: cost=0.742; gamma=0.801\n",
      "Warning message in svm.default(x, y, scale = scale, ..., na.action = na.action):\n",
      "“Variable(s) ‘ext.decay.2’ and ‘fruit.pods.2’ and ‘roots.2’ constant. Cannot scale data.”Warning message in svm.default(x, y, scale = scale, ..., na.action = na.action):\n",
      "“Variable(s) ‘ext.decay.2’ and ‘fruit.pods.2’ and ‘roots.2’ constant. Cannot scale data.”Warning message in svm.default(x, y, scale = scale, ..., na.action = na.action):\n",
      "“Variable(s) ‘ext.decay.2’ and ‘fruit.pods.2’ and ‘roots.2’ constant. Cannot scale data.”Warning message in svm.default(x, y, scale = scale, ..., na.action = na.action):\n",
      "“Variable(s) ‘ext.decay.2’ and ‘fruit.pods.2’ and ‘roots.2’ constant. Cannot scale data.”Warning message in svm.default(x, y, scale = scale, ..., na.action = na.action):\n",
      "“Variable(s) ‘ext.decay.2’ and ‘fruit.pods.2’ and ‘roots.2’ constant. Cannot scale data.”[Tune-y] 85: acc.test.mean=0.2902629; time: 0.0 min\n",
      "[Tune-x] 86: cost=0.568; gamma=0.834\n",
      "Warning message in svm.default(x, y, scale = scale, ..., na.action = na.action):\n",
      "“Variable(s) ‘ext.decay.2’ and ‘fruit.pods.2’ and ‘roots.2’ constant. Cannot scale data.”Warning message in svm.default(x, y, scale = scale, ..., na.action = na.action):\n",
      "“Variable(s) ‘ext.decay.2’ and ‘fruit.pods.2’ and ‘roots.2’ constant. Cannot scale data.”Warning message in svm.default(x, y, scale = scale, ..., na.action = na.action):\n",
      "“Variable(s) ‘ext.decay.2’ and ‘fruit.pods.2’ and ‘roots.2’ constant. Cannot scale data.”Warning message in svm.default(x, y, scale = scale, ..., na.action = na.action):\n",
      "“Variable(s) ‘ext.decay.2’ and ‘fruit.pods.2’ and ‘roots.2’ constant. Cannot scale data.”Warning message in svm.default(x, y, scale = scale, ..., na.action = na.action):\n",
      "“Variable(s) ‘ext.decay.2’ and ‘fruit.pods.2’ and ‘roots.2’ constant. Cannot scale data.”[Tune-y] 86: acc.test.mean=0.2392730; time: 0.0 min\n",
      "[Tune-x] 87: cost=0.716; gamma=0.514\n",
      "Warning message in svm.default(x, y, scale = scale, ..., na.action = na.action):\n",
      "“Variable(s) ‘ext.decay.2’ and ‘fruit.pods.2’ and ‘roots.2’ constant. Cannot scale data.”Warning message in svm.default(x, y, scale = scale, ..., na.action = na.action):\n",
      "“Variable(s) ‘ext.decay.2’ and ‘fruit.pods.2’ and ‘roots.2’ constant. Cannot scale data.”Warning message in svm.default(x, y, scale = scale, ..., na.action = na.action):\n",
      "“Variable(s) ‘ext.decay.2’ and ‘fruit.pods.2’ and ‘roots.2’ constant. Cannot scale data.”Warning message in svm.default(x, y, scale = scale, ..., na.action = na.action):\n",
      "“Variable(s) ‘ext.decay.2’ and ‘fruit.pods.2’ and ‘roots.2’ constant. Cannot scale data.”Warning message in svm.default(x, y, scale = scale, ..., na.action = na.action):\n"
     ]
    },
    {
     "name": "stderr",
     "output_type": "stream",
     "text": [
      "“Variable(s) ‘ext.decay.2’ and ‘fruit.pods.2’ and ‘roots.2’ constant. Cannot scale data.”[Tune-y] 87: acc.test.mean=0.3818890; time: 0.0 min\n",
      "[Tune-x] 88: cost=0.624; gamma=0.817\n",
      "Warning message in svm.default(x, y, scale = scale, ..., na.action = na.action):\n",
      "“Variable(s) ‘ext.decay.2’ and ‘fruit.pods.2’ and ‘roots.2’ constant. Cannot scale data.”Warning message in svm.default(x, y, scale = scale, ..., na.action = na.action):\n",
      "“Variable(s) ‘ext.decay.2’ and ‘fruit.pods.2’ and ‘roots.2’ constant. Cannot scale data.”Warning message in svm.default(x, y, scale = scale, ..., na.action = na.action):\n",
      "“Variable(s) ‘ext.decay.2’ and ‘fruit.pods.2’ and ‘roots.2’ constant. Cannot scale data.”Warning message in svm.default(x, y, scale = scale, ..., na.action = na.action):\n",
      "“Variable(s) ‘ext.decay.2’ and ‘fruit.pods.2’ and ‘roots.2’ constant. Cannot scale data.”Warning message in svm.default(x, y, scale = scale, ..., na.action = na.action):\n",
      "“Variable(s) ‘ext.decay.2’ and ‘fruit.pods.2’ and ‘roots.2’ constant. Cannot scale data.”[Tune-y] 88: acc.test.mean=0.2622201; time: 0.0 min\n",
      "[Tune-x] 89: cost=0.182; gamma=0.428\n",
      "Warning message in svm.default(x, y, scale = scale, ..., na.action = na.action):\n",
      "“Variable(s) ‘ext.decay.2’ and ‘fruit.pods.2’ and ‘roots.2’ constant. Cannot scale data.”Warning message in svm.default(x, y, scale = scale, ..., na.action = na.action):\n",
      "“Variable(s) ‘ext.decay.2’ and ‘fruit.pods.2’ and ‘roots.2’ constant. Cannot scale data.”Warning message in svm.default(x, y, scale = scale, ..., na.action = na.action):\n",
      "“Variable(s) ‘ext.decay.2’ and ‘fruit.pods.2’ and ‘roots.2’ constant. Cannot scale data.”Warning message in svm.default(x, y, scale = scale, ..., na.action = na.action):\n",
      "“Variable(s) ‘ext.decay.2’ and ‘fruit.pods.2’ and ‘roots.2’ constant. Cannot scale data.”Warning message in svm.default(x, y, scale = scale, ..., na.action = na.action):\n",
      "“Variable(s) ‘ext.decay.2’ and ‘fruit.pods.2’ and ‘roots.2’ constant. Cannot scale data.”[Tune-y] 89: acc.test.mean=0.1680299; time: 0.0 min\n",
      "[Tune-x] 90: cost=0.862; gamma=0.759\n",
      "Warning message in svm.default(x, y, scale = scale, ..., na.action = na.action):\n",
      "“Variable(s) ‘ext.decay.2’ and ‘fruit.pods.2’ and ‘roots.2’ constant. Cannot scale data.”Warning message in svm.default(x, y, scale = scale, ..., na.action = na.action):\n",
      "“Variable(s) ‘ext.decay.2’ and ‘fruit.pods.2’ and ‘roots.2’ constant. Cannot scale data.”Warning message in svm.default(x, y, scale = scale, ..., na.action = na.action):\n",
      "“Variable(s) ‘ext.decay.2’ and ‘fruit.pods.2’ and ‘roots.2’ constant. Cannot scale data.”Warning message in svm.default(x, y, scale = scale, ..., na.action = na.action):\n",
      "“Variable(s) ‘ext.decay.2’ and ‘fruit.pods.2’ and ‘roots.2’ constant. Cannot scale data.”Warning message in svm.default(x, y, scale = scale, ..., na.action = na.action):\n",
      "“Variable(s) ‘ext.decay.2’ and ‘fruit.pods.2’ and ‘roots.2’ constant. Cannot scale data.”[Tune-y] 90: acc.test.mean=0.3283674; time: 0.0 min\n",
      "[Tune-x] 91: cost=0.453; gamma=0.672\n",
      "Warning message in svm.default(x, y, scale = scale, ..., na.action = na.action):\n",
      "“Variable(s) ‘ext.decay.2’ and ‘fruit.pods.2’ and ‘roots.2’ constant. Cannot scale data.”Warning message in svm.default(x, y, scale = scale, ..., na.action = na.action):\n",
      "“Variable(s) ‘ext.decay.2’ and ‘fruit.pods.2’ and ‘roots.2’ constant. Cannot scale data.”Warning message in svm.default(x, y, scale = scale, ..., na.action = na.action):\n",
      "“Variable(s) ‘ext.decay.2’ and ‘fruit.pods.2’ and ‘roots.2’ constant. Cannot scale data.”Warning message in svm.default(x, y, scale = scale, ..., na.action = na.action):\n",
      "“Variable(s) ‘ext.decay.2’ and ‘fruit.pods.2’ and ‘roots.2’ constant. Cannot scale data.”Warning message in svm.default(x, y, scale = scale, ..., na.action = na.action):\n",
      "“Variable(s) ‘ext.decay.2’ and ‘fruit.pods.2’ and ‘roots.2’ constant. Cannot scale data.”[Tune-y] 91: acc.test.mean=0.2544953; time: 0.0 min\n",
      "[Tune-x] 92: cost=0.83; gamma=0.783\n",
      "Warning message in svm.default(x, y, scale = scale, ..., na.action = na.action):\n",
      "“Variable(s) ‘ext.decay.2’ and ‘fruit.pods.2’ and ‘roots.2’ constant. Cannot scale data.”Warning message in svm.default(x, y, scale = scale, ..., na.action = na.action):\n",
      "“Variable(s) ‘ext.decay.2’ and ‘fruit.pods.2’ and ‘roots.2’ constant. Cannot scale data.”Warning message in svm.default(x, y, scale = scale, ..., na.action = na.action):\n",
      "“Variable(s) ‘ext.decay.2’ and ‘fruit.pods.2’ and ‘roots.2’ constant. Cannot scale data.”Warning message in svm.default(x, y, scale = scale, ..., na.action = na.action):\n",
      "“Variable(s) ‘ext.decay.2’ and ‘fruit.pods.2’ and ‘roots.2’ constant. Cannot scale data.”Warning message in svm.default(x, y, scale = scale, ..., na.action = na.action):\n",
      "“Variable(s) ‘ext.decay.2’ and ‘fruit.pods.2’ and ‘roots.2’ constant. Cannot scale data.”[Tune-y] 92: acc.test.mean=0.3079844; time: 0.0 min\n",
      "[Tune-x] 93: cost=0.581; gamma=0.931\n",
      "Warning message in svm.default(x, y, scale = scale, ..., na.action = na.action):\n",
      "“Variable(s) ‘ext.decay.2’ and ‘fruit.pods.2’ and ‘roots.2’ constant. Cannot scale data.”Warning message in svm.default(x, y, scale = scale, ..., na.action = na.action):\n",
      "“Variable(s) ‘ext.decay.2’ and ‘fruit.pods.2’ and ‘roots.2’ constant. Cannot scale data.”Warning message in svm.default(x, y, scale = scale, ..., na.action = na.action):\n",
      "“Variable(s) ‘ext.decay.2’ and ‘fruit.pods.2’ and ‘roots.2’ constant. Cannot scale data.”Warning message in svm.default(x, y, scale = scale, ..., na.action = na.action):\n",
      "“Variable(s) ‘ext.decay.2’ and ‘fruit.pods.2’ and ‘roots.2’ constant. Cannot scale data.”Warning message in svm.default(x, y, scale = scale, ..., na.action = na.action):\n",
      "“Variable(s) ‘ext.decay.2’ and ‘fruit.pods.2’ and ‘roots.2’ constant. Cannot scale data.”[Tune-y] 93: acc.test.mean=0.2240506; time: 0.0 min\n",
      "[Tune-x] 94: cost=0.546; gamma=0.273\n",
      "Warning message in svm.default(x, y, scale = scale, ..., na.action = na.action):\n",
      "“Variable(s) ‘ext.decay.2’ and ‘fruit.pods.2’ and ‘roots.2’ constant. Cannot scale data.”Warning message in svm.default(x, y, scale = scale, ..., na.action = na.action):\n",
      "“Variable(s) ‘ext.decay.2’ and ‘fruit.pods.2’ and ‘roots.2’ constant. Cannot scale data.”Warning message in svm.default(x, y, scale = scale, ..., na.action = na.action):\n",
      "“Variable(s) ‘ext.decay.2’ and ‘fruit.pods.2’ and ‘roots.2’ constant. Cannot scale data.”Warning message in svm.default(x, y, scale = scale, ..., na.action = na.action):\n",
      "“Variable(s) ‘ext.decay.2’ and ‘fruit.pods.2’ and ‘roots.2’ constant. Cannot scale data.”Warning message in svm.default(x, y, scale = scale, ..., na.action = na.action):\n",
      "“Variable(s) ‘ext.decay.2’ and ‘fruit.pods.2’ and ‘roots.2’ constant. Cannot scale data.”[Tune-y] 94: acc.test.mean=0.5141512; time: 0.0 min\n",
      "[Tune-x] 95: cost=0.716; gamma=0.9\n",
      "Warning message in svm.default(x, y, scale = scale, ..., na.action = na.action):\n",
      "“Variable(s) ‘ext.decay.2’ and ‘fruit.pods.2’ and ‘roots.2’ constant. Cannot scale data.”Warning message in svm.default(x, y, scale = scale, ..., na.action = na.action):\n",
      "“Variable(s) ‘ext.decay.2’ and ‘fruit.pods.2’ and ‘roots.2’ constant. Cannot scale data.”Warning message in svm.default(x, y, scale = scale, ..., na.action = na.action):\n",
      "“Variable(s) ‘ext.decay.2’ and ‘fruit.pods.2’ and ‘roots.2’ constant. Cannot scale data.”Warning message in svm.default(x, y, scale = scale, ..., na.action = na.action):\n",
      "“Variable(s) ‘ext.decay.2’ and ‘fruit.pods.2’ and ‘roots.2’ constant. Cannot scale data.”Warning message in svm.default(x, y, scale = scale, ..., na.action = na.action):\n",
      "“Variable(s) ‘ext.decay.2’ and ‘fruit.pods.2’ and ‘roots.2’ constant. Cannot scale data.”[Tune-y] 95: acc.test.mean=0.2647842; time: 0.0 min\n",
      "[Tune-x] 96: cost=0.61; gamma=0.436\n",
      "Warning message in svm.default(x, y, scale = scale, ..., na.action = na.action):\n",
      "“Variable(s) ‘ext.decay.2’ and ‘fruit.pods.2’ and ‘roots.2’ constant. Cannot scale data.”Warning message in svm.default(x, y, scale = scale, ..., na.action = na.action):\n",
      "“Variable(s) ‘ext.decay.2’ and ‘fruit.pods.2’ and ‘roots.2’ constant. Cannot scale data.”Warning message in svm.default(x, y, scale = scale, ..., na.action = na.action):\n"
     ]
    },
    {
     "name": "stderr",
     "output_type": "stream",
     "text": [
      "“Variable(s) ‘ext.decay.2’ and ‘fruit.pods.2’ and ‘roots.2’ constant. Cannot scale data.”Warning message in svm.default(x, y, scale = scale, ..., na.action = na.action):\n",
      "“Variable(s) ‘ext.decay.2’ and ‘fruit.pods.2’ and ‘roots.2’ constant. Cannot scale data.”Warning message in svm.default(x, y, scale = scale, ..., na.action = na.action):\n",
      "“Variable(s) ‘ext.decay.2’ and ‘fruit.pods.2’ and ‘roots.2’ constant. Cannot scale data.”[Tune-y] 96: acc.test.mean=0.3997079; time: 0.0 min\n",
      "[Tune-x] 97: cost=0.853; gamma=0.129\n",
      "Warning message in svm.default(x, y, scale = scale, ..., na.action = na.action):\n",
      "“Variable(s) ‘ext.decay.2’ and ‘fruit.pods.2’ and ‘roots.2’ constant. Cannot scale data.”Warning message in svm.default(x, y, scale = scale, ..., na.action = na.action):\n",
      "“Variable(s) ‘ext.decay.2’ and ‘fruit.pods.2’ and ‘roots.2’ constant. Cannot scale data.”Warning message in svm.default(x, y, scale = scale, ..., na.action = na.action):\n",
      "“Variable(s) ‘ext.decay.2’ and ‘fruit.pods.2’ and ‘roots.2’ constant. Cannot scale data.”Warning message in svm.default(x, y, scale = scale, ..., na.action = na.action):\n",
      "“Variable(s) ‘ext.decay.2’ and ‘fruit.pods.2’ and ‘roots.2’ constant. Cannot scale data.”Warning message in svm.default(x, y, scale = scale, ..., na.action = na.action):\n",
      "“Variable(s) ‘ext.decay.2’ and ‘fruit.pods.2’ and ‘roots.2’ constant. Cannot scale data.”[Tune-y] 97: acc.test.mean=0.8828952; time: 0.0 min\n",
      "[Tune-x] 98: cost=0.142; gamma=0.117\n",
      "Warning message in svm.default(x, y, scale = scale, ..., na.action = na.action):\n",
      "“Variable(s) ‘ext.decay.2’ and ‘fruit.pods.2’ and ‘roots.2’ constant. Cannot scale data.”Warning message in svm.default(x, y, scale = scale, ..., na.action = na.action):\n",
      "“Variable(s) ‘ext.decay.2’ and ‘fruit.pods.2’ and ‘roots.2’ constant. Cannot scale data.”Warning message in svm.default(x, y, scale = scale, ..., na.action = na.action):\n",
      "“Variable(s) ‘ext.decay.2’ and ‘fruit.pods.2’ and ‘roots.2’ constant. Cannot scale data.”Warning message in svm.default(x, y, scale = scale, ..., na.action = na.action):\n",
      "“Variable(s) ‘ext.decay.2’ and ‘fruit.pods.2’ and ‘roots.2’ constant. Cannot scale data.”Warning message in svm.default(x, y, scale = scale, ..., na.action = na.action):\n",
      "“Variable(s) ‘ext.decay.2’ and ‘fruit.pods.2’ and ‘roots.2’ constant. Cannot scale data.”[Tune-y] 98: acc.test.mean=0.4582928; time: 0.0 min\n",
      "[Tune-x] 99: cost=0.266; gamma=0.915\n",
      "Warning message in svm.default(x, y, scale = scale, ..., na.action = na.action):\n",
      "“Variable(s) ‘ext.decay.2’ and ‘fruit.pods.2’ and ‘roots.2’ constant. Cannot scale data.”Warning message in svm.default(x, y, scale = scale, ..., na.action = na.action):\n",
      "“Variable(s) ‘ext.decay.2’ and ‘fruit.pods.2’ and ‘roots.2’ constant. Cannot scale data.”Warning message in svm.default(x, y, scale = scale, ..., na.action = na.action):\n",
      "“Variable(s) ‘ext.decay.2’ and ‘fruit.pods.2’ and ‘roots.2’ constant. Cannot scale data.”Warning message in svm.default(x, y, scale = scale, ..., na.action = na.action):\n",
      "“Variable(s) ‘ext.decay.2’ and ‘fruit.pods.2’ and ‘roots.2’ constant. Cannot scale data.”Warning message in svm.default(x, y, scale = scale, ..., na.action = na.action):\n",
      "“Variable(s) ‘ext.decay.2’ and ‘fruit.pods.2’ and ‘roots.2’ constant. Cannot scale data.”[Tune-y] 99: acc.test.mean=0.1553067; time: 0.0 min\n",
      "[Tune-x] 100: cost=0.575; gamma=0.733\n",
      "Warning message in svm.default(x, y, scale = scale, ..., na.action = na.action):\n",
      "“Variable(s) ‘ext.decay.2’ and ‘fruit.pods.2’ and ‘roots.2’ constant. Cannot scale data.”Warning message in svm.default(x, y, scale = scale, ..., na.action = na.action):\n",
      "“Variable(s) ‘ext.decay.2’ and ‘fruit.pods.2’ and ‘roots.2’ constant. Cannot scale data.”Warning message in svm.default(x, y, scale = scale, ..., na.action = na.action):\n",
      "“Variable(s) ‘ext.decay.2’ and ‘fruit.pods.2’ and ‘roots.2’ constant. Cannot scale data.”Warning message in svm.default(x, y, scale = scale, ..., na.action = na.action):\n",
      "“Variable(s) ‘ext.decay.2’ and ‘fruit.pods.2’ and ‘roots.2’ constant. Cannot scale data.”Warning message in svm.default(x, y, scale = scale, ..., na.action = na.action):\n",
      "“Variable(s) ‘ext.decay.2’ and ‘fruit.pods.2’ and ‘roots.2’ constant. Cannot scale data.”[Tune-y] 100: acc.test.mean=0.2698799; time: 0.0 min\n",
      "[Tune] Result: cost=0.853; gamma=0.129 : acc.test.mean=0.8828952\n"
     ]
    }
   ],
   "source": [
    "t0 = Sys.time()\n",
    "tr_svm = tuneParams(svm_learner,tsk_train,cv5,list(acc),parameters_svm,tune_control)\n",
    "t1 = Sys.time()"
   ]
  },
  {
   "cell_type": "code",
   "execution_count": 110,
   "metadata": {},
   "outputs": [
    {
     "data": {
      "text/html": [
       "<dl>\n",
       "\t<dt>$eta</dt>\n",
       "\t\t<dd>0.0758757425937802</dd>\n",
       "\t<dt>$lambda</dt>\n",
       "\t\t<dd>5.68655794486403</dd>\n",
       "\t<dt>$max_depth</dt>\n",
       "\t\t<dd>14</dd>\n",
       "</dl>\n"
      ],
      "text/latex": [
       "\\begin{description}\n",
       "\\item[\\$eta] 0.0758757425937802\n",
       "\\item[\\$lambda] 5.68655794486403\n",
       "\\item[\\$max\\_depth] 14\n",
       "\\end{description}\n"
      ],
      "text/markdown": [
       "$eta\n",
       ":   0.0758757425937802\n",
       "$lambda\n",
       ":   5.68655794486403\n",
       "$max_depth\n",
       ":   14\n",
       "\n",
       "\n"
      ],
      "text/plain": [
       "$eta\n",
       "[1] 0.07587574\n",
       "\n",
       "$lambda\n",
       "[1] 5.686558\n",
       "\n",
       "$max_depth\n",
       "[1] 14\n"
      ]
     },
     "metadata": {},
     "output_type": "display_data"
    }
   ],
   "source": [
    "tr_xgb$x"
   ]
  },
  {
   "cell_type": "code",
   "execution_count": 94,
   "metadata": {},
   "outputs": [
    {
     "data": {
      "text/html": [
       "<dl>\n",
       "\t<dt>$cost</dt>\n",
       "\t\t<dd>0.852925327722915</dd>\n",
       "\t<dt>$gamma</dt>\n",
       "\t\t<dd>0.128589465143159</dd>\n",
       "</dl>\n"
      ],
      "text/latex": [
       "\\begin{description}\n",
       "\\item[\\$cost] 0.852925327722915\n",
       "\\item[\\$gamma] 0.128589465143159\n",
       "\\end{description}\n"
      ],
      "text/markdown": [
       "$cost\n",
       ":   0.852925327722915\n",
       "$gamma\n",
       ":   0.128589465143159\n",
       "\n",
       "\n"
      ],
      "text/plain": [
       "$cost\n",
       "[1] 0.8529253\n",
       "\n",
       "$gamma\n",
       "[1] 0.1285895\n"
      ]
     },
     "metadata": {},
     "output_type": "display_data"
    }
   ],
   "source": [
    "tr_svm$x"
   ]
  },
  {
   "cell_type": "markdown",
   "metadata": {},
   "source": [
    "## Treine no conjunto de treino completo"
   ]
  },
  {
   "cell_type": "code",
   "execution_count": 111,
   "metadata": {},
   "outputs": [],
   "source": [
    "tuned_xgb = setHyperPars(xgb_learner,par.vals = tr_xgb$x)\n",
    "tuned_svm = setHyperPars(svm_learner,par.vals = tr_svm$x)"
   ]
  },
  {
   "cell_type": "code",
   "execution_count": 112,
   "metadata": {},
   "outputs": [
    {
     "data": {
      "text/plain": [
       "Learner classif.xgboost from package xgboost\n",
       "Type: classif\n",
       "Name: eXtreme Gradient Boosting; Short name: xgboost\n",
       "Class: classif.xgboost\n",
       "Properties: twoclass,multiclass,numerics,prob,weights,missings,featimp\n",
       "Predict-Type: response\n",
       "Hyperparameters: nrounds=1,verbose=0,eta=0.0759,lambda=5.69,max_depth=14\n"
      ]
     },
     "metadata": {},
     "output_type": "display_data"
    },
    {
     "data": {
      "text/plain": [
       "Learner classif.svm from package e1071\n",
       "Type: classif\n",
       "Name: Support Vector Machines (libsvm); Short name: svm\n",
       "Class: classif.svm\n",
       "Properties: twoclass,multiclass,numerics,factors,prob,class.weights\n",
       "Predict-Type: response\n",
       "Hyperparameters: cost=0.853,gamma=0.129\n"
      ]
     },
     "metadata": {},
     "output_type": "display_data"
    }
   ],
   "source": [
    "tuned_xgb\n",
    "tuned_svm"
   ]
  },
  {
   "cell_type": "code",
   "execution_count": 115,
   "metadata": {},
   "outputs": [
    {
     "name": "stderr",
     "output_type": "stream",
     "text": [
      "Warning message in svm.default(x, y, scale = scale, ..., na.action = na.action):\n",
      "“Variable(s) ‘ext.decay.2’ and ‘fruit.pods.2’ and ‘roots.2’ constant. Cannot scale data.”"
     ]
    }
   ],
   "source": [
    "xgb_model = train(tuned_xgb, tsk_train)\n",
    "svm_model = train(tuned_svm, tsk_train)"
   ]
  },
  {
   "cell_type": "markdown",
   "metadata": {},
   "source": [
    "## Teste no conjunto de teste do passo 1"
   ]
  },
  {
   "cell_type": "code",
   "execution_count": 117,
   "metadata": {},
   "outputs": [],
   "source": [
    "xgb_pred = predict(xgb_model, tsk_test)\n",
    "\n",
    "svm_pred = predict(svm_model, tsk_test)"
   ]
  },
  {
   "cell_type": "markdown",
   "metadata": {},
   "source": [
    "## Acurácia dos dois modelos"
   ]
  },
  {
   "cell_type": "code",
   "execution_count": 118,
   "metadata": {
    "scrolled": true
   },
   "outputs": [
    {
     "data": {
      "text/html": [
       "0.846153846153846"
      ],
      "text/latex": [
       "0.846153846153846"
      ],
      "text/markdown": [
       "0.846153846153846"
      ],
      "text/plain": [
       "[1] 0.8461538"
      ]
     },
     "metadata": {},
     "output_type": "display_data"
    }
   ],
   "source": [
    "mean(xgb_pred$data$response == xgb_pred$data$truth)"
   ]
  },
  {
   "cell_type": "code",
   "execution_count": 108,
   "metadata": {},
   "outputs": [
    {
     "data": {
      "text/html": [
       "0.93491124260355"
      ],
      "text/latex": [
       "0.93491124260355"
      ],
      "text/markdown": [
       "0.93491124260355"
      ],
      "text/plain": [
       "[1] 0.9349112"
      ]
     },
     "metadata": {},
     "output_type": "display_data"
    }
   ],
   "source": [
    "mean(svm_pred$data$response == svm_pred$data$truth)"
   ]
  },
  {
   "cell_type": "markdown",
   "metadata": {},
   "source": [
    "## Matriz de confusão dos dois modelos"
   ]
  },
  {
   "cell_type": "code",
   "execution_count": 119,
   "metadata": {},
   "outputs": [
    {
     "data": {
      "text/plain": [
       "                        predicted\n",
       "true                     alternarialeaf-spot anthracnose bacterial-blight\n",
       "  alternarialeaf-spot                     27           0                0\n",
       "  anthracnose                              0          13                0\n",
       "  bacterial-blight                         0           0                4\n",
       "  bacterial-pustule                        0           0                4\n",
       "  brown-spot                               1           0                0\n",
       "  brown-stem-rot                           0           0                0\n",
       "  charcoal-rot                             0           0                0\n",
       "  diaporthe-stem-canker                    0           0                0\n",
       "  downy-mildew                             4           0                0\n",
       "  frog-eye-leaf-spot                       5           0                0\n",
       "  phyllosticta-leaf-spot                   0           0                0\n",
       "  phytophthora-rot                         0           0                0\n",
       "  powdery-mildew                           0           0                0\n",
       "  purple-seed-stain                        0           0                0\n",
       "  rhizoctonia-root-rot                     0           0                0\n",
       "  -err.-                                  10           0                4\n",
       "                        predicted\n",
       "true                     bacterial-pustule brown-spot brown-stem-rot\n",
       "  alternarialeaf-spot                    0          0              0\n",
       "  anthracnose                            0          0              0\n",
       "  bacterial-blight                       0          0              0\n",
       "  bacterial-pustule                      2          0              0\n",
       "  brown-spot                             0         23              0\n",
       "  brown-stem-rot                         0          1             15\n",
       "  charcoal-rot                           0          0              0\n",
       "  diaporthe-stem-canker                  0          0              0\n",
       "  downy-mildew                           0          0              0\n",
       "  frog-eye-leaf-spot                     0          0              0\n",
       "  phyllosticta-leaf-spot                 0          4              0\n",
       "  phytophthora-rot                       0          0              0\n",
       "  powdery-mildew                         0          0              0\n",
       "  purple-seed-stain                      0          0              0\n",
       "  rhizoctonia-root-rot                   0          0              0\n",
       "  -err.-                                 0          5              0\n",
       "                        predicted\n",
       "true                     charcoal-rot diaporthe-stem-canker downy-mildew\n",
       "  alternarialeaf-spot               0                     0            0\n",
       "  anthracnose                       0                     0            0\n",
       "  bacterial-blight                  0                     0            0\n",
       "  bacterial-pustule                 0                     0            0\n",
       "  brown-spot                        0                     0            0\n",
       "  brown-stem-rot                    0                     0            0\n",
       "  charcoal-rot                      6                     0            0\n",
       "  diaporthe-stem-canker             0                     5            0\n",
       "  downy-mildew                      0                     0            2\n",
       "  frog-eye-leaf-spot                0                     0            0\n",
       "  phyllosticta-leaf-spot            0                     0            0\n",
       "  phytophthora-rot                  0                     0            0\n",
       "  powdery-mildew                    0                     0            0\n",
       "  purple-seed-stain                 0                     0            0\n",
       "  rhizoctonia-root-rot              0                     0            0\n",
       "  -err.-                            0                     0            0\n",
       "                        predicted\n",
       "true                     frog-eye-leaf-spot phyllosticta-leaf-spot\n",
       "  alternarialeaf-spot                     0                      0\n",
       "  anthracnose                             0                      0\n",
       "  bacterial-blight                        0                      0\n",
       "  bacterial-pustule                       0                      0\n",
       "  brown-spot                              6                      0\n",
       "  brown-stem-rot                          0                      0\n",
       "  charcoal-rot                            0                      0\n",
       "  diaporthe-stem-canker                   0                      0\n",
       "  downy-mildew                            0                      0\n",
       "  frog-eye-leaf-spot                     18                      0\n",
       "  phyllosticta-leaf-spot                  1                      2\n",
       "  phytophthora-rot                        0                      0\n",
       "  powdery-mildew                          0                      0\n",
       "  purple-seed-stain                       0                      0\n",
       "  rhizoctonia-root-rot                    0                      0\n",
       "  -err.-                                  7                      0\n",
       "                        predicted\n",
       "true                     phytophthora-rot powdery-mildew purple-seed-stain\n",
       "  alternarialeaf-spot                   0              0                 0\n",
       "  anthracnose                           0              0                 0\n",
       "  bacterial-blight                      0              0                 0\n",
       "  bacterial-pustule                     0              0                 0\n",
       "  brown-spot                            0              0                 0\n",
       "  brown-stem-rot                        0              0                 0\n",
       "  charcoal-rot                          0              0                 0\n",
       "  diaporthe-stem-canker                 0              0                 0\n",
       "  downy-mildew                          0              0                 0\n",
       "  frog-eye-leaf-spot                    0              0                 0\n",
       "  phyllosticta-leaf-spot                0              0                 0\n",
       "  phytophthora-rot                      6              0                 0\n",
       "  powdery-mildew                        0              5                 0\n",
       "  purple-seed-stain                     0              0                 7\n",
       "  rhizoctonia-root-rot                  0              0                 0\n",
       "  -err.-                                0              0                 0\n",
       "                        predicted\n",
       "true                     rhizoctonia-root-rot -err.-\n",
       "  alternarialeaf-spot                       0      0\n",
       "  anthracnose                               0      0\n",
       "  bacterial-blight                          0      0\n",
       "  bacterial-pustule                         0      4\n",
       "  brown-spot                                0      7\n",
       "  brown-stem-rot                            0      1\n",
       "  charcoal-rot                              0      0\n",
       "  diaporthe-stem-canker                     0      0\n",
       "  downy-mildew                              0      4\n",
       "  frog-eye-leaf-spot                        0      5\n",
       "  phyllosticta-leaf-spot                    0      5\n",
       "  phytophthora-rot                          0      0\n",
       "  powdery-mildew                            0      0\n",
       "  purple-seed-stain                         0      0\n",
       "  rhizoctonia-root-rot                      8      0\n",
       "  -err.-                                    0     26"
      ]
     },
     "metadata": {},
     "output_type": "display_data"
    }
   ],
   "source": [
    "calculateConfusionMatrix(xgb_pred)"
   ]
  },
  {
   "cell_type": "code",
   "execution_count": 122,
   "metadata": {},
   "outputs": [],
   "source": [
    "cm = calculateConfusionMatrix(svm_pred,relative = TRUE)"
   ]
  },
  {
   "cell_type": "code",
   "execution_count": 125,
   "metadata": {},
   "outputs": [
    {
     "data": {
      "text/html": [
       "<table>\n",
       "<caption>A matrix: 16 × 16 of type dbl</caption>\n",
       "<thead>\n",
       "\t<tr><th></th><th scope=col>alternarialeaf-spot</th><th scope=col>anthracnose</th><th scope=col>bacterial-blight</th><th scope=col>bacterial-pustule</th><th scope=col>brown-spot</th><th scope=col>brown-stem-rot</th><th scope=col>charcoal-rot</th><th scope=col>diaporthe-stem-canker</th><th scope=col>downy-mildew</th><th scope=col>frog-eye-leaf-spot</th><th scope=col>phyllosticta-leaf-spot</th><th scope=col>phytophthora-rot</th><th scope=col>powdery-mildew</th><th scope=col>purple-seed-stain</th><th scope=col>rhizoctonia-root-rot</th><th scope=col>-err.-</th></tr>\n",
       "</thead>\n",
       "<tbody>\n",
       "\t<tr><th scope=row>alternarialeaf-spot</th><td>27</td><td> 0</td><td>0</td><td>0</td><td> 0</td><td> 0</td><td>0</td><td>0</td><td>0</td><td> 0</td><td>0</td><td>0</td><td>0</td><td>0</td><td>0</td><td> 0</td></tr>\n",
       "\t<tr><th scope=row>anthracnose</th><td> 0</td><td>13</td><td>0</td><td>0</td><td> 0</td><td> 0</td><td>0</td><td>0</td><td>0</td><td> 0</td><td>0</td><td>0</td><td>0</td><td>0</td><td>0</td><td> 0</td></tr>\n",
       "\t<tr><th scope=row>bacterial-blight</th><td> 0</td><td> 0</td><td>4</td><td>0</td><td> 0</td><td> 0</td><td>0</td><td>0</td><td>0</td><td> 0</td><td>0</td><td>0</td><td>0</td><td>0</td><td>0</td><td> 0</td></tr>\n",
       "\t<tr><th scope=row>bacterial-pustule</th><td> 0</td><td> 0</td><td>0</td><td>6</td><td> 0</td><td> 0</td><td>0</td><td>0</td><td>0</td><td> 0</td><td>0</td><td>0</td><td>0</td><td>0</td><td>0</td><td> 0</td></tr>\n",
       "\t<tr><th scope=row>brown-spot</th><td> 0</td><td> 0</td><td>0</td><td>0</td><td>28</td><td> 0</td><td>0</td><td>0</td><td>0</td><td> 2</td><td>0</td><td>0</td><td>0</td><td>0</td><td>0</td><td> 2</td></tr>\n",
       "\t<tr><th scope=row>brown-stem-rot</th><td> 0</td><td> 0</td><td>0</td><td>0</td><td> 0</td><td>16</td><td>0</td><td>0</td><td>0</td><td> 0</td><td>0</td><td>0</td><td>0</td><td>0</td><td>0</td><td> 0</td></tr>\n",
       "\t<tr><th scope=row>charcoal-rot</th><td> 0</td><td> 0</td><td>0</td><td>0</td><td> 0</td><td> 0</td><td>6</td><td>0</td><td>0</td><td> 0</td><td>0</td><td>0</td><td>0</td><td>0</td><td>0</td><td> 0</td></tr>\n",
       "\t<tr><th scope=row>diaporthe-stem-canker</th><td> 0</td><td> 0</td><td>0</td><td>0</td><td> 0</td><td> 0</td><td>0</td><td>5</td><td>0</td><td> 0</td><td>0</td><td>0</td><td>0</td><td>0</td><td>0</td><td> 0</td></tr>\n",
       "\t<tr><th scope=row>downy-mildew</th><td> 0</td><td> 0</td><td>0</td><td>0</td><td> 0</td><td> 0</td><td>0</td><td>0</td><td>6</td><td> 0</td><td>0</td><td>0</td><td>0</td><td>0</td><td>0</td><td> 0</td></tr>\n",
       "\t<tr><th scope=row>frog-eye-leaf-spot</th><td> 4</td><td> 0</td><td>0</td><td>0</td><td> 0</td><td> 0</td><td>0</td><td>0</td><td>0</td><td>19</td><td>0</td><td>0</td><td>0</td><td>0</td><td>0</td><td> 4</td></tr>\n",
       "\t<tr><th scope=row>phyllosticta-leaf-spot</th><td> 2</td><td> 0</td><td>0</td><td>0</td><td> 2</td><td> 0</td><td>0</td><td>0</td><td>0</td><td> 1</td><td>2</td><td>0</td><td>0</td><td>0</td><td>0</td><td> 5</td></tr>\n",
       "\t<tr><th scope=row>phytophthora-rot</th><td> 0</td><td> 0</td><td>0</td><td>0</td><td> 0</td><td> 0</td><td>0</td><td>0</td><td>0</td><td> 0</td><td>0</td><td>6</td><td>0</td><td>0</td><td>0</td><td> 0</td></tr>\n",
       "\t<tr><th scope=row>powdery-mildew</th><td> 0</td><td> 0</td><td>0</td><td>0</td><td> 0</td><td> 0</td><td>0</td><td>0</td><td>0</td><td> 0</td><td>0</td><td>0</td><td>5</td><td>0</td><td>0</td><td> 0</td></tr>\n",
       "\t<tr><th scope=row>purple-seed-stain</th><td> 0</td><td> 0</td><td>0</td><td>0</td><td> 0</td><td> 0</td><td>0</td><td>0</td><td>0</td><td> 0</td><td>0</td><td>0</td><td>0</td><td>7</td><td>0</td><td> 0</td></tr>\n",
       "\t<tr><th scope=row>rhizoctonia-root-rot</th><td> 0</td><td> 0</td><td>0</td><td>0</td><td> 0</td><td> 0</td><td>0</td><td>0</td><td>0</td><td> 0</td><td>0</td><td>0</td><td>0</td><td>0</td><td>8</td><td> 0</td></tr>\n",
       "\t<tr><th scope=row>-err.-</th><td> 6</td><td> 0</td><td>0</td><td>0</td><td> 2</td><td> 0</td><td>0</td><td>0</td><td>0</td><td> 3</td><td>0</td><td>0</td><td>0</td><td>0</td><td>0</td><td>11</td></tr>\n",
       "</tbody>\n",
       "</table>\n"
      ],
      "text/latex": [
       "A matrix: 16 × 16 of type dbl\n",
       "\\begin{tabular}{r|llllllllllllllll}\n",
       "  & alternarialeaf-spot & anthracnose & bacterial-blight & bacterial-pustule & brown-spot & brown-stem-rot & charcoal-rot & diaporthe-stem-canker & downy-mildew & frog-eye-leaf-spot & phyllosticta-leaf-spot & phytophthora-rot & powdery-mildew & purple-seed-stain & rhizoctonia-root-rot & -err.-\\\\\n",
       "\\hline\n",
       "\talternarialeaf-spot & 27 &  0 & 0 & 0 &  0 &  0 & 0 & 0 & 0 &  0 & 0 & 0 & 0 & 0 & 0 &  0\\\\\n",
       "\tanthracnose &  0 & 13 & 0 & 0 &  0 &  0 & 0 & 0 & 0 &  0 & 0 & 0 & 0 & 0 & 0 &  0\\\\\n",
       "\tbacterial-blight &  0 &  0 & 4 & 0 &  0 &  0 & 0 & 0 & 0 &  0 & 0 & 0 & 0 & 0 & 0 &  0\\\\\n",
       "\tbacterial-pustule &  0 &  0 & 0 & 6 &  0 &  0 & 0 & 0 & 0 &  0 & 0 & 0 & 0 & 0 & 0 &  0\\\\\n",
       "\tbrown-spot &  0 &  0 & 0 & 0 & 28 &  0 & 0 & 0 & 0 &  2 & 0 & 0 & 0 & 0 & 0 &  2\\\\\n",
       "\tbrown-stem-rot &  0 &  0 & 0 & 0 &  0 & 16 & 0 & 0 & 0 &  0 & 0 & 0 & 0 & 0 & 0 &  0\\\\\n",
       "\tcharcoal-rot &  0 &  0 & 0 & 0 &  0 &  0 & 6 & 0 & 0 &  0 & 0 & 0 & 0 & 0 & 0 &  0\\\\\n",
       "\tdiaporthe-stem-canker &  0 &  0 & 0 & 0 &  0 &  0 & 0 & 5 & 0 &  0 & 0 & 0 & 0 & 0 & 0 &  0\\\\\n",
       "\tdowny-mildew &  0 &  0 & 0 & 0 &  0 &  0 & 0 & 0 & 6 &  0 & 0 & 0 & 0 & 0 & 0 &  0\\\\\n",
       "\tfrog-eye-leaf-spot &  4 &  0 & 0 & 0 &  0 &  0 & 0 & 0 & 0 & 19 & 0 & 0 & 0 & 0 & 0 &  4\\\\\n",
       "\tphyllosticta-leaf-spot &  2 &  0 & 0 & 0 &  2 &  0 & 0 & 0 & 0 &  1 & 2 & 0 & 0 & 0 & 0 &  5\\\\\n",
       "\tphytophthora-rot &  0 &  0 & 0 & 0 &  0 &  0 & 0 & 0 & 0 &  0 & 0 & 6 & 0 & 0 & 0 &  0\\\\\n",
       "\tpowdery-mildew &  0 &  0 & 0 & 0 &  0 &  0 & 0 & 0 & 0 &  0 & 0 & 0 & 5 & 0 & 0 &  0\\\\\n",
       "\tpurple-seed-stain &  0 &  0 & 0 & 0 &  0 &  0 & 0 & 0 & 0 &  0 & 0 & 0 & 0 & 7 & 0 &  0\\\\\n",
       "\trhizoctonia-root-rot &  0 &  0 & 0 & 0 &  0 &  0 & 0 & 0 & 0 &  0 & 0 & 0 & 0 & 0 & 8 &  0\\\\\n",
       "\t-err.- &  6 &  0 & 0 & 0 &  2 &  0 & 0 & 0 & 0 &  3 & 0 & 0 & 0 & 0 & 0 & 11\\\\\n",
       "\\end{tabular}\n"
      ],
      "text/markdown": [
       "\n",
       "A matrix: 16 × 16 of type dbl\n",
       "\n",
       "| <!--/--> | alternarialeaf-spot | anthracnose | bacterial-blight | bacterial-pustule | brown-spot | brown-stem-rot | charcoal-rot | diaporthe-stem-canker | downy-mildew | frog-eye-leaf-spot | phyllosticta-leaf-spot | phytophthora-rot | powdery-mildew | purple-seed-stain | rhizoctonia-root-rot | -err.- |\n",
       "|---|---|---|---|---|---|---|---|---|---|---|---|---|---|---|---|---|\n",
       "| alternarialeaf-spot | 27 |  0 | 0 | 0 |  0 |  0 | 0 | 0 | 0 |  0 | 0 | 0 | 0 | 0 | 0 |  0 |\n",
       "| anthracnose |  0 | 13 | 0 | 0 |  0 |  0 | 0 | 0 | 0 |  0 | 0 | 0 | 0 | 0 | 0 |  0 |\n",
       "| bacterial-blight |  0 |  0 | 4 | 0 |  0 |  0 | 0 | 0 | 0 |  0 | 0 | 0 | 0 | 0 | 0 |  0 |\n",
       "| bacterial-pustule |  0 |  0 | 0 | 6 |  0 |  0 | 0 | 0 | 0 |  0 | 0 | 0 | 0 | 0 | 0 |  0 |\n",
       "| brown-spot |  0 |  0 | 0 | 0 | 28 |  0 | 0 | 0 | 0 |  2 | 0 | 0 | 0 | 0 | 0 |  2 |\n",
       "| brown-stem-rot |  0 |  0 | 0 | 0 |  0 | 16 | 0 | 0 | 0 |  0 | 0 | 0 | 0 | 0 | 0 |  0 |\n",
       "| charcoal-rot |  0 |  0 | 0 | 0 |  0 |  0 | 6 | 0 | 0 |  0 | 0 | 0 | 0 | 0 | 0 |  0 |\n",
       "| diaporthe-stem-canker |  0 |  0 | 0 | 0 |  0 |  0 | 0 | 5 | 0 |  0 | 0 | 0 | 0 | 0 | 0 |  0 |\n",
       "| downy-mildew |  0 |  0 | 0 | 0 |  0 |  0 | 0 | 0 | 6 |  0 | 0 | 0 | 0 | 0 | 0 |  0 |\n",
       "| frog-eye-leaf-spot |  4 |  0 | 0 | 0 |  0 |  0 | 0 | 0 | 0 | 19 | 0 | 0 | 0 | 0 | 0 |  4 |\n",
       "| phyllosticta-leaf-spot |  2 |  0 | 0 | 0 |  2 |  0 | 0 | 0 | 0 |  1 | 2 | 0 | 0 | 0 | 0 |  5 |\n",
       "| phytophthora-rot |  0 |  0 | 0 | 0 |  0 |  0 | 0 | 0 | 0 |  0 | 0 | 6 | 0 | 0 | 0 |  0 |\n",
       "| powdery-mildew |  0 |  0 | 0 | 0 |  0 |  0 | 0 | 0 | 0 |  0 | 0 | 0 | 5 | 0 | 0 |  0 |\n",
       "| purple-seed-stain |  0 |  0 | 0 | 0 |  0 |  0 | 0 | 0 | 0 |  0 | 0 | 0 | 0 | 7 | 0 |  0 |\n",
       "| rhizoctonia-root-rot |  0 |  0 | 0 | 0 |  0 |  0 | 0 | 0 | 0 |  0 | 0 | 0 | 0 | 0 | 8 |  0 |\n",
       "| -err.- |  6 |  0 | 0 | 0 |  2 |  0 | 0 | 0 | 0 |  3 | 0 | 0 | 0 | 0 | 0 | 11 |\n",
       "\n"
      ],
      "text/plain": [
       "                        predicted\n",
       "true                     alternarialeaf-spot anthracnose bacterial-blight\n",
       "  alternarialeaf-spot    27                   0          0               \n",
       "  anthracnose             0                  13          0               \n",
       "  bacterial-blight        0                   0          4               \n",
       "  bacterial-pustule       0                   0          0               \n",
       "  brown-spot              0                   0          0               \n",
       "  brown-stem-rot          0                   0          0               \n",
       "  charcoal-rot            0                   0          0               \n",
       "  diaporthe-stem-canker   0                   0          0               \n",
       "  downy-mildew            0                   0          0               \n",
       "  frog-eye-leaf-spot      4                   0          0               \n",
       "  phyllosticta-leaf-spot  2                   0          0               \n",
       "  phytophthora-rot        0                   0          0               \n",
       "  powdery-mildew          0                   0          0               \n",
       "  purple-seed-stain       0                   0          0               \n",
       "  rhizoctonia-root-rot    0                   0          0               \n",
       "  -err.-                  6                   0          0               \n",
       "                        predicted\n",
       "true                     bacterial-pustule brown-spot brown-stem-rot\n",
       "  alternarialeaf-spot    0                  0          0            \n",
       "  anthracnose            0                  0          0            \n",
       "  bacterial-blight       0                  0          0            \n",
       "  bacterial-pustule      6                  0          0            \n",
       "  brown-spot             0                 28          0            \n",
       "  brown-stem-rot         0                  0         16            \n",
       "  charcoal-rot           0                  0          0            \n",
       "  diaporthe-stem-canker  0                  0          0            \n",
       "  downy-mildew           0                  0          0            \n",
       "  frog-eye-leaf-spot     0                  0          0            \n",
       "  phyllosticta-leaf-spot 0                  2          0            \n",
       "  phytophthora-rot       0                  0          0            \n",
       "  powdery-mildew         0                  0          0            \n",
       "  purple-seed-stain      0                  0          0            \n",
       "  rhizoctonia-root-rot   0                  0          0            \n",
       "  -err.-                 0                  2          0            \n",
       "                        predicted\n",
       "true                     charcoal-rot diaporthe-stem-canker downy-mildew\n",
       "  alternarialeaf-spot    0            0                     0           \n",
       "  anthracnose            0            0                     0           \n",
       "  bacterial-blight       0            0                     0           \n",
       "  bacterial-pustule      0            0                     0           \n",
       "  brown-spot             0            0                     0           \n",
       "  brown-stem-rot         0            0                     0           \n",
       "  charcoal-rot           6            0                     0           \n",
       "  diaporthe-stem-canker  0            5                     0           \n",
       "  downy-mildew           0            0                     6           \n",
       "  frog-eye-leaf-spot     0            0                     0           \n",
       "  phyllosticta-leaf-spot 0            0                     0           \n",
       "  phytophthora-rot       0            0                     0           \n",
       "  powdery-mildew         0            0                     0           \n",
       "  purple-seed-stain      0            0                     0           \n",
       "  rhizoctonia-root-rot   0            0                     0           \n",
       "  -err.-                 0            0                     0           \n",
       "                        predicted\n",
       "true                     frog-eye-leaf-spot phyllosticta-leaf-spot\n",
       "  alternarialeaf-spot     0                 0                     \n",
       "  anthracnose             0                 0                     \n",
       "  bacterial-blight        0                 0                     \n",
       "  bacterial-pustule       0                 0                     \n",
       "  brown-spot              2                 0                     \n",
       "  brown-stem-rot          0                 0                     \n",
       "  charcoal-rot            0                 0                     \n",
       "  diaporthe-stem-canker   0                 0                     \n",
       "  downy-mildew            0                 0                     \n",
       "  frog-eye-leaf-spot     19                 0                     \n",
       "  phyllosticta-leaf-spot  1                 2                     \n",
       "  phytophthora-rot        0                 0                     \n",
       "  powdery-mildew          0                 0                     \n",
       "  purple-seed-stain       0                 0                     \n",
       "  rhizoctonia-root-rot    0                 0                     \n",
       "  -err.-                  3                 0                     \n",
       "                        predicted\n",
       "true                     phytophthora-rot powdery-mildew purple-seed-stain\n",
       "  alternarialeaf-spot    0                0              0                \n",
       "  anthracnose            0                0              0                \n",
       "  bacterial-blight       0                0              0                \n",
       "  bacterial-pustule      0                0              0                \n",
       "  brown-spot             0                0              0                \n",
       "  brown-stem-rot         0                0              0                \n",
       "  charcoal-rot           0                0              0                \n",
       "  diaporthe-stem-canker  0                0              0                \n",
       "  downy-mildew           0                0              0                \n",
       "  frog-eye-leaf-spot     0                0              0                \n",
       "  phyllosticta-leaf-spot 0                0              0                \n",
       "  phytophthora-rot       6                0              0                \n",
       "  powdery-mildew         0                5              0                \n",
       "  purple-seed-stain      0                0              7                \n",
       "  rhizoctonia-root-rot   0                0              0                \n",
       "  -err.-                 0                0              0                \n",
       "                        predicted\n",
       "true                     rhizoctonia-root-rot -err.-\n",
       "  alternarialeaf-spot    0                     0    \n",
       "  anthracnose            0                     0    \n",
       "  bacterial-blight       0                     0    \n",
       "  bacterial-pustule      0                     0    \n",
       "  brown-spot             0                     2    \n",
       "  brown-stem-rot         0                     0    \n",
       "  charcoal-rot           0                     0    \n",
       "  diaporthe-stem-canker  0                     0    \n",
       "  downy-mildew           0                     0    \n",
       "  frog-eye-leaf-spot     0                     4    \n",
       "  phyllosticta-leaf-spot 0                     5    \n",
       "  phytophthora-rot       0                     0    \n",
       "  powdery-mildew         0                     0    \n",
       "  purple-seed-stain      0                     0    \n",
       "  rhizoctonia-root-rot   8                     0    \n",
       "  -err.-                 0                    11    "
      ]
     },
     "metadata": {},
     "output_type": "display_data"
    }
   ],
   "source": [
    "cm$result"
   ]
  }
 ],
 "metadata": {
  "kernelspec": {
   "display_name": "R",
   "language": "R",
   "name": "ir"
  },
  "language_info": {
   "codemirror_mode": "r",
   "file_extension": ".r",
   "mimetype": "text/x-r-source",
   "name": "R",
   "pygments_lexer": "r",
   "version": "3.6.0"
  }
 },
 "nbformat": 4,
 "nbformat_minor": 2
}

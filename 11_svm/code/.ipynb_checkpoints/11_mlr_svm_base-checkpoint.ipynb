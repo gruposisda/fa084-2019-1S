{
 "cells": [
  {
   "cell_type": "code",
   "execution_count": 1,
   "metadata": {
    "scrolled": true
   },
   "outputs": [
    {
     "name": "stderr",
     "output_type": "stream",
     "text": [
      "Registered S3 methods overwritten by 'ggplot2':\n",
      "  method         from \n",
      "  [.quosures     rlang\n",
      "  c.quosures     rlang\n",
      "  print.quosures rlang\n",
      "Registered S3 method overwritten by 'rvest':\n",
      "  method            from\n",
      "  read_xml.response xml2\n",
      "── \u001b[1mAttaching packages\u001b[22m ─────────────────────────────────────── tidyverse 1.2.1 ──\n",
      "\u001b[32m✔\u001b[39m \u001b[34mggplot2\u001b[39m 3.1.1       \u001b[32m✔\u001b[39m \u001b[34mpurrr  \u001b[39m 0.3.2  \n",
      "\u001b[32m✔\u001b[39m \u001b[34mtibble \u001b[39m 2.1.1       \u001b[32m✔\u001b[39m \u001b[34mdplyr  \u001b[39m 0.8.0.\u001b[31m1\u001b[39m\n",
      "\u001b[32m✔\u001b[39m \u001b[34mtidyr  \u001b[39m 0.8.3       \u001b[32m✔\u001b[39m \u001b[34mstringr\u001b[39m 1.4.0  \n",
      "\u001b[32m✔\u001b[39m \u001b[34mreadr  \u001b[39m 1.3.1       \u001b[32m✔\u001b[39m \u001b[34mforcats\u001b[39m 0.4.0  \n",
      "── \u001b[1mConflicts\u001b[22m ────────────────────────────────────────── tidyverse_conflicts() ──\n",
      "\u001b[31m✖\u001b[39m \u001b[34mdplyr\u001b[39m::\u001b[32mfilter()\u001b[39m masks \u001b[34mstats\u001b[39m::filter()\n",
      "\u001b[31m✖\u001b[39m \u001b[34mdplyr\u001b[39m::\u001b[32mlag()\u001b[39m    masks \u001b[34mstats\u001b[39m::lag()\n",
      "Loading required package: ParamHelpers\n",
      "\n",
      "Attaching package: ‘e1071’\n",
      "\n",
      "The following object is masked from ‘package:mlr’:\n",
      "\n",
      "    impute\n",
      "\n",
      "\n",
      "Attaching package: ‘xgboost’\n",
      "\n",
      "The following object is masked from ‘package:dplyr’:\n",
      "\n",
      "    slice\n",
      "\n"
     ]
    }
   ],
   "source": [
    "library(tidyverse)\n",
    "library(mlr)\n",
    "library(mlbench)\n",
    "library(e1071)\n",
    "library(xgboost)\n",
    "library(parallelMap)\n",
    "\n",
    "count_na = function(df){\n",
    "    sapply(df, function(x){sum(is.na(x))})\n",
    "    }"
   ]
  },
  {
   "cell_type": "markdown",
   "metadata": {},
   "source": [
    "## MLR: Machine Learning in R\n",
    "\n",
    "Site de referência: https://mlr.mlr-org.com/\n",
    "\n",
    "Aproveite para ver o tutorial básico [neste link](https://mlr.mlr-org.com/articles/tutorial/usecase_regression.html).\n",
    "\n",
    "![workflow](imgs/Selection_047.png)"
   ]
  },
  {
   "cell_type": "markdown",
   "metadata": {},
   "source": [
    "Vamos aprender o workflow com o `BostonHousing`. Descrição em na documentação do pacote [mlbench](https://www.rdocumentation.org/packages/mlbench/versions/2.1-1/topics/BostonHousing)."
   ]
  },
  {
   "cell_type": "code",
   "execution_count": 2,
   "metadata": {},
   "outputs": [
    {
     "name": "stderr",
     "output_type": "stream",
     "text": [
      "Registered S3 methods overwritten by 'ggplot2':\n",
      "  method         from \n",
      "  [.quosures     rlang\n",
      "  c.quosures     rlang\n",
      "  print.quosures rlang\n",
      "Registered S3 method overwritten by 'rvest':\n",
      "  method            from\n",
      "  read_xml.response xml2\n",
      "── \u001b[1mAttaching packages\u001b[22m ─────────────────────────────────────── tidyverse 1.2.1 ──\n",
      "\u001b[32m✔\u001b[39m \u001b[34mggplot2\u001b[39m 3.1.1       \u001b[32m✔\u001b[39m \u001b[34mpurrr  \u001b[39m 0.3.2  \n",
      "\u001b[32m✔\u001b[39m \u001b[34mtibble \u001b[39m 2.1.1       \u001b[32m✔\u001b[39m \u001b[34mdplyr  \u001b[39m 0.8.0.\u001b[31m1\u001b[39m\n",
      "\u001b[32m✔\u001b[39m \u001b[34mtidyr  \u001b[39m 0.8.3       \u001b[32m✔\u001b[39m \u001b[34mstringr\u001b[39m 1.4.0  \n",
      "\u001b[32m✔\u001b[39m \u001b[34mreadr  \u001b[39m 1.3.1       \u001b[32m✔\u001b[39m \u001b[34mforcats\u001b[39m 0.4.0  \n",
      "── \u001b[1mConflicts\u001b[22m ────────────────────────────────────────── tidyverse_conflicts() ──\n",
      "\u001b[31m✖\u001b[39m \u001b[34mdplyr\u001b[39m::\u001b[32mfilter()\u001b[39m masks \u001b[34mstats\u001b[39m::filter()\n",
      "\u001b[31m✖\u001b[39m \u001b[34mdplyr\u001b[39m::\u001b[32mlag()\u001b[39m    masks \u001b[34mstats\u001b[39m::lag()\n",
      "Loading required package: ParamHelpers\n"
     ]
    }
   ],
   "source": [
    "library(mlbench)\n",
    "library(tidyverse)\n",
    "library(mlr)"
   ]
  },
  {
   "cell_type": "code",
   "execution_count": 5,
   "metadata": {},
   "outputs": [
    {
     "data": {
      "text/html": [
       "<table>\n",
       "<caption>A data.frame: 6 × 14</caption>\n",
       "<thead>\n",
       "\t<tr><th scope=col>crim</th><th scope=col>zn</th><th scope=col>indus</th><th scope=col>chas</th><th scope=col>nox</th><th scope=col>rm</th><th scope=col>age</th><th scope=col>dis</th><th scope=col>rad</th><th scope=col>tax</th><th scope=col>ptratio</th><th scope=col>b</th><th scope=col>lstat</th><th scope=col>medv</th></tr>\n",
       "\t<tr><th scope=col>&lt;dbl&gt;</th><th scope=col>&lt;dbl&gt;</th><th scope=col>&lt;dbl&gt;</th><th scope=col>&lt;fct&gt;</th><th scope=col>&lt;dbl&gt;</th><th scope=col>&lt;dbl&gt;</th><th scope=col>&lt;dbl&gt;</th><th scope=col>&lt;dbl&gt;</th><th scope=col>&lt;dbl&gt;</th><th scope=col>&lt;dbl&gt;</th><th scope=col>&lt;dbl&gt;</th><th scope=col>&lt;dbl&gt;</th><th scope=col>&lt;dbl&gt;</th><th scope=col>&lt;dbl&gt;</th></tr>\n",
       "</thead>\n",
       "<tbody>\n",
       "\t<tr><td>0.00632</td><td>18</td><td>2.31</td><td>0</td><td>0.538</td><td>6.575</td><td>65.2</td><td>4.0900</td><td>1</td><td>296</td><td>15.3</td><td>396.90</td><td>4.98</td><td>24.0</td></tr>\n",
       "\t<tr><td>0.02731</td><td> 0</td><td>7.07</td><td>0</td><td>0.469</td><td>6.421</td><td>78.9</td><td>4.9671</td><td>2</td><td>242</td><td>17.8</td><td>396.90</td><td>9.14</td><td>21.6</td></tr>\n",
       "\t<tr><td>0.02729</td><td> 0</td><td>7.07</td><td>0</td><td>0.469</td><td>7.185</td><td>61.1</td><td>4.9671</td><td>2</td><td>242</td><td>17.8</td><td>392.83</td><td>4.03</td><td>34.7</td></tr>\n",
       "\t<tr><td>0.03237</td><td> 0</td><td>2.18</td><td>0</td><td>0.458</td><td>6.998</td><td>45.8</td><td>6.0622</td><td>3</td><td>222</td><td>18.7</td><td>394.63</td><td>2.94</td><td>33.4</td></tr>\n",
       "\t<tr><td>0.06905</td><td> 0</td><td>2.18</td><td>0</td><td>0.458</td><td>7.147</td><td>54.2</td><td>6.0622</td><td>3</td><td>222</td><td>18.7</td><td>396.90</td><td>5.33</td><td>36.2</td></tr>\n",
       "\t<tr><td>0.02985</td><td> 0</td><td>2.18</td><td>0</td><td>0.458</td><td>6.430</td><td>58.7</td><td>6.0622</td><td>3</td><td>222</td><td>18.7</td><td>394.12</td><td>5.21</td><td>28.7</td></tr>\n",
       "</tbody>\n",
       "</table>\n"
      ],
      "text/latex": [
       "A data.frame: 6 × 14\n",
       "\\begin{tabular}{r|llllllllllllll}\n",
       " crim & zn & indus & chas & nox & rm & age & dis & rad & tax & ptratio & b & lstat & medv\\\\\n",
       " <dbl> & <dbl> & <dbl> & <fct> & <dbl> & <dbl> & <dbl> & <dbl> & <dbl> & <dbl> & <dbl> & <dbl> & <dbl> & <dbl>\\\\\n",
       "\\hline\n",
       "\t 0.00632 & 18 & 2.31 & 0 & 0.538 & 6.575 & 65.2 & 4.0900 & 1 & 296 & 15.3 & 396.90 & 4.98 & 24.0\\\\\n",
       "\t 0.02731 &  0 & 7.07 & 0 & 0.469 & 6.421 & 78.9 & 4.9671 & 2 & 242 & 17.8 & 396.90 & 9.14 & 21.6\\\\\n",
       "\t 0.02729 &  0 & 7.07 & 0 & 0.469 & 7.185 & 61.1 & 4.9671 & 2 & 242 & 17.8 & 392.83 & 4.03 & 34.7\\\\\n",
       "\t 0.03237 &  0 & 2.18 & 0 & 0.458 & 6.998 & 45.8 & 6.0622 & 3 & 222 & 18.7 & 394.63 & 2.94 & 33.4\\\\\n",
       "\t 0.06905 &  0 & 2.18 & 0 & 0.458 & 7.147 & 54.2 & 6.0622 & 3 & 222 & 18.7 & 396.90 & 5.33 & 36.2\\\\\n",
       "\t 0.02985 &  0 & 2.18 & 0 & 0.458 & 6.430 & 58.7 & 6.0622 & 3 & 222 & 18.7 & 394.12 & 5.21 & 28.7\\\\\n",
       "\\end{tabular}\n"
      ],
      "text/markdown": [
       "\n",
       "A data.frame: 6 × 14\n",
       "\n",
       "| crim &lt;dbl&gt; | zn &lt;dbl&gt; | indus &lt;dbl&gt; | chas &lt;fct&gt; | nox &lt;dbl&gt; | rm &lt;dbl&gt; | age &lt;dbl&gt; | dis &lt;dbl&gt; | rad &lt;dbl&gt; | tax &lt;dbl&gt; | ptratio &lt;dbl&gt; | b &lt;dbl&gt; | lstat &lt;dbl&gt; | medv &lt;dbl&gt; |\n",
       "|---|---|---|---|---|---|---|---|---|---|---|---|---|---|\n",
       "| 0.00632 | 18 | 2.31 | 0 | 0.538 | 6.575 | 65.2 | 4.0900 | 1 | 296 | 15.3 | 396.90 | 4.98 | 24.0 |\n",
       "| 0.02731 |  0 | 7.07 | 0 | 0.469 | 6.421 | 78.9 | 4.9671 | 2 | 242 | 17.8 | 396.90 | 9.14 | 21.6 |\n",
       "| 0.02729 |  0 | 7.07 | 0 | 0.469 | 7.185 | 61.1 | 4.9671 | 2 | 242 | 17.8 | 392.83 | 4.03 | 34.7 |\n",
       "| 0.03237 |  0 | 2.18 | 0 | 0.458 | 6.998 | 45.8 | 6.0622 | 3 | 222 | 18.7 | 394.63 | 2.94 | 33.4 |\n",
       "| 0.06905 |  0 | 2.18 | 0 | 0.458 | 7.147 | 54.2 | 6.0622 | 3 | 222 | 18.7 | 396.90 | 5.33 | 36.2 |\n",
       "| 0.02985 |  0 | 2.18 | 0 | 0.458 | 6.430 | 58.7 | 6.0622 | 3 | 222 | 18.7 | 394.12 | 5.21 | 28.7 |\n",
       "\n"
      ],
      "text/plain": [
       "  crim    zn indus chas nox   rm    age  dis    rad tax ptratio b      lstat\n",
       "1 0.00632 18 2.31  0    0.538 6.575 65.2 4.0900 1   296 15.3    396.90 4.98 \n",
       "2 0.02731  0 7.07  0    0.469 6.421 78.9 4.9671 2   242 17.8    396.90 9.14 \n",
       "3 0.02729  0 7.07  0    0.469 7.185 61.1 4.9671 2   242 17.8    392.83 4.03 \n",
       "4 0.03237  0 2.18  0    0.458 6.998 45.8 6.0622 3   222 18.7    394.63 2.94 \n",
       "5 0.06905  0 2.18  0    0.458 7.147 54.2 6.0622 3   222 18.7    396.90 5.33 \n",
       "6 0.02985  0 2.18  0    0.458 6.430 58.7 6.0622 3   222 18.7    394.12 5.21 \n",
       "  medv\n",
       "1 24.0\n",
       "2 21.6\n",
       "3 34.7\n",
       "4 33.4\n",
       "5 36.2\n",
       "6 28.7"
      ]
     },
     "metadata": {},
     "output_type": "display_data"
    }
   ],
   "source": [
    "data(BostonHousing)\n",
    "df = BostonHousing\n",
    "head(df)"
   ]
  },
  {
   "cell_type": "code",
   "execution_count": 7,
   "metadata": {},
   "outputs": [],
   "source": [
    "?BostonHousing"
   ]
  },
  {
   "cell_type": "markdown",
   "metadata": {},
   "source": [
    "## 1. Criar a task"
   ]
  },
  {
   "cell_type": "code",
   "execution_count": 8,
   "metadata": {},
   "outputs": [],
   "source": [
    "regr.task = makeRegrTask(data = df, target = 'medv')"
   ]
  },
  {
   "cell_type": "code",
   "execution_count": 9,
   "metadata": {},
   "outputs": [
    {
     "data": {
      "text/plain": [
       "Supervised task: df\n",
       "Type: regr\n",
       "Target: medv\n",
       "Observations: 506\n",
       "Features:\n",
       "   numerics     factors     ordered functionals \n",
       "         12           1           0           0 \n",
       "Missings: FALSE\n",
       "Has weights: FALSE\n",
       "Has blocking: FALSE\n",
       "Has coordinates: FALSE"
      ]
     },
     "metadata": {},
     "output_type": "display_data"
    }
   ],
   "source": [
    "regr.task"
   ]
  },
  {
   "cell_type": "markdown",
   "metadata": {},
   "source": [
    "## 2. Definir o learner\n",
    "\n",
    "Checar os learners disponíveis no [site](https://mlr.mlr-org.com/articles/tutorial/integrated_learners.html)"
   ]
  },
  {
   "cell_type": "code",
   "execution_count": 10,
   "metadata": {},
   "outputs": [],
   "source": [
    "svm_learner = makeLearner(cl='regr.svm', cost = 1)"
   ]
  },
  {
   "cell_type": "code",
   "execution_count": 11,
   "metadata": {},
   "outputs": [
    {
     "data": {
      "text/plain": [
       "Learner regr.svm from package e1071\n",
       "Type: regr\n",
       "Name: Support Vector Machines (libsvm); Short name: svm\n",
       "Class: regr.svm\n",
       "Properties: numerics,factors\n",
       "Predict-Type: response\n",
       "Hyperparameters: cost=1\n"
      ]
     },
     "metadata": {},
     "output_type": "display_data"
    }
   ],
   "source": [
    "svm_learner"
   ]
  },
  {
   "cell_type": "markdown",
   "metadata": {},
   "source": [
    "## 3. Treinar o modelo\n",
    "\n",
    "Após os 2 primeiros passos, podemos definir a estratégia de resample e treinar o modelo.\n",
    "\n",
    "Aqui vamos criar duas estratégias: `Holdout` e `Cross Validation` com 5 folds."
   ]
  },
  {
   "cell_type": "code",
   "execution_count": 12,
   "metadata": {},
   "outputs": [],
   "source": [
    "holdout = makeResampleDesc(method = 'Holdout', split = 0.7)\n",
    "cv = makeResampleDesc(method = 'CV', iters = 5)"
   ]
  },
  {
   "cell_type": "code",
   "execution_count": 13,
   "metadata": {},
   "outputs": [
    {
     "data": {
      "text/plain": [
       "Resample description: holdout with 0.70 split rate.\n",
       "Predict: test\n",
       "Stratification: FALSE"
      ]
     },
     "metadata": {},
     "output_type": "display_data"
    },
    {
     "data": {
      "text/plain": [
       "Resample description: cross-validation with 5 iterations.\n",
       "Predict: test\n",
       "Stratification: FALSE"
      ]
     },
     "metadata": {},
     "output_type": "display_data"
    }
   ],
   "source": [
    "holdout\n",
    "cv"
   ]
  },
  {
   "cell_type": "markdown",
   "metadata": {},
   "source": [
    "Para treinar, usamos a função `resample()`."
   ]
  },
  {
   "cell_type": "code",
   "execution_count": 14,
   "metadata": {},
   "outputs": [
    {
     "name": "stderr",
     "output_type": "stream",
     "text": [
      "Resampling: holdout\n",
      "Measures:             mae       mse       \n",
      "[Resample] iter 1:    2.5856057 20.7799511\n",
      "\n",
      "\n",
      "Aggregated Result: mae.test.mean=2.5856057,mse.test.mean=20.7799511\n",
      "\n",
      "\n"
     ]
    }
   ],
   "source": [
    "res_holdout = resample(learner = svm_learner,task = regr.task,\n",
    "                       resampling = holdout, list(mae, mse) )"
   ]
  },
  {
   "cell_type": "code",
   "execution_count": 27,
   "metadata": {},
   "outputs": [
    {
     "name": "stderr",
     "output_type": "stream",
     "text": [
      "Resampling: cross-validation\n",
      "Measures:             mae       \n",
      "[Resample] iter 1:    2.2784589 \n",
      "[Resample] iter 2:    1.8464070 \n",
      "[Resample] iter 3:    2.4946917 \n",
      "[Resample] iter 4:    2.1577096 \n",
      "[Resample] iter 5:    2.3452422 \n",
      "\n",
      "\n",
      "Aggregated Result: mae.test.mean=2.2245019\n",
      "\n",
      "\n"
     ]
    }
   ],
   "source": [
    "set.seed(2019)\n",
    "res_cv = resample(svm_learner, regr.task, cv, mae)"
   ]
  },
  {
   "cell_type": "markdown",
   "metadata": {},
   "source": [
    "## 3.1 Com ajuste de hiperparâmetros"
   ]
  },
  {
   "cell_type": "code",
   "execution_count": 28,
   "metadata": {},
   "outputs": [],
   "source": [
    "parameters_svm = makeParamSet(makeNumericParam(\"cost\",lower = 0.1,\n",
    "                                              upper = 1),\n",
    "                             makeNumericParam(\"gamma\", lower = 0.1,\n",
    "                                              upper = 1))"
   ]
  },
  {
   "cell_type": "code",
   "execution_count": 29,
   "metadata": {},
   "outputs": [
    {
     "data": {
      "text/plain": [
       "         Type len Def   Constr Req Tunable Trafo\n",
       "cost  numeric   -   - 0.1 to 1   -    TRUE     -\n",
       "gamma numeric   -   - 0.1 to 1   -    TRUE     -"
      ]
     },
     "metadata": {},
     "output_type": "display_data"
    }
   ],
   "source": [
    "parameters_svm"
   ]
  },
  {
   "cell_type": "markdown",
   "metadata": {},
   "source": [
    "Definir a forma de busca, vamos usar `random search`. Mais detalhes no [link](https://mlr.mlr-org.com/articles/tutorial/tune.html)."
   ]
  },
  {
   "cell_type": "code",
   "execution_count": 31,
   "metadata": {},
   "outputs": [],
   "source": [
    "ctrl  = makeTuneControlRandom(maxit = 100)"
   ]
  },
  {
   "cell_type": "code",
   "execution_count": 34,
   "metadata": {},
   "outputs": [
    {
     "data": {
      "text/html": [
       "<dl>\n",
       "\t<dt>$cost</dt>\n",
       "\t\t<dd>0.945904041198082</dd>\n",
       "\t<dt>$gamma</dt>\n",
       "\t\t<dd>0.138959464384243</dd>\n",
       "</dl>\n"
      ],
      "text/latex": [
       "\\begin{description}\n",
       "\\item[\\$cost] 0.945904041198082\n",
       "\\item[\\$gamma] 0.138959464384243\n",
       "\\end{description}\n"
      ],
      "text/markdown": [
       "$cost\n",
       ":   0.945904041198082\n",
       "$gamma\n",
       ":   0.138959464384243\n",
       "\n",
       "\n"
      ],
      "text/plain": [
       "$cost\n",
       "[1] 0.945904\n",
       "\n",
       "$gamma\n",
       "[1] 0.1389595\n"
      ]
     },
     "metadata": {},
     "output_type": "display_data"
    }
   ],
   "source": [
    "tr$x"
   ]
  },
  {
   "cell_type": "code",
   "execution_count": 37,
   "metadata": {},
   "outputs": [
    {
     "data": {
      "text/plain": [
       "Resample instance for 506 cases.\n",
       "Resample description: cross-validation with 5 iterations.\n",
       "Predict: test\n",
       "Stratification: FALSE"
      ]
     },
     "metadata": {},
     "output_type": "display_data"
    }
   ],
   "source": [
    "tr$resampling"
   ]
  },
  {
   "cell_type": "code",
   "execution_count": 39,
   "metadata": {},
   "outputs": [
    {
     "data": {
      "text/plain": [
       "                   Type  len            Def                           Constr\n",
       "type           discrete    - eps-regression     eps-regression,nu-regression\n",
       "kernel         discrete    -         radial linear,polynomial,radial,sigmoid\n",
       "degree          integer    -              3                         1 to Inf\n",
       "gamma           numeric    -              -                         0 to Inf\n",
       "coef0           numeric    -              0                      -Inf to Inf\n",
       "cost            numeric    -              1                         0 to Inf\n",
       "nu              numeric    -            0.5                      -Inf to Inf\n",
       "cachesize       numeric    -             40                      -Inf to Inf\n",
       "tolerance       numeric    -          0.001                         0 to Inf\n",
       "epsilon         numeric    -              -                         0 to Inf\n",
       "shrinking       logical    -           TRUE                                -\n",
       "cross           integer    -              0                         0 to Inf\n",
       "fitted          logical    -           TRUE                                -\n",
       "scale     logicalvector <NA>           TRUE                                -\n",
       "          Req Tunable Trafo\n",
       "type        -    TRUE     -\n",
       "kernel      -    TRUE     -\n",
       "degree      Y    TRUE     -\n",
       "gamma       Y    TRUE     -\n",
       "coef0       Y    TRUE     -\n",
       "cost        Y    TRUE     -\n",
       "nu          Y    TRUE     -\n",
       "cachesize   -    TRUE     -\n",
       "tolerance   -    TRUE     -\n",
       "epsilon     Y    TRUE     -\n",
       "shrinking   -    TRUE     -\n",
       "cross       -   FALSE     -\n",
       "fitted      -   FALSE     -\n",
       "scale       -    TRUE     -"
      ]
     },
     "metadata": {},
     "output_type": "display_data"
    }
   ],
   "source": [
    "getLearnerParamSet(svm_learner)"
   ]
  },
  {
   "cell_type": "code",
   "execution_count": 32,
   "metadata": {
    "scrolled": true
   },
   "outputs": [
    {
     "name": "stderr",
     "output_type": "stream",
     "text": [
      "[Tune] Started tuning learner regr.svm for parameter set:\n",
      "         Type len Def   Constr Req Tunable Trafo\n",
      "cost  numeric   -   - 0.1 to 1   -    TRUE     -\n",
      "gamma numeric   -   - 0.1 to 1   -    TRUE     -\n",
      "With control class: TuneControlRandom\n",
      "Imputation value: Inf\n",
      "[Tune-x] 1: cost=0.802; gamma=0.7\n",
      "[Tune-y] 1: mae.test.mean=3.3302249; time: 0.0 min\n",
      "[Tune-x] 2: cost=0.409; gamma=0.713\n",
      "[Tune-y] 2: mae.test.mean=3.7629726; time: 0.0 min\n",
      "[Tune-x] 3: cost=0.542; gamma=0.509\n",
      "[Tune-y] 3: mae.test.mean=3.2051902; time: 0.0 min\n",
      "[Tune-x] 4: cost=0.4; gamma=0.742\n",
      "[Tune-y] 4: mae.test.mean=3.8274946; time: 0.0 min\n",
      "[Tune-x] 5: cost=0.529; gamma=0.75\n",
      "[Tune-y] 5: mae.test.mean=3.6524673; time: 0.0 min\n",
      "[Tune-x] 6: cost=0.818; gamma=0.51\n",
      "[Tune-y] 6: mae.test.mean=2.9913404; time: 0.0 min\n",
      "[Tune-x] 7: cost=0.898; gamma=0.32\n",
      "[Tune-y] 7: mae.test.mean=2.5550492; time: 0.0 min\n",
      "[Tune-x] 8: cost=0.428; gamma=0.907\n",
      "[Tune-y] 8: mae.test.mean=4.0515848; time: 0.0 min\n",
      "[Tune-x] 9: cost=0.692; gamma=0.142\n",
      "[Tune-y] 9: mae.test.mean=2.3296600; time: 0.0 min\n",
      "[Tune-x] 10: cost=0.597; gamma=0.726\n",
      "[Tune-y] 10: mae.test.mean=3.5397568; time: 0.0 min\n",
      "[Tune-x] 11: cost=0.92; gamma=0.645\n",
      "[Tune-y] 11: mae.test.mean=3.1717394; time: 0.0 min\n",
      "[Tune-x] 12: cost=0.401; gamma=0.244\n",
      "[Tune-y] 12: mae.test.mean=2.7756897; time: 0.0 min\n",
      "[Tune-x] 13: cost=0.731; gamma=0.739\n",
      "[Tune-y] 13: mae.test.mean=3.4410937; time: 0.0 min\n",
      "[Tune-x] 14: cost=0.741; gamma=0.11\n",
      "[Tune-y] 14: mae.test.mean=2.2997042; time: 0.0 min\n",
      "[Tune-x] 15: cost=0.43; gamma=0.506\n",
      "[Tune-y] 15: mae.test.mean=3.3326206; time: 0.0 min\n",
      "[Tune-x] 16: cost=0.68; gamma=0.438\n",
      "[Tune-y] 16: mae.test.mean=2.9374253; time: 0.0 min\n",
      "[Tune-x] 17: cost=0.598; gamma=0.555\n",
      "[Tune-y] 17: mae.test.mean=3.2398868; time: 0.0 min\n",
      "[Tune-x] 18: cost=0.623; gamma=0.942\n",
      "[Tune-y] 18: mae.test.mean=3.8376756; time: 0.0 min\n",
      "[Tune-x] 19: cost=0.824; gamma=0.369\n",
      "[Tune-y] 19: mae.test.mean=2.7034370; time: 0.0 min\n",
      "[Tune-x] 20: cost=0.308; gamma=0.638\n",
      "[Tune-y] 20: mae.test.mean=3.8482878; time: 0.0 min\n",
      "[Tune-x] 21: cost=0.935; gamma=0.416\n",
      "[Tune-y] 21: mae.test.mean=2.7465225; time: 0.0 min\n",
      "[Tune-x] 22: cost=0.106; gamma=0.783\n",
      "[Tune-y] 22: mae.test.mean=5.0247946; time: 0.0 min\n",
      "[Tune-x] 23: cost=0.39; gamma=0.957\n",
      "[Tune-y] 23: mae.test.mean=4.1960396; time: 0.0 min\n",
      "[Tune-x] 24: cost=0.539; gamma=0.915\n",
      "[Tune-y] 24: mae.test.mean=3.8955839; time: 0.0 min\n",
      "[Tune-x] 25: cost=0.646; gamma=0.168\n",
      "[Tune-y] 25: mae.test.mean=2.3911516; time: 0.0 min\n",
      "[Tune-x] 26: cost=0.971; gamma=0.808\n",
      "[Tune-y] 26: mae.test.mean=3.3908889; time: 0.0 min\n",
      "[Tune-x] 27: cost=0.671; gamma=0.443\n",
      "[Tune-y] 27: mae.test.mean=2.9549989; time: 0.0 min\n",
      "[Tune-x] 28: cost=0.642; gamma=0.395\n",
      "[Tune-y] 28: mae.test.mean=2.8789940; time: 0.0 min\n",
      "[Tune-x] 29: cost=0.592; gamma=0.269\n",
      "[Tune-y] 29: mae.test.mean=2.6437427; time: 0.0 min\n",
      "[Tune-x] 30: cost=0.482; gamma=0.646\n",
      "[Tune-y] 30: mae.test.mean=3.5351570; time: 0.0 min\n",
      "[Tune-x] 31: cost=0.704; gamma=0.546\n",
      "[Tune-y] 31: mae.test.mean=3.1349351; time: 0.0 min\n",
      "[Tune-x] 32: cost=0.216; gamma=0.255\n",
      "[Tune-y] 32: mae.test.mean=3.1694890; time: 0.0 min\n",
      "[Tune-x] 33: cost=0.476; gamma=0.381\n",
      "[Tune-y] 33: mae.test.mean=2.9964925; time: 0.0 min\n",
      "[Tune-x] 34: cost=0.912; gamma=0.401\n",
      "[Tune-y] 34: mae.test.mean=2.7259958; time: 0.0 min\n",
      "[Tune-x] 35: cost=0.998; gamma=0.417\n",
      "[Tune-y] 35: mae.test.mean=2.7141989; time: 0.0 min\n",
      "[Tune-x] 36: cost=0.666; gamma=0.35\n",
      "[Tune-y] 36: mae.test.mean=2.7644165; time: 0.0 min\n",
      "[Tune-x] 37: cost=0.366; gamma=0.615\n",
      "[Tune-y] 37: mae.test.mean=3.6689459; time: 0.0 min\n",
      "[Tune-x] 38: cost=0.925; gamma=0.191\n",
      "[Tune-y] 38: mae.test.mean=2.2769681; time: 0.0 min\n",
      "[Tune-x] 39: cost=0.851; gamma=0.309\n",
      "[Tune-y] 39: mae.test.mean=2.5587180; time: 0.0 min\n",
      "[Tune-x] 40: cost=0.593; gamma=0.801\n",
      "[Tune-y] 40: mae.test.mean=3.6601641; time: 0.0 min\n",
      "[Tune-x] 41: cost=0.935; gamma=0.496\n",
      "[Tune-y] 41: mae.test.mean=2.9026016; time: 0.0 min\n",
      "[Tune-x] 42: cost=0.133; gamma=0.208\n",
      "[Tune-y] 42: mae.test.mean=3.3742169; time: 0.0 min\n",
      "[Tune-x] 43: cost=0.65; gamma=0.66\n",
      "[Tune-y] 43: mae.test.mean=3.3787729; time: 0.0 min\n",
      "[Tune-x] 44: cost=0.272; gamma=0.495\n",
      "[Tune-y] 44: mae.test.mean=3.6464972; time: 0.0 min\n",
      "[Tune-x] 45: cost=0.273; gamma=0.485\n",
      "[Tune-y] 45: mae.test.mean=3.6190877; time: 0.0 min\n",
      "[Tune-x] 46: cost=0.486; gamma=0.593\n",
      "[Tune-y] 46: mae.test.mean=3.4342143; time: 0.0 min\n",
      "[Tune-x] 47: cost=0.939; gamma=0.266\n",
      "[Tune-y] 47: mae.test.mean=2.4214493; time: 0.0 min\n",
      "[Tune-x] 48: cost=0.929; gamma=0.533\n",
      "[Tune-y] 48: mae.test.mean=2.9752883; time: 0.0 min\n",
      "[Tune-x] 49: cost=0.542; gamma=0.6\n",
      "[Tune-y] 49: mae.test.mean=3.3792891; time: 0.0 min\n",
      "[Tune-x] 50: cost=0.628; gamma=0.239\n",
      "[Tune-y] 50: mae.test.mean=2.5476262; time: 0.0 min\n",
      "[Tune-x] 51: cost=0.154; gamma=0.929\n",
      "[Tune-y] 51: mae.test.mean=4.9038004; time: 0.0 min\n",
      "[Tune-x] 52: cost=0.728; gamma=0.369\n",
      "[Tune-y] 52: mae.test.mean=2.7627511; time: 0.0 min\n",
      "[Tune-x] 53: cost=0.934; gamma=0.318\n",
      "[Tune-y] 53: mae.test.mean=2.5316192; time: 0.0 min\n",
      "[Tune-x] 54: cost=0.618; gamma=0.471\n",
      "[Tune-y] 54: mae.test.mean=3.0518964; time: 0.0 min\n",
      "[Tune-x] 55: cost=0.566; gamma=0.734\n",
      "[Tune-y] 55: mae.test.mean=3.5851121; time: 0.0 min\n",
      "[Tune-x] 56: cost=0.836; gamma=0.508\n",
      "[Tune-y] 56: mae.test.mean=2.9765699; time: 0.0 min\n",
      "[Tune-x] 57: cost=0.954; gamma=0.688\n",
      "[Tune-y] 57: mae.test.mean=3.2227942; time: 0.0 min\n",
      "[Tune-x] 58: cost=0.878; gamma=0.678\n",
      "[Tune-y] 58: mae.test.mean=3.2487744; time: 0.0 min\n",
      "[Tune-x] 59: cost=0.988; gamma=0.641\n",
      "[Tune-y] 59: mae.test.mean=3.1317372; time: 0.0 min\n",
      "[Tune-x] 60: cost=0.807; gamma=0.197\n",
      "[Tune-y] 60: mae.test.mean=2.3429604; time: 0.0 min\n",
      "[Tune-x] 61: cost=0.37; gamma=0.126\n",
      "[Tune-y] 61: mae.test.mean=2.5692660; time: 0.0 min\n",
      "[Tune-x] 62: cost=0.335; gamma=0.543\n",
      "[Tune-y] 62: mae.test.mean=3.5980645; time: 0.0 min\n",
      "[Tune-x] 63: cost=0.617; gamma=0.827\n",
      "[Tune-y] 63: mae.test.mean=3.6763770; time: 0.0 min\n",
      "[Tune-x] 64: cost=0.916; gamma=0.629\n",
      "[Tune-y] 64: mae.test.mean=3.1471845; time: 0.0 min\n",
      "[Tune-x] 65: cost=0.329; gamma=0.539\n",
      "[Tune-y] 65: mae.test.mean=3.6019084; time: 0.0 min\n",
      "[Tune-x] 66: cost=0.477; gamma=0.686\n",
      "[Tune-y] 66: mae.test.mean=3.6142970; time: 0.0 min\n",
      "[Tune-x] 67: cost=0.987; gamma=0.499\n",
      "[Tune-y] 67: mae.test.mean=2.8837527; time: 0.0 min\n",
      "[Tune-x] 68: cost=0.233; gamma=0.148\n",
      "[Tune-y] 68: mae.test.mean=2.8276338; time: 0.0 min\n",
      "[Tune-x] 69: cost=0.755; gamma=0.141\n",
      "[Tune-y] 69: mae.test.mean=2.2953026; time: 0.0 min\n",
      "[Tune-x] 70: cost=0.308; gamma=0.156\n",
      "[Tune-y] 70: mae.test.mean=2.7011586; time: 0.0 min\n",
      "[Tune-x] 71: cost=0.157; gamma=0.277\n",
      "[Tune-y] 71: mae.test.mean=3.4777363; time: 0.0 min\n",
      "[Tune-x] 72: cost=0.72; gamma=0.306\n",
      "[Tune-y] 72: mae.test.mean=2.6336830; time: 0.0 min\n",
      "[Tune-x] 73: cost=0.651; gamma=0.363\n",
      "[Tune-y] 73: mae.test.mean=2.8035547; time: 0.0 min\n",
      "[Tune-x] 74: cost=0.624; gamma=0.485\n",
      "[Tune-y] 74: mae.test.mean=3.0755661; time: 0.0 min\n",
      "[Tune-x] 75: cost=0.244; gamma=0.317\n",
      "[Tune-y] 75: mae.test.mean=3.2709016; time: 0.0 min\n",
      "[Tune-x] 76: cost=0.125; gamma=0.356\n",
      "[Tune-y] 76: mae.test.mean=3.9540026; time: 0.0 min\n",
      "[Tune-x] 77: cost=0.289; gamma=0.203\n",
      "[Tune-y] 77: mae.test.mean=2.8504845; time: 0.0 min\n",
      "[Tune-x] 78: cost=0.632; gamma=0.265\n",
      "[Tune-y] 78: mae.test.mean=2.6043489; time: 0.0 min\n",
      "[Tune-x] 79: cost=0.936; gamma=0.766\n",
      "[Tune-y] 79: mae.test.mean=3.3502936; time: 0.0 min\n",
      "[Tune-x] 80: cost=0.107; gamma=0.348\n",
      "[Tune-y] 80: mae.test.mean=4.0739733; time: 0.0 min\n",
      "[Tune-x] 81: cost=0.959; gamma=0.949\n",
      "[Tune-y] 81: mae.test.mean=3.5917387; time: 0.0 min\n",
      "[Tune-x] 82: cost=0.959; gamma=0.431\n",
      "[Tune-y] 82: mae.test.mean=2.7653720; time: 0.0 min\n",
      "[Tune-x] 83: cost=0.324; gamma=0.276\n",
      "[Tune-y] 83: mae.test.mean=2.9704951; time: 0.0 min\n",
      "[Tune-x] 84: cost=0.3; gamma=0.678\n",
      "[Tune-y] 84: mae.test.mean=3.9441517; time: 0.0 min\n",
      "[Tune-x] 85: cost=0.268; gamma=0.131\n",
      "[Tune-y] 85: mae.test.mean=2.7217042; time: 0.0 min\n",
      "[Tune-x] 86: cost=0.946; gamma=0.139\n",
      "[Tune-y] 86: mae.test.mean=2.2119958; time: 0.0 min\n",
      "[Tune-x] 87: cost=0.726; gamma=0.92\n",
      "[Tune-y] 87: mae.test.mean=3.7090517; time: 0.0 min\n",
      "[Tune-x] 88: cost=0.359; gamma=0.898\n",
      "[Tune-y] 88: mae.test.mean=4.1726978; time: 0.0 min\n",
      "[Tune-x] 89: cost=0.742; gamma=0.905\n",
      "[Tune-y] 89: mae.test.mean=3.6755957; time: 0.0 min\n",
      "[Tune-x] 90: cost=0.886; gamma=0.905\n",
      "[Tune-y] 90: mae.test.mean=3.5740563; time: 0.0 min\n"
     ]
    },
    {
     "name": "stderr",
     "output_type": "stream",
     "text": [
      "[Tune-x] 91: cost=0.245; gamma=0.986\n",
      "[Tune-y] 91: mae.test.mean=4.6019590; time: 0.0 min\n",
      "[Tune-x] 92: cost=0.449; gamma=0.162\n",
      "[Tune-y] 92: mae.test.mean=2.5496946; time: 0.0 min\n",
      "[Tune-x] 93: cost=0.691; gamma=0.765\n",
      "[Tune-y] 93: mae.test.mean=3.5130059; time: 0.0 min\n",
      "[Tune-x] 94: cost=0.92; gamma=0.518\n",
      "[Tune-y] 94: mae.test.mean=2.9531818; time: 0.0 min\n",
      "[Tune-x] 95: cost=0.239; gamma=0.937\n",
      "[Tune-y] 95: mae.test.mean=4.5571643; time: 0.0 min\n",
      "[Tune-x] 96: cost=0.589; gamma=0.945\n",
      "[Tune-y] 96: mae.test.mean=3.8780895; time: 0.0 min\n",
      "[Tune-x] 97: cost=0.377; gamma=0.834\n",
      "[Tune-y] 97: mae.test.mean=4.0328014; time: 0.0 min\n",
      "[Tune-x] 98: cost=0.239; gamma=0.817\n",
      "[Tune-y] 98: mae.test.mean=4.3796056; time: 0.0 min\n",
      "[Tune-x] 99: cost=0.425; gamma=0.639\n",
      "[Tune-y] 99: mae.test.mean=3.6075700; time: 0.0 min\n",
      "[Tune-x] 100: cost=0.924; gamma=0.99\n",
      "[Tune-y] 100: mae.test.mean=3.6698739; time: 0.0 min\n",
      "[Tune] Result: cost=0.946; gamma=0.139 : mae.test.mean=2.2119958\n"
     ]
    }
   ],
   "source": [
    "set.seed(2019)\n",
    "tr = tuneParams(svm_learner, regr.task, cv, mae, parameters_svm, \n",
    "               ctrl)"
   ]
  },
  {
   "cell_type": "markdown",
   "metadata": {},
   "source": [
    "Melhores hiperparâmetros:"
   ]
  },
  {
   "cell_type": "code",
   "execution_count": 40,
   "metadata": {},
   "outputs": [
    {
     "data": {
      "text/html": [
       "<dl>\n",
       "\t<dt>$cost</dt>\n",
       "\t\t<dd>0.945904041198082</dd>\n",
       "\t<dt>$gamma</dt>\n",
       "\t\t<dd>0.138959464384243</dd>\n",
       "</dl>\n"
      ],
      "text/latex": [
       "\\begin{description}\n",
       "\\item[\\$cost] 0.945904041198082\n",
       "\\item[\\$gamma] 0.138959464384243\n",
       "\\end{description}\n"
      ],
      "text/markdown": [
       "$cost\n",
       ":   0.945904041198082\n",
       "$gamma\n",
       ":   0.138959464384243\n",
       "\n",
       "\n"
      ],
      "text/plain": [
       "$cost\n",
       "[1] 0.945904\n",
       "\n",
       "$gamma\n",
       "[1] 0.1389595\n"
      ]
     },
     "metadata": {},
     "output_type": "display_data"
    }
   ],
   "source": [
    "tr$x"
   ]
  },
  {
   "cell_type": "code",
   "execution_count": null,
   "metadata": {},
   "outputs": [],
   "source": []
  },
  {
   "cell_type": "code",
   "execution_count": null,
   "metadata": {},
   "outputs": [],
   "source": []
  },
  {
   "cell_type": "code",
   "execution_count": null,
   "metadata": {},
   "outputs": [],
   "source": []
  },
  {
   "cell_type": "code",
   "execution_count": null,
   "metadata": {},
   "outputs": [],
   "source": []
  },
  {
   "cell_type": "code",
   "execution_count": null,
   "metadata": {},
   "outputs": [],
   "source": []
  },
  {
   "cell_type": "code",
   "execution_count": null,
   "metadata": {},
   "outputs": [],
   "source": []
  },
  {
   "cell_type": "code",
   "execution_count": null,
   "metadata": {},
   "outputs": [],
   "source": []
  },
  {
   "cell_type": "code",
   "execution_count": null,
   "metadata": {},
   "outputs": [],
   "source": []
  },
  {
   "cell_type": "code",
   "execution_count": null,
   "metadata": {},
   "outputs": [],
   "source": []
  },
  {
   "cell_type": "code",
   "execution_count": null,
   "metadata": {},
   "outputs": [],
   "source": []
  },
  {
   "cell_type": "code",
   "execution_count": null,
   "metadata": {},
   "outputs": [],
   "source": []
  },
  {
   "cell_type": "code",
   "execution_count": null,
   "metadata": {},
   "outputs": [],
   "source": []
  },
  {
   "cell_type": "markdown",
   "metadata": {},
   "source": [
    "# Agora é sua vez!\n",
    "\n",
    "\n",
    "![your_turn](imgs/avengers.jpg)\n",
    "\n",
    "\n",
    "\n",
    "\n",
    "## Faça o mesmo com o conjunto de dados [Soybean](https://www.rdocumentation.org/packages/mlbench/versions/2.1-1/topics/Soybean) do pacote mlbench. \n",
    "\n",
    "### Siga as instruções abaixo:\n",
    "\n",
    "1. Crie um holdout set e NÃO USE DURANTE O CROSS VALIDATION\n",
    "2. Vamos comparar `xgboost` e `svm`\n",
    "3. Crie um learner para cada tecninca\n",
    "4. Use cv com 5 folds como técnica de amostragem (resample)\n",
    "5. Use random search com 100 iterações como controle do ajuste de parâmetros\n",
    "6. Encontre os melhores hiperparâmetros para cada técnica\n",
    "7. Ao fim, treinaremos um modelo com os melhores e testaremos no conjunto separado no item 1 para comparar a performance dos dois"
   ]
  },
  {
   "cell_type": "markdown",
   "metadata": {},
   "source": [
    "## 0. Criando dummy features (0 e 1 para categóricas) "
   ]
  },
  {
   "cell_type": "code",
   "execution_count": 48,
   "metadata": {},
   "outputs": [
    {
     "data": {
      "text/html": [
       "<ol class=list-inline>\n",
       "\t<li>683</li>\n",
       "\t<li>36</li>\n",
       "</ol>\n"
      ],
      "text/latex": [
       "\\begin{enumerate*}\n",
       "\\item 683\n",
       "\\item 36\n",
       "\\end{enumerate*}\n"
      ],
      "text/markdown": [
       "1. 683\n",
       "2. 36\n",
       "\n",
       "\n"
      ],
      "text/plain": [
       "[1] 683  36"
      ]
     },
     "metadata": {},
     "output_type": "display_data"
    },
    {
     "data": {
      "text/html": [
       "<ol class=list-inline>\n",
       "\t<li>683</li>\n",
       "\t<li>100</li>\n",
       "</ol>\n"
      ],
      "text/latex": [
       "\\begin{enumerate*}\n",
       "\\item 683\n",
       "\\item 100\n",
       "\\end{enumerate*}\n"
      ],
      "text/markdown": [
       "1. 683\n",
       "2. 100\n",
       "\n",
       "\n"
      ],
      "text/plain": [
       "[1] 683 100"
      ]
     },
     "metadata": {},
     "output_type": "display_data"
    }
   ],
   "source": [
    "data(Soybean,package = 'mlbench')\n",
    "soy = createDummyFeatures(Soybean,target = \"Class\")\n",
    "dim(Soybean)\n",
    "dim(soy)\n"
   ]
  },
  {
   "cell_type": "code",
   "execution_count": 52,
   "metadata": {},
   "outputs": [
    {
     "data": {
      "text/plain": [
       "\n",
       "               2-4-d-injury         alternarialeaf-spot \n",
       "                         16                          91 \n",
       "                anthracnose            bacterial-blight \n",
       "                         44                          20 \n",
       "          bacterial-pustule                  brown-spot \n",
       "                         20                          92 \n",
       "             brown-stem-rot                charcoal-rot \n",
       "                         44                          20 \n",
       "              cyst-nematode diaporthe-pod-&-stem-blight \n",
       "                         14                          15 \n",
       "      diaporthe-stem-canker                downy-mildew \n",
       "                         20                          20 \n",
       "         frog-eye-leaf-spot            herbicide-injury \n",
       "                         91                           8 \n",
       "     phyllosticta-leaf-spot            phytophthora-rot \n",
       "                         20                          88 \n",
       "             powdery-mildew           purple-seed-stain \n",
       "                         20                          20 \n",
       "       rhizoctonia-root-rot \n",
       "                         20 "
      ]
     },
     "metadata": {},
     "output_type": "display_data"
    }
   ],
   "source": [
    "table(soy$Class)"
   ]
  },
  {
   "cell_type": "code",
   "execution_count": 53,
   "metadata": {},
   "outputs": [
    {
     "data": {
      "text/html": [
       "<ol class=list-inline>\n",
       "\t<li>562</li>\n",
       "\t<li>100</li>\n",
       "</ol>\n"
      ],
      "text/latex": [
       "\\begin{enumerate*}\n",
       "\\item 562\n",
       "\\item 100\n",
       "\\end{enumerate*}\n"
      ],
      "text/markdown": [
       "1. 562\n",
       "2. 100\n",
       "\n",
       "\n"
      ],
      "text/plain": [
       "[1] 562 100"
      ]
     },
     "metadata": {},
     "output_type": "display_data"
    }
   ],
   "source": [
    "dim(drop_na(soy))"
   ]
  },
  {
   "cell_type": "code",
   "execution_count": 65,
   "metadata": {},
   "outputs": [
    {
     "name": "stderr",
     "output_type": "stream",
     "text": [
      "Warning message in makeClassifTask(data = drop_na(soy), target = \"Class\"):\n",
      "“Target column 'Class' contains empty factor levels”"
     ]
    }
   ],
   "source": [
    "task = makeClassifTask(data = drop_na(soy), target = 'Class')\n",
    "set.seed(25)\n",
    "holdout = makeResampleInstance(\"Holdout\",task, split = 0.7)\n",
    "tsk_train = subsetTask(task, holdout$train.inds[[1]])\n",
    "tsk_test = subsetTask(task, holdout$test.inds[[1]])"
   ]
  },
  {
   "cell_type": "code",
   "execution_count": null,
   "metadata": {},
   "outputs": [],
   "source": []
  },
  {
   "cell_type": "code",
   "execution_count": null,
   "metadata": {},
   "outputs": [],
   "source": []
  },
  {
   "cell_type": "code",
   "execution_count": 66,
   "metadata": {},
   "outputs": [
    {
     "data": {
      "text/plain": [
       "Supervised task: drop_na(soy)\n",
       "Type: classif\n",
       "Target: Class\n",
       "Observations: 393\n",
       "Features:\n",
       "   numerics     factors     ordered functionals \n",
       "         99           0           0           0 \n",
       "Missings: FALSE\n",
       "Has weights: FALSE\n",
       "Has blocking: FALSE\n",
       "Has coordinates: FALSE\n",
       "Classes: 15\n",
       "   alternarialeaf-spot            anthracnose       bacterial-blight \n",
       "                    64                     31                     16 \n",
       "     bacterial-pustule             brown-spot         brown-stem-rot \n",
       "                    14                     62                     28 \n",
       "          charcoal-rot  diaporthe-stem-canker           downy-mildew \n",
       "                    14                     15                     14 \n",
       "    frog-eye-leaf-spot phyllosticta-leaf-spot       phytophthora-rot \n",
       "                    68                     13                     14 \n",
       "        powdery-mildew      purple-seed-stain   rhizoctonia-root-rot \n",
       "                    15                     13                     12 \n",
       "Positive class: NA"
      ]
     },
     "metadata": {},
     "output_type": "display_data"
    }
   ],
   "source": [
    "tsk_train"
   ]
  },
  {
   "cell_type": "code",
   "execution_count": 64,
   "metadata": {},
   "outputs": [
    {
     "data": {
      "text/html": [
       "<ol class=list-inline>\n",
       "\t<li>17</li>\n",
       "\t<li>497</li>\n",
       "\t<li>42</li>\n",
       "\t<li>237</li>\n",
       "\t<li>97</li>\n",
       "\t<li>311</li>\n",
       "\t<li>540</li>\n",
       "\t<li>364</li>\n",
       "\t<li>5</li>\n",
       "\t<li>291</li>\n",
       "\t<li>234</li>\n",
       "\t<li>463</li>\n",
       "\t<li>105</li>\n",
       "\t<li>202</li>\n",
       "\t<li>332</li>\n",
       "\t<li>432</li>\n",
       "\t<li>174</li>\n",
       "\t<li>560</li>\n",
       "\t<li>542</li>\n",
       "\t<li>461</li>\n",
       "\t<li>320</li>\n",
       "\t<li>36</li>\n",
       "\t<li>120</li>\n",
       "\t<li>24</li>\n",
       "\t<li>121</li>\n",
       "\t<li>47</li>\n",
       "\t<li>68</li>\n",
       "\t<li>142</li>\n",
       "\t<li>551</li>\n",
       "\t<li>446</li>\n",
       "\t<li>472</li>\n",
       "\t<li>114</li>\n",
       "\t<li>290</li>\n",
       "\t<li>280</li>\n",
       "\t<li>221</li>\n",
       "\t<li>215</li>\n",
       "\t<li>490</li>\n",
       "\t<li>484</li>\n",
       "\t<li>192</li>\n",
       "\t<li>54</li>\n",
       "\t<li>155</li>\n",
       "\t<li>118</li>\n",
       "\t<li>448</li>\n",
       "\t<li>153</li>\n",
       "\t<li>27</li>\n",
       "\t<li>288</li>\n",
       "\t<li>535</li>\n",
       "\t<li>167</li>\n",
       "\t<li>550</li>\n",
       "\t<li>103</li>\n",
       "\t<li>312</li>\n",
       "\t<li>55</li>\n",
       "\t<li>23</li>\n",
       "\t<li>256</li>\n",
       "\t<li>327</li>\n",
       "\t<li>409</li>\n",
       "\t<li>270</li>\n",
       "\t<li>369</li>\n",
       "\t<li>358</li>\n",
       "\t<li>370</li>\n",
       "\t<li>412</li>\n",
       "\t<li>58</li>\n",
       "\t<li>185</li>\n",
       "\t<li>244</li>\n",
       "\t<li>197</li>\n",
       "\t<li>2</li>\n",
       "\t<li>9</li>\n",
       "\t<li>193</li>\n",
       "\t<li>482</li>\n",
       "\t<li>171</li>\n",
       "\t<li>324</li>\n",
       "\t<li>87</li>\n",
       "\t<li>150</li>\n",
       "\t<li>371</li>\n",
       "\t<li>10</li>\n",
       "\t<li>476</li>\n",
       "\t<li>501</li>\n",
       "\t<li>220</li>\n",
       "\t<li>468</li>\n",
       "\t<li>107</li>\n",
       "\t<li>519</li>\n",
       "\t<li>231</li>\n",
       "\t<li>233</li>\n",
       "\t<li>262</li>\n",
       "\t<li>180</li>\n",
       "\t<li>41</li>\n",
       "\t<li>35</li>\n",
       "\t<li>343</li>\n",
       "\t<li>134</li>\n",
       "\t<li>418</li>\n",
       "\t<li>341</li>\n",
       "\t<li>136</li>\n",
       "\t<li>440</li>\n",
       "\t<li>179</li>\n",
       "\t<li>146</li>\n",
       "\t<li>254</li>\n",
       "\t<li>382</li>\n",
       "\t<li>102</li>\n",
       "\t<li>34</li>\n",
       "\t<li>176</li>\n",
       "\t<li>308</li>\n",
       "\t<li>98</li>\n",
       "\t<li>213</li>\n",
       "\t<li>56</li>\n",
       "\t<li>457</li>\n",
       "\t<li>62</li>\n",
       "\t<li>301</li>\n",
       "\t<li>93</li>\n",
       "\t<li>111</li>\n",
       "\t<li>376</li>\n",
       "\t<li>217</li>\n",
       "\t<li>203</li>\n",
       "\t<li>20</li>\n",
       "\t<li>453</li>\n",
       "\t<li>30</li>\n",
       "\t<li>84</li>\n",
       "\t<li>456</li>\n",
       "\t<li>425</li>\n",
       "\t<li>344</li>\n",
       "\t<li>313</li>\n",
       "\t<li>379</li>\n",
       "\t<li>43</li>\n",
       "\t<li>365</li>\n",
       "\t<li>318</li>\n",
       "\t<li>86</li>\n",
       "\t<li>515</li>\n",
       "\t<li>53</li>\n",
       "\t<li>375</li>\n",
       "\t<li>117</li>\n",
       "\t<li>559</li>\n",
       "\t<li>449</li>\n",
       "\t<li>471</li>\n",
       "\t<li>353</li>\n",
       "\t<li>156</li>\n",
       "\t<li>21</li>\n",
       "\t<li>445</li>\n",
       "\t<li>137</li>\n",
       "\t<li>206</li>\n",
       "\t<li>261</li>\n",
       "\t<li>367</li>\n",
       "\t<li>13</li>\n",
       "\t<li>431</li>\n",
       "\t<li>408</li>\n",
       "\t<li>481</li>\n",
       "\t<li>397</li>\n",
       "\t<li>424</li>\n",
       "\t<li>380</li>\n",
       "\t<li>504</li>\n",
       "\t<li>326</li>\n",
       "\t<li>211</li>\n",
       "\t<li>50</li>\n",
       "\t<li>532</li>\n",
       "\t<li>166</li>\n",
       "\t<li>372</li>\n",
       "\t<li>219</li>\n",
       "\t<li>209</li>\n",
       "\t<li>554</li>\n",
       "\t<li>177</li>\n",
       "\t<li>337</li>\n",
       "\t<li>277</li>\n",
       "\t<li>394</li>\n",
       "\t<li>16</li>\n",
       "\t<li>125</li>\n",
       "\t<li>434</li>\n",
       "\t<li>73</li>\n",
       "\t<li>243</li>\n",
       "\t<li>546</li>\n",
       "\t<li>129</li>\n",
       "\t<li>255</li>\n",
       "</ol>\n"
      ],
      "text/latex": [
       "\\begin{enumerate*}\n",
       "\\item 17\n",
       "\\item 497\n",
       "\\item 42\n",
       "\\item 237\n",
       "\\item 97\n",
       "\\item 311\n",
       "\\item 540\n",
       "\\item 364\n",
       "\\item 5\n",
       "\\item 291\n",
       "\\item 234\n",
       "\\item 463\n",
       "\\item 105\n",
       "\\item 202\n",
       "\\item 332\n",
       "\\item 432\n",
       "\\item 174\n",
       "\\item 560\n",
       "\\item 542\n",
       "\\item 461\n",
       "\\item 320\n",
       "\\item 36\n",
       "\\item 120\n",
       "\\item 24\n",
       "\\item 121\n",
       "\\item 47\n",
       "\\item 68\n",
       "\\item 142\n",
       "\\item 551\n",
       "\\item 446\n",
       "\\item 472\n",
       "\\item 114\n",
       "\\item 290\n",
       "\\item 280\n",
       "\\item 221\n",
       "\\item 215\n",
       "\\item 490\n",
       "\\item 484\n",
       "\\item 192\n",
       "\\item 54\n",
       "\\item 155\n",
       "\\item 118\n",
       "\\item 448\n",
       "\\item 153\n",
       "\\item 27\n",
       "\\item 288\n",
       "\\item 535\n",
       "\\item 167\n",
       "\\item 550\n",
       "\\item 103\n",
       "\\item 312\n",
       "\\item 55\n",
       "\\item 23\n",
       "\\item 256\n",
       "\\item 327\n",
       "\\item 409\n",
       "\\item 270\n",
       "\\item 369\n",
       "\\item 358\n",
       "\\item 370\n",
       "\\item 412\n",
       "\\item 58\n",
       "\\item 185\n",
       "\\item 244\n",
       "\\item 197\n",
       "\\item 2\n",
       "\\item 9\n",
       "\\item 193\n",
       "\\item 482\n",
       "\\item 171\n",
       "\\item 324\n",
       "\\item 87\n",
       "\\item 150\n",
       "\\item 371\n",
       "\\item 10\n",
       "\\item 476\n",
       "\\item 501\n",
       "\\item 220\n",
       "\\item 468\n",
       "\\item 107\n",
       "\\item 519\n",
       "\\item 231\n",
       "\\item 233\n",
       "\\item 262\n",
       "\\item 180\n",
       "\\item 41\n",
       "\\item 35\n",
       "\\item 343\n",
       "\\item 134\n",
       "\\item 418\n",
       "\\item 341\n",
       "\\item 136\n",
       "\\item 440\n",
       "\\item 179\n",
       "\\item 146\n",
       "\\item 254\n",
       "\\item 382\n",
       "\\item 102\n",
       "\\item 34\n",
       "\\item 176\n",
       "\\item 308\n",
       "\\item 98\n",
       "\\item 213\n",
       "\\item 56\n",
       "\\item 457\n",
       "\\item 62\n",
       "\\item 301\n",
       "\\item 93\n",
       "\\item 111\n",
       "\\item 376\n",
       "\\item 217\n",
       "\\item 203\n",
       "\\item 20\n",
       "\\item 453\n",
       "\\item 30\n",
       "\\item 84\n",
       "\\item 456\n",
       "\\item 425\n",
       "\\item 344\n",
       "\\item 313\n",
       "\\item 379\n",
       "\\item 43\n",
       "\\item 365\n",
       "\\item 318\n",
       "\\item 86\n",
       "\\item 515\n",
       "\\item 53\n",
       "\\item 375\n",
       "\\item 117\n",
       "\\item 559\n",
       "\\item 449\n",
       "\\item 471\n",
       "\\item 353\n",
       "\\item 156\n",
       "\\item 21\n",
       "\\item 445\n",
       "\\item 137\n",
       "\\item 206\n",
       "\\item 261\n",
       "\\item 367\n",
       "\\item 13\n",
       "\\item 431\n",
       "\\item 408\n",
       "\\item 481\n",
       "\\item 397\n",
       "\\item 424\n",
       "\\item 380\n",
       "\\item 504\n",
       "\\item 326\n",
       "\\item 211\n",
       "\\item 50\n",
       "\\item 532\n",
       "\\item 166\n",
       "\\item 372\n",
       "\\item 219\n",
       "\\item 209\n",
       "\\item 554\n",
       "\\item 177\n",
       "\\item 337\n",
       "\\item 277\n",
       "\\item 394\n",
       "\\item 16\n",
       "\\item 125\n",
       "\\item 434\n",
       "\\item 73\n",
       "\\item 243\n",
       "\\item 546\n",
       "\\item 129\n",
       "\\item 255\n",
       "\\end{enumerate*}\n"
      ],
      "text/markdown": [
       "1. 17\n",
       "2. 497\n",
       "3. 42\n",
       "4. 237\n",
       "5. 97\n",
       "6. 311\n",
       "7. 540\n",
       "8. 364\n",
       "9. 5\n",
       "10. 291\n",
       "11. 234\n",
       "12. 463\n",
       "13. 105\n",
       "14. 202\n",
       "15. 332\n",
       "16. 432\n",
       "17. 174\n",
       "18. 560\n",
       "19. 542\n",
       "20. 461\n",
       "21. 320\n",
       "22. 36\n",
       "23. 120\n",
       "24. 24\n",
       "25. 121\n",
       "26. 47\n",
       "27. 68\n",
       "28. 142\n",
       "29. 551\n",
       "30. 446\n",
       "31. 472\n",
       "32. 114\n",
       "33. 290\n",
       "34. 280\n",
       "35. 221\n",
       "36. 215\n",
       "37. 490\n",
       "38. 484\n",
       "39. 192\n",
       "40. 54\n",
       "41. 155\n",
       "42. 118\n",
       "43. 448\n",
       "44. 153\n",
       "45. 27\n",
       "46. 288\n",
       "47. 535\n",
       "48. 167\n",
       "49. 550\n",
       "50. 103\n",
       "51. 312\n",
       "52. 55\n",
       "53. 23\n",
       "54. 256\n",
       "55. 327\n",
       "56. 409\n",
       "57. 270\n",
       "58. 369\n",
       "59. 358\n",
       "60. 370\n",
       "61. 412\n",
       "62. 58\n",
       "63. 185\n",
       "64. 244\n",
       "65. 197\n",
       "66. 2\n",
       "67. 9\n",
       "68. 193\n",
       "69. 482\n",
       "70. 171\n",
       "71. 324\n",
       "72. 87\n",
       "73. 150\n",
       "74. 371\n",
       "75. 10\n",
       "76. 476\n",
       "77. 501\n",
       "78. 220\n",
       "79. 468\n",
       "80. 107\n",
       "81. 519\n",
       "82. 231\n",
       "83. 233\n",
       "84. 262\n",
       "85. 180\n",
       "86. 41\n",
       "87. 35\n",
       "88. 343\n",
       "89. 134\n",
       "90. 418\n",
       "91. 341\n",
       "92. 136\n",
       "93. 440\n",
       "94. 179\n",
       "95. 146\n",
       "96. 254\n",
       "97. 382\n",
       "98. 102\n",
       "99. 34\n",
       "100. 176\n",
       "101. 308\n",
       "102. 98\n",
       "103. 213\n",
       "104. 56\n",
       "105. 457\n",
       "106. 62\n",
       "107. 301\n",
       "108. 93\n",
       "109. 111\n",
       "110. 376\n",
       "111. 217\n",
       "112. 203\n",
       "113. 20\n",
       "114. 453\n",
       "115. 30\n",
       "116. 84\n",
       "117. 456\n",
       "118. 425\n",
       "119. 344\n",
       "120. 313\n",
       "121. 379\n",
       "122. 43\n",
       "123. 365\n",
       "124. 318\n",
       "125. 86\n",
       "126. 515\n",
       "127. 53\n",
       "128. 375\n",
       "129. 117\n",
       "130. 559\n",
       "131. 449\n",
       "132. 471\n",
       "133. 353\n",
       "134. 156\n",
       "135. 21\n",
       "136. 445\n",
       "137. 137\n",
       "138. 206\n",
       "139. 261\n",
       "140. 367\n",
       "141. 13\n",
       "142. 431\n",
       "143. 408\n",
       "144. 481\n",
       "145. 397\n",
       "146. 424\n",
       "147. 380\n",
       "148. 504\n",
       "149. 326\n",
       "150. 211\n",
       "151. 50\n",
       "152. 532\n",
       "153. 166\n",
       "154. 372\n",
       "155. 219\n",
       "156. 209\n",
       "157. 554\n",
       "158. 177\n",
       "159. 337\n",
       "160. 277\n",
       "161. 394\n",
       "162. 16\n",
       "163. 125\n",
       "164. 434\n",
       "165. 73\n",
       "166. 243\n",
       "167. 546\n",
       "168. 129\n",
       "169. 255\n",
       "\n",
       "\n"
      ],
      "text/plain": [
       "  [1]  17 497  42 237  97 311 540 364   5 291 234 463 105 202 332 432 174 560\n",
       " [19] 542 461 320  36 120  24 121  47  68 142 551 446 472 114 290 280 221 215\n",
       " [37] 490 484 192  54 155 118 448 153  27 288 535 167 550 103 312  55  23 256\n",
       " [55] 327 409 270 369 358 370 412  58 185 244 197   2   9 193 482 171 324  87\n",
       " [73] 150 371  10 476 501 220 468 107 519 231 233 262 180  41  35 343 134 418\n",
       " [91] 341 136 440 179 146 254 382 102  34 176 308  98 213  56 457  62 301  93\n",
       "[109] 111 376 217 203  20 453  30  84 456 425 344 313 379  43 365 318  86 515\n",
       "[127]  53 375 117 559 449 471 353 156  21 445 137 206 261 367  13 431 408 481\n",
       "[145] 397 424 380 504 326 211  50 532 166 372 219 209 554 177 337 277 394  16\n",
       "[163] 125 434  73 243 546 129 255"
      ]
     },
     "metadata": {},
     "output_type": "display_data"
    }
   ],
   "source": [
    "holdout$test.inds[[1]]"
   ]
  },
  {
   "cell_type": "code",
   "execution_count": 63,
   "metadata": {
    "scrolled": true
   },
   "outputs": [
    {
     "data": {
      "text/html": [
       "393"
      ],
      "text/latex": [
       "393"
      ],
      "text/markdown": [
       "393"
      ],
      "text/plain": [
       "[1] 393"
      ]
     },
     "metadata": {},
     "output_type": "display_data"
    }
   ],
   "source": [
    "length(holdout$train.inds[[1]])"
   ]
  },
  {
   "cell_type": "code",
   "execution_count": 4,
   "metadata": {
    "scrolled": false
   },
   "outputs": [
    {
     "name": "stderr",
     "output_type": "stream",
     "text": [
      "Warning message in makeParam(id = id, type = \"numeric\", learner.param = TRUE, lower = lower, :\n",
      "“NA used as a default value for learner parameter missing.\n",
      "ParamHelpers uses NA as a special value for dependent parameters.”"
     ]
    }
   ],
   "source": []
  },
  {
   "cell_type": "code",
   "execution_count": 5,
   "metadata": {},
   "outputs": [],
   "source": []
  },
  {
   "cell_type": "code",
   "execution_count": 22,
   "metadata": {},
   "outputs": [
    {
     "name": "stderr",
     "output_type": "stream",
     "text": [
      "[Tune] Started tuning learner classif.xgboost for parameter set:\n",
      "             Type len Def   Constr Req Tunable Trafo\n",
      "eta       numeric   -   -   0 to 1   -    TRUE     -\n",
      "lambda    numeric   -   - 0 to 200   -    TRUE     -\n",
      "max_depth integer   -   -  1 to 20   -    TRUE     -\n",
      "With control class: TuneControlRandom\n",
      "Imputation value: -0\n",
      "[Tune-x] 1: eta=0.447; lambda=154; max_depth=9\n",
      "[Tune-y] 1: acc.test.mean=0.8192795; time: 0.0 min\n",
      "[Tune-x] 2: eta=0.965; lambda=131; max_depth=8\n",
      "[Tune-y] 2: acc.test.mean=0.8498215; time: 0.0 min\n",
      "[Tune-x] 3: eta=0.387; lambda=183; max_depth=10\n",
      "[Tune-y] 3: acc.test.mean=0.8141837; time: 0.0 min\n",
      "[Tune-x] 4: eta=0.00539; lambda=87.1; max_depth=3\n",
      "[Tune-y] 4: acc.test.mean=0.7122038; time: 0.0 min\n",
      "[Tune-x] 5: eta=0.112; lambda=91.3; max_depth=15\n",
      "[Tune-y] 5: acc.test.mean=0.8270042; time: 0.0 min\n",
      "[Tune-x] 6: eta=0.992; lambda=14.1; max_depth=9\n",
      "[Tune-y] 6: acc.test.mean=0.9059396; time: 0.0 min\n",
      "[Tune-x] 7: eta=0.427; lambda=117; max_depth=17\n",
      "[Tune-y] 7: acc.test.mean=0.8321000; time: 0.0 min\n",
      "[Tune-x] 8: eta=0.352; lambda=68.8; max_depth=19\n",
      "[Tune-y] 8: acc.test.mean=0.8321324; time: 0.0 min\n",
      "[Tune-x] 9: eta=0.811; lambda=116; max_depth=2\n",
      "[Tune-y] 9: acc.test.mean=0.7480688; time: 0.0 min\n",
      "[Tune-x] 10: eta=0.29; lambda=67.7; max_depth=5\n",
      "[Tune-y] 10: acc.test.mean=0.8321000; time: 0.0 min\n",
      "[Tune-x] 11: eta=0.409; lambda=190; max_depth=8\n",
      "[Tune-y] 11: acc.test.mean=0.8141837; time: 0.0 min\n",
      "[Tune-x] 12: eta=0.467; lambda=40.2; max_depth=8\n",
      "[Tune-y] 12: acc.test.mean=0.8651736; time: 0.0 min\n",
      "[Tune-x] 13: eta=0.36; lambda=167; max_depth=20\n",
      "[Tune-y] 13: acc.test.mean=0.8141837; time: 0.0 min\n",
      "[Tune-x] 14: eta=0.271; lambda=121; max_depth=15\n",
      "[Tune-y] 14: acc.test.mean=0.8141837; time: 0.0 min\n",
      "[Tune-x] 15: eta=0.526; lambda=131; max_depth=6\n",
      "[Tune-y] 15: acc.test.mean=0.8295359; time: 0.0 min\n",
      "[Tune-x] 16: eta=0.925; lambda=183; max_depth=14\n",
      "[Tune-y] 16: acc.test.mean=0.8295683; time: 0.0 min\n",
      "[Tune-x] 17: eta=0.389; lambda=158; max_depth=8\n",
      "[Tune-y] 17: acc.test.mean=0.8243752; time: 0.0 min\n",
      "[Tune-x] 18: eta=0.486; lambda=134; max_depth=15\n",
      "[Tune-y] 18: acc.test.mean=0.8321000; time: 0.0 min\n",
      "[Tune-x] 19: eta=0.274; lambda=86.2; max_depth=16\n",
      "[Tune-y] 19: acc.test.mean=0.8116196; time: 0.0 min\n",
      "[Tune-x] 20: eta=0.579; lambda=174; max_depth=12\n",
      "[Tune-y] 20: acc.test.mean=0.8192795; time: 0.0 min\n",
      "[Tune-x] 21: eta=0.675; lambda=58.2; max_depth=4\n",
      "[Tune-y] 21: acc.test.mean=0.8320351; time: 0.0 min\n",
      "[Tune-x] 22: eta=0.0538; lambda=78.9; max_depth=6\n",
      "[Tune-y] 22: acc.test.mean=0.8141512; time: 0.0 min\n",
      "[Tune-x] 23: eta=0.912; lambda=123; max_depth=2\n",
      "[Tune-y] 23: acc.test.mean=0.7430055; time: 0.0 min\n",
      "[Tune-x] 24: eta=0.342; lambda=51.3; max_depth=7\n",
      "[Tune-y] 24: acc.test.mean=0.8371957; time: 0.0 min\n",
      "[Tune-x] 25: eta=0.833; lambda=169; max_depth=10\n",
      "[Tune-y] 25: acc.test.mean=0.8295683; time: 0.0 min\n",
      "[Tune-x] 26: eta=0.835; lambda=74.5; max_depth=18\n",
      "[Tune-y] 26: acc.test.mean=0.8652061; time: 0.0 min\n",
      "[Tune-x] 27: eta=0.481; lambda=91.5; max_depth=18\n",
      "[Tune-y] 27: acc.test.mean=0.8321000; time: 0.0 min\n",
      "[Tune-x] 28: eta=0.98; lambda=27.9; max_depth=20\n",
      "[Tune-y] 28: acc.test.mean=0.8779292; time: 0.0 min\n",
      "[Tune-x] 29: eta=0.667; lambda=16; max_depth=1\n",
      "[Tune-y] 29: acc.test.mean=0.8115871; time: 0.0 min\n",
      "[Tune-x] 30: eta=0.529; lambda=178; max_depth=14\n",
      "[Tune-y] 30: acc.test.mean=0.8192795; time: 0.0 min\n",
      "[Tune-x] 31: eta=0.936; lambda=86.8; max_depth=12\n",
      "[Tune-y] 31: acc.test.mean=0.8575787; time: 0.0 min\n",
      "[Tune-x] 32: eta=0.141; lambda=24.4; max_depth=9\n",
      "[Tune-y] 32: acc.test.mean=0.8474197; time: 0.0 min\n",
      "[Tune-x] 33: eta=0.629; lambda=198; max_depth=12\n",
      "[Tune-y] 33: acc.test.mean=0.8167478; time: 0.0 min\n",
      "[Tune-x] 34: eta=0.334; lambda=86.7; max_depth=14\n",
      "[Tune-y] 34: acc.test.mean=0.8321324; time: 0.0 min\n",
      "[Tune-x] 35: eta=0.385; lambda=178; max_depth=4\n",
      "[Tune-y] 35: acc.test.mean=0.7683544; time: 0.0 min\n",
      "[Tune-x] 36: eta=0.849; lambda=92.9; max_depth=17\n",
      "[Tune-y] 36: acc.test.mean=0.8601104; time: 0.0 min\n",
      "[Tune-x] 37: eta=0.296; lambda=181; max_depth=16\n",
      "[Tune-y] 37: acc.test.mean=0.8193119; time: 0.0 min\n",
      "[Tune-x] 38: eta=0.762; lambda=69.1; max_depth=13\n",
      "[Tune-y] 38: acc.test.mean=0.8575787; time: 0.0 min\n",
      "[Tune-x] 39: eta=0.411; lambda=173; max_depth=2\n",
      "[Tune-y] 39: acc.test.mean=0.6765985; time: 0.0 min\n",
      "[Tune-x] 40: eta=0.603; lambda=6.54; max_depth=7\n",
      "[Tune-y] 40: acc.test.mean=0.9135346; time: 0.0 min\n",
      "[Tune-x] 41: eta=0.927; lambda=6.33; max_depth=15\n",
      "[Tune-y] 41: acc.test.mean=0.9033431; time: 0.0 min\n",
      "[Tune-x] 42: eta=0.579; lambda=135; max_depth=1\n",
      "[Tune-y] 42: acc.test.mean=0.6058423; time: 0.0 min\n",
      "[Tune-x] 43: eta=0.401; lambda=3.61; max_depth=9\n",
      "[Tune-y] 43: acc.test.mean=0.9109380; time: 0.0 min\n",
      "[Tune-x] 44: eta=0.581; lambda=79.6; max_depth=1\n",
      "[Tune-y] 44: acc.test.mean=0.6312561; time: 0.0 min\n",
      "[Tune-x] 45: eta=0.241; lambda=70.8; max_depth=15\n",
      "[Tune-y] 45: acc.test.mean=0.8218760; time: 0.0 min\n",
      "[Tune-x] 46: eta=0.195; lambda=189; max_depth=13\n",
      "[Tune-y] 46: acc.test.mean=0.8244401; time: 0.0 min\n",
      "[Tune-x] 47: eta=0.26; lambda=163; max_depth=7\n",
      "[Tune-y] 47: acc.test.mean=0.8193119; time: 0.0 min\n",
      "[Tune-x] 48: eta=0.905; lambda=167; max_depth=2\n",
      "[Tune-y] 48: acc.test.mean=0.7328465; time: 0.0 min\n",
      "[Tune-x] 49: eta=0.508; lambda=57.2; max_depth=6\n",
      "[Tune-y] 49: acc.test.mean=0.8498539; time: 0.0 min\n",
      "[Tune-x] 50: eta=0.117; lambda=122; max_depth=1\n",
      "[Tune-y] 50: acc.test.mean=0.4886076; time: 0.0 min\n",
      "[Tune-x] 51: eta=0.634; lambda=187; max_depth=10\n",
      "[Tune-y] 51: acc.test.mean=0.8295359; time: 0.0 min\n",
      "[Tune-x] 52: eta=0.166; lambda=94; max_depth=18\n",
      "[Tune-y] 52: acc.test.mean=0.8218760; time: 0.0 min\n",
      "[Tune-x] 53: eta=0.905; lambda=27.9; max_depth=3\n",
      "[Tune-y] 53: acc.test.mean=0.8728335; time: 0.0 min\n",
      "[Tune-x] 54: eta=0.222; lambda=111; max_depth=13\n",
      "[Tune-y] 54: acc.test.mean=0.8193119; time: 0.0 min\n",
      "[Tune-x] 55: eta=0.359; lambda=69.1; max_depth=12\n",
      "[Tune-y] 55: acc.test.mean=0.8346641; time: 0.0 min\n",
      "[Tune-x] 56: eta=0.863; lambda=84.8; max_depth=20\n",
      "[Tune-y] 56: acc.test.mean=0.8626420; time: 0.0 min\n",
      "[Tune-x] 57: eta=0.979; lambda=31.9; max_depth=6\n",
      "[Tune-y] 57: acc.test.mean=0.8677377; time: 0.0 min\n",
      "[Tune-x] 58: eta=0.112; lambda=28.4; max_depth=16\n",
      "[Tune-y] 58: acc.test.mean=0.8269718; time: 0.0 min\n",
      "[Tune-x] 59: eta=0.148; lambda=34.8; max_depth=20\n",
      "[Tune-y] 59: acc.test.mean=0.8295359; time: 0.0 min\n",
      "[Tune-x] 60: eta=0.852; lambda=42.4; max_depth=13\n",
      "[Tune-y] 60: acc.test.mean=0.8652386; time: 0.0 min\n",
      "[Tune-x] 61: eta=0.539; lambda=67.4; max_depth=20\n",
      "[Tune-y] 61: acc.test.mean=0.8498215; time: 0.0 min\n",
      "[Tune-x] 62: eta=0.486; lambda=81.4; max_depth=10\n",
      "[Tune-y] 62: acc.test.mean=0.8397598; time: 0.0 min\n",
      "[Tune-x] 63: eta=0.0307; lambda=30.3; max_depth=12\n",
      "[Tune-y] 63: acc.test.mean=0.8167478; time: 0.0 min\n",
      "[Tune-x] 64: eta=0.177; lambda=126; max_depth=18\n",
      "[Tune-y] 64: acc.test.mean=0.8270042; time: 0.0 min\n",
      "[Tune-x] 65: eta=0.924; lambda=33.2; max_depth=5\n",
      "[Tune-y] 65: acc.test.mean=0.8626745; time: 0.0 min\n",
      "[Tune-x] 66: eta=0.793; lambda=133; max_depth=11\n",
      "[Tune-y] 66: acc.test.mean=0.8320675; time: 0.0 min\n",
      "[Tune-x] 67: eta=0.0453; lambda=174; max_depth=9\n",
      "[Tune-y] 67: acc.test.mean=0.8064589; time: 0.0 min\n",
      "[Tune-x] 68: eta=0.376; lambda=163; max_depth=15\n",
      "[Tune-y] 68: acc.test.mean=0.8167478; time: 0.0 min\n",
      "[Tune-x] 69: eta=0.945; lambda=35.5; max_depth=20\n",
      "[Tune-y] 69: acc.test.mean=0.8677377; time: 0.0 min\n",
      "[Tune-x] 70: eta=0.0535; lambda=101; max_depth=8\n",
      "[Tune-y] 70: acc.test.mean=0.8141512; time: 0.0 min\n",
      "[Tune-x] 71: eta=0.917; lambda=170; max_depth=12\n",
      "[Tune-y] 71: acc.test.mean=0.8270042; time: 0.0 min\n",
      "[Tune-x] 72: eta=0.684; lambda=35.9; max_depth=5\n",
      "[Tune-y] 72: acc.test.mean=0.8600779; time: 0.0 min\n",
      "[Tune-x] 73: eta=0.123; lambda=44.9; max_depth=10\n",
      "[Tune-y] 73: acc.test.mean=0.8218760; time: 0.0 min\n",
      "[Tune-x] 74: eta=0.223; lambda=82.8; max_depth=20\n",
      "[Tune-y] 74: acc.test.mean=0.8141837; time: 0.0 min\n",
      "[Tune-x] 75: eta=0.758; lambda=102; max_depth=5\n",
      "[Tune-y] 75: acc.test.mean=0.8447257; time: 0.0 min\n",
      "[Tune-x] 76: eta=0.938; lambda=21.2; max_depth=11\n",
      "[Tune-y] 76: acc.test.mean=0.8957806; time: 0.0 min\n",
      "[Tune-x] 77: eta=0.898; lambda=172; max_depth=11\n",
      "[Tune-y] 77: acc.test.mean=0.8295683; time: 0.0 min\n",
      "[Tune-x] 78: eta=0.844; lambda=15.3; max_depth=11\n",
      "[Tune-y] 78: acc.test.mean=0.8982473; time: 0.0 min\n"
     ]
    },
    {
     "name": "stderr",
     "output_type": "stream",
     "text": [
      "[Tune-x] 79: eta=0.471; lambda=9.66; max_depth=17\n",
      "[Tune-y] 79: acc.test.mean=0.8830250; time: 0.0 min\n",
      "[Tune-x] 80: eta=0.261; lambda=120; max_depth=6\n",
      "[Tune-y] 80: acc.test.mean=0.8167478; time: 0.0 min\n",
      "[Tune-x] 81: eta=0.932; lambda=25.9; max_depth=18\n",
      "[Tune-y] 81: acc.test.mean=0.8805583; time: 0.0 min\n",
      "[Tune-x] 82: eta=0.524; lambda=174; max_depth=5\n",
      "[Tune-y] 82: acc.test.mean=0.8218111; time: 0.0 min\n",
      "[Tune-x] 83: eta=0.749; lambda=110; max_depth=1\n",
      "[Tune-y] 83: acc.test.mean=0.6363194; time: 0.0 min\n",
      "[Tune-x] 84: eta=0.369; lambda=140; max_depth=10\n",
      "[Tune-y] 84: acc.test.mean=0.8192795; time: 0.0 min\n",
      "[Tune-x] 85: eta=0.0632; lambda=130; max_depth=5\n",
      "[Tune-y] 85: acc.test.mean=0.8218436; time: 0.0 min\n",
      "[Tune-x] 86: eta=0.823; lambda=197; max_depth=16\n",
      "[Tune-y] 86: acc.test.mean=0.8321000; time: 0.0 min\n",
      "[Tune-x] 87: eta=0.787; lambda=183; max_depth=8\n",
      "[Tune-y] 87: acc.test.mean=0.8346641; time: 0.0 min\n",
      "[Tune-x] 88: eta=0.84; lambda=60.6; max_depth=14\n",
      "[Tune-y] 88: acc.test.mean=0.8601428; time: 0.0 min\n",
      "[Tune-x] 89: eta=0.0692; lambda=151; max_depth=14\n",
      "[Tune-y] 89: acc.test.mean=0.8218436; time: 0.0 min\n",
      "[Tune-x] 90: eta=0.17; lambda=104; max_depth=14\n",
      "[Tune-y] 90: acc.test.mean=0.8218760; time: 0.0 min\n",
      "[Tune-x] 91: eta=0.344; lambda=17.5; max_depth=6\n",
      "[Tune-y] 91: acc.test.mean=0.8601104; time: 0.0 min\n",
      "[Tune-x] 92: eta=0.2; lambda=192; max_depth=1\n",
      "[Tune-y] 92: acc.test.mean=0.4860759; time: 0.0 min\n",
      "[Tune-x] 93: eta=0.717; lambda=87.6; max_depth=14\n",
      "[Tune-y] 93: acc.test.mean=0.8523856; time: 0.0 min\n",
      "[Tune-x] 94: eta=0.656; lambda=16.3; max_depth=14\n",
      "[Tune-y] 94: acc.test.mean=0.8830574; time: 0.0 min\n",
      "[Tune-x] 95: eta=0.791; lambda=83; max_depth=19\n",
      "[Tune-y] 95: acc.test.mean=0.8601104; time: 0.0 min\n",
      "[Tune-x] 96: eta=0.818; lambda=53.4; max_depth=11\n",
      "[Tune-y] 96: acc.test.mean=0.8601428; time: 0.0 min\n",
      "[Tune-x] 97: eta=0.73; lambda=184; max_depth=13\n",
      "[Tune-y] 97: acc.test.mean=0.8321000; time: 0.0 min\n",
      "[Tune-x] 98: eta=0.883; lambda=22.5; max_depth=4\n",
      "[Tune-y] 98: acc.test.mean=0.8753651; time: 0.0 min\n",
      "[Tune-x] 99: eta=0.789; lambda=179; max_depth=6\n",
      "[Tune-y] 99: acc.test.mean=0.8346641; time: 0.0 min\n",
      "[Tune-x] 100: eta=0.982; lambda=147; max_depth=11\n",
      "[Tune-y] 100: acc.test.mean=0.8346316; time: 0.0 min\n",
      "[Tune] Result: eta=0.603; lambda=6.54; max_depth=7 : acc.test.mean=0.9135346\n"
     ]
    }
   ],
   "source": []
  },
  {
   "cell_type": "code",
   "execution_count": null,
   "metadata": {},
   "outputs": [],
   "source": [
    "tr_xgb"
   ]
  },
  {
   "cell_type": "code",
   "execution_count": null,
   "metadata": {
    "scrolled": true
   },
   "outputs": [
    {
     "name": "stderr",
     "output_type": "stream",
     "text": [
      "[Tune] Started tuning learner classif.svm for parameter set:\n",
      "         Type len Def   Constr Req Tunable Trafo\n",
      "cost  numeric   -   - 0.1 to 1   -    TRUE     -\n",
      "gamma numeric   -   - 0.1 to 1   -    TRUE     -\n",
      "With control class: TuneControlRandom\n",
      "Imputation value: -0\n",
      "Mapping in parallel: mode = multicore; cpus = 2; elements = 100.\n"
     ]
    }
   ],
   "source": []
  },
  {
   "cell_type": "code",
   "execution_count": null,
   "metadata": {
    "scrolled": true
   },
   "outputs": [],
   "source": []
  },
  {
   "cell_type": "code",
   "execution_count": null,
   "metadata": {},
   "outputs": [],
   "source": [
    " tr_svm"
   ]
  },
  {
   "cell_type": "code",
   "execution_count": null,
   "metadata": {},
   "outputs": [],
   "source": []
  },
  {
   "cell_type": "code",
   "execution_count": null,
   "metadata": {},
   "outputs": [],
   "source": []
  },
  {
   "cell_type": "code",
   "execution_count": null,
   "metadata": {},
   "outputs": [],
   "source": []
  },
  {
   "cell_type": "markdown",
   "metadata": {},
   "source": [
    "## Treine no conjunto de treino completo"
   ]
  },
  {
   "cell_type": "code",
   "execution_count": null,
   "metadata": {},
   "outputs": [],
   "source": []
  },
  {
   "cell_type": "markdown",
   "metadata": {},
   "source": [
    "## Teste no conjunto de teste do passo 1"
   ]
  },
  {
   "cell_type": "code",
   "execution_count": null,
   "metadata": {},
   "outputs": [],
   "source": []
  },
  {
   "cell_type": "markdown",
   "metadata": {},
   "source": [
    "## Acurácia dos dois modelos"
   ]
  },
  {
   "cell_type": "code",
   "execution_count": null,
   "metadata": {},
   "outputs": [],
   "source": []
  },
  {
   "cell_type": "code",
   "execution_count": null,
   "metadata": {},
   "outputs": [],
   "source": []
  },
  {
   "cell_type": "markdown",
   "metadata": {},
   "source": [
    "## Matriz de confusão dos dois modelos"
   ]
  },
  {
   "cell_type": "code",
   "execution_count": null,
   "metadata": {},
   "outputs": [],
   "source": []
  },
  {
   "cell_type": "code",
   "execution_count": null,
   "metadata": {},
   "outputs": [],
   "source": []
  },
  {
   "cell_type": "code",
   "execution_count": null,
   "metadata": {},
   "outputs": [],
   "source": []
  }
 ],
 "metadata": {
  "kernelspec": {
   "display_name": "R",
   "language": "R",
   "name": "ir"
  },
  "language_info": {
   "codemirror_mode": "r",
   "file_extension": ".r",
   "mimetype": "text/x-r-source",
   "name": "R",
   "pygments_lexer": "r",
   "version": "3.6.0"
  }
 },
 "nbformat": 4,
 "nbformat_minor": 2
}
